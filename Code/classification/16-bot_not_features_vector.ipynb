{
 "cells": [
  {
   "cell_type": "markdown",
   "metadata": {},
   "source": [
    "# Bot or Not Features Vector"
   ]
  },
  {
   "cell_type": "code",
   "execution_count": 1,
   "metadata": {},
   "outputs": [],
   "source": [
    "import pandas as pd\n",
    "import numpy as np\n",
    "from IPython.display import clear_output"
   ]
  },
  {
   "cell_type": "markdown",
   "metadata": {},
   "source": [
    "### Load users features"
   ]
  },
  {
   "cell_type": "code",
   "execution_count": 2,
   "metadata": {},
   "outputs": [],
   "source": [
    "bot_users = pd.read_csv('data/bot_or_not/bot/users.csv', encoding='utf-8-sig')\n",
    "gen_users = pd.read_csv('data/bot_or_not/gen/users.csv', encoding='utf-8-sig')"
   ]
  },
  {
   "cell_type": "markdown",
   "metadata": {},
   "source": [
    "### Load tweets features"
   ]
  },
  {
   "cell_type": "code",
   "execution_count": 3,
   "metadata": {},
   "outputs": [],
   "source": [
    "#Bot\n",
    "porn_tweet_intrad = pd.read_csv('data/bot_or_not/bot/tweet_intradistance.csv', encoding='utf-8-sig')\n",
    "porn_url_intrad = pd.read_csv('data/bot_or_not/bot/url_intradistance.csv', encoding='utf-8-sig')\n",
    "porn_tweet_descr = pd.read_csv('data/bot_or_not/bot/descriptive_features.csv', encoding='utf-8-sig')"
   ]
  },
  {
   "cell_type": "code",
   "execution_count": 4,
   "metadata": {},
   "outputs": [],
   "source": [
    "#Gen\n",
    "prop_tweet_intrad = pd.read_csv('data/bot_or_not/gen/tweet_intradistance.csv', encoding='utf-8-sig')\n",
    "prop_url_intrad = pd.read_csv('data/bot_or_not/gen/url_intradistance.csv', encoding='utf-8-sig')\n",
    "prop_tweet_descr = pd.read_csv('data/bot_or_not/gen/descriptive_features.csv', encoding='utf-8-sig')"
   ]
  },
  {
   "cell_type": "markdown",
   "metadata": {},
   "source": [
    "## Drop Duplicates"
   ]
  },
  {
   "cell_type": "code",
   "execution_count": 7,
   "metadata": {},
   "outputs": [
    {
     "name": "stdout",
     "output_type": "stream",
     "text": [
      "5295\n",
      "5295\n",
      "5295\n",
      "5295\n"
     ]
    }
   ],
   "source": [
    "#Porn\n",
    "porn_tweet_intrad = porn_tweet_intrad.drop_duplicates()\n",
    "print(len(porn_tweet_intrad))\n",
    "porn_url_intrad = porn_url_intrad.drop_duplicates()\n",
    "print(len(porn_url_intrad))\n",
    "porn_tweet_descr = porn_tweet_descr.drop_duplicates()\n",
    "print(len(porn_tweet_descr))\n",
    "bot_users = bot_users.drop_duplicates()\n",
    "print(len(bot_users))"
   ]
  },
  {
   "cell_type": "code",
   "execution_count": 9,
   "metadata": {},
   "outputs": [
    {
     "name": "stdout",
     "output_type": "stream",
     "text": [
      "5160\n",
      "5160\n",
      "5160\n",
      "5160\n"
     ]
    }
   ],
   "source": [
    "#Propaganda\n",
    "prop_tweet_intrad = prop_tweet_intrad.drop_duplicates()\n",
    "print(len(prop_tweet_intrad))\n",
    "prop_url_intrad = prop_url_intrad.drop_duplicates()\n",
    "print(len(prop_url_intrad))\n",
    "prop_tweet_descr = prop_tweet_descr.drop_duplicates()\n",
    "print(len(prop_tweet_descr))\n",
    "gen_users = gen_users.drop_duplicates()\n",
    "print(len(gen_users))"
   ]
  },
  {
   "cell_type": "markdown",
   "metadata": {},
   "source": [
    "## Merge dataframes"
   ]
  },
  {
   "cell_type": "code",
   "execution_count": 10,
   "metadata": {},
   "outputs": [],
   "source": [
    "#Porn\n",
    "porn_1 = pd.merge(porn_tweet_intrad, porn_url_intrad, on='user_id')\n",
    "porn_df = pd.merge(porn_1, porn_tweet_descr, on='user_id')\n",
    "\n",
    "#porn_users.rename(columns={'id': 'user_id'}, inplace=True)\n",
    "#porn_df = pd.merge(porn_users, porn_df, on='user_id')"
   ]
  },
  {
   "cell_type": "code",
   "execution_count": 21,
   "metadata": {},
   "outputs": [],
   "source": [
    "bot_users.rename(columns={'id': 'user_id'}, inplace=True)\n",
    "bot_df = pd.merge(bot_users, porn_df, on='user_id')"
   ]
  },
  {
   "cell_type": "code",
   "execution_count": 12,
   "metadata": {},
   "outputs": [],
   "source": [
    "#Propaganda\n",
    "prop_1 = pd.merge(prop_tweet_intrad, prop_url_intrad, on='user_id')\n",
    "prop_df = pd.merge(prop_1, prop_tweet_descr, on='user_id')"
   ]
  },
  {
   "cell_type": "code",
   "execution_count": 22,
   "metadata": {},
   "outputs": [],
   "source": [
    "gen_users.rename(columns={'id': 'user_id'}, inplace=True)\n",
    "gen_df = pd.merge(gen_users, prop_df, on='user_id')"
   ]
  },
  {
   "cell_type": "markdown",
   "metadata": {},
   "source": [
    "# Merge users from old train"
   ]
  },
  {
   "cell_type": "code",
   "execution_count": 29,
   "metadata": {},
   "outputs": [
    {
     "data": {
      "text/plain": [
       "Index(['avg_fav', 'avg_hash', 'avg_len', 'avg_ret', 'contributors_enabled',\n",
       "       'created_at', 'default_profile', 'default_profile_image', 'description',\n",
       "       'fake_words_score', 'favourites_count', 'follow_request_sent',\n",
       "       'followers_count', 'following', 'freq', 'friends_count',\n",
       "       'genuine_words_score', 'geo_enabled', 'is_translator', 'lang',\n",
       "       'listed_count', 'location', 'max_fav', 'max_hash', 'max_len', 'max_ret',\n",
       "       'media_perc', 'min_fav', 'min_hash', 'min_len', 'min_ret', 'name',\n",
       "       'notifications', 'porn_words_score', 'profile_background_color',\n",
       "       'profile_background_image_url', 'profile_background_image_url_https',\n",
       "       'profile_background_tile', 'profile_image_url',\n",
       "       'profile_image_url_https', 'profile_link_color',\n",
       "       'profile_sidebar_border_color', 'profile_sidebar_fill_color',\n",
       "       'profile_text_color', 'profile_use_background_image',\n",
       "       'prop_words_score', 'protected', 'quote_perc', 'ret_perc',\n",
       "       'screen_name', 'spam_words_score', 'statuses_count', 'target',\n",
       "       'time_zone', 'tweet_intradistance', 'url', 'url_intradistance',\n",
       "       'url_perc', 'user_id', 'utc_offset', 'verified'],\n",
       "      dtype='object')"
      ]
     },
     "execution_count": 29,
     "metadata": {},
     "output_type": "execute_result"
    }
   ],
   "source": [
    "gen.columns"
   ]
  },
  {
   "cell_type": "code",
   "execution_count": 14,
   "metadata": {},
   "outputs": [],
   "source": [
    "users = pd.read_csv('data/full/train.csv')"
   ]
  },
  {
   "cell_type": "code",
   "execution_count": 15,
   "metadata": {},
   "outputs": [],
   "source": [
    "bots = users[users.target != 4].sample(n=2500, random_state=42)\n",
    "gen = users[users.target == 4].sample(n=2500, random_state=42)"
   ]
  },
  {
   "cell_type": "code",
   "execution_count": 32,
   "metadata": {},
   "outputs": [],
   "source": [
    "## Drop context score\n",
    "bots['target'] = 1\n",
    "gen['target'] = 0\n",
    "\n",
    "bots.drop(columns=['porn_words_score', 'spam_words_score', 'prop_words_score', 'fake_words_score', 'genuine_words_score'], inplace=True)\n",
    "gen.drop(columns=['porn_words_score', 'spam_words_score', 'prop_words_score', 'fake_words_score', 'genuine_words_score'], inplace=True)\n",
    "\n"
   ]
  },
  {
   "cell_type": "code",
   "execution_count": 37,
   "metadata": {},
   "outputs": [
    {
     "name": "stderr",
     "output_type": "stream",
     "text": [
      "/Users/Lorenzo/anaconda/lib/python3.6/site-packages/ipykernel_launcher.py:1: FutureWarning: Sorting because non-concatenation axis is not aligned. A future version\n",
      "of pandas will change to not sort by default.\n",
      "\n",
      "To accept the future behavior, pass 'sort=False'.\n",
      "\n",
      "To retain the current behavior and silence the warning, pass 'sort=True'.\n",
      "\n",
      "  \"\"\"Entry point for launching an IPython kernel.\n"
     ]
    }
   ],
   "source": [
    "bot_df = pd.concat([bot_df, bots])"
   ]
  },
  {
   "cell_type": "code",
   "execution_count": 43,
   "metadata": {},
   "outputs": [
    {
     "name": "stderr",
     "output_type": "stream",
     "text": [
      "/Users/Lorenzo/anaconda/lib/python3.6/site-packages/ipykernel_launcher.py:1: FutureWarning: Sorting because non-concatenation axis is not aligned. A future version\n",
      "of pandas will change to not sort by default.\n",
      "\n",
      "To accept the future behavior, pass 'sort=False'.\n",
      "\n",
      "To retain the current behavior and silence the warning, pass 'sort=True'.\n",
      "\n",
      "  \"\"\"Entry point for launching an IPython kernel.\n"
     ]
    }
   ],
   "source": [
    "gen_df = pd.concat([gen_df, gen])"
   ]
  },
  {
   "cell_type": "code",
   "execution_count": 41,
   "metadata": {},
   "outputs": [],
   "source": [
    "bot_df = bot_df.reset_index().drop(columns=['index'])"
   ]
  },
  {
   "cell_type": "code",
   "execution_count": 44,
   "metadata": {},
   "outputs": [],
   "source": [
    "gen_df = gen_df.reset_index().drop(columns=['index'])"
   ]
  },
  {
   "cell_type": "code",
   "execution_count": 47,
   "metadata": {},
   "outputs": [],
   "source": [
    "bot_or_not_df = pd.concat([gen_df, bot_df])"
   ]
  },
  {
   "cell_type": "code",
   "execution_count": 48,
   "metadata": {},
   "outputs": [],
   "source": [
    "bot_or_not_df = bot_or_not_df.reset_index().drop(columns=['index'])"
   ]
  },
  {
   "cell_type": "code",
   "execution_count": 49,
   "metadata": {},
   "outputs": [],
   "source": [
    "bot_or_not_df.to_csv('data/bot_or_not/train.csv', index=False)"
   ]
  },
  {
   "cell_type": "markdown",
   "metadata": {},
   "source": [
    "## Controllo integrità"
   ]
  },
  {
   "cell_type": "code",
   "execution_count": 2,
   "metadata": {},
   "outputs": [],
   "source": [
    "porn_df = pd.read_csv('data/porn/train.csv')\n",
    "news_df = pd.read_csv('data/propaganda/train.csv')\n",
    "spam_df = pd.read_csv('data/spam/train.csv')\n",
    "fake_df = pd.read_csv('data/fake_followers/train.csv')\n",
    "gen_df = pd.read_csv('data/genuine/train.csv')"
   ]
  },
  {
   "cell_type": "code",
   "execution_count": 4,
   "metadata": {},
   "outputs": [
    {
     "data": {
      "text/plain": [
       "6934"
      ]
     },
     "execution_count": 4,
     "metadata": {},
     "output_type": "execute_result"
    }
   ],
   "source": [
    "len(porn_df)"
   ]
  },
  {
   "cell_type": "code",
   "execution_count": 5,
   "metadata": {},
   "outputs": [
    {
     "data": {
      "text/plain": [
       "6934"
      ]
     },
     "execution_count": 5,
     "metadata": {},
     "output_type": "execute_result"
    }
   ],
   "source": [
    "len(set(porn_df.user_id))"
   ]
  },
  {
   "cell_type": "code",
   "execution_count": 6,
   "metadata": {},
   "outputs": [
    {
     "data": {
      "text/plain": [
       "6312"
      ]
     },
     "execution_count": 6,
     "metadata": {},
     "output_type": "execute_result"
    }
   ],
   "source": [
    "len(fake_df)"
   ]
  },
  {
   "cell_type": "code",
   "execution_count": 8,
   "metadata": {},
   "outputs": [
    {
     "data": {
      "text/plain": [
       "6312"
      ]
     },
     "execution_count": 8,
     "metadata": {},
     "output_type": "execute_result"
    }
   ],
   "source": [
    "len(set(fake_df.user_id))"
   ]
  },
  {
   "cell_type": "code",
   "execution_count": 9,
   "metadata": {},
   "outputs": [
    {
     "data": {
      "text/plain": [
       "2838"
      ]
     },
     "execution_count": 9,
     "metadata": {},
     "output_type": "execute_result"
    }
   ],
   "source": [
    "len(news_df)"
   ]
  },
  {
   "cell_type": "code",
   "execution_count": 10,
   "metadata": {},
   "outputs": [
    {
     "data": {
      "text/plain": [
       "2838"
      ]
     },
     "execution_count": 10,
     "metadata": {},
     "output_type": "execute_result"
    }
   ],
   "source": [
    "len(set(news_df.user_id))"
   ]
  },
  {
   "cell_type": "code",
   "execution_count": 11,
   "metadata": {},
   "outputs": [
    {
     "data": {
      "text/plain": [
       "5361"
      ]
     },
     "execution_count": 11,
     "metadata": {},
     "output_type": "execute_result"
    }
   ],
   "source": [
    "len(spam_df)"
   ]
  },
  {
   "cell_type": "code",
   "execution_count": 12,
   "metadata": {},
   "outputs": [
    {
     "data": {
      "text/plain": [
       "5361"
      ]
     },
     "execution_count": 12,
     "metadata": {},
     "output_type": "execute_result"
    }
   ],
   "source": [
    "len(set(spam_df.user_id))"
   ]
  },
  {
   "cell_type": "code",
   "execution_count": 13,
   "metadata": {},
   "outputs": [
    {
     "data": {
      "text/plain": [
       "3661"
      ]
     },
     "execution_count": 13,
     "metadata": {},
     "output_type": "execute_result"
    }
   ],
   "source": [
    "len(gen_df)"
   ]
  },
  {
   "cell_type": "code",
   "execution_count": 15,
   "metadata": {},
   "outputs": [
    {
     "data": {
      "text/plain": [
       "3661"
      ]
     },
     "execution_count": 15,
     "metadata": {},
     "output_type": "execute_result"
    }
   ],
   "source": [
    "len(set(gen_df.user_id))"
   ]
  }
 ],
 "metadata": {
  "kernelspec": {
   "display_name": "Python 3",
   "language": "python",
   "name": "python3"
  },
  "language_info": {
   "codemirror_mode": {
    "name": "ipython",
    "version": 3
   },
   "file_extension": ".py",
   "mimetype": "text/x-python",
   "name": "python",
   "nbconvert_exporter": "python",
   "pygments_lexer": "ipython3",
   "version": "3.6.6"
  }
 },
 "nbformat": 4,
 "nbformat_minor": 2
}
