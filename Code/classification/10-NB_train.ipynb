{
 "cells": [
  {
   "cell_type": "code",
   "execution_count": 203,
   "metadata": {},
   "outputs": [],
   "source": [
    "import pandas as pd\n",
    "import numpy as np\n",
    "from sklearn.model_selection import train_test_split\n",
    "from sklearn.feature_extraction.text import CountVectorizer\n",
    "from sklearn.feature_extraction.text import TfidfTransformer\n",
    "from sklearn.feature_extraction.text import TfidfVectorizer\n",
    "from sklearn.naive_bayes import MultinomialNB\n",
    "import re\n",
    "from sklearn.pipeline import Pipeline\n",
    "from sklearn.model_selection import cross_val_score\n",
    "import nltk\n",
    "from nltk.stem.snowball import SnowballStemmer\n",
    "from sklearn.metrics import f1_score\n",
    "from nltk.corpus import stopwords\n",
    "import pickle"
   ]
  },
  {
   "cell_type": "code",
   "execution_count": 204,
   "metadata": {},
   "outputs": [],
   "source": [
    "users = pd.read_csv('data/full/train.csv')"
   ]
  },
  {
   "cell_type": "code",
   "execution_count": 205,
   "metadata": {},
   "outputs": [],
   "source": [
    "users = users[['user_id','target']]"
   ]
  },
  {
   "cell_type": "code",
   "execution_count": 206,
   "metadata": {},
   "outputs": [
    {
     "name": "stderr",
     "output_type": "stream",
     "text": [
      "/home/matteo/anaconda3/lib/python3.6/site-packages/IPython/core/interactiveshell.py:2785: DtypeWarning: Columns (1,8,18) have mixed types. Specify dtype option on import or set low_memory=False.\n",
      "  interactivity=interactivity, compiler=compiler, result=result)\n",
      "/home/matteo/anaconda3/lib/python3.6/site-packages/IPython/core/interactiveshell.py:2785: DtypeWarning: Columns (1,8) have mixed types. Specify dtype option on import or set low_memory=False.\n",
      "  interactivity=interactivity, compiler=compiler, result=result)\n",
      "/home/matteo/anaconda3/lib/python3.6/site-packages/IPython/core/interactiveshell.py:2785: DtypeWarning: Columns (1,4,8,11,18,19,20,23,26) have mixed types. Specify dtype option on import or set low_memory=False.\n",
      "  interactivity=interactivity, compiler=compiler, result=result)\n"
     ]
    }
   ],
   "source": [
    "tweets = pd.concat([pd.read_csv('data/porn/tweets.csv', sep='\\t')[['user_id','full_text']], \\\n",
    "          pd.read_csv('data/propaganda/tweets.csv', sep='\\t')[['user_id','full_text']], \\\n",
    "          pd.read_csv('data/spam/tweets.csv', sep='\\t')[['user_id','full_text']], \\\n",
    "          pd.read_csv('data/fake_followers/tweets.csv', sep='\\t')[['user_id','full_text']]])"
   ]
  },
  {
   "cell_type": "code",
   "execution_count": 207,
   "metadata": {},
   "outputs": [],
   "source": [
    "tweets = tweets.drop_duplicates()"
   ]
  },
  {
   "cell_type": "code",
   "execution_count": 208,
   "metadata": {},
   "outputs": [],
   "source": [
    "tweets =  tweets.join(users.set_index('user_id'), on='user_id')"
   ]
  },
  {
   "cell_type": "code",
   "execution_count": 209,
   "metadata": {},
   "outputs": [],
   "source": [
    "tweets = tweets[tweets.target!=4]"
   ]
  },
  {
   "cell_type": "code",
   "execution_count": 210,
   "metadata": {},
   "outputs": [
    {
     "data": {
      "text/plain": [
       "2.0    453719\n",
       "1.0    280300\n",
       "0.0    196712\n",
       "3.0     41316\n",
       "Name: target, dtype: int64"
      ]
     },
     "execution_count": 210,
     "metadata": {},
     "output_type": "execute_result"
    }
   ],
   "source": [
    "tweets.target.value_counts()"
   ]
  },
  {
   "cell_type": "code",
   "execution_count": 211,
   "metadata": {},
   "outputs": [],
   "source": [
    "tweets.drop(['user_id'], axis=1, inplace=True)"
   ]
  },
  {
   "cell_type": "code",
   "execution_count": 212,
   "metadata": {},
   "outputs": [],
   "source": [
    "tweets = tweets[~np.isnan(tweets.target)]"
   ]
  },
  {
   "cell_type": "code",
   "execution_count": 213,
   "metadata": {},
   "outputs": [],
   "source": [
    "tweets.target = tweets.target.astype(int)"
   ]
  },
  {
   "cell_type": "code",
   "execution_count": 214,
   "metadata": {},
   "outputs": [
    {
     "data": {
      "text/html": [
       "<div>\n",
       "<style scoped>\n",
       "    .dataframe tbody tr th:only-of-type {\n",
       "        vertical-align: middle;\n",
       "    }\n",
       "\n",
       "    .dataframe tbody tr th {\n",
       "        vertical-align: top;\n",
       "    }\n",
       "\n",
       "    .dataframe thead th {\n",
       "        text-align: right;\n",
       "    }\n",
       "</style>\n",
       "<table border=\"1\" class=\"dataframe\">\n",
       "  <thead>\n",
       "    <tr style=\"text-align: right;\">\n",
       "      <th></th>\n",
       "      <th>full_text</th>\n",
       "      <th>target</th>\n",
       "    </tr>\n",
       "  </thead>\n",
       "  <tbody>\n",
       "    <tr>\n",
       "      <th>0</th>\n",
       "      <td>https://t.co/esART8smVX</td>\n",
       "      <td>0</td>\n",
       "    </tr>\n",
       "    <tr>\n",
       "      <th>1</th>\n",
       "      <td>RT @zaynwinterfell: 1d stans acting like 1d is...</td>\n",
       "      <td>0</td>\n",
       "    </tr>\n",
       "    <tr>\n",
       "      <th>2</th>\n",
       "      <td>https://t.co/KiTk9FMJwj</td>\n",
       "      <td>0</td>\n",
       "    </tr>\n",
       "    <tr>\n",
       "      <th>3</th>\n",
       "      <td>https://t.co/KGjAK50Px0</td>\n",
       "      <td>0</td>\n",
       "    </tr>\n",
       "    <tr>\n",
       "      <th>4</th>\n",
       "      <td>https://t.co/oDlvrgZMfe</td>\n",
       "      <td>0</td>\n",
       "    </tr>\n",
       "    <tr>\n",
       "      <th>5</th>\n",
       "      <td>Hi, how are you? Let's talk) Look at my bio!❤️...</td>\n",
       "      <td>0</td>\n",
       "    </tr>\n",
       "    <tr>\n",
       "      <th>6</th>\n",
       "      <td>RT @GirlzKiki: #usernames #girls #live #webcam...</td>\n",
       "      <td>0</td>\n",
       "    </tr>\n",
       "    <tr>\n",
       "      <th>7</th>\n",
       "      <td>RT @bartz_ryan: So I got a tattoo last weekend...</td>\n",
       "      <td>0</td>\n",
       "    </tr>\n",
       "    <tr>\n",
       "      <th>8</th>\n",
       "      <td>RT @kylewesterfer: The worst year of my entire...</td>\n",
       "      <td>0</td>\n",
       "    </tr>\n",
       "    <tr>\n",
       "      <th>9</th>\n",
       "      <td>https://t.co/JXT7P9LZ0q</td>\n",
       "      <td>0</td>\n",
       "    </tr>\n",
       "    <tr>\n",
       "      <th>10</th>\n",
       "      <td>If you are destined to meet, the meeting is su...</td>\n",
       "      <td>0</td>\n",
       "    </tr>\n",
       "    <tr>\n",
       "      <th>11</th>\n",
       "      <td>https://t.co/2u3LxoqNOd</td>\n",
       "      <td>0</td>\n",
       "    </tr>\n",
       "    <tr>\n",
       "      <th>12</th>\n",
       "      <td>https://t.co/PIywh0OQh8</td>\n",
       "      <td>0</td>\n",
       "    </tr>\n",
       "    <tr>\n",
       "      <th>13</th>\n",
       "      <td>🤪 Hi, today is a great day! Look in the bio, i...</td>\n",
       "      <td>0</td>\n",
       "    </tr>\n",
       "    <tr>\n",
       "      <th>14</th>\n",
       "      <td>RT @syeddoha: \"Who's #Chopper is this ...?\" Yo...</td>\n",
       "      <td>0</td>\n",
       "    </tr>\n",
       "    <tr>\n",
       "      <th>15</th>\n",
       "      <td>RT @syeddoha: President Thomas S. Monson, 16th...</td>\n",
       "      <td>0</td>\n",
       "    </tr>\n",
       "    <tr>\n",
       "      <th>16</th>\n",
       "      <td>RT @syeddoha: Mr. Barbaro @nytimes it will ne ...</td>\n",
       "      <td>0</td>\n",
       "    </tr>\n",
       "    <tr>\n",
       "      <th>17</th>\n",
       "      <td>RT @syeddoha: #NewsFix @mikiebarb. That's wher...</td>\n",
       "      <td>0</td>\n",
       "    </tr>\n",
       "    <tr>\n",
       "      <th>18</th>\n",
       "      <td>RT @syeddoha: Oh, boy - that's moi? is that #F...</td>\n",
       "      <td>0</td>\n",
       "    </tr>\n",
       "    <tr>\n",
       "      <th>19</th>\n",
       "      <td>RT @seddon86: @CoinbaseSupport This is terribl...</td>\n",
       "      <td>0</td>\n",
       "    </tr>\n",
       "    <tr>\n",
       "      <th>20</th>\n",
       "      <td>RT @KPMGNZ_Cyber: KPMG's David Ferbrache thoug...</td>\n",
       "      <td>0</td>\n",
       "    </tr>\n",
       "    <tr>\n",
       "      <th>21</th>\n",
       "      <td>RT @Chewys_Paradise: I knew it! You heard it H...</td>\n",
       "      <td>0</td>\n",
       "    </tr>\n",
       "    <tr>\n",
       "      <th>22</th>\n",
       "      <td>RT @Ilepadilla: ¡LO QUE CALLAMOS LOS YOUTUBERS...</td>\n",
       "      <td>0</td>\n",
       "    </tr>\n",
       "    <tr>\n",
       "      <th>23</th>\n",
       "      <td>RT @chrishlozek: She’s Stealth-Vintage... Fat ...</td>\n",
       "      <td>0</td>\n",
       "    </tr>\n",
       "    <tr>\n",
       "      <th>24</th>\n",
       "      <td>RT @ERNESTONODAL: Same thing happened on my #D...</td>\n",
       "      <td>0</td>\n",
       "    </tr>\n",
       "    <tr>\n",
       "      <th>25</th>\n",
       "      <td>RT @CafeMilagro: The greatest #sloth video you...</td>\n",
       "      <td>0</td>\n",
       "    </tr>\n",
       "    <tr>\n",
       "      <th>26</th>\n",
       "      <td>RT @A_Ahued: Estimada Sandy, es un gusto saber...</td>\n",
       "      <td>0</td>\n",
       "    </tr>\n",
       "    <tr>\n",
       "      <th>27</th>\n",
       "      <td>RT @A_Ahued: Los invito a seguir la entrevista...</td>\n",
       "      <td>0</td>\n",
       "    </tr>\n",
       "    <tr>\n",
       "      <th>28</th>\n",
       "      <td>RT @A_Ahued: Acercarme a la gente, escucharlos...</td>\n",
       "      <td>0</td>\n",
       "    </tr>\n",
       "    <tr>\n",
       "      <th>29</th>\n",
       "      <td>RT @El_UniversalTv: #EnVivo Conoce a @A_Ahued,...</td>\n",
       "      <td>0</td>\n",
       "    </tr>\n",
       "    <tr>\n",
       "      <th>...</th>\n",
       "      <td>...</td>\n",
       "      <td>...</td>\n",
       "    </tr>\n",
       "    <tr>\n",
       "      <th>41653</th>\n",
       "      <td>RT @mgapatamaposts: Wag mong pakealaman pagigi...</td>\n",
       "      <td>3</td>\n",
       "    </tr>\n",
       "    <tr>\n",
       "      <th>41654</th>\n",
       "      <td>RT @ItsSuperJhakez: Porket wala lang kayong ka...</td>\n",
       "      <td>3</td>\n",
       "    </tr>\n",
       "    <tr>\n",
       "      <th>41655</th>\n",
       "      <td>RT @ItsSuperJhakez: TANGINA MO CRUSH BAKIT ANG...</td>\n",
       "      <td>3</td>\n",
       "    </tr>\n",
       "    <tr>\n",
       "      <th>41656</th>\n",
       "      <td>RT @QuoteNiLuffy: Bakit yung mga taong tunay n...</td>\n",
       "      <td>3</td>\n",
       "    </tr>\n",
       "    <tr>\n",
       "      <th>41657</th>\n",
       "      <td>RT @PUNYETALIFICENT: Ano'ng feeling ng makapal...</td>\n",
       "      <td>3</td>\n",
       "    </tr>\n",
       "    <tr>\n",
       "      <th>41658</th>\n",
       "      <td>RT @WagPapansin: Ang tunay na magkakaibigan, k...</td>\n",
       "      <td>3</td>\n",
       "    </tr>\n",
       "    <tr>\n",
       "      <th>41659</th>\n",
       "      <td>RT @TheFeelingPogi: Tinalo mo pa ung keyboard,...</td>\n",
       "      <td>3</td>\n",
       "    </tr>\n",
       "    <tr>\n",
       "      <th>41660</th>\n",
       "      <td>RT @PINOY_QUOTES: Right person, wrong time. I ...</td>\n",
       "      <td>3</td>\n",
       "    </tr>\n",
       "    <tr>\n",
       "      <th>41661</th>\n",
       "      <td>RT @Mister_Patama: Yung imbis na mamiss ka, ki...</td>\n",
       "      <td>3</td>\n",
       "    </tr>\n",
       "    <tr>\n",
       "      <th>41662</th>\n",
       "      <td>RT @Mister_Patama: Unexpected message from the...</td>\n",
       "      <td>3</td>\n",
       "    </tr>\n",
       "    <tr>\n",
       "      <th>41663</th>\n",
       "      <td>RT @QuoteNiLuffy: Na-seen ka na nga, chat pa d...</td>\n",
       "      <td>3</td>\n",
       "    </tr>\n",
       "    <tr>\n",
       "      <th>41664</th>\n",
       "      <td>PAG MAHAL KA BABALIKAN KA. PAG BINALIKAN MO, A...</td>\n",
       "      <td>3</td>\n",
       "    </tr>\n",
       "    <tr>\n",
       "      <th>41665</th>\n",
       "      <td>RT @iamDuterte: Kung akong Presidente Alisin k...</td>\n",
       "      <td>3</td>\n",
       "    </tr>\n",
       "    <tr>\n",
       "      <th>41666</th>\n",
       "      <td>RT @iamDuterte: Ang dami dami nyong Plano. Mag...</td>\n",
       "      <td>3</td>\n",
       "    </tr>\n",
       "    <tr>\n",
       "      <th>41667</th>\n",
       "      <td>RT @iamDuterte: Ito si Maria Naniwala sa Forev...</td>\n",
       "      <td>3</td>\n",
       "    </tr>\n",
       "    <tr>\n",
       "      <th>41668</th>\n",
       "      <td>RT @iamDuterte: Owws talaga? Kwento mo sakin w...</td>\n",
       "      <td>3</td>\n",
       "    </tr>\n",
       "    <tr>\n",
       "      <th>41669</th>\n",
       "      <td>RT @iamDuterte: Luh! Bakit kita hahabulin Grad...</td>\n",
       "      <td>3</td>\n",
       "    </tr>\n",
       "    <tr>\n",
       "      <th>41670</th>\n",
       "      <td>RT @iamDuterte: Etong piso bili ka kausap.</td>\n",
       "      <td>3</td>\n",
       "    </tr>\n",
       "    <tr>\n",
       "      <th>41671</th>\n",
       "      <td>RT @iamDuterte: Ang landi mo men Makati ka pa ...</td>\n",
       "      <td>3</td>\n",
       "    </tr>\n",
       "    <tr>\n",
       "      <th>41672</th>\n",
       "      <td>RT @iamDuterte: Tulog na! kokopya ka pang assi...</td>\n",
       "      <td>3</td>\n",
       "    </tr>\n",
       "    <tr>\n",
       "      <th>41673</th>\n",
       "      <td>RT @iamDuterte: Akalain mo yun Pakopya kopya k...</td>\n",
       "      <td>3</td>\n",
       "    </tr>\n",
       "    <tr>\n",
       "      <th>41674</th>\n",
       "      <td>RT @iamDuterte: Feeling Rich ang taas ng tingi...</td>\n",
       "      <td>3</td>\n",
       "    </tr>\n",
       "    <tr>\n",
       "      <th>41675</th>\n",
       "      <td>RT @iamDuterte: Bored ka? Text mo sarili mo ta...</td>\n",
       "      <td>3</td>\n",
       "    </tr>\n",
       "    <tr>\n",
       "      <th>41676</th>\n",
       "      <td>RT @deepxconfession: \"yung lalaking sasamahan ...</td>\n",
       "      <td>3</td>\n",
       "    </tr>\n",
       "    <tr>\n",
       "      <th>41677</th>\n",
       "      <td>RT @deepxconfession: \"tangina napaka pa-fall m...</td>\n",
       "      <td>3</td>\n",
       "    </tr>\n",
       "    <tr>\n",
       "      <th>41678</th>\n",
       "      <td>RT @deepxconfession: \"Dumating lang siya, Kina...</td>\n",
       "      <td>3</td>\n",
       "    </tr>\n",
       "    <tr>\n",
       "      <th>41679</th>\n",
       "      <td>RT @pinoyhugotkowts: Ayaw mo sakin? HAHAHAHAHA...</td>\n",
       "      <td>3</td>\n",
       "    </tr>\n",
       "    <tr>\n",
       "      <th>41680</th>\n",
       "      <td>RT @clingytype: baby ka niya? baby niya rin ak...</td>\n",
       "      <td>3</td>\n",
       "    </tr>\n",
       "    <tr>\n",
       "      <th>41681</th>\n",
       "      <td>RT @QuoteNiLuffy: Yung tatawagan ka niya kasi ...</td>\n",
       "      <td>3</td>\n",
       "    </tr>\n",
       "    <tr>\n",
       "      <th>41682</th>\n",
       "      <td>RT @AssumingMo: Di mo naman siguro ako masisis...</td>\n",
       "      <td>3</td>\n",
       "    </tr>\n",
       "  </tbody>\n",
       "</table>\n",
       "<p>972047 rows × 2 columns</p>\n",
       "</div>"
      ],
      "text/plain": [
       "                                               full_text  target\n",
       "0                                https://t.co/esART8smVX       0\n",
       "1      RT @zaynwinterfell: 1d stans acting like 1d is...       0\n",
       "2                                https://t.co/KiTk9FMJwj       0\n",
       "3                                https://t.co/KGjAK50Px0       0\n",
       "4                                https://t.co/oDlvrgZMfe       0\n",
       "5      Hi, how are you? Let's talk) Look at my bio!❤️...       0\n",
       "6      RT @GirlzKiki: #usernames #girls #live #webcam...       0\n",
       "7      RT @bartz_ryan: So I got a tattoo last weekend...       0\n",
       "8      RT @kylewesterfer: The worst year of my entire...       0\n",
       "9                                https://t.co/JXT7P9LZ0q       0\n",
       "10     If you are destined to meet, the meeting is su...       0\n",
       "11                               https://t.co/2u3LxoqNOd       0\n",
       "12                               https://t.co/PIywh0OQh8       0\n",
       "13     🤪 Hi, today is a great day! Look in the bio, i...       0\n",
       "14     RT @syeddoha: \"Who's #Chopper is this ...?\" Yo...       0\n",
       "15     RT @syeddoha: President Thomas S. Monson, 16th...       0\n",
       "16     RT @syeddoha: Mr. Barbaro @nytimes it will ne ...       0\n",
       "17     RT @syeddoha: #NewsFix @mikiebarb. That's wher...       0\n",
       "18     RT @syeddoha: Oh, boy - that's moi? is that #F...       0\n",
       "19     RT @seddon86: @CoinbaseSupport This is terribl...       0\n",
       "20     RT @KPMGNZ_Cyber: KPMG's David Ferbrache thoug...       0\n",
       "21     RT @Chewys_Paradise: I knew it! You heard it H...       0\n",
       "22     RT @Ilepadilla: ¡LO QUE CALLAMOS LOS YOUTUBERS...       0\n",
       "23     RT @chrishlozek: She’s Stealth-Vintage... Fat ...       0\n",
       "24     RT @ERNESTONODAL: Same thing happened on my #D...       0\n",
       "25     RT @CafeMilagro: The greatest #sloth video you...       0\n",
       "26     RT @A_Ahued: Estimada Sandy, es un gusto saber...       0\n",
       "27     RT @A_Ahued: Los invito a seguir la entrevista...       0\n",
       "28     RT @A_Ahued: Acercarme a la gente, escucharlos...       0\n",
       "29     RT @El_UniversalTv: #EnVivo Conoce a @A_Ahued,...       0\n",
       "...                                                  ...     ...\n",
       "41653  RT @mgapatamaposts: Wag mong pakealaman pagigi...       3\n",
       "41654  RT @ItsSuperJhakez: Porket wala lang kayong ka...       3\n",
       "41655  RT @ItsSuperJhakez: TANGINA MO CRUSH BAKIT ANG...       3\n",
       "41656  RT @QuoteNiLuffy: Bakit yung mga taong tunay n...       3\n",
       "41657  RT @PUNYETALIFICENT: Ano'ng feeling ng makapal...       3\n",
       "41658  RT @WagPapansin: Ang tunay na magkakaibigan, k...       3\n",
       "41659  RT @TheFeelingPogi: Tinalo mo pa ung keyboard,...       3\n",
       "41660  RT @PINOY_QUOTES: Right person, wrong time. I ...       3\n",
       "41661  RT @Mister_Patama: Yung imbis na mamiss ka, ki...       3\n",
       "41662  RT @Mister_Patama: Unexpected message from the...       3\n",
       "41663  RT @QuoteNiLuffy: Na-seen ka na nga, chat pa d...       3\n",
       "41664  PAG MAHAL KA BABALIKAN KA. PAG BINALIKAN MO, A...       3\n",
       "41665  RT @iamDuterte: Kung akong Presidente Alisin k...       3\n",
       "41666  RT @iamDuterte: Ang dami dami nyong Plano. Mag...       3\n",
       "41667  RT @iamDuterte: Ito si Maria Naniwala sa Forev...       3\n",
       "41668  RT @iamDuterte: Owws talaga? Kwento mo sakin w...       3\n",
       "41669  RT @iamDuterte: Luh! Bakit kita hahabulin Grad...       3\n",
       "41670         RT @iamDuterte: Etong piso bili ka kausap.       3\n",
       "41671  RT @iamDuterte: Ang landi mo men Makati ka pa ...       3\n",
       "41672  RT @iamDuterte: Tulog na! kokopya ka pang assi...       3\n",
       "41673  RT @iamDuterte: Akalain mo yun Pakopya kopya k...       3\n",
       "41674  RT @iamDuterte: Feeling Rich ang taas ng tingi...       3\n",
       "41675  RT @iamDuterte: Bored ka? Text mo sarili mo ta...       3\n",
       "41676  RT @deepxconfession: \"yung lalaking sasamahan ...       3\n",
       "41677  RT @deepxconfession: \"tangina napaka pa-fall m...       3\n",
       "41678  RT @deepxconfession: \"Dumating lang siya, Kina...       3\n",
       "41679  RT @pinoyhugotkowts: Ayaw mo sakin? HAHAHAHAHA...       3\n",
       "41680  RT @clingytype: baby ka niya? baby niya rin ak...       3\n",
       "41681  RT @QuoteNiLuffy: Yung tatawagan ka niya kasi ...       3\n",
       "41682  RT @AssumingMo: Di mo naman siguro ako masisis...       3\n",
       "\n",
       "[972047 rows x 2 columns]"
      ]
     },
     "execution_count": 214,
     "metadata": {},
     "output_type": "execute_result"
    }
   ],
   "source": [
    "tweets"
   ]
  },
  {
   "cell_type": "code",
   "execution_count": 215,
   "metadata": {},
   "outputs": [],
   "source": [
    "def remove_rt(x):\n",
    "    if 'RT @' in x:\n",
    "        try:\n",
    "            return x[x.find(':')+2:]\n",
    "        except:\n",
    "            return x\n",
    "    else:\n",
    "        return x"
   ]
  },
  {
   "cell_type": "code",
   "execution_count": 216,
   "metadata": {},
   "outputs": [],
   "source": [
    "#def translate(x):\n",
    "#    try:\n",
    "#        return translator.translate(x).text\n",
    "#    except:\n",
    "#        return x"
   ]
  },
  {
   "cell_type": "code",
   "execution_count": 217,
   "metadata": {},
   "outputs": [],
   "source": [
    "stop_words = stopwords.words('english')\n",
    "\n",
    "def remove_stop(x):\n",
    "    return [word for word in x.split() if word not in stop_words]"
   ]
  },
  {
   "cell_type": "code",
   "execution_count": 218,
   "metadata": {},
   "outputs": [],
   "source": [
    "tweets['full_text'] = tweets['full_text'].apply(lambda x: remove_rt(x))"
   ]
  },
  {
   "cell_type": "code",
   "execution_count": 219,
   "metadata": {},
   "outputs": [],
   "source": [
    "tweets['full_text'] = tweets['full_text'].apply(lambda x: re.sub(r'http[s]?://(?:[a-zA-Z]|[0-9]|[$-_@.&+]|[!*\\(\\),]|(?:%[0-9a-fA-F][0-9a-fA-F]))+', '', x))"
   ]
  },
  {
   "cell_type": "code",
   "execution_count": 220,
   "metadata": {},
   "outputs": [],
   "source": [
    "tweets['full_text'] = tweets['full_text'].apply(lambda x: re.sub(r'[^\\w\\s]','',x))"
   ]
  },
  {
   "cell_type": "code",
   "execution_count": 221,
   "metadata": {},
   "outputs": [],
   "source": [
    "tweets['full_text'] = tweets['full_text'].apply(lambda x: x.lower())"
   ]
  },
  {
   "cell_type": "code",
   "execution_count": 222,
   "metadata": {},
   "outputs": [],
   "source": [
    "tweets['full_text'] = tweets['full_text'].apply(lambda x: remove_stop(x))"
   ]
  },
  {
   "cell_type": "code",
   "execution_count": 223,
   "metadata": {},
   "outputs": [],
   "source": [
    "tweets['full_text'] = tweets['full_text'].astype(str)"
   ]
  },
  {
   "cell_type": "code",
   "execution_count": 224,
   "metadata": {},
   "outputs": [],
   "source": [
    "tweets = tweets[tweets.full_text!='[]']"
   ]
  },
  {
   "cell_type": "code",
   "execution_count": 225,
   "metadata": {},
   "outputs": [
    {
     "data": {
      "text/plain": [
       "2    448362\n",
       "1    274624\n",
       "0    172060\n",
       "3     39578\n",
       "Name: target, dtype: int64"
      ]
     },
     "execution_count": 225,
     "metadata": {},
     "output_type": "execute_result"
    }
   ],
   "source": [
    "tweets.target.value_counts()"
   ]
  },
  {
   "cell_type": "code",
   "execution_count": 226,
   "metadata": {},
   "outputs": [
    {
     "name": "stdout",
     "output_type": "stream",
     "text": [
      "accuracy: 0.8002211227328435\n",
      "partial f1: [0.58261769 0.85033284 0.85908688 0.51225276]\n",
      "total f1: 0.7010725431740751\n"
     ]
    }
   ],
   "source": [
    "stemmer = SnowballStemmer(\"english\", ignore_stopwords=True)\n",
    "\n",
    "class StemmedCountVectorizer(CountVectorizer):\n",
    "    def build_analyzer(self):\n",
    "        analyzer = super(CountVectorizer, self).build_analyzer()\n",
    "        return lambda doc:(stemmer.stem(w) for w in analyzer(doc))\n",
    "\n",
    "\n",
    "stem_vectorizer = StemmedCountVectorizer(stemmer)\n",
    "\n",
    "pipeline = Pipeline([('vect', stem_vectorizer), \n",
    "                     ('tfidf', TfidfTransformer()), \n",
    "                     ('mnb', MultinomialNB(fit_prior=False))])\n",
    "X_train, X_test, y_train, y_test = train_test_split(tweets.full_text, tweets.target, test_size=0.33, random_state=42)\n",
    "\n",
    "clf = pipeline.fit(X_train, y_train)\n",
    "\n",
    "y_pred = clf.predict(X_test)\n",
    "\n",
    "print('accuracy: ' + str(np.mean(y_pred == y_test)))\n",
    "print('partial f1: ' + str(f1_score(y_test, y_pred, average=None)))\n",
    "print('total f1: ' + str(f1_score(y_test, y_pred, average='macro')))"
   ]
  },
  {
   "cell_type": "code",
   "execution_count": 227,
   "metadata": {},
   "outputs": [
    {
     "data": {
      "text/plain": [
       "array([[0.08452161, 0.09596882, 0.80108685, 0.01842271]])"
      ]
     },
     "execution_count": 227,
     "metadata": {},
     "output_type": "execute_result"
    }
   ],
   "source": [
    "clf.predict_proba(pd.Series(\"try this awesome app\"))"
   ]
  },
  {
   "cell_type": "code",
   "execution_count": 228,
   "metadata": {},
   "outputs": [],
   "source": [
    "clf = pipeline.fit(tweets.full_text, tweets.target)"
   ]
  },
  {
   "cell_type": "code",
   "execution_count": 229,
   "metadata": {},
   "outputs": [
    {
     "name": "stdout",
     "output_type": "stream",
     "text": [
      "accuracy: 0.8356344369500462\n",
      "partial f1: [0.69233249 0.87028824 0.88211509 0.59120657]\n",
      "total f1: 0.7589855958658608\n"
     ]
    }
   ],
   "source": [
    "y_pred = clf.predict(tweets.full_text)\n",
    "\n",
    "print('accuracy: ' + str(np.mean(y_pred == tweets.target)))\n",
    "print('partial f1: ' + str(f1_score(tweets.target, y_pred, average=None)))\n",
    "print('total f1: ' + str(f1_score(tweets.target, y_pred, average='macro')))"
   ]
  },
  {
   "cell_type": "code",
   "execution_count": 230,
   "metadata": {},
   "outputs": [],
   "source": [
    "pickle.dump( clf, open( \"../scripts/nb.model\", \"wb\" ) )"
   ]
  }
 ],
 "metadata": {
  "kernelspec": {
   "display_name": "Python 3",
   "language": "python",
   "name": "python3"
  },
  "language_info": {
   "codemirror_mode": {
    "name": "ipython",
    "version": 3
   },
   "file_extension": ".py",
   "mimetype": "text/x-python",
   "name": "python",
   "nbconvert_exporter": "python",
   "pygments_lexer": "ipython3",
   "version": "3.6.5"
  }
 },
 "nbformat": 4,
 "nbformat_minor": 2
}
