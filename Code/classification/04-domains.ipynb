{
 "cells": [
  {
   "cell_type": "markdown",
   "metadata": {},
   "source": [
    "# Domains"
   ]
  },
  {
   "cell_type": "code",
   "execution_count": 1,
   "metadata": {},
   "outputs": [],
   "source": [
    "import pandas as pd\n",
    "import numpy as np"
   ]
  },
  {
   "cell_type": "code",
   "execution_count": 2,
   "metadata": {},
   "outputs": [
    {
     "name": "stderr",
     "output_type": "stream",
     "text": [
      "/home/matteo/anaconda3/lib/python3.6/site-packages/IPython/core/interactiveshell.py:2785: DtypeWarning: Columns (2,9,19,21) have mixed types. Specify dtype option on import or set low_memory=False.\n",
      "  interactivity=interactivity, compiler=compiler, result=result)\n"
     ]
    }
   ],
   "source": [
    "tweets = pd.read_csv('data/porn/tweets.csv', encoding='utf-8-sig', sep='\\t')"
   ]
  },
  {
   "cell_type": "code",
   "execution_count": 3,
   "metadata": {},
   "outputs": [
    {
     "data": {
      "text/plain": [
       "True     153668\n",
       "False     43284\n",
       "Name: url, dtype: int64"
      ]
     },
     "execution_count": 3,
     "metadata": {},
     "output_type": "execute_result"
    }
   ],
   "source": [
    "tweets['url'].isnull().value_counts()"
   ]
  },
  {
   "cell_type": "code",
   "execution_count": 4,
   "metadata": {},
   "outputs": [
    {
     "ename": "NameError",
     "evalue": "name 'users' is not defined",
     "output_type": "error",
     "traceback": [
      "\u001b[0;31m---------------------------------------------------------------------------\u001b[0m",
      "\u001b[0;31mNameError\u001b[0m                                 Traceback (most recent call last)",
      "\u001b[0;32m<ipython-input-4-c7821e76bc8d>\u001b[0m in \u001b[0;36m<module>\u001b[0;34m()\u001b[0m\n\u001b[0;32m----> 1\u001b[0;31m \u001b[0musers\u001b[0m\u001b[0;34m.\u001b[0m\u001b[0mcolumns\u001b[0m\u001b[0;34m\u001b[0m\u001b[0m\n\u001b[0m",
      "\u001b[0;31mNameError\u001b[0m: name 'users' is not defined"
     ]
    }
   ],
   "source": [
    "users.columns"
   ]
  },
  {
   "cell_type": "code",
   "execution_count": 5,
   "metadata": {},
   "outputs": [
    {
     "data": {
      "text/plain": [
       "Index(['Unnamed: 0', 'contributors', 'coordinates', 'created_at',\n",
       "       'display_text_range', 'extended_entities', 'favorite_count',\n",
       "       'favorited', 'full_text', 'geo', 'id', 'id_str',\n",
       "       'in_reply_to_screen_name', 'in_reply_to_status_id',\n",
       "       'in_reply_to_status_id_str', 'in_reply_to_user_id',\n",
       "       'in_reply_to_user_id_str', 'is_quote_status', 'lang', 'place',\n",
       "       'possibly_sensitive', 'quoted_status', 'quoted_status_id',\n",
       "       'quoted_status_id_str', 'quoted_status_permalink', 'retweet_count',\n",
       "       'retweeted', 'retweeted_status', 'source', 'truncated', 'url',\n",
       "       'user_id'],\n",
       "      dtype='object')"
      ]
     },
     "execution_count": 5,
     "metadata": {},
     "output_type": "execute_result"
    }
   ],
   "source": [
    "tweets.columns"
   ]
  },
  {
   "cell_type": "code",
   "execution_count": 7,
   "metadata": {},
   "outputs": [
    {
     "data": {
      "text/plain": [
       "0                                                       NaN\n",
       "1                                                       NaN\n",
       "2                                                       NaN\n",
       "3                                                       NaN\n",
       "4                                                       NaN\n",
       "5                                                       NaN\n",
       "6                                                       NaN\n",
       "7                                                       NaN\n",
       "8                                                       NaN\n",
       "9                                                       NaN\n",
       "10                                                      NaN\n",
       "11                                                      NaN\n",
       "12                                                      NaN\n",
       "13                                                      NaN\n",
       "14                                                      NaN\n",
       "15                                                      NaN\n",
       "16                                                      NaN\n",
       "17                                                      NaN\n",
       "18                                                      NaN\n",
       "19                                                      NaN\n",
       "20        http://www.actuarialpost.co.uk/article/ten-cyb...\n",
       "21                                                      NaN\n",
       "22                             https://youtu.be/EpMcrYN4XAY\n",
       "23                 https://www.instagram.com/p/Bc8ftuVFOl5/\n",
       "24        https://twitter.com/jsacasting/status/94364780...\n",
       "25        https://www.facebook.com/cafemilagro/videos/10...\n",
       "26                                                      NaN\n",
       "27        https://twitter.com/el_universal_mx/status/943...\n",
       "28                                                      NaN\n",
       "29                                                      NaN\n",
       "                                ...                        \n",
       "196922                                                  NaN\n",
       "196923    https://twitter.com/g_thurine/status/944288477...\n",
       "196924                                                  NaN\n",
       "196925                                                  NaN\n",
       "196926                                                  NaN\n",
       "196927                                                  NaN\n",
       "196928                                                  NaN\n",
       "196929                                                  NaN\n",
       "196930                                http://tunnelbear.com\n",
       "196931                                    http://slither.io\n",
       "196932                                    http://slither.io\n",
       "196933                                                  NaN\n",
       "196934                                                  NaN\n",
       "196935                                                  NaN\n",
       "196936                                                  NaN\n",
       "196937                                                  NaN\n",
       "196938                                                  NaN\n",
       "196939                                                  NaN\n",
       "196940                             http://puu.sh/54QyW.jpeg\n",
       "196941                                                  NaN\n",
       "196942                                                  NaN\n",
       "196943                                                  NaN\n",
       "196944                                                  NaN\n",
       "196945                                                  NaN\n",
       "196946                                                  NaN\n",
       "196947                                                  NaN\n",
       "196948           http://www.youtube.com/watch?v=fQO2Opzvyeg\n",
       "196949                        http://youtu.be/UEsPFL5fKK4?a\n",
       "196950                                                  NaN\n",
       "196951                                                  NaN\n",
       "Name: url, Length: 196952, dtype: object"
      ]
     },
     "execution_count": 7,
     "metadata": {},
     "output_type": "execute_result"
    }
   ],
   "source": [
    "tweets['url']"
   ]
  },
  {
   "cell_type": "code",
   "execution_count": 56,
   "metadata": {},
   "outputs": [],
   "source": [
    "from urllib.parse import urlparse\n",
    "\n",
    "def extract_domain(domain):\n",
    "    data = urlparse(string)\n",
    "    return data.netloc"
   ]
  },
  {
   "cell_type": "code",
   "execution_count": 57,
   "metadata": {},
   "outputs": [
    {
     "data": {
      "text/plain": [
       "'http://puu.sh/54QyW.jpeg'"
      ]
     },
     "execution_count": 57,
     "metadata": {},
     "output_type": "execute_result"
    }
   ],
   "source": [
    "string"
   ]
  },
  {
   "cell_type": "code",
   "execution_count": 58,
   "metadata": {},
   "outputs": [
    {
     "data": {
      "text/plain": [
       "'puu.sh'"
      ]
     },
     "execution_count": 58,
     "metadata": {},
     "output_type": "execute_result"
    }
   ],
   "source": [
    "extract_domain(string)"
   ]
  }
 ],
 "metadata": {
  "kernelspec": {
   "display_name": "Python 3",
   "language": "python",
   "name": "python3"
  },
  "language_info": {
   "codemirror_mode": {
    "name": "ipython",
    "version": 3
   },
   "file_extension": ".py",
   "mimetype": "text/x-python",
   "name": "python",
   "nbconvert_exporter": "python",
   "pygments_lexer": "ipython3",
   "version": "3.6.6"
  }
 },
 "nbformat": 4,
 "nbformat_minor": 2
}
