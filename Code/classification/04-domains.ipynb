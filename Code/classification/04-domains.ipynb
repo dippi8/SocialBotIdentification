{
 "cells": [
  {
   "cell_type": "markdown",
   "metadata": {},
   "source": [
    "# Domains"
   ]
  },
  {
   "cell_type": "code",
   "execution_count": 5,
   "metadata": {},
   "outputs": [],
   "source": [
    "import pandas as pd\n",
    "import numpy as np"
   ]
  },
  {
   "cell_type": "code",
   "execution_count": 8,
   "metadata": {},
   "outputs": [],
   "source": [
    "#tweets = pd.read_csv('data/porn/tweets.csv', encoding='utf-8-sig', sep='\\t')\n",
    "users = pd.read_csv('data/porn/users.csv', encoding='utf-8-sig')"
   ]
  },
  {
   "cell_type": "code",
   "execution_count": 11,
   "metadata": {},
   "outputs": [],
   "source": [
    "users = users.id"
   ]
  },
  {
   "cell_type": "code",
   "execution_count": 12,
   "metadata": {},
   "outputs": [
    {
     "data": {
      "text/plain": [
       "0                141182021\n",
       "1                146443776\n",
       "2               1148187661\n",
       "3                316622618\n",
       "4                405969757\n",
       "5               2915427651\n",
       "6               4375487713\n",
       "7                466382361\n",
       "8                879294943\n",
       "9                291507796\n",
       "10              1940026363\n",
       "11               262153380\n",
       "12               107128767\n",
       "13               468042215\n",
       "14               502997845\n",
       "15               301703953\n",
       "16               826079983\n",
       "17               996283452\n",
       "18               430778635\n",
       "19              2159330839\n",
       "20      745548655277465600\n",
       "21               962936970\n",
       "22               377411429\n",
       "23               247726133\n",
       "24               234065445\n",
       "25              1632654704\n",
       "26               370123438\n",
       "27               454066957\n",
       "28              2350817323\n",
       "29               869440951\n",
       "               ...        \n",
       "3768             371354451\n",
       "3769            1437796501\n",
       "3770            3133291326\n",
       "3771            3028210406\n",
       "3772             221990507\n",
       "3773             993580177\n",
       "3774    911294972745437185\n",
       "3775            1225675100\n",
       "3776            2358456775\n",
       "3777            2840704034\n",
       "3778             335476914\n",
       "3779    802563389591433216\n",
       "3780    908444106615136257\n",
       "3781             480748261\n",
       "3782            2655178307\n",
       "3783            3377576705\n",
       "3784             751535774\n",
       "3785             444556257\n",
       "3786             552077610\n",
       "3787             289958299\n",
       "3788             521853212\n",
       "3789    832818027771076608\n",
       "3790            1923838766\n",
       "3791            1384509600\n",
       "3792    742798168341938176\n",
       "3793              84045956\n",
       "3794            1601960322\n",
       "3795    860034643814494209\n",
       "3796            1361388482\n",
       "3797             292732463\n",
       "Name: id, Length: 3798, dtype: int64"
      ]
     },
     "execution_count": 12,
     "metadata": {},
     "output_type": "execute_result"
    }
   ],
   "source": [
    "users.to_csv()"
   ]
  },
  {
   "cell_type": "code",
   "execution_count": null,
   "metadata": {},
   "outputs": [],
   "source": [
    "users = pd.read_csv('data/propaganda/tweets.csv', encoding='utf-8-sig', sep='\\t')"
   ]
  },
  {
   "cell_type": "code",
   "execution_count": null,
   "metadata": {},
   "outputs": [],
   "source": [
    "tweets['url'].isnull().value_counts()"
   ]
  },
  {
   "cell_type": "code",
   "execution_count": null,
   "metadata": {},
   "outputs": [],
   "source": [
    "users.columns"
   ]
  },
  {
   "cell_type": "code",
   "execution_count": null,
   "metadata": {},
   "outputs": [],
   "source": [
    "tweets.columns"
   ]
  },
  {
   "cell_type": "code",
   "execution_count": 62,
   "metadata": {},
   "outputs": [
    {
     "data": {
      "text/plain": [
       "0                                                       NaN\n",
       "1                                                       NaN\n",
       "2                                                       NaN\n",
       "3                                                       NaN\n",
       "4                                                       NaN\n",
       "5                                                       NaN\n",
       "6                                                       NaN\n",
       "7                                                       NaN\n",
       "8                                                       NaN\n",
       "9                                                       NaN\n",
       "10                                                      NaN\n",
       "11                                                      NaN\n",
       "12                                                      NaN\n",
       "13                                                      NaN\n",
       "14                                                      NaN\n",
       "15                                                      NaN\n",
       "16                                                      NaN\n",
       "17                                                      NaN\n",
       "18                                                      NaN\n",
       "19                                                      NaN\n",
       "20        http://www.actuarialpost.co.uk/article/ten-cyb...\n",
       "21                                                      NaN\n",
       "22                             https://youtu.be/EpMcrYN4XAY\n",
       "23                 https://www.instagram.com/p/Bc8ftuVFOl5/\n",
       "24        https://twitter.com/jsacasting/status/94364780...\n",
       "25        https://www.facebook.com/cafemilagro/videos/10...\n",
       "26                                                      NaN\n",
       "27        https://twitter.com/el_universal_mx/status/943...\n",
       "28                                                      NaN\n",
       "29                                                      NaN\n",
       "                                ...                        \n",
       "191537                                                  NaN\n",
       "191538    https://twitter.com/brixtonbrewery/status/9419...\n",
       "191539                                                  NaN\n",
       "191540                                                  NaN\n",
       "191541                                                  NaN\n",
       "191542                                                  NaN\n",
       "191543                                                  NaN\n",
       "191544                                                  NaN\n",
       "191545                                                  NaN\n",
       "191546                                                  NaN\n",
       "191547                                                  NaN\n",
       "191548    https://twitter.com/redzuanahmad94/status/9498...\n",
       "191549                 http://Youtube.com/LanceStewartVlogs\n",
       "191550                                                  NaN\n",
       "191551                                                  NaN\n",
       "191552                                                  NaN\n",
       "191553                                                  NaN\n",
       "191554    http://www.liberoquotidiano.it/gallery/italia/...\n",
       "191555                                                  NaN\n",
       "191556                                                  NaN\n",
       "191557                                                  NaN\n",
       "191558                                                  NaN\n",
       "191559                                                  NaN\n",
       "191560                                                  NaN\n",
       "191561                                                  NaN\n",
       "191562                                                  NaN\n",
       "191563                                                  NaN\n",
       "191564                                                  NaN\n",
       "191565                                                  NaN\n",
       "191566                                                  NaN\n",
       "Name: url, Length: 191567, dtype: object"
      ]
     },
     "execution_count": 62,
     "metadata": {},
     "output_type": "execute_result"
    }
   ],
   "source": [
    "porn['url']"
   ]
  },
  {
   "cell_type": "code",
   "execution_count": null,
   "metadata": {},
   "outputs": [],
   "source": []
  }
 ],
 "metadata": {
  "kernelspec": {
   "display_name": "Python 3",
   "language": "python",
   "name": "python3"
  },
  "language_info": {
   "codemirror_mode": {
    "name": "ipython",
    "version": 3
   },
   "file_extension": ".py",
   "mimetype": "text/x-python",
   "name": "python",
   "nbconvert_exporter": "python",
   "pygments_lexer": "ipython3",
   "version": "3.6.5"
  }
 },
 "nbformat": 4,
 "nbformat_minor": 2
}
