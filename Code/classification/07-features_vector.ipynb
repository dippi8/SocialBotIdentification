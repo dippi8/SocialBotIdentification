{
 "cells": [
  {
   "cell_type": "markdown",
   "metadata": {},
   "source": [
    "# Features Vector"
   ]
  },
  {
   "cell_type": "code",
   "execution_count": 191,
   "metadata": {},
   "outputs": [],
   "source": [
    "import pandas as pd\n",
    "import numpy as np\n",
    "from IPython.display import clear_output"
   ]
  },
  {
   "cell_type": "markdown",
   "metadata": {},
   "source": [
    "### Load users features"
   ]
  },
  {
   "cell_type": "code",
   "execution_count": 192,
   "metadata": {},
   "outputs": [],
   "source": [
    "porn_users = pd.read_csv('data/porn/users.csv', encoding='utf-8-sig')\n",
    "prop_users = pd.read_csv('data/propaganda/users.csv', encoding='utf-8-sig')\n",
    "spam_users = pd.read_csv('data/spam/users.csv', encoding='utf-8-sig')\n",
    "fake_users = pd.read_csv('data/fake_followers/users.csv', encoding='utf-8-sig')\n",
    "genuine_users = pd.read_csv('data/genuine/users.csv', encoding='utf-8-sig')"
   ]
  },
  {
   "cell_type": "markdown",
   "metadata": {},
   "source": [
    "### Load tweets features"
   ]
  },
  {
   "cell_type": "code",
   "execution_count": 193,
   "metadata": {},
   "outputs": [],
   "source": [
    "#Porn\n",
    "porn_tweet_intrad = pd.read_csv('data/porn/tweet_intradistance.csv', encoding='utf-8-sig')\n",
    "porn_url_intrad = pd.read_csv('data/porn/url_intradistance.csv', encoding='utf-8-sig')\n",
    "porn_context_score = pd.read_csv('data/porn/context_score.csv', encoding='utf-8-sig')\n",
    "porn_tweet_descr = pd.read_csv('data/porn/descriptive_features.csv', encoding='utf-8-sig')"
   ]
  },
  {
   "cell_type": "code",
   "execution_count": 194,
   "metadata": {},
   "outputs": [],
   "source": [
    "#Propaganda\n",
    "prop_tweet_intrad = pd.read_csv('data/propaganda/tweet_intradistance.csv', encoding='utf-8-sig')\n",
    "prop_url_intrad = pd.read_csv('data/propaganda/url_intradistance.csv', encoding='utf-8-sig')\n",
    "prop_context_score = pd.read_csv('data/propaganda/context_score.csv', encoding='utf-8-sig')\n",
    "prop_tweet_descr = pd.read_csv('data/propaganda/descriptive_features.csv', encoding='utf-8-sig')"
   ]
  },
  {
   "cell_type": "code",
   "execution_count": 195,
   "metadata": {},
   "outputs": [],
   "source": [
    "#Spam\n",
    "spam_tweet_intrad = pd.read_csv('data/spam/tweet_intradistance.csv', encoding='utf-8-sig')\n",
    "spam_url_intrad = pd.read_csv('data/spam/url_intradistance.csv', encoding='utf-8-sig')\n",
    "spam_context_score = pd.read_csv('data/spam/context_score.csv', encoding='utf-8-sig')\n",
    "spam_tweet_descr = pd.read_csv('data/spam/descriptive_features.csv', encoding='utf-8-sig')"
   ]
  },
  {
   "cell_type": "code",
   "execution_count": 196,
   "metadata": {},
   "outputs": [],
   "source": [
    "#Fake followers\n",
    "fake_tweet_intrad = pd.read_csv('data/fake_followers/tweet_intradistance.csv', encoding='utf-8-sig')\n",
    "fake_url_intrad = pd.read_csv('data/fake_followers/url_intradistance.csv', encoding='utf-8-sig')\n",
    "fake_context_score = pd.read_csv('data/fake_followers/context_score.csv', encoding='utf-8-sig')\n",
    "fake_tweet_descr = pd.read_csv('data/fake_followers/descriptive_features.csv', encoding='utf-8-sig')"
   ]
  },
  {
   "cell_type": "code",
   "execution_count": 197,
   "metadata": {},
   "outputs": [],
   "source": [
    "#Genuine\n",
    "gen_tweet_intrad = pd.read_csv('data/genuine/tweet_intradistance.csv', encoding='utf-8-sig')\n",
    "gen_url_intrad = pd.read_csv('data/genuine/url_intradistance.csv', encoding='utf-8-sig')\n",
    "gen_context_score = pd.read_csv('data/genuine/context_score.csv', encoding='utf-8-sig')\n",
    "gen_tweet_descr = pd.read_csv('data/genuine/descriptive_features.csv', encoding='utf-8-sig')"
   ]
  },
  {
   "cell_type": "markdown",
   "metadata": {},
   "source": [
    "## Drop Duplicates"
   ]
  },
  {
   "cell_type": "code",
   "execution_count": 198,
   "metadata": {},
   "outputs": [
    {
     "name": "stdout",
     "output_type": "stream",
     "text": [
      "6934\n",
      "6934\n",
      "6934\n",
      "6934\n",
      "6935\n"
     ]
    }
   ],
   "source": [
    "#Porn\n",
    "porn_tweet_intrad = porn_tweet_intrad.drop_duplicates()\n",
    "print(len(porn_tweet_intrad))\n",
    "porn_url_intrad = porn_url_intrad.drop_duplicates()\n",
    "print(len(porn_url_intrad))\n",
    "porn_context_score = porn_context_score.drop_duplicates()\n",
    "print(len(porn_context_score))\n",
    "porn_tweet_descr = porn_tweet_descr.drop_duplicates()\n",
    "print(len(porn_tweet_descr))\n",
    "porn_users = porn_users.drop_duplicates()\n",
    "print(len(porn_users))"
   ]
  },
  {
   "cell_type": "code",
   "execution_count": 199,
   "metadata": {},
   "outputs": [
    {
     "name": "stdout",
     "output_type": "stream",
     "text": [
      "6934\n"
     ]
    }
   ],
   "source": [
    "#Cut useless users\n",
    "ids = porn_users.id.drop_duplicates()\n",
    "porn_users = porn_users.iloc[ids.index]\n",
    "print(len(porn_users))"
   ]
  },
  {
   "cell_type": "code",
   "execution_count": 200,
   "metadata": {},
   "outputs": [
    {
     "name": "stdout",
     "output_type": "stream",
     "text": [
      "3372\n",
      "3372\n",
      "3372\n",
      "3372\n",
      "3372\n"
     ]
    }
   ],
   "source": [
    "#Propaganda\n",
    "prop_tweet_intrad = prop_tweet_intrad.drop_duplicates()\n",
    "print(len(prop_tweet_intrad))\n",
    "prop_url_intrad = prop_url_intrad.drop_duplicates()\n",
    "print(len(prop_url_intrad))\n",
    "prop_context_score = prop_context_score.drop_duplicates()\n",
    "print(len(prop_context_score))\n",
    "prop_tweet_descr = prop_tweet_descr.drop_duplicates()\n",
    "print(len(prop_tweet_descr))\n",
    "prop_users = prop_users.drop_duplicates()\n",
    "print(len(prop_users))"
   ]
  },
  {
   "cell_type": "code",
   "execution_count": 201,
   "metadata": {},
   "outputs": [
    {
     "name": "stdout",
     "output_type": "stream",
     "text": [
      "5361\n",
      "5361\n",
      "5361\n",
      "5361\n",
      "5361\n"
     ]
    }
   ],
   "source": [
    "#Spam\n",
    "spam_tweet_intrad = spam_tweet_intrad.drop_duplicates()\n",
    "print(len(spam_tweet_intrad))\n",
    "spam_url_intrad = spam_url_intrad.drop_duplicates()\n",
    "print(len(spam_url_intrad))\n",
    "spam_context_score = spam_context_score.drop_duplicates()\n",
    "print(len(spam_context_score))\n",
    "spam_tweet_descr = spam_tweet_descr.drop_duplicates()\n",
    "print(len(spam_tweet_descr))\n",
    "spam_users = spam_users.drop_duplicates()\n",
    "print(len(spam_users))"
   ]
  },
  {
   "cell_type": "code",
   "execution_count": 202,
   "metadata": {},
   "outputs": [
    {
     "name": "stdout",
     "output_type": "stream",
     "text": [
      "6312\n",
      "6312\n",
      "6312\n",
      "6312\n",
      "6316\n"
     ]
    }
   ],
   "source": [
    "#Fake followers\n",
    "fake_tweet_intrad = fake_tweet_intrad.drop_duplicates()\n",
    "print(len(fake_tweet_intrad))\n",
    "fake_url_intrad = fake_url_intrad.drop_duplicates()\n",
    "print(len(fake_url_intrad))\n",
    "fake_context_score = fake_context_score.drop_duplicates()\n",
    "print(len(fake_context_score))\n",
    "fake_tweet_descr = fake_tweet_descr.drop_duplicates()\n",
    "print(len(fake_tweet_descr))\n",
    "fake_users = fake_users.drop_duplicates()\n",
    "print(len(fake_users))"
   ]
  },
  {
   "cell_type": "code",
   "execution_count": 213,
   "metadata": {},
   "outputs": [
    {
     "name": "stdout",
     "output_type": "stream",
     "text": [
      "6312\n"
     ]
    }
   ],
   "source": [
    "#Cut useless users\n",
    "ids = fake_users.id.drop_duplicates()\n",
    "fake_users = fake_users.loc[ids.index]\n",
    "print(len(fake_users))"
   ]
  },
  {
   "cell_type": "code",
   "execution_count": 214,
   "metadata": {},
   "outputs": [
    {
     "name": "stdout",
     "output_type": "stream",
     "text": [
      "3661\n",
      "3661\n",
      "3661\n",
      "3661\n",
      "3661\n"
     ]
    }
   ],
   "source": [
    "#Genuine\n",
    "gen_tweet_intrad = gen_tweet_intrad.drop_duplicates()\n",
    "print(len(gen_tweet_intrad))\n",
    "gen_url_intrad = gen_url_intrad.drop_duplicates()\n",
    "print(len(gen_url_intrad))\n",
    "gen_context_score = gen_context_score.drop_duplicates()\n",
    "print(len(gen_context_score))\n",
    "gen_tweet_descr = gen_tweet_descr.drop_duplicates()\n",
    "print(len(gen_tweet_descr))\n",
    "gen_users = genuine_users.drop_duplicates()\n",
    "print(len(gen_users))"
   ]
  },
  {
   "cell_type": "markdown",
   "metadata": {},
   "source": [
    "## Merge dataframes"
   ]
  },
  {
   "cell_type": "code",
   "execution_count": 215,
   "metadata": {},
   "outputs": [],
   "source": [
    "#Porn\n",
    "porn_1 = pd.merge(porn_tweet_intrad, porn_url_intrad, on='user_id')\n",
    "porn_2 = pd.merge(porn_context_score, porn_tweet_descr, on='user_id')\n",
    "porn_df = pd.merge(porn_1, porn_2, on='user_id')\n",
    "\n",
    "porn_users.rename(columns={'id': 'user_id'}, inplace=True)\n",
    "porn_df = pd.merge(porn_users, porn_df, on='user_id')"
   ]
  },
  {
   "cell_type": "code",
   "execution_count": 178,
   "metadata": {},
   "outputs": [],
   "source": [
    "#Propaganda\n",
    "prop_1 = pd.merge(prop_tweet_intrad, prop_url_intrad, on='user_id')\n",
    "prop_2 = pd.merge(prop_context_score, prop_tweet_descr, on='user_id')\n",
    "prop_df = pd.merge(prop_1, prop_2, on='user_id')\n",
    "\n",
    "prop_users.rename(columns={'id': 'user_id'}, inplace=True)\n",
    "prop_df = pd.merge(prop_users, prop_df, on='user_id')"
   ]
  },
  {
   "cell_type": "code",
   "execution_count": 179,
   "metadata": {},
   "outputs": [],
   "source": [
    "#Spam\n",
    "spam_1 = pd.merge(spam_tweet_intrad, spam_url_intrad, on='user_id')\n",
    "spam_2 = pd.merge(spam_context_score, spam_tweet_descr, on='user_id')\n",
    "spam_df = pd.merge(spam_1, spam_2, on='user_id')\n",
    "\n",
    "spam_users.rename(columns={'id': 'user_id'}, inplace=True)\n",
    "spam_df = pd.merge(spam_users, spam_df, on='user_id')"
   ]
  },
  {
   "cell_type": "code",
   "execution_count": 183,
   "metadata": {},
   "outputs": [
    {
     "name": "stdout",
     "output_type": "stream",
     "text": [
      "14559\n",
      "14559\n",
      "48267\n"
     ]
    }
   ],
   "source": [
    "#Fake followers\n",
    "fake_1 = pd.merge(fake_tweet_intrad, fake_url_intrad, on='user_id')\n",
    "print(len(fake_1))\n",
    "fake_2 = pd.merge(fake_context_score, fake_tweet_descr, on='user_id')\n",
    "print(len(fake_1))\n",
    "fake_df = pd.merge(fake_1, fake_2, on='user_id')\n",
    "print(len(fake_df))\n",
    "\n",
    "fake_users.rename(columns={'id': 'user_id'}, inplace=True)\n",
    "fake_df = pd.merge(fake_users, fake_df, on='user_id')"
   ]
  },
  {
   "cell_type": "code",
   "execution_count": 190,
   "metadata": {},
   "outputs": [
    {
     "name": "stdout",
     "output_type": "stream",
     "text": [
      "9053\n"
     ]
    }
   ],
   "source": [
    "print(len(fake_tweet_intrad.user_id))"
   ]
  },
  {
   "cell_type": "code",
   "execution_count": 186,
   "metadata": {},
   "outputs": [
    {
     "data": {
      "text/plain": [
       "0"
      ]
     },
     "execution_count": 186,
     "metadata": {},
     "output_type": "execute_result"
    }
   ],
   "source": [
    "np.in1d(fake_tweet_intrad.user_id, fake_url_intrad.user_id, invert=True).sum()"
   ]
  },
  {
   "cell_type": "code",
   "execution_count": 181,
   "metadata": {},
   "outputs": [],
   "source": [
    "#Genuine\n",
    "gen_1 = pd.merge(gen_tweet_intrad, gen_url_intrad, on='user_id')\n",
    "gen_2 = pd.merge(gen_context_score, gen_tweet_descr, on='user_id')\n",
    "gen_df = pd.merge(gen_1, gen_2, on='user_id')\n",
    "\n",
    "genuine_users.rename(columns={'id': 'user_id'}, inplace=True)\n",
    "gen_df = pd.merge(genuine_users, gen_df, on='user_id')"
   ]
  },
  {
   "cell_type": "code",
   "execution_count": 182,
   "metadata": {},
   "outputs": [],
   "source": [
    "porn_df.to_csv('data/porn/train.csv', index=False)\n",
    "prop_df.to_csv('data/propaganda/train.csv', index=False)\n",
    "spam_df.to_csv('data/spam/train.csv', index=False)\n",
    "fake_df.to_csv('data/fake_followers/train.csv', index=False)\n",
    "gen_df.to_csv('data/genuine/train.csv', index=False)"
   ]
  },
  {
   "cell_type": "code",
   "execution_count": null,
   "metadata": {},
   "outputs": [],
   "source": []
  }
 ],
 "metadata": {
  "kernelspec": {
   "display_name": "Python 3",
   "language": "python",
   "name": "python3"
  },
  "language_info": {
   "codemirror_mode": {
    "name": "ipython",
    "version": 3
   },
   "file_extension": ".py",
   "mimetype": "text/x-python",
   "name": "python",
   "nbconvert_exporter": "python",
   "pygments_lexer": "ipython3",
   "version": "3.6.6"
  }
 },
 "nbformat": 4,
 "nbformat_minor": 2
}
