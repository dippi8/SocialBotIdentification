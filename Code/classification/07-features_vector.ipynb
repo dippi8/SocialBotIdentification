{
 "cells": [
  {
   "cell_type": "markdown",
   "metadata": {},
   "source": [
    "# Features Vector"
   ]
  },
  {
   "cell_type": "code",
   "execution_count": 43,
   "metadata": {},
   "outputs": [],
   "source": [
    "import pandas as pd\n",
    "import numpy as np\n",
    "from IPython.display import clear_output"
   ]
  },
  {
   "cell_type": "markdown",
   "metadata": {},
   "source": [
    "### Load users features"
   ]
  },
  {
   "cell_type": "code",
   "execution_count": 44,
   "metadata": {},
   "outputs": [],
   "source": [
    "porn_users = pd.read_csv('data/porn/users.csv', encoding='utf-8-sig')\n",
    "prop_users = pd.read_csv('data/propaganda/users.csv', encoding='utf-8-sig')\n",
    "spam_users = pd.read_csv('data/spam/users.csv', encoding='utf-8-sig')\n",
    "fake_users = pd.read_csv('data/fake_followers/users.csv', encoding='utf-8-sig')\n",
    "genuine_users = pd.read_csv('data/genuine/users.csv', encoding='utf-8-sig')"
   ]
  },
  {
   "cell_type": "markdown",
   "metadata": {},
   "source": [
    "### Load tweets features"
   ]
  },
  {
   "cell_type": "code",
   "execution_count": 54,
   "metadata": {},
   "outputs": [
    {
     "ename": "KeyError",
     "evalue": "'user_id'",
     "output_type": "error",
     "traceback": [
      "\u001b[0;31m---------------------------------------------------------------------------\u001b[0m",
      "\u001b[0;31mKeyError\u001b[0m                                  Traceback (most recent call last)",
      "\u001b[0;32m<ipython-input-54-9e9aea9aeff3>\u001b[0m in \u001b[0;36m<module>\u001b[0;34m()\u001b[0m\n\u001b[1;32m      9\u001b[0m \u001b[0;34m\u001b[0m\u001b[0m\n\u001b[1;32m     10\u001b[0m \u001b[0mporn_df\u001b[0m \u001b[0;34m=\u001b[0m \u001b[0mpd\u001b[0m\u001b[0;34m.\u001b[0m\u001b[0mmerge\u001b[0m\u001b[0;34m(\u001b[0m\u001b[0mporn_1\u001b[0m\u001b[0;34m,\u001b[0m \u001b[0mporn_2\u001b[0m\u001b[0;34m,\u001b[0m \u001b[0mon\u001b[0m\u001b[0;34m=\u001b[0m\u001b[0;34m'user_id'\u001b[0m\u001b[0;34m)\u001b[0m\u001b[0;34m\u001b[0m\u001b[0m\n\u001b[0;32m---> 11\u001b[0;31m \u001b[0mporn_df\u001b[0m \u001b[0;34m=\u001b[0m \u001b[0mpd\u001b[0m\u001b[0;34m.\u001b[0m\u001b[0mmerge\u001b[0m\u001b[0;34m(\u001b[0m\u001b[0mporn_users\u001b[0m\u001b[0;34m,\u001b[0m \u001b[0mporn_df\u001b[0m\u001b[0;34m,\u001b[0m \u001b[0mon\u001b[0m\u001b[0;34m=\u001b[0m\u001b[0;34m'user_id'\u001b[0m\u001b[0;34m)\u001b[0m\u001b[0;34m\u001b[0m\u001b[0m\n\u001b[0m",
      "\u001b[0;32m~/anaconda/lib/python3.6/site-packages/pandas/core/reshape/merge.py\u001b[0m in \u001b[0;36mmerge\u001b[0;34m(left, right, how, on, left_on, right_on, left_index, right_index, sort, suffixes, copy, indicator, validate)\u001b[0m\n\u001b[1;32m     59\u001b[0m                          \u001b[0mright_index\u001b[0m\u001b[0;34m=\u001b[0m\u001b[0mright_index\u001b[0m\u001b[0;34m,\u001b[0m \u001b[0msort\u001b[0m\u001b[0;34m=\u001b[0m\u001b[0msort\u001b[0m\u001b[0;34m,\u001b[0m \u001b[0msuffixes\u001b[0m\u001b[0;34m=\u001b[0m\u001b[0msuffixes\u001b[0m\u001b[0;34m,\u001b[0m\u001b[0;34m\u001b[0m\u001b[0m\n\u001b[1;32m     60\u001b[0m                          \u001b[0mcopy\u001b[0m\u001b[0;34m=\u001b[0m\u001b[0mcopy\u001b[0m\u001b[0;34m,\u001b[0m \u001b[0mindicator\u001b[0m\u001b[0;34m=\u001b[0m\u001b[0mindicator\u001b[0m\u001b[0;34m,\u001b[0m\u001b[0;34m\u001b[0m\u001b[0m\n\u001b[0;32m---> 61\u001b[0;31m                          validate=validate)\n\u001b[0m\u001b[1;32m     62\u001b[0m     \u001b[0;32mreturn\u001b[0m \u001b[0mop\u001b[0m\u001b[0;34m.\u001b[0m\u001b[0mget_result\u001b[0m\u001b[0;34m(\u001b[0m\u001b[0;34m)\u001b[0m\u001b[0;34m\u001b[0m\u001b[0m\n\u001b[1;32m     63\u001b[0m \u001b[0;34m\u001b[0m\u001b[0m\n",
      "\u001b[0;32m~/anaconda/lib/python3.6/site-packages/pandas/core/reshape/merge.py\u001b[0m in \u001b[0;36m__init__\u001b[0;34m(self, left, right, how, on, left_on, right_on, axis, left_index, right_index, sort, suffixes, copy, indicator, validate)\u001b[0m\n\u001b[1;32m    549\u001b[0m         (self.left_join_keys,\n\u001b[1;32m    550\u001b[0m          \u001b[0mself\u001b[0m\u001b[0;34m.\u001b[0m\u001b[0mright_join_keys\u001b[0m\u001b[0;34m,\u001b[0m\u001b[0;34m\u001b[0m\u001b[0m\n\u001b[0;32m--> 551\u001b[0;31m          self.join_names) = self._get_merge_keys()\n\u001b[0m\u001b[1;32m    552\u001b[0m \u001b[0;34m\u001b[0m\u001b[0m\n\u001b[1;32m    553\u001b[0m         \u001b[0;31m# validate the merge keys dtypes. We may need to coerce\u001b[0m\u001b[0;34m\u001b[0m\u001b[0;34m\u001b[0m\u001b[0m\n",
      "\u001b[0;32m~/anaconda/lib/python3.6/site-packages/pandas/core/reshape/merge.py\u001b[0m in \u001b[0;36m_get_merge_keys\u001b[0;34m(self)\u001b[0m\n\u001b[1;32m    869\u001b[0m                     \u001b[0;32mif\u001b[0m \u001b[0mlk\u001b[0m \u001b[0;32mis\u001b[0m \u001b[0;32mnot\u001b[0m \u001b[0;32mNone\u001b[0m\u001b[0;34m:\u001b[0m\u001b[0;34m\u001b[0m\u001b[0m\n\u001b[1;32m    870\u001b[0m                         left_keys.append(left._get_label_or_level_values(\n\u001b[0;32m--> 871\u001b[0;31m                             lk, stacklevel=stacklevel))\n\u001b[0m\u001b[1;32m    872\u001b[0m                         \u001b[0mjoin_names\u001b[0m\u001b[0;34m.\u001b[0m\u001b[0mappend\u001b[0m\u001b[0;34m(\u001b[0m\u001b[0mlk\u001b[0m\u001b[0;34m)\u001b[0m\u001b[0;34m\u001b[0m\u001b[0m\n\u001b[1;32m    873\u001b[0m                     \u001b[0;32melse\u001b[0m\u001b[0;34m:\u001b[0m\u001b[0;34m\u001b[0m\u001b[0m\n",
      "\u001b[0;32m~/anaconda/lib/python3.6/site-packages/pandas/core/generic.py\u001b[0m in \u001b[0;36m_get_label_or_level_values\u001b[0;34m(self, key, axis, stacklevel)\u001b[0m\n\u001b[1;32m   1380\u001b[0m             \u001b[0mvalues\u001b[0m \u001b[0;34m=\u001b[0m \u001b[0mself\u001b[0m\u001b[0;34m.\u001b[0m\u001b[0maxes\u001b[0m\u001b[0;34m[\u001b[0m\u001b[0maxis\u001b[0m\u001b[0;34m]\u001b[0m\u001b[0;34m.\u001b[0m\u001b[0mget_level_values\u001b[0m\u001b[0;34m(\u001b[0m\u001b[0mkey\u001b[0m\u001b[0;34m)\u001b[0m\u001b[0;34m.\u001b[0m\u001b[0m_values\u001b[0m\u001b[0;34m\u001b[0m\u001b[0m\n\u001b[1;32m   1381\u001b[0m         \u001b[0;32melse\u001b[0m\u001b[0;34m:\u001b[0m\u001b[0;34m\u001b[0m\u001b[0m\n\u001b[0;32m-> 1382\u001b[0;31m             \u001b[0;32mraise\u001b[0m \u001b[0mKeyError\u001b[0m\u001b[0;34m(\u001b[0m\u001b[0mkey\u001b[0m\u001b[0;34m)\u001b[0m\u001b[0;34m\u001b[0m\u001b[0m\n\u001b[0m\u001b[1;32m   1383\u001b[0m \u001b[0;34m\u001b[0m\u001b[0m\n\u001b[1;32m   1384\u001b[0m         \u001b[0;31m# Check for duplicates\u001b[0m\u001b[0;34m\u001b[0m\u001b[0;34m\u001b[0m\u001b[0m\n",
      "\u001b[0;31mKeyError\u001b[0m: 'user_id'"
     ]
    }
   ],
   "source": [
    "#Porn\n",
    "porn_tweet_intrad = pd.read_csv('data/porn/tweet_intradistance.csv', encoding='utf-8-sig')\n",
    "porn_url_intrad = pd.read_csv('data/porn/url_intradistance.csv', encoding='utf-8-sig')\n",
    "porn_context_score = pd.read_csv('data/porn/context_score.csv', encoding='utf-8-sig')\n",
    "porn_tweet_descr = pd.read_csv('data/porn/descriptive_features.csv', encoding='utf-8-sig')"
   ]
  },
  {
   "cell_type": "code",
   "execution_count": 46,
   "metadata": {},
   "outputs": [],
   "source": [
    "#Propaganda\n",
    "prop_tweet_intrad = pd.read_csv('data/propaganda/tweet_intradistance.csv', encoding='utf-8-sig')\n",
    "prop_url_intrad = pd.read_csv('data/propaganda/url_intradistance.csv', encoding='utf-8-sig')\n",
    "prop_context_score = pd.read_csv('data/propaganda/context_score.csv', encoding='utf-8-sig')\n",
    "prop_tweet_descr = pd.read_csv('data/propaganda/descriptive_features.csv', encoding='utf-8-sig')"
   ]
  },
  {
   "cell_type": "code",
   "execution_count": 47,
   "metadata": {},
   "outputs": [],
   "source": [
    "#Spam\n",
    "spam_tweet_intrad = pd.read_csv('data/spam/tweet_intradistance.csv', encoding='utf-8-sig')\n",
    "spam_url_intrad = pd.read_csv('data/spam/url_intradistance.csv', encoding='utf-8-sig')\n",
    "spam_context_score = pd.read_csv('data/spam/context_score.csv', encoding='utf-8-sig')\n",
    "spam_tweet_descr = pd.read_csv('data/spam/descriptive_features.csv', encoding='utf-8-sig')"
   ]
  },
  {
   "cell_type": "code",
   "execution_count": 48,
   "metadata": {},
   "outputs": [],
   "source": [
    "#Fake followers\n",
    "fake_tweet_intrad = pd.read_csv('data/fake_followers/tweet_intradistance.csv', encoding='utf-8-sig')\n",
    "fake_url_intrad = pd.read_csv('data/fake_followers/url_intradistance.csv', encoding='utf-8-sig')\n",
    "fake_context_score = pd.read_csv('data/fake_followers/context_score.csv', encoding='utf-8-sig')\n",
    "fake_tweet_descr = pd.read_csv('data/fake_followers/descriptive_features.csv', encoding='utf-8-sig')"
   ]
  },
  {
   "cell_type": "code",
   "execution_count": 49,
   "metadata": {},
   "outputs": [],
   "source": [
    "#Genuine\n",
    "gen_tweet_intrad = pd.read_csv('data/genuine/tweet_intradistance.csv', encoding='utf-8-sig')\n",
    "gen_url_intrad = pd.read_csv('data/genuine/url_intradistance.csv', encoding='utf-8-sig')\n",
    "gen_context_score = pd.read_csv('data/genuine/context_score.csv', encoding='utf-8-sig')\n",
    "gen_tweet_descr = pd.read_csv('data/genuine/descriptive_features.csv', encoding='utf-8-sig')"
   ]
  },
  {
   "cell_type": "markdown",
   "metadata": {},
   "source": [
    "## Merge dataframes"
   ]
  },
  {
   "cell_type": "code",
   "execution_count": 56,
   "metadata": {},
   "outputs": [],
   "source": [
    "#Porn\n",
    "porn_1 = pd.merge(porn_tweet_intrad, porn_url_intrad, on='user_id')\n",
    "porn_2 = pd.merge(porn_context_score, porn_tweet_descr, on='user_id')\n",
    "porn_df = pd.merge(porn_1, porn_2, on='user_id')\n",
    "\n",
    "porn_users.rename(columns={'id': 'user_id'}, inplace=True)\n",
    "porn_df = pd.merge(porn_users, porn_df, on='user_id')"
   ]
  },
  {
   "cell_type": "code",
   "execution_count": 60,
   "metadata": {},
   "outputs": [],
   "source": [
    "#Propaganda\n",
    "prop_1 = pd.merge(prop_tweet_intrad, prop_url_intrad, on='user_id')\n",
    "prop_2 = pd.merge(prop_context_score, prop_tweet_descr, on='user_id')\n",
    "prop_df = pd.merge(prop_1, prop_2, on='user_id')\n",
    "\n",
    "prop_users.rename(columns={'id': 'user_id'}, inplace=True)\n",
    "prop_df = pd.merge(prop_users, prop_df, on='user_id')"
   ]
  },
  {
   "cell_type": "code",
   "execution_count": 61,
   "metadata": {},
   "outputs": [],
   "source": [
    "#Spam\n",
    "spam_1 = pd.merge(spam_tweet_intrad, spam_url_intrad, on='user_id')\n",
    "spam_2 = pd.merge(spam_context_score, spam_tweet_descr, on='user_id')\n",
    "spam_df = pd.merge(spam_1, spam_2, on='user_id')\n",
    "\n",
    "spam_users.rename(columns={'id': 'user_id'}, inplace=True)\n",
    "spam_df = pd.merge(spam_users, spam_df, on='user_id')"
   ]
  },
  {
   "cell_type": "code",
   "execution_count": 62,
   "metadata": {},
   "outputs": [],
   "source": [
    "#Fake followers\n",
    "fake_1 = pd.merge(fake_tweet_intrad, fake_url_intrad, on='user_id')\n",
    "fake_2 = pd.merge(fake_context_score, fake_tweet_descr, on='user_id')\n",
    "fake_df = pd.merge(fake_1, fake_2, on='user_id')\n",
    "\n",
    "fake_users.rename(columns={'id': 'user_id'}, inplace=True)\n",
    "fake_df = pd.merge(fake_users, fake_df, on='user_id')"
   ]
  },
  {
   "cell_type": "code",
   "execution_count": 63,
   "metadata": {},
   "outputs": [],
   "source": [
    "#Genuine\n",
    "gen_1 = pd.merge(gen_tweet_intrad, gen_url_intrad, on='user_id')\n",
    "gen_2 = pd.merge(gen_context_score, gen_tweet_descr, on='user_id')\n",
    "gen_df = pd.merge(gen_1, gen_2, on='user_id')\n",
    "\n",
    "genuine_users.rename(columns={'id': 'user_id'}, inplace=True)\n",
    "gen_df = pd.merge(genuine_users, gen_df, on='user_id')"
   ]
  },
  {
   "cell_type": "code",
   "execution_count": 64,
   "metadata": {},
   "outputs": [],
   "source": [
    "porn_df.to_csv('data/porn/train.csv', index=False)\n",
    "prop_df.to_csv('data/propaganda/train.csv', index=False)\n",
    "spam_df.to_csv('data/spam/train.csv', index=False)\n",
    "fake_df.to_csv('data/fake_followers/train.csv', index=False)\n",
    "gen_df.to_csv('data/genuine/train.csv', index=False)"
   ]
  },
  {
   "cell_type": "code",
   "execution_count": null,
   "metadata": {},
   "outputs": [],
   "source": []
  }
 ],
 "metadata": {
  "kernelspec": {
   "display_name": "Python 3",
   "language": "python",
   "name": "python3"
  },
  "language_info": {
   "codemirror_mode": {
    "name": "ipython",
    "version": 3
   },
   "file_extension": ".py",
   "mimetype": "text/x-python",
   "name": "python",
   "nbconvert_exporter": "python",
   "pygments_lexer": "ipython3",
   "version": "3.6.6"
  }
 },
 "nbformat": 4,
 "nbformat_minor": 2
}
