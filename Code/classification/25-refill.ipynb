{
 "cells": [
  {
   "cell_type": "code",
   "execution_count": 1,
   "metadata": {},
   "outputs": [],
   "source": [
    "import pandas as pd"
   ]
  },
  {
   "cell_type": "code",
   "execution_count": 2,
   "metadata": {},
   "outputs": [],
   "source": [
    "full = pd.read_csv('../nuovi notebooks/data/bon/full_preproc_train.csv')"
   ]
  },
  {
   "cell_type": "code",
   "execution_count": 3,
   "metadata": {},
   "outputs": [
    {
     "data": {
      "text/plain": [
       "36"
      ]
     },
     "execution_count": 3,
     "metadata": {},
     "output_type": "execute_result"
    }
   ],
   "source": [
    "len(full.columns)"
   ]
  },
  {
   "cell_type": "code",
   "execution_count": 4,
   "metadata": {},
   "outputs": [
    {
     "data": {
      "text/plain": [
       "Index(['bot_words_score', 'gen_words_score', 'avg_len', 'max_len', 'min_len',\n",
       "       'avg_ret', 'max_ret', 'min_ret', 'avg_fav', 'max_fav', 'min_fav',\n",
       "       'avg_hash', 'max_hash', 'min_hash', 'freq', 'ret_perc', 'media_perc',\n",
       "       'url_perc', 'quote_perc', 'tweet_intradistance', 'url_entropy',\n",
       "       'statuses_count', 'followers_count', 'friends_count',\n",
       "       'favourites_count', 'listed_count', 'url', 'default_profile',\n",
       "       'profile_use_background_image', 'verified', 'nsfw_profile', 'target',\n",
       "       'description_len', 'name_len', 'screen_name_len', 'age'],\n",
       "      dtype='object')"
      ]
     },
     "execution_count": 4,
     "metadata": {},
     "output_type": "execute_result"
    }
   ],
   "source": [
    "full.columns"
   ]
  },
  {
   "cell_type": "code",
   "execution_count": 5,
   "metadata": {},
   "outputs": [],
   "source": [
    "train = pd.read_csv('data/full/train_1000.csv')"
   ]
  },
  {
   "cell_type": "code",
   "execution_count": 6,
   "metadata": {},
   "outputs": [
    {
     "data": {
      "text/plain": [
       "Index(['Unnamed: 0', 'avg_fav', 'avg_hash', 'avg_len', 'avg_ret',\n",
       "       'default_profile', 'favourites_count', 'followers_count', 'freq',\n",
       "       'friends_count', 'listed_count', 'max_fav', 'max_hash', 'max_len',\n",
       "       'max_ret', 'media_perc', 'min_fav', 'min_hash', 'min_len', 'min_ret',\n",
       "       'nsfw_avg', 'nsfw_profile', 'profile_use_background_image',\n",
       "       'quote_perc', 'ret_perc', 'statuses_count', 'target',\n",
       "       'tweet_intradistance', 'url', 'url_perc', 'user_id', 'description_len',\n",
       "       'name_len', 'screen_name_len', 'age', 'porn_words_score',\n",
       "       'prop_words_score', 'spam_words_score', 'fake_words_score',\n",
       "       'url_entropy'],\n",
       "      dtype='object')"
      ]
     },
     "execution_count": 6,
     "metadata": {},
     "output_type": "execute_result"
    }
   ],
   "source": [
    "train.columns"
   ]
  },
  {
   "cell_type": "code",
   "execution_count": 7,
   "metadata": {},
   "outputs": [],
   "source": [
    "train = train.drop(columns=['Unnamed: 0', 'nsfw_avg', 'porn_words_score', 'prop_words_score', 'spam_words_score', 'fake_words_score'])"
   ]
  },
  {
   "cell_type": "code",
   "execution_count": 8,
   "metadata": {},
   "outputs": [],
   "source": [
    "import numpy as np"
   ]
  },
  {
   "cell_type": "code",
   "execution_count": 9,
   "metadata": {},
   "outputs": [],
   "source": [
    "mask = np.invert(np.in1d(full.columns, train.columns))"
   ]
  },
  {
   "cell_type": "code",
   "execution_count": 10,
   "metadata": {},
   "outputs": [
    {
     "data": {
      "text/plain": [
       "Index(['bot_words_score', 'gen_words_score', 'verified'], dtype='object')"
      ]
     },
     "execution_count": 10,
     "metadata": {},
     "output_type": "execute_result"
    }
   ],
   "source": [
    "full.columns[mask]"
   ]
  },
  {
   "cell_type": "code",
   "execution_count": 11,
   "metadata": {},
   "outputs": [
    {
     "data": {
      "text/plain": [
       "1    31347\n",
       "Name: verified, dtype: int64"
      ]
     },
     "execution_count": 11,
     "metadata": {},
     "output_type": "execute_result"
    }
   ],
   "source": [
    "full.verified.value_counts()"
   ]
  },
  {
   "cell_type": "code",
   "execution_count": 12,
   "metadata": {},
   "outputs": [],
   "source": [
    "bots = pd.read_csv('data/bon/bots/users.csv', engine='python', encoding='utf-8-sig')"
   ]
  },
  {
   "cell_type": "code",
   "execution_count": 13,
   "metadata": {},
   "outputs": [],
   "source": [
    "humans = pd.read_csv('data/bon/humans/users.csv', engine='python', encoding='utf-8-sig')"
   ]
  },
  {
   "cell_type": "code",
   "execution_count": 14,
   "metadata": {},
   "outputs": [],
   "source": [
    "def find_verfied(user):\n",
    "    if user.target == 1:\n",
    "        selection = bots[bots.friends_count==user.friends_count][bots.followers_count == user.followers_count][bots.statuses_count == user.statuses_count][bots.listed_count == user.listed_count]\n",
    "        if len(selection) == 1:\n",
    "            return selection.verified\n",
    "        else:\n",
    "            return 0\n",
    "    else:\n",
    "        selection = humans[humans.friends_count==user.friends_count][humans.followers_count == user.followers_count][humans.statuses_count == user.statuses_count][humans.listed_count == user.listed_count]\n",
    "        if len(selection) == 1:\n",
    "            return selection.verified\n",
    "        else:\n",
    "            return 0"
   ]
  },
  {
   "cell_type": "code",
   "execution_count": 15,
   "metadata": {},
   "outputs": [
    {
     "data": {
      "text/plain": [
       "15692"
      ]
     },
     "execution_count": 15,
     "metadata": {},
     "output_type": "execute_result"
    }
   ],
   "source": [
    "len(full[full.target==0])"
   ]
  },
  {
   "cell_type": "code",
   "execution_count": 16,
   "metadata": {},
   "outputs": [
    {
     "name": "stderr",
     "output_type": "stream",
     "text": [
      "/home/matteo/anaconda3/lib/python3.6/site-packages/ipykernel_launcher.py:15: UserWarning: Boolean Series key will be reindexed to match DataFrame index.\n",
      "  from ipykernel import kernelapp as app\n",
      "/home/matteo/anaconda3/lib/python3.6/site-packages/ipykernel_launcher.py:6: UserWarning: Boolean Series key will be reindexed to match DataFrame index.\n",
      "  \n"
     ]
    }
   ],
   "source": [
    "verified = []\n",
    "\n",
    "for user in full.itertuples():\n",
    "\n",
    "    if user.target == 1:\n",
    "        selection = bots[bots.friends_count==user.friends_count][bots.followers_count == user.followers_count]\n",
    "        if len(selection) == 1:\n",
    "            if selection.iloc[0].verified == 'True':\n",
    "                verified.append(1)\n",
    "            else:\n",
    "                verified.append(0)\n",
    "        else:\n",
    "            verified.append(0)\n",
    "    else:\n",
    "        selection = humans[humans.friends_count==user.friends_count][humans.followers_count == user.followers_count]\n",
    "        if len(selection) == 1:\n",
    "            if selection.iloc[0].verified == 'True':\n",
    "                verified.append(1)\n",
    "            else:\n",
    "                verified.append(0)\n",
    "        else:\n",
    "            verified.append(0)"
   ]
  },
  {
   "cell_type": "code",
   "execution_count": 17,
   "metadata": {},
   "outputs": [],
   "source": [
    "full['verified'] = verified"
   ]
  },
  {
   "cell_type": "code",
   "execution_count": 18,
   "metadata": {},
   "outputs": [
    {
     "data": {
      "text/plain": [
       "0    30773\n",
       "1      574\n",
       "Name: verified, dtype: int64"
      ]
     },
     "execution_count": 18,
     "metadata": {},
     "output_type": "execute_result"
    }
   ],
   "source": [
    "full.verified.value_counts()"
   ]
  },
  {
   "cell_type": "code",
   "execution_count": 19,
   "metadata": {},
   "outputs": [
    {
     "data": {
      "text/plain": [
       "36"
      ]
     },
     "execution_count": 19,
     "metadata": {},
     "output_type": "execute_result"
    }
   ],
   "source": [
    "len(full.columns)"
   ]
  },
  {
   "cell_type": "code",
   "execution_count": 20,
   "metadata": {},
   "outputs": [
    {
     "data": {
      "text/plain": [
       "34"
      ]
     },
     "execution_count": 20,
     "metadata": {},
     "output_type": "execute_result"
    }
   ],
   "source": [
    "len(train.columns)"
   ]
  },
  {
   "cell_type": "code",
   "execution_count": 21,
   "metadata": {},
   "outputs": [],
   "source": [
    "train = train.drop('user_id', axis=1)"
   ]
  },
  {
   "cell_type": "code",
   "execution_count": 22,
   "metadata": {},
   "outputs": [
    {
     "data": {
      "text/plain": [
       "33"
      ]
     },
     "execution_count": 22,
     "metadata": {},
     "output_type": "execute_result"
    }
   ],
   "source": [
    "len(train.columns)"
   ]
  },
  {
   "cell_type": "code",
   "execution_count": 23,
   "metadata": {},
   "outputs": [],
   "source": [
    "train['verified'] = 0"
   ]
  },
  {
   "cell_type": "code",
   "execution_count": 24,
   "metadata": {},
   "outputs": [
    {
     "name": "stderr",
     "output_type": "stream",
     "text": [
      "/home/matteo/anaconda3/lib/python3.6/site-packages/IPython/core/interactiveshell.py:2785: DtypeWarning: Columns (1,8,18) have mixed types. Specify dtype option on import or set low_memory=False.\n",
      "  interactivity=interactivity, compiler=compiler, result=result)\n",
      "/home/matteo/anaconda3/lib/python3.6/site-packages/IPython/core/interactiveshell.py:2785: DtypeWarning: Columns (1,8) have mixed types. Specify dtype option on import or set low_memory=False.\n",
      "  interactivity=interactivity, compiler=compiler, result=result)\n",
      "/home/matteo/anaconda3/lib/python3.6/site-packages/IPython/core/interactiveshell.py:2785: DtypeWarning: Columns (1,4,8,11,18,19,20,23,26) have mixed types. Specify dtype option on import or set low_memory=False.\n",
      "  interactivity=interactivity, compiler=compiler, result=result)\n",
      "/home/matteo/anaconda3/lib/python3.6/site-packages/IPython/core/interactiveshell.py:2785: DtypeWarning: Columns (1,8,31,32,33) have mixed types. Specify dtype option on import or set low_memory=False.\n",
      "  interactivity=interactivity, compiler=compiler, result=result)\n",
      "/home/matteo/anaconda3/lib/python3.6/site-packages/ipykernel_launcher.py:8: FutureWarning: Sorting because non-concatenation axis is not aligned. A future version\n",
      "of pandas will change to not sort by default.\n",
      "\n",
      "To accept the future behavior, pass 'sort=True'.\n",
      "\n",
      "To retain the current behavior and silence the warning, pass sort=False\n",
      "\n",
      "  \n"
     ]
    }
   ],
   "source": [
    "from collections import Counter\n",
    "from sklearn.preprocessing import MinMaxScaler, normalize\n",
    "\n",
    "tweets = pd.concat([pd.read_csv('data/porn/tweets.csv', encoding='utf-8-sig', sep='\\t'),\n",
    "                    pd.read_csv('data/propaganda/tweets.csv', encoding='utf-8-sig', sep='\\t'),\n",
    "                    pd.read_csv('data/spam/tweets.csv', encoding='utf-8-sig', sep='\\t'),\n",
    "                    pd.read_csv('data/fake_followers/tweets.csv', encoding='utf-8-sig', sep='\\t'),\n",
    "                    pd.read_csv('data/genuine/tweets.csv', encoding='utf-8-sig', sep='\\t')\n",
    "                   ])"
   ]
  },
  {
   "cell_type": "code",
   "execution_count": 25,
   "metadata": {},
   "outputs": [],
   "source": [
    "bot_words = pd.read_csv('data/bon/bots/filtered_main_words.csv', sep=',')\n",
    "gen_words = pd.read_csv('data/bon/humans/filtered_main_words.csv', sep=',')"
   ]
  },
  {
   "cell_type": "code",
   "execution_count": 26,
   "metadata": {},
   "outputs": [],
   "source": [
    "refill = pd.concat([\n",
    "    train[train.target==0].sample(2000),\n",
    "    train[train.target==1].sample(2000),\n",
    "    train[train.target==2].sample(2000),\n",
    "    train[train.target==3].sample(2000)\n",
    "])"
   ]
  },
  {
   "cell_type": "code",
   "execution_count": 27,
   "metadata": {},
   "outputs": [],
   "source": [
    "genuine = pd.read_csv('data/full/rf_preproc_train.csv')"
   ]
  },
  {
   "cell_type": "code",
   "execution_count": 28,
   "metadata": {},
   "outputs": [],
   "source": [
    "genuine = genuine[genuine.target==4]"
   ]
  },
  {
   "cell_type": "code",
   "execution_count": 29,
   "metadata": {},
   "outputs": [],
   "source": [
    "genuine_entropy = pd.read_csv('data/bon/full/validation.csv')"
   ]
  },
  {
   "cell_type": "code",
   "execution_count": 30,
   "metadata": {},
   "outputs": [
    {
     "name": "stderr",
     "output_type": "stream",
     "text": [
      "/home/matteo/anaconda3/lib/python3.6/site-packages/ipykernel_launcher.py:5: UserWarning: Boolean Series key will be reindexed to match DataFrame index.\n",
      "  \"\"\"\n"
     ]
    }
   ],
   "source": [
    "entropies = []\n",
    "\n",
    "for user in genuine.itertuples():\n",
    "\n",
    "    selection = genuine_entropy[genuine_entropy.friends_count==user.friends_count][genuine_entropy.followers_count == user.followers_count]\n",
    "    if len(selection) == 1:\n",
    "        entropies.append(selection.iloc[0].url_entropy)\n",
    "    else:\n",
    "        entropies.append(0)"
   ]
  },
  {
   "cell_type": "code",
   "execution_count": 31,
   "metadata": {},
   "outputs": [],
   "source": [
    "genuine['url_entropy'] = entropies"
   ]
  },
  {
   "cell_type": "code",
   "execution_count": 32,
   "metadata": {},
   "outputs": [],
   "source": [
    "mask = np.in1d(genuine.columns, train.columns)"
   ]
  },
  {
   "cell_type": "code",
   "execution_count": 33,
   "metadata": {},
   "outputs": [],
   "source": [
    "genuine = genuine[genuine.columns[mask]]"
   ]
  },
  {
   "cell_type": "code",
   "execution_count": 34,
   "metadata": {},
   "outputs": [],
   "source": [
    "genuine['verified'] = 0"
   ]
  },
  {
   "cell_type": "code",
   "execution_count": 35,
   "metadata": {},
   "outputs": [
    {
     "data": {
      "text/plain": [
       "(8000, 3661)"
      ]
     },
     "execution_count": 35,
     "metadata": {},
     "output_type": "execute_result"
    }
   ],
   "source": [
    "len(refill), len(genuine)"
   ]
  },
  {
   "cell_type": "code",
   "execution_count": 36,
   "metadata": {},
   "outputs": [],
   "source": [
    "refill = pd.concat([refill, genuine])"
   ]
  },
  {
   "cell_type": "code",
   "execution_count": 37,
   "metadata": {},
   "outputs": [],
   "source": [
    "refill = refill.reset_index()"
   ]
  },
  {
   "cell_type": "code",
   "execution_count": 38,
   "metadata": {},
   "outputs": [],
   "source": [
    "def edit_target(x):\n",
    "    if x<=3:\n",
    "        return 1\n",
    "    else:\n",
    "        return 0\n",
    "    \n",
    "refill['target'] = refill['target'].apply(lambda x: edit_target(x))"
   ]
  },
  {
   "cell_type": "code",
   "execution_count": 39,
   "metadata": {},
   "outputs": [],
   "source": [
    "multiclass_users = pd.read_csv('data/full/rf_preproc_train.csv')"
   ]
  },
  {
   "cell_type": "code",
   "execution_count": 40,
   "metadata": {},
   "outputs": [
    {
     "name": "stderr",
     "output_type": "stream",
     "text": [
      "/home/matteo/anaconda3/lib/python3.6/site-packages/ipykernel_launcher.py:5: UserWarning: Boolean Series key will be reindexed to match DataFrame index.\n",
      "  \"\"\"\n"
     ]
    }
   ],
   "source": [
    "ids = []\n",
    "\n",
    "for user in refill.itertuples():\n",
    "\n",
    "    selection = multiclass_users[multiclass_users.friends_count==user.friends_count][multiclass_users.followers_count == user.followers_count][multiclass_users.statuses_count == user.statuses_count]\n",
    "    if len(selection) == 1:\n",
    "        ids.append(selection.iloc[0].user_id)\n",
    "    else:\n",
    "        ids.append(0)"
   ]
  },
  {
   "cell_type": "code",
   "execution_count": 41,
   "metadata": {},
   "outputs": [],
   "source": [
    "refill['user_id'] = ids"
   ]
  },
  {
   "cell_type": "code",
   "execution_count": 42,
   "metadata": {},
   "outputs": [],
   "source": [
    "refill=refill[refill.user_id != 0]"
   ]
  },
  {
   "cell_type": "code",
   "execution_count": 43,
   "metadata": {},
   "outputs": [],
   "source": [
    "def compute_bot_not_score(tweets):\n",
    "\n",
    "    user_score = pd.DataFrame(columns=['bot_words_score', 'gen_words_score'])\n",
    "\n",
    "    for tweet in tweets:\n",
    "        # check for words in main_words and compute the scores for each tweet and for each category\n",
    "        mask = np.in1d(bot_words.word, tweet.split())\n",
    "        bot_score = bot_words.loc[mask]['score'].values.sum()\n",
    "        mask = np.in1d(gen_words.word, tweet.split())\n",
    "        gen_score = gen_words.loc[mask]['score'].values.sum()\n",
    "        \n",
    "        user_score = user_score.append(pd.DataFrame({'bot_words_score': bot_score, 'gen_words_score': gen_score}, index=[0]), ignore_index=True)\n",
    "\n",
    "    return user_score"
   ]
  },
  {
   "cell_type": "code",
   "execution_count": 44,
   "metadata": {},
   "outputs": [],
   "source": [
    "def bot_not_score(tweets_df, id):\n",
    "    \n",
    "    tweets = tweets_df[tweets_df.user_id.astype(int) == int(id)]['full_text']\n",
    "    if len(tweets) > 0:\n",
    "        # sum all the scores of each category\n",
    "        user_score = compute_bot_not_score(tweets).sum()\n",
    "        scores = np.divide(user_score,len(tweets))\n",
    "    else:\n",
    "        scores = pd.DataFrame({'bot_words_score': 0, 'gen_words_score': 0}, index=[0])\n",
    "    \n",
    "    # return the average scores of each user\n",
    "    return scores"
   ]
  },
  {
   "cell_type": "code",
   "execution_count": 45,
   "metadata": {},
   "outputs": [],
   "source": [
    "from IPython.display import clear_output\n",
    "\n",
    "def context_bot_not_score(bot_ids, tweets_df):\n",
    "        \n",
    "    score_df = pd.DataFrame(columns=['bot_words_score', 'gen_words_score', 'user_id'])\n",
    "    i = 0\n",
    "    for user_id in bot_ids:\n",
    "        i += 1\n",
    "        scores = bot_not_score(tweets_df, user_id)\n",
    "        score_df = score_df.append(scores, ignore_index=True)\n",
    "        if (i%10 == 0):\n",
    "            clear_output()\n",
    "            print(str(i) +  \" bots processed\")\n",
    "    \n",
    "    score_df['user_id'] = bot_ids.values\n",
    "    \n",
    "    score_df.reset_index(drop=True, inplace=True)\n",
    "    #score_df.to_csv('data/' + bot_type + '/context_score.csv', index=False)\n",
    "    print(\"done!\")\n",
    "    return score_df"
   ]
  },
  {
   "cell_type": "code",
   "execution_count": 46,
   "metadata": {},
   "outputs": [
    {
     "name": "stdout",
     "output_type": "stream",
     "text": [
      "10890 bots processed\n",
      "done!\n"
     ]
    }
   ],
   "source": [
    "scores = context_bot_not_score(refill.user_id, tweets)"
   ]
  },
  {
   "cell_type": "code",
   "execution_count": 47,
   "metadata": {},
   "outputs": [],
   "source": [
    "refill = refill.merge(scores, on='user_id')"
   ]
  },
  {
   "cell_type": "code",
   "execution_count": 50,
   "metadata": {},
   "outputs": [],
   "source": [
    "refill.to_csv('data/bon/full/train_with_refill.csv', index=False)"
   ]
  },
  {
   "cell_type": "markdown",
   "metadata": {},
   "source": [
    "## merge per rimediare alla cazzata"
   ]
  },
  {
   "cell_type": "code",
   "execution_count": 34,
   "metadata": {},
   "outputs": [],
   "source": [
    "refill = pd.read_csv('data/bon/full/train_with_refill.csv')"
   ]
  },
  {
   "cell_type": "code",
   "execution_count": 47,
   "metadata": {},
   "outputs": [],
   "source": [
    "refill = refill.drop(columns=['user_id', 'index'])"
   ]
  },
  {
   "cell_type": "code",
   "execution_count": 48,
   "metadata": {},
   "outputs": [
    {
     "name": "stderr",
     "output_type": "stream",
     "text": [
      "/home/matteo/anaconda3/lib/python3.6/site-packages/ipykernel_launcher.py:1: FutureWarning: Sorting because non-concatenation axis is not aligned. A future version\n",
      "of pandas will change to not sort by default.\n",
      "\n",
      "To accept the future behavior, pass 'sort=True'.\n",
      "\n",
      "To retain the current behavior and silence the warning, pass sort=False\n",
      "\n",
      "  \"\"\"Entry point for launching an IPython kernel.\n"
     ]
    }
   ],
   "source": [
    "refill = pd.concat([full,refill])"
   ]
  },
  {
   "cell_type": "code",
   "execution_count": 49,
   "metadata": {},
   "outputs": [
    {
     "data": {
      "text/plain": [
       "42245"
      ]
     },
     "execution_count": 49,
     "metadata": {},
     "output_type": "execute_result"
    }
   ],
   "source": []
  },
  {
   "cell_type": "code",
   "execution_count": null,
   "metadata": {},
   "outputs": [],
   "source": []
  }
 ],
 "metadata": {
  "kernelspec": {
   "display_name": "Python 3",
   "language": "python",
   "name": "python3"
  },
  "language_info": {
   "codemirror_mode": {
    "name": "ipython",
    "version": 3
   },
   "file_extension": ".py",
   "mimetype": "text/x-python",
   "name": "python",
   "nbconvert_exporter": "python",
   "pygments_lexer": "ipython3",
   "version": "3.6.5"
  }
 },
 "nbformat": 4,
 "nbformat_minor": 2
}
