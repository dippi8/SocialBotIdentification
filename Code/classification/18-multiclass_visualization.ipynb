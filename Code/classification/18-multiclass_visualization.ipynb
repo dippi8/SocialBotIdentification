{
 "cells": [
  {
   "cell_type": "markdown",
   "metadata": {},
   "source": [
    "# Multiclass Random Forest"
   ]
  },
  {
   "cell_type": "code",
   "execution_count": 1,
   "metadata": {},
   "outputs": [],
   "source": [
    "import pandas as pd\n",
    "import numpy as np\n",
    "from sklearn.ensemble import RandomForestClassifier\n",
    "from sklearn.externals import joblib\n",
    "from sklearn.model_selection import StratifiedKFold\n",
    "from sklearn.model_selection import cross_val_score\n",
    "from sklearn.model_selection import cross_validate\n",
    "from sklearn.model_selection import GridSearchCV\n",
    "import pickle\n",
    "\n",
    "import matplotlib.pyplot as plt\n",
    "%matplotlib inline\n",
    "\n",
    "import seaborn as sns\n",
    "sns.set(style=\"white\", color_codes=True)\n",
    "sns.set_context(rc={\"font.family\":'sans',\"font.size\":24,\"axes.titlesize\":24,\"axes.labelsize\":24})   "
   ]
  },
  {
   "cell_type": "code",
   "execution_count": 116,
   "metadata": {},
   "outputs": [],
   "source": [
    "def evaluate(X, y, n_estimators = 70, criterion = 'gini'):\n",
    "    forest = RandomForestClassifier(n_estimators = n_estimators, criterion = criterion)\n",
    "    forest.fit(X,y)\n",
    "    scoring = ['f1_macro', 'precision_macro', 'recall_macro'] \n",
    "    scores = []\n",
    "    cv = cross_validate(forest, X, y, cv=10, scoring=scoring)\n",
    "    scores.append(cv['test_precision_macro'].mean())\n",
    "    scores.append(cv['test_recall_macro'].mean())\n",
    "    scores.append(cv['test_f1_macro'].mean())\n",
    "    return scores"
   ]
  },
  {
   "cell_type": "code",
   "execution_count": 118,
   "metadata": {},
   "outputs": [],
   "source": [
    "def grid_eval(X, y, params):\n",
    "    \n",
    "    grid = GridSearchCV(RandomForestClassifier(), params, cv=10, scoring='f1_macro')\n",
    "    grid.fit(X, y)\n",
    "    \n",
    "    return pd.DataFrame(grid.cv_results_)"
   ]
  },
  {
   "cell_type": "code",
   "execution_count": 90,
   "metadata": {},
   "outputs": [],
   "source": [
    "def grid_search(X, y, params):\n",
    "    \n",
    "    results = []\n",
    "    for x, f in zip(X,['user','descriptive','intrinsic','extrinsic','NSFW_detection','all']):\n",
    "        grid = GridSearchCV(RandomForestClassifier(), params, cv=10, scoring='f1_macro')\n",
    "        grid.fit(x, y)\n",
    "        d1 = {'features': f}\n",
    "        d2 = dict(list(grid.cv_results_.items()) + list(d1.items()))\n",
    "        results.append(d2)\n",
    "        print(f + ' done')\n",
    "\n",
    "    return results"
   ]
  },
  {
   "cell_type": "code",
   "execution_count": 105,
   "metadata": {},
   "outputs": [],
   "source": [
    "def plot_grid_search(cv_results, grid_param_1, grid_param_2, name_param_1, name_param_2):\n",
    "    # Get Test Scores Mean and std for each grid search\n",
    "    scores_mean = cv_results['mean_test_score']\n",
    "    scores_mean = np.array(scores_mean).reshape(len(grid_param_2),len(grid_param_1))\n",
    "\n",
    "    scores_sd = cv_results['std_test_score']\n",
    "    scores_sd = np.array(scores_sd).reshape(len(grid_param_2),len(grid_param_1))\n",
    "\n",
    "    # Plot Grid search scores\n",
    "    fig, ax = plt.subplots(1,1, figsize=(16,12))\n",
    "    \n",
    "\n",
    "    # Param1 is the X-axis, Param 2 is represented as a different curve (color line)\n",
    "    for idx, val in enumerate(grid_param_2):\n",
    "        ax.plot(sorted(grid_param_1), scores_mean[idx,:], '-o', label= name_param_2 + ': ' + str(val))\n",
    "\n",
    "    ax.set_title(\"Grid Search Scores\", fontsize=24)\n",
    "    ax.set_xlabel(name_param_1, fontsize=24)\n",
    "    ax.set_ylabel('F1 Macro Score', fontsize=24)\n",
    "    ax.legend(loc=\"best\", fontsize=15)\n",
    "    ax.grid('on')\n",
    "    fig.savefig('data/full/feature_cluster_f1.png')"
   ]
  },
  {
   "cell_type": "code",
   "execution_count": 10,
   "metadata": {},
   "outputs": [],
   "source": [
    "full = pd.read_csv('data/full/rf_preproc_train.csv')"
   ]
  },
  {
   "cell_type": "code",
   "execution_count": 37,
   "metadata": {},
   "outputs": [],
   "source": [
    "X = full.drop(columns=[\"user_id\", \"target\", 'profile_background_color', 'profile_link_color',\n",
    "       'profile_sidebar_border_color', 'profile_sidebar_fill_color',\n",
    "       'profile_text_color'])\n",
    "y = full['target']"
   ]
  },
  {
   "cell_type": "markdown",
   "metadata": {},
   "source": [
    "### User features"
   ]
  },
  {
   "cell_type": "code",
   "execution_count": 30,
   "metadata": {},
   "outputs": [],
   "source": [
    "# only our user features\n",
    "X_user = X[['default_profile', 'favourites_count', 'followers_count', 'friends_count', 'listed_count','profile_use_background_image',\n",
    "       'statuses_count', 'url', 'description_len',\n",
    "       'name_len', 'screen_name_len', 'age']]"
   ]
  },
  {
   "cell_type": "code",
   "execution_count": 45,
   "metadata": {},
   "outputs": [
    {
     "name": "stdout",
     "output_type": "stream",
     "text": [
      "Precision:\n",
      "0.9017750468574546\n",
      "Recall:\n",
      "0.898622708146549\n",
      "F1:\n",
      "0.8945389280374563\n"
     ]
    }
   ],
   "source": [
    "user_score = evaluate(X_user, y)\n",
    "print('Precision:')\n",
    "print(user_score[0])\n",
    "print('Recall:')\n",
    "print(user_score[1])\n",
    "print('F1:')\n",
    "print(user_score[2])"
   ]
  },
  {
   "cell_type": "markdown",
   "metadata": {},
   "source": [
    "### Descriptive features"
   ]
  },
  {
   "cell_type": "code",
   "execution_count": 29,
   "metadata": {},
   "outputs": [],
   "source": [
    "# only our descriptive features\n",
    "X_desc = X[['avg_fav', 'avg_hash', 'avg_len', 'avg_ret',\n",
    "       'freq', 'max_fav', 'max_hash', 'max_len', 'max_ret', 'media_perc', 'min_fav', 'min_hash',\n",
    "       'min_len', 'min_ret', 'quote_perc',\n",
    "       'ret_perc', 'url_perc']]"
   ]
  },
  {
   "cell_type": "code",
   "execution_count": 46,
   "metadata": {},
   "outputs": [
    {
     "name": "stdout",
     "output_type": "stream",
     "text": [
      "Precision:\n",
      "0.782224051547425\n",
      "Recall:\n",
      "0.7723707414788237\n",
      "F1:\n",
      "0.7556068965376048\n"
     ]
    }
   ],
   "source": [
    "desc_score = evaluate(X_desc, y)\n",
    "print('Precision:')\n",
    "print(desc_score[0])\n",
    "print('Recall:')\n",
    "print(desc_score[1])\n",
    "print('F1:')\n",
    "print(desc_score[2])"
   ]
  },
  {
   "cell_type": "markdown",
   "metadata": {},
   "source": [
    "### Intrinsic features"
   ]
  },
  {
   "cell_type": "code",
   "execution_count": 31,
   "metadata": {},
   "outputs": [],
   "source": [
    "# only our intrinsic features\n",
    "X_intr = X[['tweet_intradistance', 'url_intradistance']]"
   ]
  },
  {
   "cell_type": "code",
   "execution_count": 47,
   "metadata": {},
   "outputs": [
    {
     "name": "stdout",
     "output_type": "stream",
     "text": [
      "Precision:\n",
      "0.631609113227902\n",
      "Recall:\n",
      "0.635212342122743\n",
      "F1:\n",
      "0.6085732576560329\n"
     ]
    }
   ],
   "source": [
    "intr_score = evaluate(X_intr, y)\n",
    "print('Precision:')\n",
    "print(intr_score[0])\n",
    "print('Recall:')\n",
    "print(intr_score[1])\n",
    "print('F1:')\n",
    "print(intr_score[2])"
   ]
  },
  {
   "cell_type": "markdown",
   "metadata": {},
   "source": [
    "### Extrinsic features"
   ]
  },
  {
   "cell_type": "code",
   "execution_count": 32,
   "metadata": {},
   "outputs": [],
   "source": [
    "# only our extrinsic features\n",
    "X_extr = X[['porn_words_score', 'prop_words_score', 'spam_words_score', 'fake_words_score', 'genuine_words_score']]"
   ]
  },
  {
   "cell_type": "code",
   "execution_count": 48,
   "metadata": {},
   "outputs": [
    {
     "name": "stdout",
     "output_type": "stream",
     "text": [
      "Precision:\n",
      "0.7347553081435488\n",
      "Recall:\n",
      "0.726894984246718\n",
      "F1:\n",
      "0.7081390878628695\n"
     ]
    }
   ],
   "source": [
    "extr_score = evaluate(X_extr, y)\n",
    "print('Precision:')\n",
    "print(extr_score[0])\n",
    "print('Recall:')\n",
    "print(extr_score[1])\n",
    "print('F1:')\n",
    "print(extr_score[2])"
   ]
  },
  {
   "cell_type": "markdown",
   "metadata": {},
   "source": [
    "### NSFW features"
   ]
  },
  {
   "cell_type": "code",
   "execution_count": 33,
   "metadata": {},
   "outputs": [],
   "source": [
    "# only our NSFW features\n",
    "X_imgs = X[['nsfw_avg', 'nsfw_profile']]"
   ]
  },
  {
   "cell_type": "code",
   "execution_count": 49,
   "metadata": {},
   "outputs": [
    {
     "name": "stdout",
     "output_type": "stream",
     "text": [
      "Precision:\n",
      "0.5564041703233775\n",
      "Recall:\n",
      "0.5444704280674533\n",
      "F1:\n",
      "0.5447488799562488\n"
     ]
    }
   ],
   "source": [
    "imgs_score = evaluate(X_imgs, y)\n",
    "print('Precision:')\n",
    "print(imgs_score[0])\n",
    "print('Recall:')\n",
    "print(imgs_score[1])\n",
    "print('F1:')\n",
    "print(imgs_score[2])"
   ]
  },
  {
   "cell_type": "markdown",
   "metadata": {},
   "source": [
    "### All features"
   ]
  },
  {
   "cell_type": "code",
   "execution_count": 117,
   "metadata": {},
   "outputs": [
    {
     "name": "stdout",
     "output_type": "stream",
     "text": [
      "Precision:\n",
      "0.9460909079907646\n",
      "Recall:\n",
      "0.9458356041006653\n",
      "F1:\n",
      "0.9431363912418529\n"
     ]
    }
   ],
   "source": [
    "all_score = evaluate(X, y)\n",
    "print('Precision:')\n",
    "print(all_score[0])\n",
    "print('Recall:')\n",
    "print(all_score[1])\n",
    "print('F1:')\n",
    "print(all_score[2])"
   ]
  },
  {
   "cell_type": "markdown",
   "metadata": {},
   "source": [
    "## Performance comparison"
   ]
  },
  {
   "cell_type": "code",
   "execution_count": 110,
   "metadata": {},
   "outputs": [],
   "source": [
    "X_list = [X_user, X_desc, X_intr, X_extr, X_imgs, X]\n",
    "params = {'n_estimators':[10,20,30,40,50,60,70]}"
   ]
  },
  {
   "cell_type": "code",
   "execution_count": 111,
   "metadata": {},
   "outputs": [
    {
     "name": "stdout",
     "output_type": "stream",
     "text": [
      "user done\n",
      "descriptive done\n",
      "intrinsic done\n",
      "extrinsic done\n",
      "NSFW_detection done\n",
      "all done\n"
     ]
    }
   ],
   "source": [
    "results = grid_search(X_list, y, params)"
   ]
  },
  {
   "cell_type": "code",
   "execution_count": 112,
   "metadata": {},
   "outputs": [],
   "source": [
    "res = pd.DataFrame()\n",
    "for elem in results:\n",
    "    res=res.append(pd.DataFrame(elem), ignore_index=True)"
   ]
  },
  {
   "cell_type": "code",
   "execution_count": 113,
   "metadata": {},
   "outputs": [],
   "source": [
    "n_estimators = [10,20,30,40,50,60,70]\n",
    "features = ['user','descriptive','intrinsic','extrinsic','NSFW_detection','all']"
   ]
  },
  {
   "cell_type": "code",
   "execution_count": 114,
   "metadata": {},
   "outputs": [
    {
     "name": "stderr",
     "output_type": "stream",
     "text": [
      "/Users/Lorenzo/anaconda/lib/python3.6/site-packages/matplotlib/cbook/deprecation.py:107: MatplotlibDeprecationWarning: Passing one of 'on', 'true', 'off', 'false' as a boolean is deprecated; use an actual boolean (True/False) instead.\n",
      "  warnings.warn(message, mplDeprecation, stacklevel=1)\n"
     ]
    },
    {
     "data": {
      "image/png": "[encoded data removed]",
      "text/plain": [
       "<Figure size 1152x864 with 1 Axes>"
      ]
     },
     "metadata": {},
     "output_type": "display_data"
    }
   ],
   "source": [
    "plot_grid_search(res, n_estimators, features, 'N Estimators', 'Feature Group')"
   ]
  },
  {
   "cell_type": "code",
   "execution_count": 120,
   "metadata": {},
   "outputs": [],
   "source": [
    "params = {'n_estimators':[50,75,100,150,200,250], 'max_depth':[None,24,26,28], 'criterion':['gini','entropy']}"
   ]
  },
  {
   "cell_type": "code",
   "execution_count": null,
   "metadata": {},
   "outputs": [],
   "source": [
    "grid = grid_eval(X,y, params)"
   ]
  },
  {
   "cell_type": "code",
   "execution_count": null,
   "metadata": {},
   "outputs": [],
   "source": []
  }
 ],
 "metadata": {
  "kernelspec": {
   "display_name": "Python 3",
   "language": "python",
   "name": "python3"
  },
  "language_info": {
   "codemirror_mode": {
    "name": "ipython",
    "version": 3
   },
   "file_extension": ".py",
   "mimetype": "text/x-python",
   "name": "python",
   "nbconvert_exporter": "python",
   "pygments_lexer": "ipython3",
   "version": "3.6.6"
  }
 },
 "nbformat": 4,
 "nbformat_minor": 2
}
