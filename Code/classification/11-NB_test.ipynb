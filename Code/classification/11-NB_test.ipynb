{
 "cells": [
  {
   "cell_type": "code",
   "execution_count": 1,
   "metadata": {},
   "outputs": [],
   "source": [
    "import pandas as pd\n",
    "import numpy as np\n",
    "from sklearn.feature_extraction.text import CountVectorizer\n",
    "from sklearn.feature_extraction.text import TfidfTransformer\n",
    "from sklearn.feature_extraction.text import TfidfVectorizer\n",
    "from sklearn.naive_bayes import MultinomialNB\n",
    "import re\n",
    "from sklearn.pipeline import Pipeline\n",
    "import nltk\n",
    "from nltk.stem.snowball import SnowballStemmer\n",
    "from sklearn.metrics import f1_score\n",
    "from nltk.corpus import stopwords\n",
    "import pickle\n",
    "import tweepy"
   ]
  },
  {
   "cell_type": "code",
   "execution_count": 8,
   "metadata": {},
   "outputs": [],
   "source": [
    "user = 'ns_mia'"
   ]
  },
  {
   "cell_type": "code",
   "execution_count": 2,
   "metadata": {},
   "outputs": [],
   "source": [
    "# create connection with Twitter API\n",
    "\n",
    "CONSUMER_KEY = 'J3uhwWHdmSt3uD69ry8r2kc3B'\n",
    "CONSUMER_SECRET = 'LeuM7dVfFbXH0bc5fFkZIxlNiUXyjIx4Kcjh58HeWs2TrLijDx'\n",
    "ACCESS_TOKEN = '327497511-5dNjiGaTQHASljoxNr1qlMOlHrrSB21HBFBDjx2E'\n",
    "ACCESS_TOKEN_SECRET = 'tHLqwlhHYJWptW3femyq0rbMW6ZItu5yLQ3DFGJqJ8Xlg'\n",
    "\n",
    "auth = tweepy.OAuthHandler(CONSUMER_KEY, CONSUMER_SECRET)\n",
    "auth.set_access_token(ACCESS_TOKEN, ACCESS_TOKEN_SECRET)\n",
    "api = tweepy.API(auth)"
   ]
  },
  {
   "cell_type": "code",
   "execution_count": 11,
   "metadata": {},
   "outputs": [],
   "source": [
    "stuff = api.user_timeline(, count = 100, include_rts = True, tweet_mode=\"extended\")\n",
    "tweets = []\n",
    "\n",
    "for tweet in stuff:\n",
    "    tweets.append(tweet._json['full_text'])\n",
    "    \n",
    "tweets = pd.Series(tweets)"
   ]
  },
  {
   "cell_type": "code",
   "execution_count": 12,
   "metadata": {},
   "outputs": [
    {
     "data": {
      "text/plain": [
       "0                                            @DibeBot a\n",
       "1                                              Testing!\n",
       "2     I just downloaded Blanka, a new free font by @...\n",
       "3     Con My chance ho provato a vincere i biglietti...\n",
       "4     We opened the seven club tonight, good job tea...\n",
       "5     RT @the_monz94: Big night #serataalette #KFC #...\n",
       "6     Shooting training tonight, ready for #Cinisell...\n",
       "7     Chef @teony7 is doing a great job!! #ChickenWi...\n",
       "8     Thanks @luigi_banfi, We'll do our best! See yo...\n",
       "9     Having fun the night before the most important...\n",
       "10    Intense workout tonight, in preparation for th...\n",
       "11         @JackB_OS @PowZerR tutto naturale e genuino!\n",
       "12    RT @parallelecinico: Lo sport al quale gioca G...\n",
       "13    We came back to win last night, but we have to...\n",
       "14    Ready for the game! #CesateBasketball #StriveF...\n",
       "15    RT @the_monz94: Only best player have training...\n",
       "16    Long study session in l26 building tonight, we...\n",
       "17    Bad beat tonight, it's time to rise up now! Re...\n",
       "18    Game time!! #CesateBasketball #StriveForGreatness\n",
       "19    Don't worry @BelottiMoreno, let matters take t...\n",
       "20    Last training before game vs Senago. \\nWe're r...\n",
       "21    RT @parallelecinico: Oggi alla Casa Bianca ved...\n",
       "22    RT @the_monz94: Welcome to my Bro and develope...\n",
       "23    RT @fabiochiusano: I voted to send @CaptainDip...\n",
       "24    Welcome to my Bro and teammate @teony7 , let's...\n",
       "25    Hard training tonight!! @the_monz94 @BelottiMo...\n",
       "26    @luigi_banfi Ahahahah speriamo di essere all'a...\n",
       "27    Ciao @luigi_banfi, tutto bene e tu? Grazie per...\n",
       "28    Welcome to my Bro @JackB_OS , enjoy our big fa...\n",
       "29    RT @parallelecinico: Milano ha reso omaggio al...\n",
       "30    We're ready to study tonight @PowZerR #StriveF...\n",
       "31    #FIP leaderboard updated: We are 2nd!! #Cesate...\n",
       "32    New world record in Pattern™ with @PowZerR !! ...\n",
       "33    I'm proud to be a beta-tester of Pattern™ deve...\n",
       "34    RT @the_monz94: Good job guys! Work hard, play...\n",
       "35    It's training time #CesateBasketball #ILoveThi...\n",
       "36    RT @castinico94: Prima cerchi la felicità, poi...\n",
       "37    2011-2012 Top 10 Assists http://t.co/lF4ZiOfe ...\n",
       "38    I voted to send  Ricky Rubio from Minnesota to...\n",
       "dtype: object"
      ]
     },
     "execution_count": 12,
     "metadata": {},
     "output_type": "execute_result"
    }
   ],
   "source": [
    "tweets"
   ]
  },
  {
   "cell_type": "code",
   "execution_count": 5,
   "metadata": {},
   "outputs": [],
   "source": [
    "stemmer = SnowballStemmer(\"english\", ignore_stopwords=True)\n",
    "\n",
    "class StemmedCountVectorizer(CountVectorizer):\n",
    "    def build_analyzer(self):\n",
    "        analyzer = super(CountVectorizer, self).build_analyzer()\n",
    "        return lambda doc:(stemmer.stem(w) for w in analyzer(doc))"
   ]
  },
  {
   "cell_type": "code",
   "execution_count": 6,
   "metadata": {},
   "outputs": [],
   "source": [
    "nb = pickle.load( open( \"nb.model\", \"rb\" ) )"
   ]
  },
  {
   "cell_type": "code",
   "execution_count": 7,
   "metadata": {},
   "outputs": [],
   "source": [
    "def remove_rt(x):\n",
    "    \n",
    "    if 'RT' in x:\n",
    "        x = x.replace('RT', '')\n",
    "        try:\n",
    "            return x[x.rindex(':')+2:]\n",
    "        except:\n",
    "            return x\n",
    "    else:\n",
    "        return x"
   ]
  },
  {
   "cell_type": "code",
   "execution_count": 8,
   "metadata": {},
   "outputs": [],
   "source": [
    "stop_words = stopwords.words('english')\n",
    "\n",
    "def remove_stop(x):\n",
    "    return [word for word in x.split() if word not in stop_words]"
   ]
  },
  {
   "cell_type": "code",
   "execution_count": 9,
   "metadata": {},
   "outputs": [],
   "source": [
    "tweets = tweets.apply(lambda x: remove_rt(x))\n",
    "tweets = tweets.apply(lambda x: re.sub(r'^\\/t.co\\/[^\\s]+', '', x))\n",
    "tweets = tweets.apply(lambda x: re.sub(r'[^\\w\\s]','',x))\n",
    "tweets = tweets.apply(lambda x: x.lower())\n",
    "tweets = tweets.apply(lambda x: remove_stop(x))\n",
    "tweets = tweets.astype(str)\n",
    "tweets = tweets[tweets!='[]']"
   ]
  },
  {
   "cell_type": "markdown",
   "metadata": {},
   "source": [
    "- predict proba\n",
    "- get predictions avg\n",
    "- return [p1,p2,p3,p4,p5]"
   ]
  },
  {
   "cell_type": "code",
   "execution_count": 21,
   "metadata": {},
   "outputs": [],
   "source": [
    "pred = nb.predict_proba(tweets)"
   ]
  },
  {
   "cell_type": "code",
   "execution_count": 27,
   "metadata": {},
   "outputs": [
    {
     "data": {
      "text/plain": [
       "[0.2911060882691445,\n",
       " 0.2004621682673945,\n",
       " 0.2521561100848258,\n",
       " 0.078798418405524,\n",
       " 0.17747721497311147]"
      ]
     },
     "execution_count": 27,
     "metadata": {},
     "output_type": "execute_result"
    }
   ],
   "source": [
    "np.mean(pred, axis=0).tolist()"
   ]
  },
  {
   "cell_type": "code",
   "execution_count": null,
   "metadata": {},
   "outputs": [],
   "source": []
  }
 ],
 "metadata": {
  "kernelspec": {
   "display_name": "Python 3",
   "language": "python",
   "name": "python3"
  },
  "language_info": {
   "codemirror_mode": {
    "name": "ipython",
    "version": 3
   },
   "file_extension": ".py",
   "mimetype": "text/x-python",
   "name": "python",
   "nbconvert_exporter": "python",
   "pygments_lexer": "ipython3",
   "version": "3.6.6"
  }
 },
 "nbformat": 4,
 "nbformat_minor": 2
}
