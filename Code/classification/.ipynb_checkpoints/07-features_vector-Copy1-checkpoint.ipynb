{
 "cells": [
  {
   "cell_type": "markdown",
   "metadata": {},
   "source": [
    "# Features Vector"
   ]
  },
  {
   "cell_type": "code",
   "execution_count": 131,
   "metadata": {},
   "outputs": [],
   "source": [
    "import pandas as pd\n",
    "import numpy as np\n",
    "from IPython.display import clear_output"
   ]
  },
  {
   "cell_type": "markdown",
   "metadata": {},
   "source": [
    "### Load users features"
   ]
  },
  {
   "cell_type": "code",
   "execution_count": 2,
   "metadata": {},
   "outputs": [],
   "source": [
    "porn_users = pd.read_csv('data/porn/users.csv', encoding='utf-8-sig')\n",
    "prop_users = pd.read_csv('data/propaganda/users.csv', encoding='utf-8-sig')\n",
    "spam_users = pd.read_csv('data/spam/users.csv', encoding='utf-8-sig')\n",
    "fake_users = pd.read_csv('data/fake_followers/users.csv', encoding='utf-8-sig')\n",
    "genuine_users = pd.read_csv('data/genuine/users.csv', encoding='utf-8-sig')"
   ]
  },
  {
   "cell_type": "markdown",
   "metadata": {},
   "source": [
    "### Load tweets features"
   ]
  },
  {
   "cell_type": "code",
   "execution_count": 3,
   "metadata": {},
   "outputs": [],
   "source": [
    "#Porn\n",
    "porn_tweet_intrad = pd.read_csv('data/porn/tweet_intradistance.csv', encoding='utf-8-sig')\n",
    "porn_url_intrad = pd.read_csv('data/porn/url_intradistance.csv', encoding='utf-8-sig')\n",
    "porn_context_score = pd.read_csv('data/porn/context_score.csv', encoding='utf-8-sig')\n",
    "porn_tweet_descr = pd.read_csv('data/porn/descriptive_features.csv', encoding='utf-8-sig')"
   ]
  },
  {
   "cell_type": "code",
   "execution_count": 194,
   "metadata": {},
   "outputs": [],
   "source": [
    "#Propaganda\n",
    "prop_tweet_intrad = pd.read_csv('data/propaganda/tweet_intradistance.csv', encoding='utf-8-sig')\n",
    "prop_url_intrad = pd.read_csv('data/propaganda/url_intradistance.csv', encoding='utf-8-sig')\n",
    "prop_context_score = pd.read_csv('data/propaganda/context_score.csv', encoding='utf-8-sig')\n",
    "prop_tweet_descr = pd.read_csv('data/propaganda/descriptive_features.csv', encoding='utf-8-sig')"
   ]
  },
  {
   "cell_type": "code",
   "execution_count": 195,
   "metadata": {},
   "outputs": [],
   "source": [
    "#Spam\n",
    "spam_tweet_intrad = pd.read_csv('data/spam/tweet_intradistance.csv', encoding='utf-8-sig')\n",
    "spam_url_intrad = pd.read_csv('data/spam/url_intradistance.csv', encoding='utf-8-sig')\n",
    "spam_context_score = pd.read_csv('data/spam/context_score.csv', encoding='utf-8-sig')\n",
    "spam_tweet_descr = pd.read_csv('data/spam/descriptive_features.csv', encoding='utf-8-sig')"
   ]
  },
  {
   "cell_type": "code",
   "execution_count": 196,
   "metadata": {},
   "outputs": [],
   "source": [
    "#Fake followers\n",
    "fake_tweet_intrad = pd.read_csv('data/fake_followers/tweet_intradistance.csv', encoding='utf-8-sig')\n",
    "fake_url_intrad = pd.read_csv('data/fake_followers/url_intradistance.csv', encoding='utf-8-sig')\n",
    "fake_context_score = pd.read_csv('data/fake_followers/context_score.csv', encoding='utf-8-sig')\n",
    "fake_tweet_descr = pd.read_csv('data/fake_followers/descriptive_features.csv', encoding='utf-8-sig')"
   ]
  },
  {
   "cell_type": "code",
   "execution_count": 197,
   "metadata": {},
   "outputs": [],
   "source": [
    "#Genuine\n",
    "gen_tweet_intrad = pd.read_csv('data/genuine/tweet_intradistance.csv', encoding='utf-8-sig')\n",
    "gen_url_intrad = pd.read_csv('data/genuine/url_intradistance.csv', encoding='utf-8-sig')\n",
    "gen_context_score = pd.read_csv('data/genuine/context_score.csv', encoding='utf-8-sig')\n",
    "gen_tweet_descr = pd.read_csv('data/genuine/descriptive_features.csv', encoding='utf-8-sig')"
   ]
  },
  {
   "cell_type": "markdown",
   "metadata": {},
   "source": [
    "## Drop Duplicates"
   ]
  },
  {
   "cell_type": "code",
   "execution_count": 198,
   "metadata": {},
   "outputs": [
    {
     "name": "stdout",
     "output_type": "stream",
     "text": [
      "6934\n",
      "6934\n",
      "6934\n",
      "6934\n",
      "6935\n"
     ]
    }
   ],
   "source": [
    "#Porn\n",
    "porn_tweet_intrad = porn_tweet_intrad.drop_duplicates()\n",
    "print(len(porn_tweet_intrad))\n",
    "porn_url_intrad = porn_url_intrad.drop_duplicates()\n",
    "print(len(porn_url_intrad))\n",
    "porn_context_score = porn_context_score.drop_duplicates()\n",
    "print(len(porn_context_score))\n",
    "porn_tweet_descr = porn_tweet_descr.drop_duplicates()\n",
    "print(len(porn_tweet_descr))\n",
    "porn_users = porn_users.drop_duplicates()\n",
    "print(len(porn_users))"
   ]
  },
  {
   "cell_type": "code",
   "execution_count": 199,
   "metadata": {},
   "outputs": [
    {
     "name": "stdout",
     "output_type": "stream",
     "text": [
      "6934\n"
     ]
    }
   ],
   "source": [
    "#Cut useless users\n",
    "ids = porn_users.id.drop_duplicates()\n",
    "porn_users = porn_users.iloc[ids.index]\n",
    "print(len(porn_users))"
   ]
  },
  {
   "cell_type": "code",
   "execution_count": 200,
   "metadata": {},
   "outputs": [
    {
     "name": "stdout",
     "output_type": "stream",
     "text": [
      "3372\n",
      "3372\n",
      "3372\n",
      "3372\n",
      "3372\n"
     ]
    }
   ],
   "source": [
    "#Propaganda\n",
    "prop_tweet_intrad = prop_tweet_intrad.drop_duplicates()\n",
    "print(len(prop_tweet_intrad))\n",
    "prop_url_intrad = prop_url_intrad.drop_duplicates()\n",
    "print(len(prop_url_intrad))\n",
    "prop_context_score = prop_context_score.drop_duplicates()\n",
    "print(len(prop_context_score))\n",
    "prop_tweet_descr = prop_tweet_descr.drop_duplicates()\n",
    "print(len(prop_tweet_descr))\n",
    "prop_users = prop_users.drop_duplicates()\n",
    "print(len(prop_users))"
   ]
  },
  {
   "cell_type": "code",
   "execution_count": 201,
   "metadata": {},
   "outputs": [
    {
     "name": "stdout",
     "output_type": "stream",
     "text": [
      "5361\n",
      "5361\n",
      "5361\n",
      "5361\n",
      "5361\n"
     ]
    }
   ],
   "source": [
    "#Spam\n",
    "spam_tweet_intrad = spam_tweet_intrad.drop_duplicates()\n",
    "print(len(spam_tweet_intrad))\n",
    "spam_url_intrad = spam_url_intrad.drop_duplicates()\n",
    "print(len(spam_url_intrad))\n",
    "spam_context_score = spam_context_score.drop_duplicates()\n",
    "print(len(spam_context_score))\n",
    "spam_tweet_descr = spam_tweet_descr.drop_duplicates()\n",
    "print(len(spam_tweet_descr))\n",
    "spam_users = spam_users.drop_duplicates()\n",
    "print(len(spam_users))"
   ]
  },
  {
   "cell_type": "code",
   "execution_count": 202,
   "metadata": {},
   "outputs": [
    {
     "name": "stdout",
     "output_type": "stream",
     "text": [
      "6312\n",
      "6312\n",
      "6312\n",
      "6312\n",
      "6316\n"
     ]
    }
   ],
   "source": [
    "#Fake followers\n",
    "fake_tweet_intrad = fake_tweet_intrad.drop_duplicates()\n",
    "print(len(fake_tweet_intrad))\n",
    "fake_url_intrad = fake_url_intrad.drop_duplicates()\n",
    "print(len(fake_url_intrad))\n",
    "fake_context_score = fake_context_score.drop_duplicates()\n",
    "print(len(fake_context_score))\n",
    "fake_tweet_descr = fake_tweet_descr.drop_duplicates()\n",
    "print(len(fake_tweet_descr))\n",
    "fake_users = fake_users.drop_duplicates()\n",
    "print(len(fake_users))"
   ]
  },
  {
   "cell_type": "code",
   "execution_count": 213,
   "metadata": {},
   "outputs": [
    {
     "name": "stdout",
     "output_type": "stream",
     "text": [
      "6312\n"
     ]
    }
   ],
   "source": [
    "#Cut useless users\n",
    "ids = fake_users.id.drop_duplicates()\n",
    "fake_users = fake_users.loc[ids.index]\n",
    "print(len(fake_users))"
   ]
  },
  {
   "cell_type": "code",
   "execution_count": 214,
   "metadata": {},
   "outputs": [
    {
     "name": "stdout",
     "output_type": "stream",
     "text": [
      "3661\n",
      "3661\n",
      "3661\n",
      "3661\n",
      "3661\n"
     ]
    }
   ],
   "source": [
    "#Genuine\n",
    "gen_tweet_intrad = gen_tweet_intrad.drop_duplicates()\n",
    "print(len(gen_tweet_intrad))\n",
    "gen_url_intrad = gen_url_intrad.drop_duplicates()\n",
    "print(len(gen_url_intrad))\n",
    "gen_context_score = gen_context_score.drop_duplicates()\n",
    "print(len(gen_context_score))\n",
    "gen_tweet_descr = gen_tweet_descr.drop_duplicates()\n",
    "print(len(gen_tweet_descr))\n",
    "gen_users = genuine_users.drop_duplicates()\n",
    "print(len(gen_users))"
   ]
  },
  {
   "cell_type": "markdown",
   "metadata": {},
   "source": [
    "## Merge dataframes"
   ]
  },
  {
   "cell_type": "code",
   "execution_count": 7,
   "metadata": {},
   "outputs": [],
   "source": [
    "#Porn\n",
    "porn_1 = pd.merge(porn_tweet_intrad, porn_url_intrad, on='user_id')\n",
    "porn_2 = pd.merge(porn_context_score, porn_tweet_descr, on='user_id')\n",
    "porn_df = pd.merge(porn_1, porn_2, on='user_id')\n",
    "\n",
    "#porn_users.rename(columns={'id': 'user_id'}, inplace=True)\n",
    "#porn_df = pd.merge(porn_users, porn_df, on='user_id')"
   ]
  },
  {
   "cell_type": "code",
   "execution_count": 9,
   "metadata": {},
   "outputs": [
    {
     "data": {
      "text/plain": [
       "Index(['user_id', 'tweet_intradistance', 'url_intradistance',\n",
       "       'fake_words_score', 'genuine_words_score', 'porn_words_score',\n",
       "       'prop_words_score', 'spam_words_score', 'avg_len', 'max_len', 'min_len',\n",
       "       'avg_ret', 'max_ret', 'min_ret', 'avg_fav', 'max_fav', 'min_fav',\n",
       "       'avg_hash', 'max_hash', 'min_hash', 'freq', 'ret_perc', 'media_perc',\n",
       "       'url_perc', 'quote_perc'],\n",
       "      dtype='object')"
      ]
     },
     "execution_count": 9,
     "metadata": {},
     "output_type": "execute_result"
    }
   ],
   "source": [
    "porn_df.columns"
   ]
  },
  {
   "cell_type": "code",
   "execution_count": 216,
   "metadata": {},
   "outputs": [],
   "source": [
    "#Propaganda\n",
    "prop_1 = pd.merge(prop_tweet_intrad, prop_url_intrad, on='user_id')\n",
    "prop_2 = pd.merge(prop_context_score, prop_tweet_descr, on='user_id')\n",
    "prop_df = pd.merge(prop_1, prop_2, on='user_id')\n",
    "\n",
    "prop_users.rename(columns={'id': 'user_id'}, inplace=True)\n",
    "prop_df = pd.merge(prop_users, prop_df, on='user_id')"
   ]
  },
  {
   "cell_type": "code",
   "execution_count": 217,
   "metadata": {},
   "outputs": [],
   "source": [
    "#Spam\n",
    "spam_1 = pd.merge(spam_tweet_intrad, spam_url_intrad, on='user_id')\n",
    "spam_2 = pd.merge(spam_context_score, spam_tweet_descr, on='user_id')\n",
    "spam_df = pd.merge(spam_1, spam_2, on='user_id')\n",
    "\n",
    "spam_users.rename(columns={'id': 'user_id'}, inplace=True)\n",
    "spam_df = pd.merge(spam_users, spam_df, on='user_id')"
   ]
  },
  {
   "cell_type": "code",
   "execution_count": 218,
   "metadata": {},
   "outputs": [
    {
     "name": "stdout",
     "output_type": "stream",
     "text": [
      "6312\n",
      "6312\n",
      "6312\n"
     ]
    }
   ],
   "source": [
    "#Fake followers\n",
    "fake_1 = pd.merge(fake_tweet_intrad, fake_url_intrad, on='user_id')\n",
    "print(len(fake_1))\n",
    "fake_2 = pd.merge(fake_context_score, fake_tweet_descr, on='user_id')\n",
    "print(len(fake_1))\n",
    "fake_df = pd.merge(fake_1, fake_2, on='user_id')\n",
    "print(len(fake_df))\n",
    "\n",
    "fake_users.rename(columns={'id': 'user_id'}, inplace=True)\n",
    "fake_df = pd.merge(fake_users, fake_df, on='user_id')"
   ]
  },
  {
   "cell_type": "code",
   "execution_count": 221,
   "metadata": {},
   "outputs": [
    {
     "name": "stdout",
     "output_type": "stream",
     "text": [
      "6934\n"
     ]
    }
   ],
   "source": [
    "print(len(porn_df))"
   ]
  },
  {
   "cell_type": "code",
   "execution_count": 186,
   "metadata": {},
   "outputs": [
    {
     "data": {
      "text/plain": [
       "0"
      ]
     },
     "execution_count": 186,
     "metadata": {},
     "output_type": "execute_result"
    }
   ],
   "source": [
    "np.in1d(fake_tweet_intrad.user_id, fake_url_intrad.user_id, invert=True).sum()"
   ]
  },
  {
   "cell_type": "code",
   "execution_count": 222,
   "metadata": {},
   "outputs": [],
   "source": [
    "#Genuine\n",
    "gen_1 = pd.merge(gen_tweet_intrad, gen_url_intrad, on='user_id')\n",
    "gen_2 = pd.merge(gen_context_score, gen_tweet_descr, on='user_id')\n",
    "gen_df = pd.merge(gen_1, gen_2, on='user_id')\n",
    "\n",
    "genuine_users.rename(columns={'id': 'user_id'}, inplace=True)\n",
    "gen_df = pd.merge(genuine_users, gen_df, on='user_id')"
   ]
  },
  {
   "cell_type": "code",
   "execution_count": 223,
   "metadata": {},
   "outputs": [],
   "source": [
    "porn_df.to_csv('data/porn/train.csv', index=False)\n",
    "prop_df.to_csv('data/propaganda/train.csv', index=False)\n",
    "spam_df.to_csv('data/spam/train.csv', index=False)\n",
    "fake_df.to_csv('data/fake_followers/train.csv', index=False)\n",
    "gen_df.to_csv('data/genuine/train.csv', index=False)"
   ]
  },
  {
   "cell_type": "markdown",
   "metadata": {},
   "source": [
    "## Controllo integrità"
   ]
  },
  {
   "cell_type": "code",
   "execution_count": 2,
   "metadata": {},
   "outputs": [],
   "source": [
    "porn_df = pd.read_csv('data/porn/train.csv')\n",
    "news_df = pd.read_csv('data/propaganda/train.csv')\n",
    "spam_df = pd.read_csv('data/spam/train.csv')\n",
    "fake_df = pd.read_csv('data/fake_followers/train.csv')\n",
    "gen_df = pd.read_csv('data/genuine/train.csv')"
   ]
  },
  {
   "cell_type": "code",
   "execution_count": 4,
   "metadata": {},
   "outputs": [
    {
     "data": {
      "text/plain": [
       "6934"
      ]
     },
     "execution_count": 4,
     "metadata": {},
     "output_type": "execute_result"
    }
   ],
   "source": [
    "len(porn_df)"
   ]
  },
  {
   "cell_type": "code",
   "execution_count": 5,
   "metadata": {},
   "outputs": [
    {
     "data": {
      "text/plain": [
       "6934"
      ]
     },
     "execution_count": 5,
     "metadata": {},
     "output_type": "execute_result"
    }
   ],
   "source": [
    "len(set(porn_df.user_id))"
   ]
  },
  {
   "cell_type": "code",
   "execution_count": 6,
   "metadata": {},
   "outputs": [
    {
     "data": {
      "text/plain": [
       "6312"
      ]
     },
     "execution_count": 6,
     "metadata": {},
     "output_type": "execute_result"
    }
   ],
   "source": [
    "len(fake_df)"
   ]
  },
  {
   "cell_type": "code",
   "execution_count": 8,
   "metadata": {},
   "outputs": [
    {
     "data": {
      "text/plain": [
       "6312"
      ]
     },
     "execution_count": 8,
     "metadata": {},
     "output_type": "execute_result"
    }
   ],
   "source": [
    "len(set(fake_df.user_id))"
   ]
  },
  {
   "cell_type": "code",
   "execution_count": 9,
   "metadata": {},
   "outputs": [
    {
     "data": {
      "text/plain": [
       "2838"
      ]
     },
     "execution_count": 9,
     "metadata": {},
     "output_type": "execute_result"
    }
   ],
   "source": [
    "len(news_df)"
   ]
  },
  {
   "cell_type": "code",
   "execution_count": 10,
   "metadata": {},
   "outputs": [
    {
     "data": {
      "text/plain": [
       "2838"
      ]
     },
     "execution_count": 10,
     "metadata": {},
     "output_type": "execute_result"
    }
   ],
   "source": [
    "len(set(news_df.user_id))"
   ]
  },
  {
   "cell_type": "code",
   "execution_count": 11,
   "metadata": {},
   "outputs": [
    {
     "data": {
      "text/plain": [
       "5361"
      ]
     },
     "execution_count": 11,
     "metadata": {},
     "output_type": "execute_result"
    }
   ],
   "source": [
    "len(spam_df)"
   ]
  },
  {
   "cell_type": "code",
   "execution_count": 12,
   "metadata": {},
   "outputs": [
    {
     "data": {
      "text/plain": [
       "5361"
      ]
     },
     "execution_count": 12,
     "metadata": {},
     "output_type": "execute_result"
    }
   ],
   "source": [
    "len(set(spam_df.user_id))"
   ]
  },
  {
   "cell_type": "code",
   "execution_count": 13,
   "metadata": {},
   "outputs": [
    {
     "data": {
      "text/plain": [
       "3661"
      ]
     },
     "execution_count": 13,
     "metadata": {},
     "output_type": "execute_result"
    }
   ],
   "source": [
    "len(gen_df)"
   ]
  },
  {
   "cell_type": "code",
   "execution_count": 15,
   "metadata": {},
   "outputs": [
    {
     "data": {
      "text/plain": [
       "3661"
      ]
     },
     "execution_count": 15,
     "metadata": {},
     "output_type": "execute_result"
    }
   ],
   "source": [
    "len(set(gen_df.user_id))"
   ]
  },
  {
   "cell_type": "markdown",
   "metadata": {},
   "source": [
    "# Seconda passata per nsfw"
   ]
  },
  {
   "cell_type": "code",
   "execution_count": 132,
   "metadata": {},
   "outputs": [],
   "source": [
    "porn_train = pd.read_csv('data/porn/train.csv')\n",
    "prop_train = pd.read_csv('data/propaganda/train.csv')\n",
    "spam_train = pd.read_csv('data/spam/train.csv')\n",
    "ff_train = pd.read_csv('data/fake_followers/train.csv')\n",
    "gen_train = pd.read_csv('data/genuine/train.csv')"
   ]
  },
  {
   "cell_type": "code",
   "execution_count": 4,
   "metadata": {},
   "outputs": [],
   "source": [
    "porn_nsfw = pd.read_csv('data/porn/nsfw.csv')\n",
    "prop_nsfw = pd.read_csv('data/propaganda/nsfw.csv')\n",
    "spam_nsfw = pd.read_csv('data/spam/nsfw.csv')\n",
    "ff_nsfw = pd.read_csv('data/fake_followers/nsfw.csv')\n",
    "gen_nsfw = pd.read_csv('data/genuine/nsfw.csv')"
   ]
  },
  {
   "cell_type": "code",
   "execution_count": 41,
   "metadata": {},
   "outputs": [],
   "source": [
    "porn_nsfw = porn_nsfw.drop_duplicates()"
   ]
  },
  {
   "cell_type": "code",
   "execution_count": 54,
   "metadata": {},
   "outputs": [],
   "source": [
    "porn_train['nsfw_profile'] = np.nan\n",
    "porn_train['nsfw_avg'] = np.nan"
   ]
  },
  {
   "cell_type": "code",
   "execution_count": 119,
   "metadata": {},
   "outputs": [],
   "source": [
    "def nsfw_profile(id):\n",
    "    try:\n",
    "        return gen_nsfw[gen_nsfw.user_id == id]['nsfw_profile'].iloc[0]\n",
    "    except:\n",
    "        return np.nan"
   ]
  },
  {
   "cell_type": "code",
   "execution_count": 120,
   "metadata": {},
   "outputs": [],
   "source": [
    "def nsfw_avg(id):\n",
    "    try:\n",
    "        return gen_nsfw[gen_nsfw.user_id == id]['nsfw_avg'].iloc[0]\n",
    "    except:\n",
    "        return np.nan"
   ]
  },
  {
   "cell_type": "code",
   "execution_count": 105,
   "metadata": {},
   "outputs": [],
   "source": [
    "porn_train['nsfw_profile'] = porn_train['user_id'].apply(lambda x: nsfw_profile(x))\n",
    "porn_train['nsfw_avg'] = porn_train['user_id'].apply(lambda x: nsfw_avg(x))"
   ]
  },
  {
   "cell_type": "code",
   "execution_count": 109,
   "metadata": {},
   "outputs": [],
   "source": [
    "prop_train['nsfw_profile'] = prop_train['user_id'].apply(lambda x: nsfw_profile(x))\n",
    "prop_train['nsfw_avg'] = prop_train['user_id'].apply(lambda x: nsfw_avg(x))"
   ]
  },
  {
   "cell_type": "code",
   "execution_count": 113,
   "metadata": {},
   "outputs": [],
   "source": [
    "spam_train['nsfw_profile'] = spam_train['user_id'].apply(lambda x: nsfw_profile(x))\n",
    "spam_train['nsfw_avg'] = spam_train['user_id'].apply(lambda x: nsfw_avg(x))"
   ]
  },
  {
   "cell_type": "code",
   "execution_count": 117,
   "metadata": {},
   "outputs": [],
   "source": [
    "ff_train['nsfw_profile'] = ff_train['user_id'].apply(lambda x: nsfw_profile(x))\n",
    "ff_train['nsfw_avg'] = ff_train['user_id'].apply(lambda x: nsfw_avg(x))"
   ]
  },
  {
   "cell_type": "code",
   "execution_count": 121,
   "metadata": {},
   "outputs": [],
   "source": [
    "gen_train['nsfw_profile'] = gen_train['user_id'].apply(lambda x: nsfw_profile(x))\n",
    "gen_train['nsfw_avg'] = gen_train['user_id'].apply(lambda x: nsfw_avg(x))"
   ]
  },
  {
   "cell_type": "code",
   "execution_count": 133,
   "metadata": {},
   "outputs": [],
   "source": [
    "porn_train['nsfw_avg'] = porn_train['nsfw_avg'].fillna(porn_train['nsfw_avg'].mode()[0])\n",
    "porn_train['nsfw_profile'] = porn_train['nsfw_profile'].fillna(porn_train['nsfw_profile'].mode()[0])\n",
    "\n",
    "prop_train['nsfw_avg'] = prop_train['nsfw_avg'].fillna(prop_train['nsfw_avg'].mode()[0])\n",
    "prop_train['nsfw_profile'] = prop_train['nsfw_profile'].fillna(prop_train['nsfw_profile'].mode()[0])\n",
    "\n",
    "spam_train['nsfw_avg'] = spam_train['nsfw_avg'].fillna(spam_train['nsfw_avg'].mode()[0])\n",
    "spam_train['nsfw_profile'] = spam_train['nsfw_profile'].fillna(spam_train['nsfw_profile'].mode()[0])\n",
    "\n",
    "ff_train['nsfw_avg'] = ff_train['nsfw_avg'].fillna(ff_train['nsfw_avg'].mode()[0])\n",
    "ff_train['nsfw_profile'] = ff_train['nsfw_profile'].fillna(ff_train['nsfw_profile'].mode()[0])\n",
    "\n",
    "gen_train['nsfw_avg'] = gen_train['nsfw_avg'].fillna(gen_train['nsfw_avg'].mode()[0])\n",
    "gen_train['nsfw_profile'] = gen_train['nsfw_profile'].fillna(gen_train['nsfw_profile'].mode()[0])"
   ]
  },
  {
   "cell_type": "code",
   "execution_count": 134,
   "metadata": {},
   "outputs": [],
   "source": [
    "porn_train.to_csv('data/porn/train.csv', index=False)\n",
    "prop_train.to_csv('data/propaganda/train.csv', index=False)\n",
    "spam_train.to_csv('data/spam/train.csv', index=False)\n",
    "ff_train.to_csv('data/fake_followers/train.csv', index=False)\n",
    "gen_train.to_csv('data/genuine/train.csv', index=False)"
   ]
  }
 ],
 "metadata": {
  "kernelspec": {
   "display_name": "Python 3",
   "language": "python",
   "name": "python3"
  },
  "language_info": {
   "codemirror_mode": {
    "name": "ipython",
    "version": 3
   },
   "file_extension": ".py",
   "mimetype": "text/x-python",
   "name": "python",
   "nbconvert_exporter": "python",
   "pygments_lexer": "ipython3",
   "version": "3.6.5"
  }
 },
 "nbformat": 4,
 "nbformat_minor": 2
}
