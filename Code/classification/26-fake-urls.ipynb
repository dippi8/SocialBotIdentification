{
 "cells": [
  {
   "cell_type": "code",
   "execution_count": 37,
   "metadata": {},
   "outputs": [],
   "source": [
    "import pandas as pd\n",
    "import numpy as np\n",
    "import pickle\n",
    "import tweepy\n",
    "import urllib.parse as urlparse"
   ]
  },
  {
   "cell_type": "code",
   "execution_count": 129,
   "metadata": {},
   "outputs": [],
   "source": [
    "user = 'WassmerTom'\n",
    "\n",
    "\n",
    "# create connection with Twitter API\n",
    "\n",
    "CONSUMER_KEY = 'J3uhwWHdmSt3uD69ry8r2kc3B'\n",
    "CONSUMER_SECRET = 'LeuM7dVfFbXH0bc5fFkZIxlNiUXyjIx4Kcjh58HeWs2TrLijDx'\n",
    "ACCESS_TOKEN = '327497511-5dNjiGaTQHASljoxNr1qlMOlHrrSB21HBFBDjx2E'\n",
    "ACCESS_TOKEN_SECRET = 'tHLqwlhHYJWptW3femyq0rbMW6ZItu5yLQ3DFGJqJ8Xlg'\n",
    "\n",
    "auth = tweepy.OAuthHandler(CONSUMER_KEY, CONSUMER_SECRET)\n",
    "auth.set_access_token(ACCESS_TOKEN, ACCESS_TOKEN_SECRET)\n",
    "api = tweepy.API(auth)\n",
    "\n",
    "\n",
    "# download user's tweets\n",
    "\n",
    "stuff = api.user_timeline(screen_name = user, count = 100, include_rts = True, tweet_mode=\"extended\")\n",
    "tweets = []\n",
    "\n",
    "for tweet in stuff:\n",
    "    tweet._json['user_id'] = tweet._json['user']['id']\n",
    "    if len(tweet._json['entities']['urls']) != 0:\n",
    "        tweet._json['url'] = tweet._json['entities']['urls'][0]['expanded_url']\n",
    "    else:\n",
    "         tweet._json['url'] = None\n",
    "    del tweet._json['user'], tweet._json['entities']\n",
    "\n",
    "    tweets.append(tweet._json)\n",
    "        \n",
    "tweets = pd.DataFrame.from_dict(tweets)\n",
    "\n",
    "\n",
    "# download user's features\n",
    "\n",
    "user = api.get_user(user)\n",
    "\n",
    "user_features = pd.DataFrame([[user.id,\n",
    "                    user.name,\n",
    "                    user.screen_name,\n",
    "                    user.statuses_count,\n",
    "                    user.followers_count,\n",
    "                    user.friends_count,\n",
    "                    user.favourites_count,\n",
    "                    user.listed_count,\n",
    "                    user.url,\n",
    "                    user.lang,\n",
    "                    user.time_zone,\n",
    "                    user.location,\n",
    "                    user.default_profile,\n",
    "                    user.default_profile_image,\n",
    "                    user.geo_enabled,\n",
    "                    user.profile_image_url,\n",
    "                    user.profile_use_background_image,\n",
    "                    user.profile_background_image_url_https,\n",
    "                    user.profile_text_color,\n",
    "                    user.profile_image_url_https,\n",
    "                    user.profile_sidebar_border_color,\n",
    "                    user.profile_background_tile,\n",
    "                    user.profile_sidebar_fill_color,\n",
    "                    user.profile_background_image_url,\n",
    "                    user.profile_background_color,\n",
    "                    user.profile_link_color,\n",
    "                    user.utc_offset,\n",
    "                    user.is_translator,\n",
    "                    user.follow_request_sent,\n",
    "                    user.protected,\n",
    "                    user.verified,\n",
    "                    user.notifications,\n",
    "                    user.description,\n",
    "                    user.contributors_enabled,\n",
    "                    user.following,\n",
    "                    user.created_at]],\n",
    "                    columns=[\"id\",\"name\",\"screen_name\",\"statuses_count\",\"followers_count\",\"friends_count\",\"favourites_count\",\"listed_count\",\"url\",\"lang\",\"time_zone\",\"location\",\"default_profile\",\"default_profile_image\",\"geo_enabled\",\"profile_image_url\",\"profile_use_background_image\",\"profile_background_image_url_https\",\"profile_text_color\",\"profile_image_url_https\",\"profile_sidebar_border_color\",\"profile_background_tile\",\"profile_sidebar_fill_color\",\"profile_background_image_url\",\"profile_background_color\",\"profile_link_color\",\"utc_offset\",\"is_translator\",\"follow_request_sent\",\"protected\",\"verified\",\"notifications\",\"description\",\"contributors_enabled\",\"following\",\"created_at\"]\n",
    "                  )\n",
    "\n"
   ]
  },
  {
   "cell_type": "code",
   "execution_count": 130,
   "metadata": {},
   "outputs": [],
   "source": [
    "def get_url(df):\n",
    "    \n",
    "    expanded_urls = []\n",
    "    for x in df.itertuples():\n",
    "        try:\n",
    "            if len(x.url)>0 :\n",
    "                expanded_urls.append(urlparse.urlparse(x.url).netloc)\n",
    "                expanded_urls = list(map(lambda x: x.replace('www.','').replace('/',''), expanded_urls))\n",
    "        except:\n",
    "            pass\n",
    "        \n",
    "    return expanded_urls"
   ]
  },
  {
   "cell_type": "code",
   "execution_count": 131,
   "metadata": {},
   "outputs": [],
   "source": [
    "urls = get_url(tweets)"
   ]
  },
  {
   "cell_type": "code",
   "execution_count": 132,
   "metadata": {},
   "outputs": [
    {
     "data": {
      "text/plain": [
       "['washingtonexaminer.com',\n",
       " 'pscp.tv',\n",
       " 'hannity.com',\n",
       " 'twitter.com',\n",
       " 'Vote.GOP',\n",
       " 'twitter.com',\n",
       " 'Vote.GOP']"
      ]
     },
     "execution_count": 132,
     "metadata": {},
     "output_type": "execute_result"
    }
   ],
   "source": [
    "urls"
   ]
  },
  {
   "cell_type": "code",
   "execution_count": 133,
   "metadata": {},
   "outputs": [],
   "source": [
    "unreliability_rate = np.in1d(urls,domains).astype(int).sum() / len(urls)"
   ]
  },
  {
   "cell_type": "code",
   "execution_count": 134,
   "metadata": {},
   "outputs": [
    {
     "data": {
      "text/plain": [
       "array([False, False, False, False, False, False, False])"
      ]
     },
     "execution_count": 134,
     "metadata": {},
     "output_type": "execute_result"
    }
   ],
   "source": [
    "np.in1d(urls, domains)"
   ]
  },
  {
   "cell_type": "code",
   "execution_count": null,
   "metadata": {},
   "outputs": [],
   "source": []
  }
 ],
 "metadata": {
  "kernelspec": {
   "display_name": "Python 3",
   "language": "python",
   "name": "python3"
  },
  "language_info": {
   "codemirror_mode": {
    "name": "ipython",
    "version": 3
   },
   "file_extension": ".py",
   "mimetype": "text/x-python",
   "name": "python",
   "nbconvert_exporter": "python",
   "pygments_lexer": "ipython3",
   "version": "3.6.5"
  }
 },
 "nbformat": 4,
 "nbformat_minor": 2
}
