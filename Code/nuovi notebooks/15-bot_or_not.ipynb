{
 "cells": [
  {
   "cell_type": "markdown",
   "metadata": {},
   "source": [
    "# Bot classifier"
   ]
  },
  {
   "cell_type": "code",
   "execution_count": 2,
   "metadata": {},
   "outputs": [],
   "source": [
    "import pandas as pd\n",
    "import numpy as np\n",
    "from sklearn.model_selection import train_test_split\n",
    "from sklearn.preprocessing import StandardScaler, MinMaxScaler\n",
    "from sklearn.ensemble import RandomForestClassifier\n",
    "from sklearn.metrics import confusion_matrix\n",
    "from sklearn.metrics import roc_auc_score\n",
    "from sklearn.metrics import average_precision_score\n",
    "from sklearn.metrics import precision_recall_curve\n",
    "from sklearn.externals import joblib\n",
    "from sklearn import model_selection, linear_model\n",
    "from sklearn.model_selection import StratifiedKFold\n",
    "from sklearn.neighbors import KNeighborsClassifier\n",
    "from sklearn import svm\n",
    "from sklearn.model_selection import cross_val_score\n",
    "from sklearn.model_selection import cross_validate\n",
    "from sklearn.model_selection import GridSearchCV\n",
    "import pickle\n",
    "from functools import reduce\n",
    "\n",
    "import matplotlib.pyplot as plt\n",
    "%matplotlib inline\n",
    "\n",
    "import seaborn as sns\n",
    "sns.set(style=\"white\", color_codes=True)\n",
    "sns.set_context(rc={\"font.family\":'sans',\"font.size\":24,\"axes.titlesize\":24,\"axes.labelsize\":24})   \n",
    "\n",
    "import missingno as msno"
   ]
  },
  {
   "cell_type": "code",
   "execution_count": null,
   "metadata": {},
   "outputs": [],
   "source": [
    "context = pd.read_csv('data/bon/bots/context_score.csv')"
   ]
  },
  {
   "cell_type": "code",
   "execution_count": null,
   "metadata": {},
   "outputs": [],
   "source": [
    "def merge_dataframes(category):\n",
    "    \n",
    "    global df4\n",
    "    df0 = pd.read_csv('data/bon/' + category + '/context_score.csv')\n",
    "    print(len(df0))\n",
    "    df1 = pd.read_csv('data/bon/' + category + '/descriptive_features.csv')\n",
    "    print(len(df1))\n",
    "    df2 = pd.read_csv('data/bon/' + category + '/tweet_intradistance.csv')\n",
    "    print(len(df2))to90xcjncf\n",
    "    df3 = pd.read_csv('data/bon/' + category + '/url_entropy.csv')\n",
    "    print(len(df3))\n",
    "    #df4 = pd.read_csv('data/bon/' + category + '/users.csv', encoding=\"utf-8-sig\", engine=\"python\")\n",
    "    #print(len(df4))\n",
    "    df4 = df4.rename(columns={'id': 'user_id'})\n",
    "    \n",
    "    dfs = [df0, df1, df2, df3, df4]\n",
    "    \n",
    "    df_final = reduce(lambda left,right: pd.merge(left,right,on='user_id'), dfs)\n",
    "    print(df_final.shape)\n",
    "\n",
    "    return df_final"
   ]
  },
  {
   "cell_type": "code",
   "execution_count": null,
   "metadata": {},
   "outputs": [],
   "source": [
    "df4 = pd.read_csv('data/bon/humans/users.csv', encoding=\"utf-8-sig\", engine=\"python\")"
   ]
  },
  {
   "cell_type": "code",
   "execution_count": null,
   "metadata": {},
   "outputs": [],
   "source": [
    "index"
   ]
  },
  {
   "cell_type": "code",
   "execution_count": null,
   "metadata": {},
   "outputs": [],
   "source": [
    "index = []\n",
    "for i, r in df4.iterrows():\n",
    "    try:\n",
    "        int(r.user_id)\n",
    "    except:\n",
    "        index.append(i)"
   ]
  },
  {
   "cell_type": "code",
   "execution_count": null,
   "metadata": {},
   "outputs": [],
   "source": [
    "df4.user_id = df4.user_id.astype(int)"
   ]
  },
  {
   "cell_type": "code",
   "execution_count": null,
   "metadata": {},
   "outputs": [],
   "source": [
    "bot_df = merge_dataframes('bots')"
   ]
  },
  {
   "cell_type": "code",
   "execution_count": null,
   "metadata": {},
   "outputs": [],
   "source": [
    "gen_df['target'] = 0\n",
    "bot_df['target'] = 1"
   ]
  },
  {
   "cell_type": "code",
   "execution_count": null,
   "metadata": {},
   "outputs": [],
   "source": []
  },
  {
   "cell_type": "code",
   "execution_count": null,
   "metadata": {},
   "outputs": [],
   "source": [
    "full = gen_df.append(bot_df, ignore_index=True)"
   ]
  },
  {
   "cell_type": "code",
   "execution_count": null,
   "metadata": {},
   "outputs": [],
   "source": [
    "full.columns"
   ]
  },
  {
   "cell_type": "markdown",
   "metadata": {},
   "source": [
    "## Data exploration"
   ]
  },
  {
   "cell_type": "code",
   "execution_count": null,
   "metadata": {},
   "outputs": [],
   "source": [
    "full.describe()"
   ]
  },
  {
   "cell_type": "markdown",
   "metadata": {},
   "source": [
    "Delete naive features "
   ]
  },
  {
   "cell_type": "code",
   "execution_count": null,
   "metadata": {},
   "outputs": [],
   "source": [
    "full = full.drop(columns=['contributors_enabled', 'follow_request_sent', 'following', 'profile_background_image_url', 'profile_background_image_url_https', 'profile_image_url', 'profile_image_url_https', 'time_zone', 'utc_offset'])"
   ]
  },
  {
   "cell_type": "markdown",
   "metadata": {},
   "source": [
    "plot missing values"
   ]
  },
  {
   "cell_type": "code",
   "execution_count": null,
   "metadata": {},
   "outputs": [],
   "source": [
    "features = full.columns"
   ]
  },
  {
   "cell_type": "code",
   "execution_count": null,
   "metadata": {},
   "outputs": [],
   "source": [
    "msno.matrix(full)"
   ]
  },
  {
   "cell_type": "markdown",
   "metadata": {},
   "source": [
    "plot missing values for each target"
   ]
  },
  {
   "cell_type": "code",
   "execution_count": null,
   "metadata": {},
   "outputs": [],
   "source": [
    "msno.matrix(full[full.target==0])"
   ]
  },
  {
   "cell_type": "code",
   "execution_count": null,
   "metadata": {},
   "outputs": [],
   "source": [
    "msno.matrix(full[full.target==1])"
   ]
  },
  {
   "cell_type": "code",
   "execution_count": null,
   "metadata": {},
   "outputs": [],
   "source": [
    "msno.matrix(full[full.target==0][features[25:]])"
   ]
  },
  {
   "cell_type": "markdown",
   "metadata": {},
   "source": [
    "Remove features with too many missing values for some target"
   ]
  },
  {
   "cell_type": "code",
   "execution_count": null,
   "metadata": {},
   "outputs": [],
   "source": [
    "full = full.drop(columns=['default_profile_image','is_translator', 'geo_enabled', 'location', 'notifications', 'profile_background_tile', 'protected', 'verified'])"
   ]
  },
  {
   "cell_type": "code",
   "execution_count": null,
   "metadata": {},
   "outputs": [],
   "source": [
    "msno.matrix(full)"
   ]
  },
  {
   "cell_type": "code",
   "execution_count": null,
   "metadata": {},
   "outputs": [],
   "source": [
    "full.default_profile.describe()"
   ]
  },
  {
   "cell_type": "code",
   "execution_count": null,
   "metadata": {},
   "outputs": [],
   "source": [
    "full[full.target==0].default_profile.describe()"
   ]
  },
  {
   "cell_type": "code",
   "execution_count": null,
   "metadata": {},
   "outputs": [],
   "source": [
    "full[full.target==1].default_profile.describe()"
   ]
  },
  {
   "cell_type": "code",
   "execution_count": null,
   "metadata": {},
   "outputs": [],
   "source": [
    "full['default_profile'] = full['default_profile'].fillna(full['default_profile'].mode()[0])"
   ]
  },
  {
   "cell_type": "code",
   "execution_count": null,
   "metadata": {},
   "outputs": [],
   "source": [
    "full['description'] = full['description'].fillna('')"
   ]
  },
  {
   "cell_type": "code",
   "execution_count": null,
   "metadata": {},
   "outputs": [],
   "source": [
    "full['description_len'] = full['description'].apply(lambda x: len(x))"
   ]
  },
  {
   "cell_type": "code",
   "execution_count": null,
   "metadata": {},
   "outputs": [],
   "source": [
    "full = full.drop(columns=['description'])"
   ]
  },
  {
   "cell_type": "code",
   "execution_count": null,
   "metadata": {},
   "outputs": [],
   "source": [
    "full['name'] = full['name'].fillna('')"
   ]
  },
  {
   "cell_type": "code",
   "execution_count": null,
   "metadata": {},
   "outputs": [],
   "source": [
    "full['name_len'] = full['name'].apply(lambda x: len(x))"
   ]
  },
  {
   "cell_type": "code",
   "execution_count": null,
   "metadata": {},
   "outputs": [],
   "source": [
    "full = full.drop(columns=['name'])"
   ]
  },
  {
   "cell_type": "code",
   "execution_count": null,
   "metadata": {},
   "outputs": [],
   "source": [
    "full['screen_name'] = full['screen_name'].fillna('')"
   ]
  },
  {
   "cell_type": "code",
   "execution_count": null,
   "metadata": {},
   "outputs": [],
   "source": [
    "full['screen_name_len'] = full['screen_name'].apply(lambda x: len(x))"
   ]
  },
  {
   "cell_type": "code",
   "execution_count": null,
   "metadata": {},
   "outputs": [],
   "source": [
    "full = full.drop(columns=['screen_name'])"
   ]
  },
  {
   "cell_type": "code",
   "execution_count": null,
   "metadata": {},
   "outputs": [],
   "source": [
    "full = full.drop(columns=['lang'])"
   ]
  },
  {
   "cell_type": "code",
   "execution_count": null,
   "metadata": {},
   "outputs": [],
   "source": [
    "def oldness(x):\n",
    "    if x[0] == '2':\n",
    "        return 2018 - int(x[:4])\n",
    "    else:\n",
    "        return 2018 - int(x[-4:])"
   ]
  },
  {
   "cell_type": "code",
   "execution_count": null,
   "metadata": {},
   "outputs": [],
   "source": [
    "types = []\n",
    "for elem in full['created_at']:\n",
    "    types.append(type(elem))\n",
    "set(types)"
   ]
  },
  {
   "cell_type": "code",
   "execution_count": null,
   "metadata": {},
   "outputs": [],
   "source": [
    "mask = full['created_at'].isnull()"
   ]
  },
  {
   "cell_type": "code",
   "execution_count": null,
   "metadata": {},
   "outputs": [],
   "source": [
    "full.drop(full.index[mask], inplace=True)"
   ]
  },
  {
   "cell_type": "code",
   "execution_count": null,
   "metadata": {},
   "outputs": [],
   "source": [
    "full['age'] = full['created_at'].apply(lambda x: oldness(x))"
   ]
  },
  {
   "cell_type": "code",
   "execution_count": null,
   "metadata": {},
   "outputs": [],
   "source": [
    "full = full.drop(columns=['created_at'])"
   ]
  },
  {
   "cell_type": "code",
   "execution_count": null,
   "metadata": {},
   "outputs": [],
   "source": [
    "full['profile_use_background_image'][full.target==0].value_counts()"
   ]
  },
  {
   "cell_type": "code",
   "execution_count": null,
   "metadata": {},
   "outputs": [],
   "source": [
    "full['profile_use_background_image'][full.target==1].value_counts()"
   ]
  },
  {
   "cell_type": "code",
   "execution_count": null,
   "metadata": {},
   "outputs": [],
   "source": [
    "full['profile_use_background_image'] = (full['profile_use_background_image'].notnull()).astype(int)"
   ]
  },
  {
   "cell_type": "code",
   "execution_count": null,
   "metadata": {},
   "outputs": [],
   "source": [
    "full['profile_use_background_image'] = full['profile_use_background_image'].fillna(full['profile_use_background_image'].mode()[0])"
   ]
  },
  {
   "cell_type": "code",
   "execution_count": null,
   "metadata": {},
   "outputs": [],
   "source": [
    "full['url'] = (full['url'].notnull()).astype(int)"
   ]
  },
  {
   "cell_type": "markdown",
   "metadata": {},
   "source": [
    "verifico che non ci siano più missing values"
   ]
  },
  {
   "cell_type": "code",
   "execution_count": null,
   "metadata": {},
   "outputs": [],
   "source": [
    "full.isnull().astype(int).sum()"
   ]
  },
  {
   "cell_type": "code",
   "execution_count": null,
   "metadata": {},
   "outputs": [],
   "source": [
    "full.drop(columns=['profile_background_color', 'profile_link_color', 'profile_sidebar_border_color', 'profile_sidebar_fill_color','profile_text_color'], inplace=True)      "
   ]
  },
  {
   "cell_type": "code",
   "execution_count": null,
   "metadata": {},
   "outputs": [],
   "source": [
    "full.describe()"
   ]
  },
  {
   "cell_type": "code",
   "execution_count": null,
   "metadata": {},
   "outputs": [],
   "source": [
    "full['default_profile'] = (full['default_profile'].notnull()).astype(int)\n",
    "full['statuses_count'] = (full['statuses_count'].notnull()).astype(int)\n",
    "full['user_id'] = (full['user_id'].notnull()).astype(int)"
   ]
  },
  {
   "cell_type": "code",
   "execution_count": null,
   "metadata": {},
   "outputs": [],
   "source": [
    "full.to_csv('data/bon/full_preproc_train.csv', index=False)"
   ]
  },
  {
   "cell_type": "markdown",
   "metadata": {},
   "source": [
    "# riparti da qui per evitare preprocessing"
   ]
  },
  {
   "cell_type": "code",
   "execution_count": 162,
   "metadata": {},
   "outputs": [],
   "source": [
    "full = pd.read_csv('data/bon/bon_train.csv')"
   ]
  },
  {
   "cell_type": "code",
   "execution_count": 137,
   "metadata": {},
   "outputs": [
    {
     "data": {
      "text/plain": [
       "31212"
      ]
     },
     "execution_count": 137,
     "metadata": {},
     "output_type": "execute_result"
    }
   ],
   "source": [
    "len(full)"
   ]
  },
  {
   "cell_type": "code",
   "execution_count": 138,
   "metadata": {},
   "outputs": [
    {
     "data": {
      "text/plain": [
       "15687"
      ]
     },
     "execution_count": 138,
     "metadata": {},
     "output_type": "execute_result"
    }
   ],
   "source": [
    "len(full.loc[full.target==0])"
   ]
  },
  {
   "cell_type": "code",
   "execution_count": 139,
   "metadata": {},
   "outputs": [
    {
     "data": {
      "text/plain": [
       "15525"
      ]
     },
     "execution_count": 139,
     "metadata": {},
     "output_type": "execute_result"
    }
   ],
   "source": [
    "len(full.loc[full.target==1])"
   ]
  },
  {
   "cell_type": "code",
   "execution_count": 10,
   "metadata": {},
   "outputs": [
    {
     "data": {
      "text/plain": [
       "Index(['statuses_count', 'followers_count', 'friends_count',\n",
       "       'favourites_count', 'listed_count', 'url', 'default_profile',\n",
       "       'profile_use_background_image', 'verified', 'avg_len', 'max_len',\n",
       "       'min_len', 'avg_ret', 'max_ret', 'min_ret', 'avg_fav', 'max_fav',\n",
       "       'min_fav', 'avg_hash', 'max_hash', 'min_hash', 'freq', 'ret_perc',\n",
       "       'media_perc', 'url_perc', 'quote_perc', 'url_entropy',\n",
       "       'tweet_intradistance', 'bot_words_score', 'gen_words_score', 'target',\n",
       "       'description_len', 'name_len', 'screen_name_len', 'age'],\n",
       "      dtype='object')"
      ]
     },
     "execution_count": 10,
     "metadata": {},
     "output_type": "execute_result"
    }
   ],
   "source": [
    "full.columns"
   ]
  },
  {
   "cell_type": "code",
   "execution_count": 8,
   "metadata": {},
   "outputs": [],
   "source": [
    "def predict(X, y, n_trees=10, knn=4):\n",
    "    \n",
    "    forest = RandomForestClassifier(n_estimators = n_trees)\n",
    "    logreg = linear_model.LogisticRegression(max_iter=1000, solver=\"liblinear\")\n",
    "    \n",
    "    scaler = MinMaxScaler()\n",
    "    X_n = scaler.fit_transform(X)\n",
    "    knn = KNeighborsClassifier(n_neighbors=knn)\n",
    "    SVM = svm.SVC()\n",
    "    scoring = ['roc_auc']\n",
    "    scores = []\n",
    "    scores.append(cross_validate(forest, X, y, cv=10, scoring=scoring))\n",
    "    scores.append(cross_validate(logreg, X, y, cv=10, scoring=scoring))\n",
    "    scores.append(cross_validate(knn, X_n, y, cv=10, scoring=scoring))\n",
    "    scores.append(cross_validate(knn, X, y, cv=10, scoring=scoring))\n",
    "    scores.append(cross_validate(SVM, X, y, cv=10, scoring=scoring))\n",
    "    \n",
    "    return scores"
   ]
  },
  {
   "cell_type": "code",
   "execution_count": 11,
   "metadata": {},
   "outputs": [],
   "source": [
    "# split X,y\n",
    "X = full.drop(columns=['target'])\n",
    "y = full['target']"
   ]
  },
  {
   "cell_type": "code",
   "execution_count": 12,
   "metadata": {},
   "outputs": [
    {
     "data": {
      "text/plain": [
       "Index(['statuses_count', 'followers_count', 'friends_count',\n",
       "       'favourites_count', 'listed_count', 'url', 'default_profile',\n",
       "       'profile_use_background_image', 'verified', 'avg_len', 'max_len',\n",
       "       'min_len', 'avg_ret', 'max_ret', 'min_ret', 'avg_fav', 'max_fav',\n",
       "       'min_fav', 'avg_hash', 'max_hash', 'min_hash', 'freq', 'ret_perc',\n",
       "       'media_perc', 'url_perc', 'quote_perc', 'url_entropy',\n",
       "       'tweet_intradistance', 'bot_words_score', 'gen_words_score',\n",
       "       'description_len', 'name_len', 'screen_name_len', 'age'],\n",
       "      dtype='object')"
      ]
     },
     "execution_count": 12,
     "metadata": {},
     "output_type": "execute_result"
    }
   ],
   "source": [
    "X.columns"
   ]
  },
  {
   "cell_type": "markdown",
   "metadata": {},
   "source": [
    "## Holdout"
   ]
  },
  {
   "cell_type": "code",
   "execution_count": 20,
   "metadata": {},
   "outputs": [],
   "source": [
    "X_train, X_test, y_train, y_test = train_test_split(X, y, test_size = 0.3, random_state = 42)"
   ]
  },
  {
   "cell_type": "code",
   "execution_count": 38,
   "metadata": {},
   "outputs": [
    {
     "data": {
      "text/plain": [
       "RandomForestClassifier(bootstrap=True, class_weight=None, criterion='entropy',\n",
       "            max_depth=None, max_features='auto', max_leaf_nodes=None,\n",
       "            min_impurity_decrease=0.0, min_impurity_split=None,\n",
       "            min_samples_leaf=1, min_samples_split=2,\n",
       "            min_weight_fraction_leaf=0.0, n_estimators=20, n_jobs=None,\n",
       "            oob_score=False, random_state=42, verbose=0, warm_start=False)"
      ]
     },
     "execution_count": 38,
     "metadata": {},
     "output_type": "execute_result"
    }
   ],
   "source": [
    "# Fitting Random Forest Classification to the Training set\n",
    "forest = RandomForestClassifier(n_estimators = 20, criterion = 'entropy', random_state = 42)\n",
    "forest.fit(X_train, y_train)"
   ]
  },
  {
   "cell_type": "code",
   "execution_count": 22,
   "metadata": {},
   "outputs": [
    {
     "name": "stderr",
     "output_type": "stream",
     "text": [
      "/Users/Lorenzo/anaconda/lib/python3.6/site-packages/sklearn/linear_model/logistic.py:432: FutureWarning: Default solver will be changed to 'lbfgs' in 0.22. Specify a solver to silence this warning.\n",
      "  FutureWarning)\n",
      "/Users/Lorenzo/anaconda/lib/python3.6/site-packages/sklearn/svm/base.py:922: ConvergenceWarning: Liblinear failed to converge, increase the number of iterations.\n",
      "  \"the number of iterations.\", ConvergenceWarning)\n"
     ]
    },
    {
     "data": {
      "text/plain": [
       "LogisticRegression(C=1.0, class_weight=None, dual=False, fit_intercept=True,\n",
       "          intercept_scaling=1, max_iter=100, multi_class='warn',\n",
       "          n_jobs=None, penalty='l2', random_state=None, solver='warn',\n",
       "          tol=0.0001, verbose=0, warm_start=False)"
      ]
     },
     "execution_count": 22,
     "metadata": {},
     "output_type": "execute_result"
    }
   ],
   "source": [
    "# Fitting Logistic Regression\n",
    "logreg = linear_model.LogisticRegression()\n",
    "logreg.fit(X_train, y_train)"
   ]
  },
  {
   "cell_type": "code",
   "execution_count": 23,
   "metadata": {},
   "outputs": [
    {
     "name": "stderr",
     "output_type": "stream",
     "text": [
      "/Users/Lorenzo/anaconda/lib/python3.6/site-packages/sklearn/svm/base.py:196: FutureWarning: The default value of gamma will change from 'auto' to 'scale' in version 0.22 to account better for unscaled features. Set gamma explicitly to 'auto' or 'scale' to avoid this warning.\n",
      "  \"avoid this warning.\", FutureWarning)\n"
     ]
    },
    {
     "data": {
      "text/plain": [
       "SVC(C=1.0, cache_size=200, class_weight=None, coef0=0.0,\n",
       "  decision_function_shape='ovo', degree=3, gamma='auto_deprecated',\n",
       "  kernel='rbf', max_iter=-1, probability=False, random_state=None,\n",
       "  shrinking=True, tol=0.001, verbose=False)"
      ]
     },
     "execution_count": 23,
     "metadata": {},
     "output_type": "execute_result"
    }
   ],
   "source": [
    "# Fitting SVM\n",
    "SVM = svm.SVC(decision_function_shape='ovo')\n",
    "SVM.fit(X_train, y_train)"
   ]
  },
  {
   "cell_type": "markdown",
   "metadata": {},
   "source": [
    "### Holdout score - forest"
   ]
  },
  {
   "cell_type": "code",
   "execution_count": 39,
   "metadata": {},
   "outputs": [
    {
     "name": "stdout",
     "output_type": "stream",
     "text": [
      "Predicted Target     0     1\n",
      "Actual Target               \n",
      "0                 4314   336\n",
      "1                  554  4160\n",
      "AUC:0.9051098307033271\n"
     ]
    }
   ],
   "source": [
    "# Predicting the Test set results\n",
    "y_pred = forest.predict(X_test)\n",
    "# Making the Confusion Matrix\n",
    "print(pd.crosstab(y_test, y_pred, rownames=['Actual Target'], colnames=['Predicted Target']))\n",
    "print(\"AUC:\" + str(roc_auc_score(y_test, y_pred)))"
   ]
  },
  {
   "cell_type": "markdown",
   "metadata": {},
   "source": [
    "### Most important features"
   ]
  },
  {
   "cell_type": "code",
   "execution_count": 25,
   "metadata": {},
   "outputs": [
    {
     "data": {
      "text/plain": [
       "[(0.15, 'age'),\n",
       " (0.12, 'friends_count'),\n",
       " (0.09, 'statuses_count'),\n",
       " (0.07, 'followers_count'),\n",
       " (0.07, 'favourites_count'),\n",
       " (0.04, 'min_len'),\n",
       " (0.04, 'bot_words_score'),\n",
       " (0.04, 'avg_ret'),\n",
       " (0.03, 'max_ret'),\n",
       " (0.03, 'listed_count')]"
      ]
     },
     "execution_count": 25,
     "metadata": {},
     "output_type": "execute_result"
    }
   ],
   "source": [
    "sorted(zip(map(lambda x: round(x, 2), forest.feature_importances_), X.columns), reverse=True)[:10]"
   ]
  },
  {
   "cell_type": "markdown",
   "metadata": {},
   "source": [
    "### Holdout score - logistic regression"
   ]
  },
  {
   "cell_type": "code",
   "execution_count": 26,
   "metadata": {},
   "outputs": [
    {
     "name": "stdout",
     "output_type": "stream",
     "text": [
      "Predicted Target     0     1\n",
      "Actual Target               \n",
      "0                 3124  1526\n",
      "1                  558  4156\n",
      "AUC:0.7767285733185524\n"
     ]
    }
   ],
   "source": [
    "# Predicting the Test set results\n",
    "y_pred = logreg.predict(X_test)\n",
    "# Making the Confusion Matrix\n",
    "print(pd.crosstab(y_test, y_pred, rownames=['Actual Target'], colnames=['Predicted Target']))\n",
    "print(\"AUC:\" + str(roc_auc_score(y_test, y_pred)))"
   ]
  },
  {
   "cell_type": "markdown",
   "metadata": {},
   "source": [
    "## KNN"
   ]
  },
  {
   "cell_type": "code",
   "execution_count": 27,
   "metadata": {},
   "outputs": [
    {
     "name": "stderr",
     "output_type": "stream",
     "text": [
      "/Users/Lorenzo/anaconda/lib/python3.6/site-packages/sklearn/preprocessing/data.py:323: DataConversionWarning: Data with input dtype bool, int64, float64 were all converted to float64 by MinMaxScaler.\n",
      "  return self.partial_fit(X, y)\n",
      "/Users/Lorenzo/anaconda/lib/python3.6/site-packages/sklearn/preprocessing/data.py:323: DataConversionWarning: Data with input dtype bool, int64, float64 were all converted to float64 by MinMaxScaler.\n",
      "  return self.partial_fit(X, y)\n",
      "/Users/Lorenzo/anaconda/lib/python3.6/site-packages/sklearn/preprocessing/data.py:323: DataConversionWarning: Data with input dtype bool, int64, float64 were all converted to float64 by MinMaxScaler.\n",
      "  return self.partial_fit(X, y)\n"
     ]
    }
   ],
   "source": [
    "scaler = MinMaxScaler()\n",
    "X_train_n = scaler.fit_transform(X_train)\n",
    "X_test_n = scaler.fit_transform(X_test)\n",
    "X_n = scaler.fit_transform(X)"
   ]
  },
  {
   "cell_type": "code",
   "execution_count": 28,
   "metadata": {},
   "outputs": [
    {
     "data": {
      "text/plain": [
       "KNeighborsClassifier(algorithm='auto', leaf_size=30, metric='minkowski',\n",
       "           metric_params=None, n_jobs=None, n_neighbors=10, p=2,\n",
       "           weights='uniform')"
      ]
     },
     "execution_count": 28,
     "metadata": {},
     "output_type": "execute_result"
    }
   ],
   "source": [
    "knn = KNeighborsClassifier(n_neighbors=10)\n",
    "knn.fit(X_train_n, y_train)"
   ]
  },
  {
   "cell_type": "markdown",
   "metadata": {},
   "source": [
    "### Holdout score - KNN"
   ]
  },
  {
   "cell_type": "code",
   "execution_count": 29,
   "metadata": {},
   "outputs": [
    {
     "name": "stdout",
     "output_type": "stream",
     "text": [
      "Predicted Target     0     1\n",
      "Actual Target               \n",
      "0                 3698   952\n",
      "1                 1129  3585\n",
      "AUC:0.7778847268032536\n"
     ]
    }
   ],
   "source": [
    "# Predicting the Test set results\n",
    "y_pred = knn.predict(X_test_n)\n",
    "# Making the Confusion Matrix\n",
    "print(pd.crosstab(y_test, y_pred, rownames=['Actual Target'], colnames=['Predicted Target']))\n",
    "print(\"AUC:\" + str(roc_auc_score(y_test, y_pred)))"
   ]
  },
  {
   "cell_type": "markdown",
   "metadata": {},
   "source": [
    "### Holdout score - SVM"
   ]
  },
  {
   "cell_type": "code",
   "execution_count": 30,
   "metadata": {},
   "outputs": [
    {
     "name": "stdout",
     "output_type": "stream",
     "text": [
      "Predicted Target     0   1\n",
      "Actual Target             \n",
      "0                 4625  25\n",
      "1                 4676  38\n",
      "AUC:0.5013423752628866\n"
     ]
    }
   ],
   "source": [
    "# Predicting the Test set results\n",
    "y_pred = SVM.predict(X_test)\n",
    "# Making the Confusion Matrix\n",
    "print(pd.crosstab(y_test, y_pred, rownames=['Actual Target'], colnames=['Predicted Target']))\n",
    "print(\"AUC:\" + str(roc_auc_score(y_test, y_pred)))"
   ]
  },
  {
   "cell_type": "markdown",
   "metadata": {},
   "source": [
    "## 10-Fold-CV"
   ]
  },
  {
   "cell_type": "code",
   "execution_count": 13,
   "metadata": {},
   "outputs": [
    {
     "name": "stderr",
     "output_type": "stream",
     "text": [
      "/Users/Lorenzo/anaconda/lib/python3.6/site-packages/sklearn/preprocessing/data.py:323: DataConversionWarning: Data with input dtype bool, int64, float64 were all converted to float64 by MinMaxScaler.\n",
      "  return self.partial_fit(X, y)\n",
      "/Users/Lorenzo/anaconda/lib/python3.6/site-packages/sklearn/svm/base.py:196: FutureWarning: The default value of gamma will change from 'auto' to 'scale' in version 0.22 to account better for unscaled features. Set gamma explicitly to 'auto' or 'scale' to avoid this warning.\n",
      "  \"avoid this warning.\", FutureWarning)\n",
      "/Users/Lorenzo/anaconda/lib/python3.6/site-packages/sklearn/svm/base.py:196: FutureWarning: The default value of gamma will change from 'auto' to 'scale' in version 0.22 to account better for unscaled features. Set gamma explicitly to 'auto' or 'scale' to avoid this warning.\n",
      "  \"avoid this warning.\", FutureWarning)\n",
      "/Users/Lorenzo/anaconda/lib/python3.6/site-packages/sklearn/svm/base.py:196: FutureWarning: The default value of gamma will change from 'auto' to 'scale' in version 0.22 to account better for unscaled features. Set gamma explicitly to 'auto' or 'scale' to avoid this warning.\n",
      "  \"avoid this warning.\", FutureWarning)\n",
      "/Users/Lorenzo/anaconda/lib/python3.6/site-packages/sklearn/svm/base.py:196: FutureWarning: The default value of gamma will change from 'auto' to 'scale' in version 0.22 to account better for unscaled features. Set gamma explicitly to 'auto' or 'scale' to avoid this warning.\n",
      "  \"avoid this warning.\", FutureWarning)\n",
      "/Users/Lorenzo/anaconda/lib/python3.6/site-packages/sklearn/svm/base.py:196: FutureWarning: The default value of gamma will change from 'auto' to 'scale' in version 0.22 to account better for unscaled features. Set gamma explicitly to 'auto' or 'scale' to avoid this warning.\n",
      "  \"avoid this warning.\", FutureWarning)\n",
      "/Users/Lorenzo/anaconda/lib/python3.6/site-packages/sklearn/svm/base.py:196: FutureWarning: The default value of gamma will change from 'auto' to 'scale' in version 0.22 to account better for unscaled features. Set gamma explicitly to 'auto' or 'scale' to avoid this warning.\n",
      "  \"avoid this warning.\", FutureWarning)\n",
      "/Users/Lorenzo/anaconda/lib/python3.6/site-packages/sklearn/svm/base.py:196: FutureWarning: The default value of gamma will change from 'auto' to 'scale' in version 0.22 to account better for unscaled features. Set gamma explicitly to 'auto' or 'scale' to avoid this warning.\n",
      "  \"avoid this warning.\", FutureWarning)\n",
      "/Users/Lorenzo/anaconda/lib/python3.6/site-packages/sklearn/svm/base.py:196: FutureWarning: The default value of gamma will change from 'auto' to 'scale' in version 0.22 to account better for unscaled features. Set gamma explicitly to 'auto' or 'scale' to avoid this warning.\n",
      "  \"avoid this warning.\", FutureWarning)\n",
      "/Users/Lorenzo/anaconda/lib/python3.6/site-packages/sklearn/svm/base.py:196: FutureWarning: The default value of gamma will change from 'auto' to 'scale' in version 0.22 to account better for unscaled features. Set gamma explicitly to 'auto' or 'scale' to avoid this warning.\n",
      "  \"avoid this warning.\", FutureWarning)\n",
      "/Users/Lorenzo/anaconda/lib/python3.6/site-packages/sklearn/svm/base.py:196: FutureWarning: The default value of gamma will change from 'auto' to 'scale' in version 0.22 to account better for unscaled features. Set gamma explicitly to 'auto' or 'scale' to avoid this warning.\n",
      "  \"avoid this warning.\", FutureWarning)\n"
     ]
    }
   ],
   "source": [
    "baselines = predict(X,y)"
   ]
  },
  {
   "cell_type": "markdown",
   "metadata": {},
   "source": [
    "## RF scores:"
   ]
  },
  {
   "cell_type": "code",
   "execution_count": 15,
   "metadata": {},
   "outputs": [
    {
     "name": "stdout",
     "output_type": "stream",
     "text": [
      "AUC:\n",
      "0.9407389820720429\n"
     ]
    }
   ],
   "source": [
    "print(\"AUC:\")\n",
    "print(baselines[0]['test_roc_auc'].mean())"
   ]
  },
  {
   "cell_type": "markdown",
   "metadata": {},
   "source": [
    "## LogReg Scores:"
   ]
  },
  {
   "cell_type": "code",
   "execution_count": 16,
   "metadata": {},
   "outputs": [
    {
     "name": "stdout",
     "output_type": "stream",
     "text": [
      "AUC:\n",
      "0.8443566244156194\n"
     ]
    }
   ],
   "source": [
    "print(\"AUC:\")\n",
    "print(baselines[1]['test_roc_auc'].mean())"
   ]
  },
  {
   "cell_type": "markdown",
   "metadata": {},
   "source": [
    "## KNN scores:"
   ]
  },
  {
   "cell_type": "code",
   "execution_count": 42,
   "metadata": {},
   "outputs": [
    {
     "name": "stdout",
     "output_type": "stream",
     "text": [
      "AUC:\n",
      "0.8215310768365942\n"
     ]
    }
   ],
   "source": [
    "print(\"AUC:\")\n",
    "print(baselines[2]['test_roc_auc'].mean())"
   ]
  },
  {
   "cell_type": "markdown",
   "metadata": {},
   "source": [
    "## Normalized KNN scores:"
   ]
  },
  {
   "cell_type": "code",
   "execution_count": 18,
   "metadata": {},
   "outputs": [
    {
     "name": "stdout",
     "output_type": "stream",
     "text": [
      "AUC:\n",
      "0.8788747008657101\n"
     ]
    }
   ],
   "source": [
    "print(\"AUC:\")\n",
    "print(baselines[3]['test_roc_auc'].mean())"
   ]
  },
  {
   "cell_type": "markdown",
   "metadata": {},
   "source": [
    "## SVM scores:"
   ]
  },
  {
   "cell_type": "code",
   "execution_count": 19,
   "metadata": {},
   "outputs": [
    {
     "name": "stdout",
     "output_type": "stream",
     "text": [
      "AUC:\n",
      "0.5240039334865573\n"
     ]
    }
   ],
   "source": [
    "print(\"AUC:\")\n",
    "print(baselines[4]['test_roc_auc'].mean())"
   ]
  },
  {
   "cell_type": "markdown",
   "metadata": {},
   "source": [
    "# Grid Search"
   ]
  },
  {
   "cell_type": "code",
   "execution_count": 53,
   "metadata": {},
   "outputs": [],
   "source": [
    "def grid_search(X, y, model, params):\n",
    "    \n",
    "    scoring = ['roc_auc']\n",
    "    grid = GridSearchCV(model, params, cv=10, scoring=scoring, refit=False)\n",
    "    grid.fit(X, y)\n",
    "    \n",
    "    return grid"
   ]
  },
  {
   "cell_type": "markdown",
   "metadata": {},
   "source": [
    "### Random Forest"
   ]
  },
  {
   "cell_type": "code",
   "execution_count": 44,
   "metadata": {},
   "outputs": [],
   "source": [
    "params = {'n_estimators':[150,200,250,300,350,400,450,500], 'max_depth':[None,26,28], 'criterion':['entropy']}\n",
    "model = RandomForestClassifier()\n",
    "\n",
    "rf_grid = grid_search(X, y, model, params)"
   ]
  },
  {
   "cell_type": "code",
   "execution_count": 45,
   "metadata": {},
   "outputs": [],
   "source": [
    "n_estimators = [150,200,250,300,350,400,450,500]\n",
    "max_depth = [26,28,None]"
   ]
  },
  {
   "cell_type": "code",
   "execution_count": 46,
   "metadata": {},
   "outputs": [
    {
     "name": "stderr",
     "output_type": "stream",
     "text": [
      "/Users/Lorenzo/anaconda/lib/python3.6/site-packages/sklearn/utils/deprecation.py:125: FutureWarning: You are accessing a training score ('split0_train_roc_auc'), which will not be available by default any more in 0.21. If you need training scores, please set return_train_score=True\n",
      "  warnings.warn(*warn_args, **warn_kwargs)\n",
      "/Users/Lorenzo/anaconda/lib/python3.6/site-packages/sklearn/utils/deprecation.py:125: FutureWarning: You are accessing a training score ('split1_train_roc_auc'), which will not be available by default any more in 0.21. If you need training scores, please set return_train_score=True\n",
      "  warnings.warn(*warn_args, **warn_kwargs)\n",
      "/Users/Lorenzo/anaconda/lib/python3.6/site-packages/sklearn/utils/deprecation.py:125: FutureWarning: You are accessing a training score ('split2_train_roc_auc'), which will not be available by default any more in 0.21. If you need training scores, please set return_train_score=True\n",
      "  warnings.warn(*warn_args, **warn_kwargs)\n",
      "/Users/Lorenzo/anaconda/lib/python3.6/site-packages/sklearn/utils/deprecation.py:125: FutureWarning: You are accessing a training score ('split3_train_roc_auc'), which will not be available by default any more in 0.21. If you need training scores, please set return_train_score=True\n",
      "  warnings.warn(*warn_args, **warn_kwargs)\n",
      "/Users/Lorenzo/anaconda/lib/python3.6/site-packages/sklearn/utils/deprecation.py:125: FutureWarning: You are accessing a training score ('split4_train_roc_auc'), which will not be available by default any more in 0.21. If you need training scores, please set return_train_score=True\n",
      "  warnings.warn(*warn_args, **warn_kwargs)\n",
      "/Users/Lorenzo/anaconda/lib/python3.6/site-packages/sklearn/utils/deprecation.py:125: FutureWarning: You are accessing a training score ('split5_train_roc_auc'), which will not be available by default any more in 0.21. If you need training scores, please set return_train_score=True\n",
      "  warnings.warn(*warn_args, **warn_kwargs)\n",
      "/Users/Lorenzo/anaconda/lib/python3.6/site-packages/sklearn/utils/deprecation.py:125: FutureWarning: You are accessing a training score ('split6_train_roc_auc'), which will not be available by default any more in 0.21. If you need training scores, please set return_train_score=True\n",
      "  warnings.warn(*warn_args, **warn_kwargs)\n",
      "/Users/Lorenzo/anaconda/lib/python3.6/site-packages/sklearn/utils/deprecation.py:125: FutureWarning: You are accessing a training score ('split7_train_roc_auc'), which will not be available by default any more in 0.21. If you need training scores, please set return_train_score=True\n",
      "  warnings.warn(*warn_args, **warn_kwargs)\n",
      "/Users/Lorenzo/anaconda/lib/python3.6/site-packages/sklearn/utils/deprecation.py:125: FutureWarning: You are accessing a training score ('split8_train_roc_auc'), which will not be available by default any more in 0.21. If you need training scores, please set return_train_score=True\n",
      "  warnings.warn(*warn_args, **warn_kwargs)\n",
      "/Users/Lorenzo/anaconda/lib/python3.6/site-packages/sklearn/utils/deprecation.py:125: FutureWarning: You are accessing a training score ('split9_train_roc_auc'), which will not be available by default any more in 0.21. If you need training scores, please set return_train_score=True\n",
      "  warnings.warn(*warn_args, **warn_kwargs)\n",
      "/Users/Lorenzo/anaconda/lib/python3.6/site-packages/sklearn/utils/deprecation.py:125: FutureWarning: You are accessing a training score ('mean_train_roc_auc'), which will not be available by default any more in 0.21. If you need training scores, please set return_train_score=True\n",
      "  warnings.warn(*warn_args, **warn_kwargs)\n",
      "/Users/Lorenzo/anaconda/lib/python3.6/site-packages/sklearn/utils/deprecation.py:125: FutureWarning: You are accessing a training score ('std_train_roc_auc'), which will not be available by default any more in 0.21. If you need training scores, please set return_train_score=True\n",
      "  warnings.warn(*warn_args, **warn_kwargs)\n"
     ]
    }
   ],
   "source": [
    "results = pd.DataFrame(rf_grid.cv_results_)"
   ]
  },
  {
   "cell_type": "code",
   "execution_count": 47,
   "metadata": {},
   "outputs": [
    {
     "data": {
      "text/html": [
       "<div>\n",
       "<style scoped>\n",
       "    .dataframe tbody tr th:only-of-type {\n",
       "        vertical-align: middle;\n",
       "    }\n",
       "\n",
       "    .dataframe tbody tr th {\n",
       "        vertical-align: top;\n",
       "    }\n",
       "\n",
       "    .dataframe thead th {\n",
       "        text-align: right;\n",
       "    }\n",
       "</style>\n",
       "<table border=\"1\" class=\"dataframe\">\n",
       "  <thead>\n",
       "    <tr style=\"text-align: right;\">\n",
       "      <th></th>\n",
       "      <th>param_n_estimators</th>\n",
       "      <th>param_max_depth</th>\n",
       "      <th>mean_test_roc_auc</th>\n",
       "    </tr>\n",
       "  </thead>\n",
       "  <tbody>\n",
       "    <tr>\n",
       "      <th>8</th>\n",
       "      <td>150</td>\n",
       "      <td>26</td>\n",
       "      <td>0.960758</td>\n",
       "    </tr>\n",
       "    <tr>\n",
       "      <th>9</th>\n",
       "      <td>200</td>\n",
       "      <td>26</td>\n",
       "      <td>0.960803</td>\n",
       "    </tr>\n",
       "    <tr>\n",
       "      <th>10</th>\n",
       "      <td>250</td>\n",
       "      <td>26</td>\n",
       "      <td>0.960917</td>\n",
       "    </tr>\n",
       "    <tr>\n",
       "      <th>11</th>\n",
       "      <td>300</td>\n",
       "      <td>26</td>\n",
       "      <td>0.961126</td>\n",
       "    </tr>\n",
       "    <tr>\n",
       "      <th>12</th>\n",
       "      <td>350</td>\n",
       "      <td>26</td>\n",
       "      <td>0.961049</td>\n",
       "    </tr>\n",
       "    <tr>\n",
       "      <th>13</th>\n",
       "      <td>400</td>\n",
       "      <td>26</td>\n",
       "      <td>0.960932</td>\n",
       "    </tr>\n",
       "    <tr>\n",
       "      <th>14</th>\n",
       "      <td>450</td>\n",
       "      <td>26</td>\n",
       "      <td>0.961575</td>\n",
       "    </tr>\n",
       "    <tr>\n",
       "      <th>15</th>\n",
       "      <td>500</td>\n",
       "      <td>26</td>\n",
       "      <td>0.961538</td>\n",
       "    </tr>\n",
       "    <tr>\n",
       "      <th>16</th>\n",
       "      <td>150</td>\n",
       "      <td>28</td>\n",
       "      <td>0.960422</td>\n",
       "    </tr>\n",
       "    <tr>\n",
       "      <th>17</th>\n",
       "      <td>200</td>\n",
       "      <td>28</td>\n",
       "      <td>0.960993</td>\n",
       "    </tr>\n",
       "    <tr>\n",
       "      <th>18</th>\n",
       "      <td>250</td>\n",
       "      <td>28</td>\n",
       "      <td>0.960970</td>\n",
       "    </tr>\n",
       "    <tr>\n",
       "      <th>19</th>\n",
       "      <td>300</td>\n",
       "      <td>28</td>\n",
       "      <td>0.961034</td>\n",
       "    </tr>\n",
       "    <tr>\n",
       "      <th>20</th>\n",
       "      <td>350</td>\n",
       "      <td>28</td>\n",
       "      <td>0.961123</td>\n",
       "    </tr>\n",
       "    <tr>\n",
       "      <th>21</th>\n",
       "      <td>400</td>\n",
       "      <td>28</td>\n",
       "      <td>0.961476</td>\n",
       "    </tr>\n",
       "    <tr>\n",
       "      <th>22</th>\n",
       "      <td>450</td>\n",
       "      <td>28</td>\n",
       "      <td>0.961108</td>\n",
       "    </tr>\n",
       "    <tr>\n",
       "      <th>23</th>\n",
       "      <td>500</td>\n",
       "      <td>28</td>\n",
       "      <td>0.961197</td>\n",
       "    </tr>\n",
       "    <tr>\n",
       "      <th>0</th>\n",
       "      <td>150</td>\n",
       "      <td>None</td>\n",
       "      <td>0.960513</td>\n",
       "    </tr>\n",
       "    <tr>\n",
       "      <th>1</th>\n",
       "      <td>200</td>\n",
       "      <td>None</td>\n",
       "      <td>0.961254</td>\n",
       "    </tr>\n",
       "    <tr>\n",
       "      <th>2</th>\n",
       "      <td>250</td>\n",
       "      <td>None</td>\n",
       "      <td>0.960832</td>\n",
       "    </tr>\n",
       "    <tr>\n",
       "      <th>3</th>\n",
       "      <td>300</td>\n",
       "      <td>None</td>\n",
       "      <td>0.960876</td>\n",
       "    </tr>\n",
       "    <tr>\n",
       "      <th>4</th>\n",
       "      <td>350</td>\n",
       "      <td>None</td>\n",
       "      <td>0.961092</td>\n",
       "    </tr>\n",
       "    <tr>\n",
       "      <th>5</th>\n",
       "      <td>400</td>\n",
       "      <td>None</td>\n",
       "      <td>0.961143</td>\n",
       "    </tr>\n",
       "    <tr>\n",
       "      <th>6</th>\n",
       "      <td>450</td>\n",
       "      <td>None</td>\n",
       "      <td>0.961066</td>\n",
       "    </tr>\n",
       "    <tr>\n",
       "      <th>7</th>\n",
       "      <td>500</td>\n",
       "      <td>None</td>\n",
       "      <td>0.961341</td>\n",
       "    </tr>\n",
       "  </tbody>\n",
       "</table>\n",
       "</div>"
      ],
      "text/plain": [
       "   param_n_estimators param_max_depth  mean_test_roc_auc\n",
       "8                 150              26           0.960758\n",
       "9                 200              26           0.960803\n",
       "10                250              26           0.960917\n",
       "11                300              26           0.961126\n",
       "12                350              26           0.961049\n",
       "13                400              26           0.960932\n",
       "14                450              26           0.961575\n",
       "15                500              26           0.961538\n",
       "16                150              28           0.960422\n",
       "17                200              28           0.960993\n",
       "18                250              28           0.960970\n",
       "19                300              28           0.961034\n",
       "20                350              28           0.961123\n",
       "21                400              28           0.961476\n",
       "22                450              28           0.961108\n",
       "23                500              28           0.961197\n",
       "0                 150            None           0.960513\n",
       "1                 200            None           0.961254\n",
       "2                 250            None           0.960832\n",
       "3                 300            None           0.960876\n",
       "4                 350            None           0.961092\n",
       "5                 400            None           0.961143\n",
       "6                 450            None           0.961066\n",
       "7                 500            None           0.961341"
      ]
     },
     "execution_count": 47,
     "metadata": {},
     "output_type": "execute_result"
    }
   ],
   "source": [
    "results.sort_values(by=['param_max_depth'])[['param_n_estimators', 'param_max_depth','mean_test_roc_auc']]"
   ]
  },
  {
   "cell_type": "code",
   "execution_count": 79,
   "metadata": {},
   "outputs": [],
   "source": [
    "X.drop(columns=['age'], inplace=True)"
   ]
  },
  {
   "cell_type": "code",
   "execution_count": 81,
   "metadata": {},
   "outputs": [
    {
     "data": {
      "text/plain": [
       "34"
      ]
     },
     "execution_count": 81,
     "metadata": {},
     "output_type": "execute_result"
    }
   ],
   "source": [
    "len(X.columns)"
   ]
  },
  {
   "cell_type": "markdown",
   "metadata": {},
   "source": [
    "## Visualize Results"
   ]
  },
  {
   "cell_type": "code",
   "execution_count": 82,
   "metadata": {},
   "outputs": [
    {
     "data": {
      "image/png": "[encoded data removed]",
      "text/plain": [
       "<Figure size 1152x864 with 1 Axes>"
      ]
     },
     "metadata": {},
     "output_type": "display_data"
    }
   ],
   "source": [
    "import matplotlib.pyplot as plt\n",
    "from itertools import cycle\n",
    "from scipy import interp\n",
    "from sklearn import svm, datasets\n",
    "from sklearn.metrics import roc_curve, auc\n",
    "from sklearn.model_selection import StratifiedKFold\n",
    "\n",
    "\n",
    "# Run classifier with cross-validation and plot ROC curves\n",
    "cv = StratifiedKFold(n_splits=10)\n",
    "classifier = RandomForestClassifier(n_estimators=600, criterion='entropy', max_depth=26)\n",
    "\n",
    "tprs = []\n",
    "aucs = []\n",
    "mean_fpr = np.linspace(0, 1, 100)\n",
    "\n",
    "plt.figure(figsize=(16,12))\n",
    "\n",
    "i = 0\n",
    "for train, test in cv.split(X, y):\n",
    "    probas_ = classifier.fit(X.iloc[train], y.iloc[train]).predict_proba(X.iloc[test])\n",
    "    # Compute ROC curve and area the curve\n",
    "    fpr, tpr, thresholds = roc_curve(y.iloc[test], probas_[:, 1])\n",
    "    tprs.append(interp(mean_fpr, fpr, tpr))\n",
    "    tprs[-1][0] = 0.0\n",
    "    roc_auc = auc(fpr, tpr)\n",
    "    aucs.append(roc_auc)\n",
    "    plt.plot(fpr, tpr, lw=1, alpha=0.3,\n",
    "             label='ROC fold %d (AUC = %0.2f)' % (i, roc_auc))\n",
    "\n",
    "    i += 1\n",
    "plt.plot([0, 1], [0, 1], linestyle='--', lw=2, color='r',\n",
    "         label='Chance', alpha=.8)\n",
    "\n",
    "mean_tpr = np.mean(tprs, axis=0)\n",
    "mean_tpr[-1] = 1.0\n",
    "mean_auc = auc(mean_fpr, mean_tpr)\n",
    "std_auc = np.std(aucs)\n",
    "plt.plot(mean_fpr, mean_tpr, color='b',\n",
    "         label=r'Mean ROC (AUC = %0.2f $\\pm$ %0.2f)' % (mean_auc, std_auc),\n",
    "         lw=2, alpha=.8)\n",
    "\n",
    "std_tpr = np.std(tprs, axis=0)\n",
    "tprs_upper = np.minimum(mean_tpr + std_tpr, 1)\n",
    "tprs_lower = np.maximum(mean_tpr - std_tpr, 0)\n",
    "plt.fill_between(mean_fpr, tprs_lower, tprs_upper, color='grey', alpha=.2,\n",
    "                 label=r'$\\pm$ 1 std. dev.')\n",
    "\n",
    "plt.xlim([-0.05, 1.05])\n",
    "plt.ylim([-0.05, 1.05])\n",
    "plt.yticks(fontsize=20)\n",
    "plt.xticks(fontsize=20)\n",
    "plt.xlabel('False Positive Rate', fontsize=28)\n",
    "plt.ylabel('True Positive Rate', fontsize=28)\n",
    "plt.title('Receiver Operating Characteristic', fontsize=30)\n",
    "plt.legend(loc=\"lower right\", fontsize=24)\n",
    "plt.savefig('data/bot_or_not/refill_auc.png')\n",
    "plt.show()"
   ]
  },
  {
   "cell_type": "code",
   "execution_count": 58,
   "metadata": {},
   "outputs": [],
   "source": [
    "def plot_grid_search(cv_results, grid_param_1, grid_param_2, name_param_1, name_param_2, title, filename):\n",
    "    # Get Test Scores Mean and std for each grid search\n",
    "    \n",
    "    cv_results.reset_index(drop=True, inplace=True)\n",
    "    scores_mean = cv_results['mean_test_roc_auc']\n",
    "    scores_mean = np.array(scores_mean).reshape(len(grid_param_2),len(grid_param_1))\n",
    "\n",
    "    scores_sd = cv_results['std_test_roc_auc']\n",
    "    scores_sd = np.array(scores_sd).reshape(len(grid_param_2),len(grid_param_1))\n",
    "    \n",
    "\n",
    "    # Plot Grid search scores\n",
    "    fig, ax = plt.subplots(1,1, figsize=(16,12))\n",
    "    \n",
    "\n",
    "    # Param1 is the X-axis, Param 2 is represented as a different curve (color line)\n",
    "    \n",
    "    for idx, val in enumerate(grid_param_2):\n",
    "        \n",
    "        ax.plot(grid_param_1, scores_mean[idx,:], '-', label= name_param_2 + ': ' + str(val), linewidth=4,)\n",
    "    \n",
    "    \n",
    "    \n",
    "    best_index = cv_results['mean_test_roc_auc'].values.argmax()\n",
    "    best_param = cv_results.loc[best_index]['param_n_estimators']\n",
    "    best_score = cv_results['mean_test_roc_auc'].max()\n",
    "    min_score = cv_results['mean_test_roc_auc'].min()\n",
    "    plt.axvline(x=best_param, linestyle=':', color='grey', linewidth=2)\n",
    "    \n",
    "    # Plot a dotted vertical line at the best score for that scorer marked by x\n",
    "    plt.plot([best_param,], [best_score],\n",
    "           linestyle=':', color='black', marker='x',markeredgewidth=3,markersize=26, ms=8)\n",
    "    \n",
    "    plt.annotate(\"%0.4f (n_estimatores = %d)\" % (best_score, best_param),\n",
    "                    (best_param-220, best_score+0.00001), fontsize=24)\n",
    "    \n",
    "\n",
    "    ax.tick_params(labelsize=20)\n",
    "    ax.set_title(title, fontsize=30)\n",
    "    ax.set_xlabel(name_param_1, fontsize=28)\n",
    "    ax.set_ylabel('AUC Score', fontsize=28)\n",
    "    ax.legend(loc=\"lower right\", fontsize=22)\n",
    "    ax.grid('on')\n",
    "    fig.savefig('data/full/'+ filename +'.png')"
   ]
  },
  {
   "cell_type": "code",
   "execution_count": 183,
   "metadata": {},
   "outputs": [
    {
     "name": "stderr",
     "output_type": "stream",
     "text": [
      "/Users/Lorenzo/anaconda/lib/python3.6/site-packages/matplotlib/cbook/__init__.py:2448: UserWarning: Saw kwargs ['ms', 'markersize'] which are all aliases for 'markersize'.  Kept value from 'markersize'\n",
      "  seen=seen, canon=canonical, used=seen[-1]))\n",
      "/Users/Lorenzo/anaconda/lib/python3.6/site-packages/matplotlib/cbook/deprecation.py:107: MatplotlibDeprecationWarning: Passing one of 'on', 'true', 'off', 'false' as a boolean is deprecated; use an actual boolean (True/False) instead.\n",
      "  warnings.warn(message, mplDeprecation, stacklevel=1)\n"
     ]
    },
    {
     "data": {
      "image/png": "[encoded data removed]",
      "text/plain": [
       "<Figure size 1152x864 with 1 Axes>"
      ]
     },
     "metadata": {},
     "output_type": "display_data"
    }
   ],
   "source": [
    "plot_grid_search(results.sort_values(by=['param_max_depth', 'param_n_estimators']), n_estimators, max_depth, 'N Estimators', 'Max Depth', 'Hyperparameter tuning - Binary classifier', 'bon_tuning')"
   ]
  },
  {
   "cell_type": "markdown",
   "metadata": {},
   "source": [
    "### Max depth tuning"
   ]
  },
  {
   "cell_type": "code",
   "execution_count": 134,
   "metadata": {},
   "outputs": [
    {
     "name": "stdout",
     "output_type": "stream",
     "text": [
      "Fitting time: 46.012643814086914\n"
     ]
    }
   ],
   "source": [
    "import time\n",
    "start = time.time()\n",
    "model = RandomForestClassifier(n_estimators=450, criterion='entropy', max_depth=26)\n",
    "model.fit(X,y)\n",
    "end = time.time()\n",
    "print(\"Fitting time: \" + str(end - start))"
   ]
  },
  {
   "cell_type": "code",
   "execution_count": 53,
   "metadata": {},
   "outputs": [
    {
     "name": "stdout",
     "output_type": "stream",
     "text": [
      "Prediction time: 0.08359694480895996\n"
     ]
    }
   ],
   "source": [
    "start = time.time()\n",
    "model.predict_proba(np.array(X.iloc[0]).reshape(1, -1))\n",
    "end = time.time()\n",
    "print(\"Prediction time: \" + str(end - start))"
   ]
  },
  {
   "cell_type": "code",
   "execution_count": 135,
   "metadata": {},
   "outputs": [],
   "source": [
    "pickle.dump(model, open(\"../scripts/bon.model\", \"wb\"))"
   ]
  },
  {
   "cell_type": "markdown",
   "metadata": {},
   "source": [
    "# Validation with our data"
   ]
  },
  {
   "cell_type": "code",
   "execution_count": 26,
   "metadata": {},
   "outputs": [],
   "source": [
    "def plot_importance(forest, feature_group, X, limit):\n",
    "    importances = forest.feature_importances_\n",
    "    std = np.std([tree.feature_importances_ for tree in forest.estimators_],\n",
    "                 axis=0)\n",
    "    indices = np.argsort(importances)[::-1][:len(importances)]\n",
    "\n",
    "    # Print the feature ranking\n",
    "    print(\"Feature ranking:\")\n",
    "\n",
    "    for f,i in zip(range(len(importances)),indices):\n",
    "        print(\"%d. %s (%f)\" % (f + 1, X.columns[i], importances[indices[f]]))\n",
    "\n",
    "    # Plot the feature importances of the forest\n",
    "    plt.figure()\n",
    "    plt.figure(figsize=(20,10))\n",
    "\n",
    "    plt.title(\"Feature importances\", fontsize=30)\n",
    "    plt.bar(range(12), importances[indices[:12]],\n",
    "           color=\"r\", yerr=std[indices[:12]], align=\"center\")\n",
    "    labels = []\n",
    "    for l in X.columns[indices[:12]]:\n",
    "        labels.append(str(l[0:limit]) + '...')\n",
    "    plt.xticks(fontsize=20)\n",
    "    plt.yticks(fontsize=28)\n",
    "    plt.xticks(range(len(importances)), labels)\n",
    "    plt.xlim([-1, 12])\n",
    "    plt.savefig('data/full/' + feature_group + '_importances.png')\n",
    "    plt.show()"
   ]
  },
  {
   "cell_type": "code",
   "execution_count": 147,
   "metadata": {},
   "outputs": [
    {
     "name": "stdout",
     "output_type": "stream",
     "text": [
      "Feature ranking:\n",
      "1. age (0.160250)\n",
      "2. friends_count (0.112315)\n",
      "3. statuses_count (0.081367)\n",
      "4. favourites_count (0.077987)\n",
      "5. followers_count (0.073188)\n",
      "6. bot_words_score (0.045886)\n",
      "7. min_len (0.043949)\n",
      "8. gen_words_score (0.035958)\n",
      "9. max_ret (0.034815)\n",
      "10. avg_ret (0.030498)\n",
      "11. listed_count (0.029437)\n",
      "12. avg_len (0.023411)\n"
     ]
    },
    {
     "data": {
      "text/plain": [
       "<Figure size 432x288 with 0 Axes>"
      ]
     },
     "metadata": {},
     "output_type": "display_data"
    },
    {
     "data": {
      "image/png": "[encoded data removed]",
      "text/plain": [
       "<Figure size 1440x720 with 1 Axes>"
      ]
     },
     "metadata": {},
     "output_type": "display_data"
    }
   ],
   "source": [
    "plot_importance(model, 'bon_importances', X, 7)"
   ]
  },
  {
   "cell_type": "code",
   "execution_count": 14,
   "metadata": {},
   "outputs": [],
   "source": [
    "val = pd.read_csv('data/bon/validation.csv')"
   ]
  },
  {
   "cell_type": "code",
   "execution_count": 17,
   "metadata": {},
   "outputs": [
    {
     "ename": "NameError",
     "evalue": "name 'X' is not defined",
     "output_type": "error",
     "traceback": [
      "\u001b[0;31m---------------------------------------------------------------------------\u001b[0m",
      "\u001b[0;31mNameError\u001b[0m                                 Traceback (most recent call last)",
      "\u001b[0;32m<ipython-input-17-f4ea05b5e8b9>\u001b[0m in \u001b[0;36m<module>\u001b[0;34m()\u001b[0m\n\u001b[0;32m----> 1\u001b[0;31m \u001b[0mX\u001b[0m \u001b[0;34m=\u001b[0m \u001b[0mX\u001b[0m\u001b[0;34m.\u001b[0m\u001b[0mreindex\u001b[0m\u001b[0;34m(\u001b[0m\u001b[0msorted\u001b[0m\u001b[0;34m(\u001b[0m\u001b[0mX\u001b[0m\u001b[0;34m.\u001b[0m\u001b[0mcolumns\u001b[0m\u001b[0;34m)\u001b[0m\u001b[0;34m,\u001b[0m \u001b[0maxis\u001b[0m\u001b[0;34m=\u001b[0m\u001b[0;36m1\u001b[0m\u001b[0;34m)\u001b[0m\u001b[0;34m\u001b[0m\u001b[0m\n\u001b[0m\u001b[1;32m      2\u001b[0m \u001b[0mval\u001b[0m \u001b[0;34m=\u001b[0m \u001b[0mval\u001b[0m\u001b[0;34m.\u001b[0m\u001b[0mreindex\u001b[0m\u001b[0;34m(\u001b[0m\u001b[0msorted\u001b[0m\u001b[0;34m(\u001b[0m\u001b[0mval\u001b[0m\u001b[0;34m.\u001b[0m\u001b[0mcolumns\u001b[0m\u001b[0;34m)\u001b[0m\u001b[0;34m,\u001b[0m \u001b[0maxis\u001b[0m\u001b[0;34m=\u001b[0m\u001b[0;36m1\u001b[0m\u001b[0;34m)\u001b[0m\u001b[0;34m\u001b[0m\u001b[0m\n",
      "\u001b[0;31mNameError\u001b[0m: name 'X' is not defined"
     ]
    }
   ],
   "source": [
    "X = X.reindex(sorted(X.columns), axis=1)\n",
    "val = val.reindex(sorted(val.columns), axis=1)"
   ]
  },
  {
   "cell_type": "code",
   "execution_count": 97,
   "metadata": {},
   "outputs": [
    {
     "data": {
      "text/html": [
       "<div>\n",
       "<style scoped>\n",
       "    .dataframe tbody tr th:only-of-type {\n",
       "        vertical-align: middle;\n",
       "    }\n",
       "\n",
       "    .dataframe tbody tr th {\n",
       "        vertical-align: top;\n",
       "    }\n",
       "\n",
       "    .dataframe thead th {\n",
       "        text-align: right;\n",
       "    }\n",
       "</style>\n",
       "<table border=\"1\" class=\"dataframe\">\n",
       "  <thead>\n",
       "    <tr style=\"text-align: right;\">\n",
       "      <th></th>\n",
       "      <th>age</th>\n",
       "      <th>avg_fav</th>\n",
       "      <th>avg_hash</th>\n",
       "      <th>avg_len</th>\n",
       "      <th>avg_ret</th>\n",
       "      <th>bot_words_score</th>\n",
       "      <th>default_profile</th>\n",
       "      <th>description_len</th>\n",
       "      <th>favourites_count</th>\n",
       "      <th>followers_count</th>\n",
       "      <th>...</th>\n",
       "      <th>profile_use_background_image</th>\n",
       "      <th>quote_perc</th>\n",
       "      <th>ret_perc</th>\n",
       "      <th>screen_name_len</th>\n",
       "      <th>statuses_count</th>\n",
       "      <th>tweet_intradistance</th>\n",
       "      <th>url</th>\n",
       "      <th>url_entropy</th>\n",
       "      <th>url_perc</th>\n",
       "      <th>verified</th>\n",
       "    </tr>\n",
       "  </thead>\n",
       "  <tbody>\n",
       "    <tr>\n",
       "      <th>0</th>\n",
       "      <td>12</td>\n",
       "      <td>0.00</td>\n",
       "      <td>0.91</td>\n",
       "      <td>103.74</td>\n",
       "      <td>0.20</td>\n",
       "      <td>0.014100</td>\n",
       "      <td>False</td>\n",
       "      <td>123</td>\n",
       "      <td>0.0</td>\n",
       "      <td>859.0</td>\n",
       "      <td>...</td>\n",
       "      <td>True</td>\n",
       "      <td>0.00</td>\n",
       "      <td>0.02</td>\n",
       "      <td>9</td>\n",
       "      <td>315</td>\n",
       "      <td>11.412657</td>\n",
       "      <td>1</td>\n",
       "      <td>1.500000</td>\n",
       "      <td>0.04</td>\n",
       "      <td>0</td>\n",
       "    </tr>\n",
       "    <tr>\n",
       "      <th>1</th>\n",
       "      <td>12</td>\n",
       "      <td>0.20</td>\n",
       "      <td>1.22</td>\n",
       "      <td>127.78</td>\n",
       "      <td>2250.18</td>\n",
       "      <td>0.023543</td>\n",
       "      <td>False</td>\n",
       "      <td>159</td>\n",
       "      <td>9914.0</td>\n",
       "      <td>9930.0</td>\n",
       "      <td>...</td>\n",
       "      <td>True</td>\n",
       "      <td>0.04</td>\n",
       "      <td>0.33</td>\n",
       "      <td>12</td>\n",
       "      <td>104101</td>\n",
       "      <td>13.955710</td>\n",
       "      <td>1</td>\n",
       "      <td>2.084171</td>\n",
       "      <td>0.65</td>\n",
       "      <td>0</td>\n",
       "    </tr>\n",
       "    <tr>\n",
       "      <th>2</th>\n",
       "      <td>11</td>\n",
       "      <td>0.35</td>\n",
       "      <td>0.21</td>\n",
       "      <td>92.11</td>\n",
       "      <td>0.00</td>\n",
       "      <td>0.012278</td>\n",
       "      <td>False</td>\n",
       "      <td>66</td>\n",
       "      <td>299.0</td>\n",
       "      <td>5948.0</td>\n",
       "      <td>...</td>\n",
       "      <td>True</td>\n",
       "      <td>0.00</td>\n",
       "      <td>0.00</td>\n",
       "      <td>11</td>\n",
       "      <td>25586</td>\n",
       "      <td>12.832708</td>\n",
       "      <td>1</td>\n",
       "      <td>1.754533</td>\n",
       "      <td>0.29</td>\n",
       "      <td>0</td>\n",
       "    </tr>\n",
       "    <tr>\n",
       "      <th>3</th>\n",
       "      <td>11</td>\n",
       "      <td>0.04</td>\n",
       "      <td>0.06</td>\n",
       "      <td>104.83</td>\n",
       "      <td>1.64</td>\n",
       "      <td>0.055719</td>\n",
       "      <td>False</td>\n",
       "      <td>0</td>\n",
       "      <td>18.0</td>\n",
       "      <td>7674.0</td>\n",
       "      <td>...</td>\n",
       "      <td>True</td>\n",
       "      <td>0.00</td>\n",
       "      <td>0.01</td>\n",
       "      <td>6</td>\n",
       "      <td>2456</td>\n",
       "      <td>10.846554</td>\n",
       "      <td>0</td>\n",
       "      <td>0.875819</td>\n",
       "      <td>0.78</td>\n",
       "      <td>0</td>\n",
       "    </tr>\n",
       "    <tr>\n",
       "      <th>4</th>\n",
       "      <td>11</td>\n",
       "      <td>0.04</td>\n",
       "      <td>0.11</td>\n",
       "      <td>112.63</td>\n",
       "      <td>0.06</td>\n",
       "      <td>0.007555</td>\n",
       "      <td>False</td>\n",
       "      <td>148</td>\n",
       "      <td>0.0</td>\n",
       "      <td>196.0</td>\n",
       "      <td>...</td>\n",
       "      <td>True</td>\n",
       "      <td>0.00</td>\n",
       "      <td>0.00</td>\n",
       "      <td>6</td>\n",
       "      <td>1486</td>\n",
       "      <td>14.812794</td>\n",
       "      <td>1</td>\n",
       "      <td>1.880180</td>\n",
       "      <td>0.21</td>\n",
       "      <td>0</td>\n",
       "    </tr>\n",
       "  </tbody>\n",
       "</table>\n",
       "<p>5 rows × 34 columns</p>\n",
       "</div>"
      ],
      "text/plain": [
       "   age  avg_fav  avg_hash  avg_len  avg_ret  bot_words_score  default_profile  \\\n",
       "0   12     0.00      0.91   103.74     0.20         0.014100            False   \n",
       "1   12     0.20      1.22   127.78  2250.18         0.023543            False   \n",
       "2   11     0.35      0.21    92.11     0.00         0.012278            False   \n",
       "3   11     0.04      0.06   104.83     1.64         0.055719            False   \n",
       "4   11     0.04      0.11   112.63     0.06         0.007555            False   \n",
       "\n",
       "   description_len  favourites_count  followers_count    ...     \\\n",
       "0              123               0.0            859.0    ...      \n",
       "1              159            9914.0           9930.0    ...      \n",
       "2               66             299.0           5948.0    ...      \n",
       "3                0              18.0           7674.0    ...      \n",
       "4              148               0.0            196.0    ...      \n",
       "\n",
       "   profile_use_background_image  quote_perc  ret_perc  screen_name_len  \\\n",
       "0                          True        0.00      0.02                9   \n",
       "1                          True        0.04      0.33               12   \n",
       "2                          True        0.00      0.00               11   \n",
       "3                          True        0.00      0.01                6   \n",
       "4                          True        0.00      0.00                6   \n",
       "\n",
       "   statuses_count  tweet_intradistance  url  url_entropy  url_perc  verified  \n",
       "0             315            11.412657    1     1.500000      0.04         0  \n",
       "1          104101            13.955710    1     2.084171      0.65         0  \n",
       "2           25586            12.832708    1     1.754533      0.29         0  \n",
       "3            2456            10.846554    0     0.875819      0.78         0  \n",
       "4            1486            14.812794    1     1.880180      0.21         0  \n",
       "\n",
       "[5 rows x 34 columns]"
      ]
     },
     "execution_count": 97,
     "metadata": {},
     "output_type": "execute_result"
    }
   ],
   "source": [
    "X.head()"
   ]
  },
  {
   "cell_type": "code",
   "execution_count": 18,
   "metadata": {},
   "outputs": [
    {
     "data": {
      "text/html": [
       "<div>\n",
       "<style scoped>\n",
       "    .dataframe tbody tr th:only-of-type {\n",
       "        vertical-align: middle;\n",
       "    }\n",
       "\n",
       "    .dataframe tbody tr th {\n",
       "        vertical-align: top;\n",
       "    }\n",
       "\n",
       "    .dataframe thead th {\n",
       "        text-align: right;\n",
       "    }\n",
       "</style>\n",
       "<table border=\"1\" class=\"dataframe\">\n",
       "  <thead>\n",
       "    <tr style=\"text-align: right;\">\n",
       "      <th></th>\n",
       "      <th>age</th>\n",
       "      <th>avg_fav</th>\n",
       "      <th>avg_hash</th>\n",
       "      <th>avg_len</th>\n",
       "      <th>avg_ret</th>\n",
       "      <th>bot_words_score</th>\n",
       "      <th>default_profile</th>\n",
       "      <th>description_len</th>\n",
       "      <th>favourites_count</th>\n",
       "      <th>followers_count</th>\n",
       "      <th>...</th>\n",
       "      <th>quote_perc</th>\n",
       "      <th>ret_perc</th>\n",
       "      <th>screen_name_len</th>\n",
       "      <th>statuses_count</th>\n",
       "      <th>target</th>\n",
       "      <th>tweet_intradistance</th>\n",
       "      <th>url</th>\n",
       "      <th>url_entropy</th>\n",
       "      <th>url_perc</th>\n",
       "      <th>verified</th>\n",
       "    </tr>\n",
       "  </thead>\n",
       "  <tbody>\n",
       "    <tr>\n",
       "      <th>0</th>\n",
       "      <td>9</td>\n",
       "      <td>0.000000</td>\n",
       "      <td>0.000000</td>\n",
       "      <td>0.000000</td>\n",
       "      <td>0.000000</td>\n",
       "      <td>0.000000</td>\n",
       "      <td>1</td>\n",
       "      <td>0</td>\n",
       "      <td>94</td>\n",
       "      <td>46</td>\n",
       "      <td>...</td>\n",
       "      <td>0.000000</td>\n",
       "      <td>0.000000</td>\n",
       "      <td>7</td>\n",
       "      <td>3762</td>\n",
       "      <td>0</td>\n",
       "      <td>0.000000</td>\n",
       "      <td>0</td>\n",
       "      <td>0.000000</td>\n",
       "      <td>0.000000</td>\n",
       "      <td>0</td>\n",
       "    </tr>\n",
       "    <tr>\n",
       "      <th>1</th>\n",
       "      <td>3</td>\n",
       "      <td>0.000000</td>\n",
       "      <td>0.000000</td>\n",
       "      <td>101.653061</td>\n",
       "      <td>31320.959184</td>\n",
       "      <td>0.020382</td>\n",
       "      <td>1</td>\n",
       "      <td>11</td>\n",
       "      <td>1285</td>\n",
       "      <td>100</td>\n",
       "      <td>...</td>\n",
       "      <td>0.295918</td>\n",
       "      <td>0.775510</td>\n",
       "      <td>8</td>\n",
       "      <td>692</td>\n",
       "      <td>0</td>\n",
       "      <td>13.019156</td>\n",
       "      <td>0</td>\n",
       "      <td>0.000000</td>\n",
       "      <td>0.469388</td>\n",
       "      <td>0</td>\n",
       "    </tr>\n",
       "    <tr>\n",
       "      <th>2</th>\n",
       "      <td>6</td>\n",
       "      <td>0.467742</td>\n",
       "      <td>0.080645</td>\n",
       "      <td>52.612903</td>\n",
       "      <td>23.177419</td>\n",
       "      <td>0.000000</td>\n",
       "      <td>1</td>\n",
       "      <td>0</td>\n",
       "      <td>17</td>\n",
       "      <td>31</td>\n",
       "      <td>...</td>\n",
       "      <td>0.000000</td>\n",
       "      <td>0.112903</td>\n",
       "      <td>9</td>\n",
       "      <td>57</td>\n",
       "      <td>0</td>\n",
       "      <td>8.589957</td>\n",
       "      <td>0</td>\n",
       "      <td>1.000000</td>\n",
       "      <td>0.032258</td>\n",
       "      <td>0</td>\n",
       "    </tr>\n",
       "    <tr>\n",
       "      <th>3</th>\n",
       "      <td>9</td>\n",
       "      <td>0.030000</td>\n",
       "      <td>0.540000</td>\n",
       "      <td>76.500000</td>\n",
       "      <td>28.510000</td>\n",
       "      <td>0.000926</td>\n",
       "      <td>1</td>\n",
       "      <td>75</td>\n",
       "      <td>0</td>\n",
       "      <td>106</td>\n",
       "      <td>...</td>\n",
       "      <td>0.020000</td>\n",
       "      <td>0.030000</td>\n",
       "      <td>14</td>\n",
       "      <td>2249</td>\n",
       "      <td>0</td>\n",
       "      <td>12.227818</td>\n",
       "      <td>1</td>\n",
       "      <td>2.931209</td>\n",
       "      <td>0.150000</td>\n",
       "      <td>0</td>\n",
       "    </tr>\n",
       "    <tr>\n",
       "      <th>4</th>\n",
       "      <td>7</td>\n",
       "      <td>0.000000</td>\n",
       "      <td>0.000000</td>\n",
       "      <td>0.000000</td>\n",
       "      <td>0.000000</td>\n",
       "      <td>0.000000</td>\n",
       "      <td>1</td>\n",
       "      <td>40</td>\n",
       "      <td>10150</td>\n",
       "      <td>1574</td>\n",
       "      <td>...</td>\n",
       "      <td>0.000000</td>\n",
       "      <td>0.000000</td>\n",
       "      <td>12</td>\n",
       "      <td>77001</td>\n",
       "      <td>0</td>\n",
       "      <td>0.000000</td>\n",
       "      <td>0</td>\n",
       "      <td>0.000000</td>\n",
       "      <td>0.000000</td>\n",
       "      <td>0</td>\n",
       "    </tr>\n",
       "  </tbody>\n",
       "</table>\n",
       "<p>5 rows × 35 columns</p>\n",
       "</div>"
      ],
      "text/plain": [
       "   age   avg_fav  avg_hash     avg_len       avg_ret  bot_words_score  \\\n",
       "0    9  0.000000  0.000000    0.000000      0.000000         0.000000   \n",
       "1    3  0.000000  0.000000  101.653061  31320.959184         0.020382   \n",
       "2    6  0.467742  0.080645   52.612903     23.177419         0.000000   \n",
       "3    9  0.030000  0.540000   76.500000     28.510000         0.000926   \n",
       "4    7  0.000000  0.000000    0.000000      0.000000         0.000000   \n",
       "\n",
       "   default_profile  description_len  favourites_count  followers_count  \\\n",
       "0                1                0                94               46   \n",
       "1                1               11              1285              100   \n",
       "2                1                0                17               31   \n",
       "3                1               75                 0              106   \n",
       "4                1               40             10150             1574   \n",
       "\n",
       "     ...     quote_perc  ret_perc  screen_name_len  statuses_count  target  \\\n",
       "0    ...       0.000000  0.000000                7            3762       0   \n",
       "1    ...       0.295918  0.775510                8             692       0   \n",
       "2    ...       0.000000  0.112903                9              57       0   \n",
       "3    ...       0.020000  0.030000               14            2249       0   \n",
       "4    ...       0.000000  0.000000               12           77001       0   \n",
       "\n",
       "   tweet_intradistance  url  url_entropy  url_perc  verified  \n",
       "0             0.000000    0     0.000000  0.000000         0  \n",
       "1            13.019156    0     0.000000  0.469388         0  \n",
       "2             8.589957    0     1.000000  0.032258         0  \n",
       "3            12.227818    1     2.931209  0.150000         0  \n",
       "4             0.000000    0     0.000000  0.000000         0  \n",
       "\n",
       "[5 rows x 35 columns]"
      ]
     },
     "execution_count": 18,
     "metadata": {},
     "output_type": "execute_result"
    }
   ],
   "source": [
    "val.head()"
   ]
  },
  {
   "cell_type": "markdown",
   "metadata": {},
   "source": [
    "## Complete"
   ]
  },
  {
   "cell_type": "code",
   "execution_count": 111,
   "metadata": {},
   "outputs": [
    {
     "data": {
      "text/plain": [
       "RandomForestClassifier(bootstrap=True, class_weight=None, criterion='entropy',\n",
       "            max_depth=26, max_features='auto', max_leaf_nodes=None,\n",
       "            min_impurity_decrease=0.0, min_impurity_split=None,\n",
       "            min_samples_leaf=1, min_samples_split=2,\n",
       "            min_weight_fraction_leaf=0.0, n_estimators=450, n_jobs=None,\n",
       "            oob_score=False, random_state=None, verbose=0,\n",
       "            warm_start=False)"
      ]
     },
     "execution_count": 111,
     "metadata": {},
     "output_type": "execute_result"
    }
   ],
   "source": [
    "model.fit(X,y)"
   ]
  },
  {
   "cell_type": "code",
   "execution_count": 112,
   "metadata": {},
   "outputs": [],
   "source": [
    "X_test = val.drop(columns=[\"target\"])\n",
    "y_test = val['target']"
   ]
  },
  {
   "cell_type": "code",
   "execution_count": 113,
   "metadata": {},
   "outputs": [
    {
     "name": "stdout",
     "output_type": "stream",
     "text": [
      "Predicted Target    0     1\n",
      "Actual Target              \n",
      "0                 558  2442\n",
      "1                 158  2842\n",
      "AUC:0.5666666666666668\n"
     ]
    }
   ],
   "source": [
    "# Predicting the Test set results\n",
    "y_pred = model.predict(X_test)\n",
    "# Making the Confusion Matrix\n",
    "print(pd.crosstab(y_test, y_pred, rownames=['Actual Target'], colnames=['Predicted Target']))\n",
    "print(\"AUC:\" + str(roc_auc_score(y_test, y_pred)))"
   ]
  },
  {
   "cell_type": "markdown",
   "metadata": {},
   "source": [
    "## Without STATUSES_COUNT"
   ]
  },
  {
   "cell_type": "code",
   "execution_count": 121,
   "metadata": {},
   "outputs": [
    {
     "data": {
      "text/plain": [
       "RandomForestClassifier(bootstrap=True, class_weight=None, criterion='entropy',\n",
       "            max_depth=26, max_features='auto', max_leaf_nodes=None,\n",
       "            min_impurity_decrease=0.0, min_impurity_split=None,\n",
       "            min_samples_leaf=1, min_samples_split=2,\n",
       "            min_weight_fraction_leaf=0.0, n_estimators=450, n_jobs=None,\n",
       "            oob_score=False, random_state=None, verbose=0,\n",
       "            warm_start=False)"
      ]
     },
     "execution_count": 121,
     "metadata": {},
     "output_type": "execute_result"
    }
   ],
   "source": [
    "model.fit(X.drop(columns=[\"statuses_count\"]),y)"
   ]
  },
  {
   "cell_type": "code",
   "execution_count": 122,
   "metadata": {},
   "outputs": [],
   "source": [
    "X_test = val.drop(columns=[\"target\",\"statuses_count\"])\n",
    "y_test = val['target']"
   ]
  },
  {
   "cell_type": "code",
   "execution_count": 123,
   "metadata": {},
   "outputs": [
    {
     "name": "stdout",
     "output_type": "stream",
     "text": [
      "Predicted Target    0     1\n",
      "Actual Target              \n",
      "0                 564  2436\n",
      "1                 162  2838\n",
      "AUC:0.567\n"
     ]
    }
   ],
   "source": [
    "# Predicting the Test set results\n",
    "y_pred = model.predict(X_test)\n",
    "# Making the Confusion Matrix\n",
    "print(pd.crosstab(y_test, y_pred, rownames=['Actual Target'], colnames=['Predicted Target']))\n",
    "print(\"AUC:\" + str(roc_auc_score(y_test, y_pred)))"
   ]
  },
  {
   "cell_type": "markdown",
   "metadata": {},
   "source": [
    "## Without AGE"
   ]
  },
  {
   "cell_type": "code",
   "execution_count": 148,
   "metadata": {},
   "outputs": [
    {
     "data": {
      "text/plain": [
       "RandomForestClassifier(bootstrap=True, class_weight=None, criterion='entropy',\n",
       "            max_depth=26, max_features='auto', max_leaf_nodes=None,\n",
       "            min_impurity_decrease=0.0, min_impurity_split=None,\n",
       "            min_samples_leaf=1, min_samples_split=2,\n",
       "            min_weight_fraction_leaf=0.0, n_estimators=450, n_jobs=None,\n",
       "            oob_score=False, random_state=None, verbose=0,\n",
       "            warm_start=False)"
      ]
     },
     "execution_count": 148,
     "metadata": {},
     "output_type": "execute_result"
    }
   ],
   "source": [
    "model.fit(X.drop(columns=[\"age\"]),y)"
   ]
  },
  {
   "cell_type": "code",
   "execution_count": 149,
   "metadata": {},
   "outputs": [],
   "source": [
    "X_test = val.drop(columns=[\"target\",'age'])\n",
    "y_test = val['target']"
   ]
  },
  {
   "cell_type": "code",
   "execution_count": 150,
   "metadata": {},
   "outputs": [
    {
     "name": "stdout",
     "output_type": "stream",
     "text": [
      "Predicted Target     0     1\n",
      "Actual Target               \n",
      "0                 2920    80\n",
      "1                 1589  1411\n",
      "AUC:0.7218333333333333\n"
     ]
    }
   ],
   "source": [
    "# Predicting the Test set results\n",
    "y_pred = model.predict(X_test)\n",
    "# Making the Confusion Matrix\n",
    "print(pd.crosstab(y_test, y_pred, rownames=['Actual Target'], colnames=['Predicted Target']))\n",
    "print(\"AUC:\" + str(roc_auc_score(y_test, y_pred)))"
   ]
  },
  {
   "cell_type": "code",
   "execution_count": 19,
   "metadata": {},
   "outputs": [
    {
     "data": {
      "text/html": [
       "<div>\n",
       "<style scoped>\n",
       "    .dataframe tbody tr th:only-of-type {\n",
       "        vertical-align: middle;\n",
       "    }\n",
       "\n",
       "    .dataframe tbody tr th {\n",
       "        vertical-align: top;\n",
       "    }\n",
       "\n",
       "    .dataframe thead th {\n",
       "        text-align: right;\n",
       "    }\n",
       "</style>\n",
       "<table border=\"1\" class=\"dataframe\">\n",
       "  <thead>\n",
       "    <tr style=\"text-align: right;\">\n",
       "      <th></th>\n",
       "      <th>age</th>\n",
       "      <th>avg_fav</th>\n",
       "      <th>avg_hash</th>\n",
       "      <th>avg_len</th>\n",
       "      <th>avg_ret</th>\n",
       "      <th>bot_words_score</th>\n",
       "      <th>default_profile</th>\n",
       "      <th>description_len</th>\n",
       "      <th>favourites_count</th>\n",
       "      <th>followers_count</th>\n",
       "      <th>...</th>\n",
       "      <th>quote_perc</th>\n",
       "      <th>ret_perc</th>\n",
       "      <th>screen_name_len</th>\n",
       "      <th>statuses_count</th>\n",
       "      <th>target</th>\n",
       "      <th>tweet_intradistance</th>\n",
       "      <th>url</th>\n",
       "      <th>url_entropy</th>\n",
       "      <th>url_perc</th>\n",
       "      <th>verified</th>\n",
       "    </tr>\n",
       "  </thead>\n",
       "  <tbody>\n",
       "    <tr>\n",
       "      <th>count</th>\n",
       "      <td>3000.000000</td>\n",
       "      <td>3000.000000</td>\n",
       "      <td>3000.000000</td>\n",
       "      <td>3000.000000</td>\n",
       "      <td>3000.000000</td>\n",
       "      <td>3000.000000</td>\n",
       "      <td>3000.000000</td>\n",
       "      <td>3000.000000</td>\n",
       "      <td>3000.000000</td>\n",
       "      <td>3000.000000</td>\n",
       "      <td>...</td>\n",
       "      <td>3000.000000</td>\n",
       "      <td>3000.000000</td>\n",
       "      <td>3000.000000</td>\n",
       "      <td>3000.000000</td>\n",
       "      <td>3000.0</td>\n",
       "      <td>3000.000000</td>\n",
       "      <td>3000.000000</td>\n",
       "      <td>3000.000000</td>\n",
       "      <td>3000.000000</td>\n",
       "      <td>3000.000000</td>\n",
       "    </tr>\n",
       "    <tr>\n",
       "      <th>mean</th>\n",
       "      <td>6.405667</td>\n",
       "      <td>2.776873</td>\n",
       "      <td>0.199729</td>\n",
       "      <td>65.666248</td>\n",
       "      <td>5383.265723</td>\n",
       "      <td>0.010560</td>\n",
       "      <td>0.976000</td>\n",
       "      <td>63.696000</td>\n",
       "      <td>4578.189667</td>\n",
       "      <td>1404.410333</td>\n",
       "      <td>...</td>\n",
       "      <td>0.075485</td>\n",
       "      <td>0.285128</td>\n",
       "      <td>10.866667</td>\n",
       "      <td>16569.490333</td>\n",
       "      <td>0.0</td>\n",
       "      <td>9.233155</td>\n",
       "      <td>0.369000</td>\n",
       "      <td>0.848236</td>\n",
       "      <td>0.158800</td>\n",
       "      <td>0.004333</td>\n",
       "    </tr>\n",
       "    <tr>\n",
       "      <th>std</th>\n",
       "      <td>1.942943</td>\n",
       "      <td>50.308350</td>\n",
       "      <td>0.418294</td>\n",
       "      <td>44.021173</td>\n",
       "      <td>10844.459511</td>\n",
       "      <td>0.015847</td>\n",
       "      <td>0.153075</td>\n",
       "      <td>51.177058</td>\n",
       "      <td>11660.477013</td>\n",
       "      <td>18335.118311</td>\n",
       "      <td>...</td>\n",
       "      <td>0.098625</td>\n",
       "      <td>0.297625</td>\n",
       "      <td>2.554290</td>\n",
       "      <td>30494.318235</td>\n",
       "      <td>0.0</td>\n",
       "      <td>5.528676</td>\n",
       "      <td>0.482614</td>\n",
       "      <td>1.148427</td>\n",
       "      <td>0.202012</td>\n",
       "      <td>0.065696</td>\n",
       "    </tr>\n",
       "    <tr>\n",
       "      <th>min</th>\n",
       "      <td>3.000000</td>\n",
       "      <td>0.000000</td>\n",
       "      <td>0.000000</td>\n",
       "      <td>0.000000</td>\n",
       "      <td>0.000000</td>\n",
       "      <td>0.000000</td>\n",
       "      <td>0.000000</td>\n",
       "      <td>0.000000</td>\n",
       "      <td>0.000000</td>\n",
       "      <td>0.000000</td>\n",
       "      <td>...</td>\n",
       "      <td>0.000000</td>\n",
       "      <td>0.000000</td>\n",
       "      <td>3.000000</td>\n",
       "      <td>1.000000</td>\n",
       "      <td>0.0</td>\n",
       "      <td>0.000000</td>\n",
       "      <td>0.000000</td>\n",
       "      <td>0.000000</td>\n",
       "      <td>0.000000</td>\n",
       "      <td>0.000000</td>\n",
       "    </tr>\n",
       "    <tr>\n",
       "      <th>25%</th>\n",
       "      <td>5.000000</td>\n",
       "      <td>0.000000</td>\n",
       "      <td>0.000000</td>\n",
       "      <td>0.000000</td>\n",
       "      <td>0.000000</td>\n",
       "      <td>0.000000</td>\n",
       "      <td>1.000000</td>\n",
       "      <td>20.000000</td>\n",
       "      <td>248.000000</td>\n",
       "      <td>144.750000</td>\n",
       "      <td>...</td>\n",
       "      <td>0.000000</td>\n",
       "      <td>0.000000</td>\n",
       "      <td>9.000000</td>\n",
       "      <td>1733.250000</td>\n",
       "      <td>0.0</td>\n",
       "      <td>0.000000</td>\n",
       "      <td>0.000000</td>\n",
       "      <td>0.000000</td>\n",
       "      <td>0.000000</td>\n",
       "      <td>0.000000</td>\n",
       "    </tr>\n",
       "    <tr>\n",
       "      <th>50%</th>\n",
       "      <td>6.000000</td>\n",
       "      <td>0.247312</td>\n",
       "      <td>0.045460</td>\n",
       "      <td>76.125606</td>\n",
       "      <td>537.435852</td>\n",
       "      <td>0.006891</td>\n",
       "      <td>1.000000</td>\n",
       "      <td>50.000000</td>\n",
       "      <td>1250.000000</td>\n",
       "      <td>334.000000</td>\n",
       "      <td>...</td>\n",
       "      <td>0.040000</td>\n",
       "      <td>0.191919</td>\n",
       "      <td>11.000000</td>\n",
       "      <td>6333.500000</td>\n",
       "      <td>0.0</td>\n",
       "      <td>11.648037</td>\n",
       "      <td>0.000000</td>\n",
       "      <td>0.000000</td>\n",
       "      <td>0.100000</td>\n",
       "      <td>0.000000</td>\n",
       "    </tr>\n",
       "    <tr>\n",
       "      <th>75%</th>\n",
       "      <td>8.000000</td>\n",
       "      <td>0.777778</td>\n",
       "      <td>0.212121</td>\n",
       "      <td>97.154796</td>\n",
       "      <td>5197.205000</td>\n",
       "      <td>0.015442</td>\n",
       "      <td>1.000000</td>\n",
       "      <td>106.000000</td>\n",
       "      <td>4650.750000</td>\n",
       "      <td>789.250000</td>\n",
       "      <td>...</td>\n",
       "      <td>0.117021</td>\n",
       "      <td>0.505331</td>\n",
       "      <td>13.000000</td>\n",
       "      <td>19066.000000</td>\n",
       "      <td>0.0</td>\n",
       "      <td>12.808392</td>\n",
       "      <td>1.000000</td>\n",
       "      <td>1.584963</td>\n",
       "      <td>0.212121</td>\n",
       "      <td>0.000000</td>\n",
       "    </tr>\n",
       "    <tr>\n",
       "      <th>max</th>\n",
       "      <td>11.000000</td>\n",
       "      <td>2388.727273</td>\n",
       "      <td>8.320000</td>\n",
       "      <td>259.110000</td>\n",
       "      <td>132651.390000</td>\n",
       "      <td>0.523691</td>\n",
       "      <td>1.000000</td>\n",
       "      <td>160.000000</td>\n",
       "      <td>313954.000000</td>\n",
       "      <td>986837.000000</td>\n",
       "      <td>...</td>\n",
       "      <td>0.700000</td>\n",
       "      <td>1.000000</td>\n",
       "      <td>15.000000</td>\n",
       "      <td>399555.000000</td>\n",
       "      <td>0.0</td>\n",
       "      <td>22.412290</td>\n",
       "      <td>1.000000</td>\n",
       "      <td>5.224558</td>\n",
       "      <td>1.000000</td>\n",
       "      <td>1.000000</td>\n",
       "    </tr>\n",
       "  </tbody>\n",
       "</table>\n",
       "<p>8 rows × 35 columns</p>\n",
       "</div>"
      ],
      "text/plain": [
       "               age      avg_fav     avg_hash      avg_len        avg_ret  \\\n",
       "count  3000.000000  3000.000000  3000.000000  3000.000000    3000.000000   \n",
       "mean      6.405667     2.776873     0.199729    65.666248    5383.265723   \n",
       "std       1.942943    50.308350     0.418294    44.021173   10844.459511   \n",
       "min       3.000000     0.000000     0.000000     0.000000       0.000000   \n",
       "25%       5.000000     0.000000     0.000000     0.000000       0.000000   \n",
       "50%       6.000000     0.247312     0.045460    76.125606     537.435852   \n",
       "75%       8.000000     0.777778     0.212121    97.154796    5197.205000   \n",
       "max      11.000000  2388.727273     8.320000   259.110000  132651.390000   \n",
       "\n",
       "       bot_words_score  default_profile  description_len  favourites_count  \\\n",
       "count      3000.000000      3000.000000      3000.000000       3000.000000   \n",
       "mean          0.010560         0.976000        63.696000       4578.189667   \n",
       "std           0.015847         0.153075        51.177058      11660.477013   \n",
       "min           0.000000         0.000000         0.000000          0.000000   \n",
       "25%           0.000000         1.000000        20.000000        248.000000   \n",
       "50%           0.006891         1.000000        50.000000       1250.000000   \n",
       "75%           0.015442         1.000000       106.000000       4650.750000   \n",
       "max           0.523691         1.000000       160.000000     313954.000000   \n",
       "\n",
       "       followers_count     ...        quote_perc     ret_perc  \\\n",
       "count      3000.000000     ...       3000.000000  3000.000000   \n",
       "mean       1404.410333     ...          0.075485     0.285128   \n",
       "std       18335.118311     ...          0.098625     0.297625   \n",
       "min           0.000000     ...          0.000000     0.000000   \n",
       "25%         144.750000     ...          0.000000     0.000000   \n",
       "50%         334.000000     ...          0.040000     0.191919   \n",
       "75%         789.250000     ...          0.117021     0.505331   \n",
       "max      986837.000000     ...          0.700000     1.000000   \n",
       "\n",
       "       screen_name_len  statuses_count  target  tweet_intradistance  \\\n",
       "count      3000.000000     3000.000000  3000.0          3000.000000   \n",
       "mean         10.866667    16569.490333     0.0             9.233155   \n",
       "std           2.554290    30494.318235     0.0             5.528676   \n",
       "min           3.000000        1.000000     0.0             0.000000   \n",
       "25%           9.000000     1733.250000     0.0             0.000000   \n",
       "50%          11.000000     6333.500000     0.0            11.648037   \n",
       "75%          13.000000    19066.000000     0.0            12.808392   \n",
       "max          15.000000   399555.000000     0.0            22.412290   \n",
       "\n",
       "               url  url_entropy     url_perc     verified  \n",
       "count  3000.000000  3000.000000  3000.000000  3000.000000  \n",
       "mean      0.369000     0.848236     0.158800     0.004333  \n",
       "std       0.482614     1.148427     0.202012     0.065696  \n",
       "min       0.000000     0.000000     0.000000     0.000000  \n",
       "25%       0.000000     0.000000     0.000000     0.000000  \n",
       "50%       0.000000     0.000000     0.100000     0.000000  \n",
       "75%       1.000000     1.584963     0.212121     0.000000  \n",
       "max       1.000000     5.224558     1.000000     1.000000  \n",
       "\n",
       "[8 rows x 35 columns]"
      ]
     },
     "execution_count": 19,
     "metadata": {},
     "output_type": "execute_result"
    }
   ],
   "source": [
    "val.loc[val.target==0].describe()"
   ]
  },
  {
   "cell_type": "code",
   "execution_count": 108,
   "metadata": {},
   "outputs": [
    {
     "data": {
      "text/html": [
       "<div>\n",
       "<style scoped>\n",
       "    .dataframe tbody tr th:only-of-type {\n",
       "        vertical-align: middle;\n",
       "    }\n",
       "\n",
       "    .dataframe tbody tr th {\n",
       "        vertical-align: top;\n",
       "    }\n",
       "\n",
       "    .dataframe thead th {\n",
       "        text-align: right;\n",
       "    }\n",
       "</style>\n",
       "<table border=\"1\" class=\"dataframe\">\n",
       "  <thead>\n",
       "    <tr style=\"text-align: right;\">\n",
       "      <th></th>\n",
       "      <th>age</th>\n",
       "      <th>avg_fav</th>\n",
       "      <th>avg_hash</th>\n",
       "      <th>avg_len</th>\n",
       "      <th>avg_ret</th>\n",
       "      <th>bot_words_score</th>\n",
       "      <th>default_profile</th>\n",
       "      <th>description_len</th>\n",
       "      <th>favourites_count</th>\n",
       "      <th>followers_count</th>\n",
       "      <th>...</th>\n",
       "      <th>profile_use_background_image</th>\n",
       "      <th>quote_perc</th>\n",
       "      <th>ret_perc</th>\n",
       "      <th>screen_name_len</th>\n",
       "      <th>statuses_count</th>\n",
       "      <th>tweet_intradistance</th>\n",
       "      <th>url</th>\n",
       "      <th>url_entropy</th>\n",
       "      <th>url_perc</th>\n",
       "      <th>verified</th>\n",
       "    </tr>\n",
       "  </thead>\n",
       "  <tbody>\n",
       "    <tr>\n",
       "      <th>count</th>\n",
       "      <td>15687.000000</td>\n",
       "      <td>15687.000000</td>\n",
       "      <td>15687.000000</td>\n",
       "      <td>15687.000000</td>\n",
       "      <td>15687.000000</td>\n",
       "      <td>15687.000000</td>\n",
       "      <td>15687.000000</td>\n",
       "      <td>15687.000000</td>\n",
       "      <td>1.568700e+04</td>\n",
       "      <td>1.568700e+04</td>\n",
       "      <td>...</td>\n",
       "      <td>15687.000000</td>\n",
       "      <td>15687.000000</td>\n",
       "      <td>15687.000000</td>\n",
       "      <td>15687.000000</td>\n",
       "      <td>1.568700e+04</td>\n",
       "      <td>15687.000000</td>\n",
       "      <td>15687.000000</td>\n",
       "      <td>15687.000000</td>\n",
       "      <td>15687.000000</td>\n",
       "      <td>15687.000000</td>\n",
       "    </tr>\n",
       "    <tr>\n",
       "      <th>mean</th>\n",
       "      <td>9.224007</td>\n",
       "      <td>1.913240</td>\n",
       "      <td>0.117677</td>\n",
       "      <td>75.027985</td>\n",
       "      <td>1314.964812</td>\n",
       "      <td>0.000064</td>\n",
       "      <td>0.101039</td>\n",
       "      <td>62.047747</td>\n",
       "      <td>3.515535e+03</td>\n",
       "      <td>1.110773e+04</td>\n",
       "      <td>...</td>\n",
       "      <td>0.884363</td>\n",
       "      <td>0.000064</td>\n",
       "      <td>0.002167</td>\n",
       "      <td>10.205712</td>\n",
       "      <td>3.121222e+04</td>\n",
       "      <td>9.874546</td>\n",
       "      <td>0.491299</td>\n",
       "      <td>0.855039</td>\n",
       "      <td>0.049723</td>\n",
       "      <td>0.020973</td>\n",
       "    </tr>\n",
       "    <tr>\n",
       "      <th>std</th>\n",
       "      <td>0.547550</td>\n",
       "      <td>40.537289</td>\n",
       "      <td>0.537202</td>\n",
       "      <td>41.814151</td>\n",
       "      <td>4526.147233</td>\n",
       "      <td>0.007984</td>\n",
       "      <td>0.301390</td>\n",
       "      <td>52.385252</td>\n",
       "      <td>1.665490e+04</td>\n",
       "      <td>2.051704e+05</td>\n",
       "      <td>...</td>\n",
       "      <td>0.319800</td>\n",
       "      <td>0.007984</td>\n",
       "      <td>0.046506</td>\n",
       "      <td>2.764841</td>\n",
       "      <td>7.158437e+04</td>\n",
       "      <td>4.485296</td>\n",
       "      <td>0.499940</td>\n",
       "      <td>1.121645</td>\n",
       "      <td>0.217378</td>\n",
       "      <td>0.143298</td>\n",
       "    </tr>\n",
       "    <tr>\n",
       "      <th>min</th>\n",
       "      <td>4.000000</td>\n",
       "      <td>0.000000</td>\n",
       "      <td>0.000000</td>\n",
       "      <td>0.000000</td>\n",
       "      <td>0.000000</td>\n",
       "      <td>0.000000</td>\n",
       "      <td>0.000000</td>\n",
       "      <td>0.000000</td>\n",
       "      <td>0.000000e+00</td>\n",
       "      <td>0.000000e+00</td>\n",
       "      <td>...</td>\n",
       "      <td>0.000000</td>\n",
       "      <td>0.000000</td>\n",
       "      <td>0.000000</td>\n",
       "      <td>2.000000</td>\n",
       "      <td>0.000000e+00</td>\n",
       "      <td>0.000000</td>\n",
       "      <td>0.000000</td>\n",
       "      <td>0.000000</td>\n",
       "      <td>0.000000</td>\n",
       "      <td>0.000000</td>\n",
       "    </tr>\n",
       "    <tr>\n",
       "      <th>25%</th>\n",
       "      <td>9.000000</td>\n",
       "      <td>0.000000</td>\n",
       "      <td>0.000000</td>\n",
       "      <td>55.000000</td>\n",
       "      <td>0.000000</td>\n",
       "      <td>0.000000</td>\n",
       "      <td>0.000000</td>\n",
       "      <td>14.000000</td>\n",
       "      <td>7.000000e+00</td>\n",
       "      <td>1.470000e+02</td>\n",
       "      <td>...</td>\n",
       "      <td>1.000000</td>\n",
       "      <td>0.000000</td>\n",
       "      <td>0.000000</td>\n",
       "      <td>8.000000</td>\n",
       "      <td>2.956500e+03</td>\n",
       "      <td>10.000000</td>\n",
       "      <td>0.000000</td>\n",
       "      <td>0.000000</td>\n",
       "      <td>0.000000</td>\n",
       "      <td>0.000000</td>\n",
       "    </tr>\n",
       "    <tr>\n",
       "      <th>50%</th>\n",
       "      <td>9.000000</td>\n",
       "      <td>0.000000</td>\n",
       "      <td>0.000000</td>\n",
       "      <td>80.000000</td>\n",
       "      <td>6.000000</td>\n",
       "      <td>0.000000</td>\n",
       "      <td>0.000000</td>\n",
       "      <td>51.000000</td>\n",
       "      <td>1.540000e+02</td>\n",
       "      <td>4.220000e+02</td>\n",
       "      <td>...</td>\n",
       "      <td>1.000000</td>\n",
       "      <td>0.000000</td>\n",
       "      <td>0.000000</td>\n",
       "      <td>10.000000</td>\n",
       "      <td>1.195500e+04</td>\n",
       "      <td>11.000000</td>\n",
       "      <td>0.000000</td>\n",
       "      <td>0.000000</td>\n",
       "      <td>0.000000</td>\n",
       "      <td>0.000000</td>\n",
       "    </tr>\n",
       "    <tr>\n",
       "      <th>75%</th>\n",
       "      <td>9.000000</td>\n",
       "      <td>0.000000</td>\n",
       "      <td>0.000000</td>\n",
       "      <td>102.000000</td>\n",
       "      <td>585.500000</td>\n",
       "      <td>0.000000</td>\n",
       "      <td>0.000000</td>\n",
       "      <td>105.000000</td>\n",
       "      <td>1.490000e+03</td>\n",
       "      <td>1.204000e+03</td>\n",
       "      <td>...</td>\n",
       "      <td>1.000000</td>\n",
       "      <td>0.000000</td>\n",
       "      <td>0.000000</td>\n",
       "      <td>12.000000</td>\n",
       "      <td>3.341000e+04</td>\n",
       "      <td>12.000000</td>\n",
       "      <td>1.000000</td>\n",
       "      <td>2.000000</td>\n",
       "      <td>0.000000</td>\n",
       "      <td>0.000000</td>\n",
       "    </tr>\n",
       "    <tr>\n",
       "      <th>max</th>\n",
       "      <td>12.000000</td>\n",
       "      <td>3265.000000</td>\n",
       "      <td>20.000000</td>\n",
       "      <td>286.000000</td>\n",
       "      <td>178750.000000</td>\n",
       "      <td>1.000000</td>\n",
       "      <td>1.000000</td>\n",
       "      <td>202.000000</td>\n",
       "      <td>1.085821e+06</td>\n",
       "      <td>1.353651e+07</td>\n",
       "      <td>...</td>\n",
       "      <td>1.000000</td>\n",
       "      <td>1.000000</td>\n",
       "      <td>1.000000</td>\n",
       "      <td>15.000000</td>\n",
       "      <td>3.535183e+06</td>\n",
       "      <td>28.000000</td>\n",
       "      <td>1.000000</td>\n",
       "      <td>6.000000</td>\n",
       "      <td>1.000000</td>\n",
       "      <td>1.000000</td>\n",
       "    </tr>\n",
       "  </tbody>\n",
       "</table>\n",
       "<p>8 rows × 34 columns</p>\n",
       "</div>"
      ],
      "text/plain": [
       "                age       avg_fav      avg_hash       avg_len        avg_ret  \\\n",
       "count  15687.000000  15687.000000  15687.000000  15687.000000   15687.000000   \n",
       "mean       9.224007      1.913240      0.117677     75.027985    1314.964812   \n",
       "std        0.547550     40.537289      0.537202     41.814151    4526.147233   \n",
       "min        4.000000      0.000000      0.000000      0.000000       0.000000   \n",
       "25%        9.000000      0.000000      0.000000     55.000000       0.000000   \n",
       "50%        9.000000      0.000000      0.000000     80.000000       6.000000   \n",
       "75%        9.000000      0.000000      0.000000    102.000000     585.500000   \n",
       "max       12.000000   3265.000000     20.000000    286.000000  178750.000000   \n",
       "\n",
       "       bot_words_score  default_profile  description_len  favourites_count  \\\n",
       "count     15687.000000     15687.000000     15687.000000      1.568700e+04   \n",
       "mean          0.000064         0.101039        62.047747      3.515535e+03   \n",
       "std           0.007984         0.301390        52.385252      1.665490e+04   \n",
       "min           0.000000         0.000000         0.000000      0.000000e+00   \n",
       "25%           0.000000         0.000000        14.000000      7.000000e+00   \n",
       "50%           0.000000         0.000000        51.000000      1.540000e+02   \n",
       "75%           0.000000         0.000000       105.000000      1.490000e+03   \n",
       "max           1.000000         1.000000       202.000000      1.085821e+06   \n",
       "\n",
       "       followers_count      ...       profile_use_background_image  \\\n",
       "count     1.568700e+04      ...                       15687.000000   \n",
       "mean      1.110773e+04      ...                           0.884363   \n",
       "std       2.051704e+05      ...                           0.319800   \n",
       "min       0.000000e+00      ...                           0.000000   \n",
       "25%       1.470000e+02      ...                           1.000000   \n",
       "50%       4.220000e+02      ...                           1.000000   \n",
       "75%       1.204000e+03      ...                           1.000000   \n",
       "max       1.353651e+07      ...                           1.000000   \n",
       "\n",
       "         quote_perc      ret_perc  screen_name_len  statuses_count  \\\n",
       "count  15687.000000  15687.000000     15687.000000    1.568700e+04   \n",
       "mean       0.000064      0.002167        10.205712    3.121222e+04   \n",
       "std        0.007984      0.046506         2.764841    7.158437e+04   \n",
       "min        0.000000      0.000000         2.000000    0.000000e+00   \n",
       "25%        0.000000      0.000000         8.000000    2.956500e+03   \n",
       "50%        0.000000      0.000000        10.000000    1.195500e+04   \n",
       "75%        0.000000      0.000000        12.000000    3.341000e+04   \n",
       "max        1.000000      1.000000        15.000000    3.535183e+06   \n",
       "\n",
       "       tweet_intradistance           url   url_entropy      url_perc  \\\n",
       "count         15687.000000  15687.000000  15687.000000  15687.000000   \n",
       "mean              9.874546      0.491299      0.855039      0.049723   \n",
       "std               4.485296      0.499940      1.121645      0.217378   \n",
       "min               0.000000      0.000000      0.000000      0.000000   \n",
       "25%              10.000000      0.000000      0.000000      0.000000   \n",
       "50%              11.000000      0.000000      0.000000      0.000000   \n",
       "75%              12.000000      1.000000      2.000000      0.000000   \n",
       "max              28.000000      1.000000      6.000000      1.000000   \n",
       "\n",
       "           verified  \n",
       "count  15687.000000  \n",
       "mean       0.020973  \n",
       "std        0.143298  \n",
       "min        0.000000  \n",
       "25%        0.000000  \n",
       "50%        0.000000  \n",
       "75%        0.000000  \n",
       "max        1.000000  \n",
       "\n",
       "[8 rows x 34 columns]"
      ]
     },
     "execution_count": 108,
     "metadata": {},
     "output_type": "execute_result"
    }
   ],
   "source": [
    "full.reindex(sorted(X.columns), axis=1).loc[full.target==0].describe()"
   ]
  },
  {
   "cell_type": "code",
   "execution_count": 109,
   "metadata": {},
   "outputs": [
    {
     "data": {
      "text/html": [
       "<div>\n",
       "<style scoped>\n",
       "    .dataframe tbody tr th:only-of-type {\n",
       "        vertical-align: middle;\n",
       "    }\n",
       "\n",
       "    .dataframe tbody tr th {\n",
       "        vertical-align: top;\n",
       "    }\n",
       "\n",
       "    .dataframe thead th {\n",
       "        text-align: right;\n",
       "    }\n",
       "</style>\n",
       "<table border=\"1\" class=\"dataframe\">\n",
       "  <thead>\n",
       "    <tr style=\"text-align: right;\">\n",
       "      <th></th>\n",
       "      <th>age</th>\n",
       "      <th>avg_fav</th>\n",
       "      <th>avg_hash</th>\n",
       "      <th>avg_len</th>\n",
       "      <th>avg_ret</th>\n",
       "      <th>bot_words_score</th>\n",
       "      <th>default_profile</th>\n",
       "      <th>description_len</th>\n",
       "      <th>favourites_count</th>\n",
       "      <th>followers_count</th>\n",
       "      <th>...</th>\n",
       "      <th>quote_perc</th>\n",
       "      <th>ret_perc</th>\n",
       "      <th>screen_name_len</th>\n",
       "      <th>statuses_count</th>\n",
       "      <th>target</th>\n",
       "      <th>tweet_intradistance</th>\n",
       "      <th>url</th>\n",
       "      <th>url_entropy</th>\n",
       "      <th>url_perc</th>\n",
       "      <th>verified</th>\n",
       "    </tr>\n",
       "  </thead>\n",
       "  <tbody>\n",
       "    <tr>\n",
       "      <th>count</th>\n",
       "      <td>3000.000000</td>\n",
       "      <td>3000.000000</td>\n",
       "      <td>3000.000000</td>\n",
       "      <td>3000.000000</td>\n",
       "      <td>3000.000000</td>\n",
       "      <td>3000.000000</td>\n",
       "      <td>3000.000000</td>\n",
       "      <td>3000.000000</td>\n",
       "      <td>3000.000000</td>\n",
       "      <td>3.000000e+03</td>\n",
       "      <td>...</td>\n",
       "      <td>3000.000000</td>\n",
       "      <td>3000.000000</td>\n",
       "      <td>3000.000000</td>\n",
       "      <td>3.000000e+03</td>\n",
       "      <td>3000.0</td>\n",
       "      <td>3000.000000</td>\n",
       "      <td>3000.000000</td>\n",
       "      <td>3000.000000</td>\n",
       "      <td>3000.000000</td>\n",
       "      <td>3000.000000</td>\n",
       "    </tr>\n",
       "    <tr>\n",
       "      <th>mean</th>\n",
       "      <td>4.504333</td>\n",
       "      <td>10.142937</td>\n",
       "      <td>0.198781</td>\n",
       "      <td>67.034282</td>\n",
       "      <td>1235.727903</td>\n",
       "      <td>0.014081</td>\n",
       "      <td>0.683333</td>\n",
       "      <td>55.106667</td>\n",
       "      <td>10585.049667</td>\n",
       "      <td>8.659666e+03</td>\n",
       "      <td>...</td>\n",
       "      <td>0.047381</td>\n",
       "      <td>0.310648</td>\n",
       "      <td>11.472333</td>\n",
       "      <td>1.643572e+04</td>\n",
       "      <td>1.0</td>\n",
       "      <td>8.442529</td>\n",
       "      <td>0.249333</td>\n",
       "      <td>1.061060</td>\n",
       "      <td>0.146245</td>\n",
       "      <td>0.004667</td>\n",
       "    </tr>\n",
       "    <tr>\n",
       "      <th>std</th>\n",
       "      <td>2.690302</td>\n",
       "      <td>210.288434</td>\n",
       "      <td>0.416654</td>\n",
       "      <td>55.125955</td>\n",
       "      <td>5915.806627</td>\n",
       "      <td>0.023036</td>\n",
       "      <td>0.465254</td>\n",
       "      <td>54.384230</td>\n",
       "      <td>38543.663988</td>\n",
       "      <td>2.397022e+05</td>\n",
       "      <td>...</td>\n",
       "      <td>0.086884</td>\n",
       "      <td>0.413984</td>\n",
       "      <td>2.575548</td>\n",
       "      <td>5.662299e+04</td>\n",
       "      <td>0.0</td>\n",
       "      <td>6.150977</td>\n",
       "      <td>0.432699</td>\n",
       "      <td>1.399916</td>\n",
       "      <td>0.245598</td>\n",
       "      <td>0.068165</td>\n",
       "    </tr>\n",
       "    <tr>\n",
       "      <th>min</th>\n",
       "      <td>0.000000</td>\n",
       "      <td>0.000000</td>\n",
       "      <td>0.000000</td>\n",
       "      <td>0.000000</td>\n",
       "      <td>0.000000</td>\n",
       "      <td>0.000000</td>\n",
       "      <td>0.000000</td>\n",
       "      <td>0.000000</td>\n",
       "      <td>0.000000</td>\n",
       "      <td>0.000000e+00</td>\n",
       "      <td>...</td>\n",
       "      <td>0.000000</td>\n",
       "      <td>0.000000</td>\n",
       "      <td>4.000000</td>\n",
       "      <td>0.000000e+00</td>\n",
       "      <td>1.0</td>\n",
       "      <td>0.000000</td>\n",
       "      <td>0.000000</td>\n",
       "      <td>0.000000</td>\n",
       "      <td>0.000000</td>\n",
       "      <td>0.000000</td>\n",
       "    </tr>\n",
       "    <tr>\n",
       "      <th>25%</th>\n",
       "      <td>3.000000</td>\n",
       "      <td>0.000000</td>\n",
       "      <td>0.000000</td>\n",
       "      <td>0.000000</td>\n",
       "      <td>0.000000</td>\n",
       "      <td>0.000000</td>\n",
       "      <td>0.000000</td>\n",
       "      <td>0.000000</td>\n",
       "      <td>0.000000</td>\n",
       "      <td>1.000000e+01</td>\n",
       "      <td>...</td>\n",
       "      <td>0.000000</td>\n",
       "      <td>0.000000</td>\n",
       "      <td>10.000000</td>\n",
       "      <td>2.200000e+01</td>\n",
       "      <td>1.0</td>\n",
       "      <td>0.000000</td>\n",
       "      <td>0.000000</td>\n",
       "      <td>0.000000</td>\n",
       "      <td>0.000000</td>\n",
       "      <td>0.000000</td>\n",
       "    </tr>\n",
       "    <tr>\n",
       "      <th>50%</th>\n",
       "      <td>4.000000</td>\n",
       "      <td>0.000000</td>\n",
       "      <td>0.070588</td>\n",
       "      <td>70.310538</td>\n",
       "      <td>0.058140</td>\n",
       "      <td>0.008606</td>\n",
       "      <td>1.000000</td>\n",
       "      <td>45.000000</td>\n",
       "      <td>52.000000</td>\n",
       "      <td>3.300000e+01</td>\n",
       "      <td>...</td>\n",
       "      <td>0.000000</td>\n",
       "      <td>0.000000</td>\n",
       "      <td>12.000000</td>\n",
       "      <td>9.300000e+01</td>\n",
       "      <td>1.0</td>\n",
       "      <td>11.229733</td>\n",
       "      <td>0.000000</td>\n",
       "      <td>0.000000</td>\n",
       "      <td>0.010051</td>\n",
       "      <td>0.000000</td>\n",
       "    </tr>\n",
       "    <tr>\n",
       "      <th>75%</th>\n",
       "      <td>6.000000</td>\n",
       "      <td>0.068966</td>\n",
       "      <td>0.224490</td>\n",
       "      <td>117.005000</td>\n",
       "      <td>1096.173549</td>\n",
       "      <td>0.021674</td>\n",
       "      <td>1.000000</td>\n",
       "      <td>94.000000</td>\n",
       "      <td>536.500000</td>\n",
       "      <td>2.042500e+02</td>\n",
       "      <td>...</td>\n",
       "      <td>0.066667</td>\n",
       "      <td>0.750000</td>\n",
       "      <td>14.000000</td>\n",
       "      <td>5.640500e+03</td>\n",
       "      <td>1.0</td>\n",
       "      <td>13.602933</td>\n",
       "      <td>0.000000</td>\n",
       "      <td>2.321928</td>\n",
       "      <td>0.190119</td>\n",
       "      <td>0.000000</td>\n",
       "    </tr>\n",
       "    <tr>\n",
       "      <th>max</th>\n",
       "      <td>11.000000</td>\n",
       "      <td>9103.400000</td>\n",
       "      <td>8.720000</td>\n",
       "      <td>297.330000</td>\n",
       "      <td>247147.066667</td>\n",
       "      <td>0.457338</td>\n",
       "      <td>1.000000</td>\n",
       "      <td>170.000000</td>\n",
       "      <td>913239.000000</td>\n",
       "      <td>1.286337e+07</td>\n",
       "      <td>...</td>\n",
       "      <td>0.960000</td>\n",
       "      <td>1.000000</td>\n",
       "      <td>15.000000</td>\n",
       "      <td>1.417703e+06</td>\n",
       "      <td>1.0</td>\n",
       "      <td>21.402723</td>\n",
       "      <td>1.000000</td>\n",
       "      <td>5.596175</td>\n",
       "      <td>1.000000</td>\n",
       "      <td>1.000000</td>\n",
       "    </tr>\n",
       "  </tbody>\n",
       "</table>\n",
       "<p>8 rows × 35 columns</p>\n",
       "</div>"
      ],
      "text/plain": [
       "               age      avg_fav     avg_hash      avg_len        avg_ret  \\\n",
       "count  3000.000000  3000.000000  3000.000000  3000.000000    3000.000000   \n",
       "mean      4.504333    10.142937     0.198781    67.034282    1235.727903   \n",
       "std       2.690302   210.288434     0.416654    55.125955    5915.806627   \n",
       "min       0.000000     0.000000     0.000000     0.000000       0.000000   \n",
       "25%       3.000000     0.000000     0.000000     0.000000       0.000000   \n",
       "50%       4.000000     0.000000     0.070588    70.310538       0.058140   \n",
       "75%       6.000000     0.068966     0.224490   117.005000    1096.173549   \n",
       "max      11.000000  9103.400000     8.720000   297.330000  247147.066667   \n",
       "\n",
       "       bot_words_score  default_profile  description_len  favourites_count  \\\n",
       "count      3000.000000      3000.000000      3000.000000       3000.000000   \n",
       "mean          0.014081         0.683333        55.106667      10585.049667   \n",
       "std           0.023036         0.465254        54.384230      38543.663988   \n",
       "min           0.000000         0.000000         0.000000          0.000000   \n",
       "25%           0.000000         0.000000         0.000000          0.000000   \n",
       "50%           0.008606         1.000000        45.000000         52.000000   \n",
       "75%           0.021674         1.000000        94.000000        536.500000   \n",
       "max           0.457338         1.000000       170.000000     913239.000000   \n",
       "\n",
       "       followers_count     ...        quote_perc     ret_perc  \\\n",
       "count     3.000000e+03     ...       3000.000000  3000.000000   \n",
       "mean      8.659666e+03     ...          0.047381     0.310648   \n",
       "std       2.397022e+05     ...          0.086884     0.413984   \n",
       "min       0.000000e+00     ...          0.000000     0.000000   \n",
       "25%       1.000000e+01     ...          0.000000     0.000000   \n",
       "50%       3.300000e+01     ...          0.000000     0.000000   \n",
       "75%       2.042500e+02     ...          0.066667     0.750000   \n",
       "max       1.286337e+07     ...          0.960000     1.000000   \n",
       "\n",
       "       screen_name_len  statuses_count  target  tweet_intradistance  \\\n",
       "count      3000.000000    3.000000e+03  3000.0          3000.000000   \n",
       "mean         11.472333    1.643572e+04     1.0             8.442529   \n",
       "std           2.575548    5.662299e+04     0.0             6.150977   \n",
       "min           4.000000    0.000000e+00     1.0             0.000000   \n",
       "25%          10.000000    2.200000e+01     1.0             0.000000   \n",
       "50%          12.000000    9.300000e+01     1.0            11.229733   \n",
       "75%          14.000000    5.640500e+03     1.0            13.602933   \n",
       "max          15.000000    1.417703e+06     1.0            21.402723   \n",
       "\n",
       "               url  url_entropy     url_perc     verified  \n",
       "count  3000.000000  3000.000000  3000.000000  3000.000000  \n",
       "mean      0.249333     1.061060     0.146245     0.004667  \n",
       "std       0.432699     1.399916     0.245598     0.068165  \n",
       "min       0.000000     0.000000     0.000000     0.000000  \n",
       "25%       0.000000     0.000000     0.000000     0.000000  \n",
       "50%       0.000000     0.000000     0.010051     0.000000  \n",
       "75%       0.000000     2.321928     0.190119     0.000000  \n",
       "max       1.000000     5.596175     1.000000     1.000000  \n",
       "\n",
       "[8 rows x 35 columns]"
      ]
     },
     "execution_count": 109,
     "metadata": {},
     "output_type": "execute_result"
    }
   ],
   "source": [
    "val.loc[val.target==1].describe()"
   ]
  },
  {
   "cell_type": "code",
   "execution_count": 110,
   "metadata": {},
   "outputs": [
    {
     "data": {
      "text/html": [
       "<div>\n",
       "<style scoped>\n",
       "    .dataframe tbody tr th:only-of-type {\n",
       "        vertical-align: middle;\n",
       "    }\n",
       "\n",
       "    .dataframe tbody tr th {\n",
       "        vertical-align: top;\n",
       "    }\n",
       "\n",
       "    .dataframe thead th {\n",
       "        text-align: right;\n",
       "    }\n",
       "</style>\n",
       "<table border=\"1\" class=\"dataframe\">\n",
       "  <thead>\n",
       "    <tr style=\"text-align: right;\">\n",
       "      <th></th>\n",
       "      <th>age</th>\n",
       "      <th>avg_fav</th>\n",
       "      <th>avg_hash</th>\n",
       "      <th>avg_len</th>\n",
       "      <th>avg_ret</th>\n",
       "      <th>bot_words_score</th>\n",
       "      <th>default_profile</th>\n",
       "      <th>description_len</th>\n",
       "      <th>favourites_count</th>\n",
       "      <th>followers_count</th>\n",
       "      <th>...</th>\n",
       "      <th>profile_use_background_image</th>\n",
       "      <th>quote_perc</th>\n",
       "      <th>ret_perc</th>\n",
       "      <th>screen_name_len</th>\n",
       "      <th>statuses_count</th>\n",
       "      <th>tweet_intradistance</th>\n",
       "      <th>url</th>\n",
       "      <th>url_entropy</th>\n",
       "      <th>url_perc</th>\n",
       "      <th>verified</th>\n",
       "    </tr>\n",
       "  </thead>\n",
       "  <tbody>\n",
       "    <tr>\n",
       "      <th>count</th>\n",
       "      <td>15525.000000</td>\n",
       "      <td>15525.000000</td>\n",
       "      <td>15525.000000</td>\n",
       "      <td>15525.000000</td>\n",
       "      <td>1.552500e+04</td>\n",
       "      <td>15525.000000</td>\n",
       "      <td>15525.000000</td>\n",
       "      <td>15525.000000</td>\n",
       "      <td>15525.000000</td>\n",
       "      <td>1.552500e+04</td>\n",
       "      <td>...</td>\n",
       "      <td>15525.000000</td>\n",
       "      <td>15525.000000</td>\n",
       "      <td>15525.000000</td>\n",
       "      <td>15525.000000</td>\n",
       "      <td>1.552500e+04</td>\n",
       "      <td>15525.000000</td>\n",
       "      <td>15525.000000</td>\n",
       "      <td>15525.000000</td>\n",
       "      <td>15525.000000</td>\n",
       "      <td>15525.000000</td>\n",
       "    </tr>\n",
       "    <tr>\n",
       "      <th>mean</th>\n",
       "      <td>8.649404</td>\n",
       "      <td>1.801224</td>\n",
       "      <td>0.167407</td>\n",
       "      <td>90.833430</td>\n",
       "      <td>3.801445e+02</td>\n",
       "      <td>0.000773</td>\n",
       "      <td>0.246248</td>\n",
       "      <td>70.215395</td>\n",
       "      <td>686.950789</td>\n",
       "      <td>1.456906e+04</td>\n",
       "      <td>...</td>\n",
       "      <td>0.937391</td>\n",
       "      <td>0.000193</td>\n",
       "      <td>0.003671</td>\n",
       "      <td>11.263575</td>\n",
       "      <td>9.763393e+03</td>\n",
       "      <td>10.547568</td>\n",
       "      <td>0.676779</td>\n",
       "      <td>0.599807</td>\n",
       "      <td>0.122254</td>\n",
       "      <td>0.015459</td>\n",
       "    </tr>\n",
       "    <tr>\n",
       "      <th>std</th>\n",
       "      <td>0.661777</td>\n",
       "      <td>79.841676</td>\n",
       "      <td>0.688922</td>\n",
       "      <td>35.368053</td>\n",
       "      <td>1.374444e+04</td>\n",
       "      <td>0.027792</td>\n",
       "      <td>0.430839</td>\n",
       "      <td>54.316119</td>\n",
       "      <td>6979.741820</td>\n",
       "      <td>6.268092e+05</td>\n",
       "      <td>...</td>\n",
       "      <td>0.242266</td>\n",
       "      <td>0.013900</td>\n",
       "      <td>0.060483</td>\n",
       "      <td>2.638601</td>\n",
       "      <td>4.657842e+04</td>\n",
       "      <td>3.100753</td>\n",
       "      <td>0.467721</td>\n",
       "      <td>1.029724</td>\n",
       "      <td>0.327590</td>\n",
       "      <td>0.123373</td>\n",
       "    </tr>\n",
       "    <tr>\n",
       "      <th>min</th>\n",
       "      <td>4.000000</td>\n",
       "      <td>0.000000</td>\n",
       "      <td>0.000000</td>\n",
       "      <td>0.000000</td>\n",
       "      <td>0.000000e+00</td>\n",
       "      <td>0.000000</td>\n",
       "      <td>0.000000</td>\n",
       "      <td>0.000000</td>\n",
       "      <td>0.000000</td>\n",
       "      <td>0.000000e+00</td>\n",
       "      <td>...</td>\n",
       "      <td>0.000000</td>\n",
       "      <td>0.000000</td>\n",
       "      <td>0.000000</td>\n",
       "      <td>2.000000</td>\n",
       "      <td>0.000000e+00</td>\n",
       "      <td>0.000000</td>\n",
       "      <td>0.000000</td>\n",
       "      <td>0.000000</td>\n",
       "      <td>0.000000</td>\n",
       "      <td>0.000000</td>\n",
       "    </tr>\n",
       "    <tr>\n",
       "      <th>25%</th>\n",
       "      <td>8.000000</td>\n",
       "      <td>0.000000</td>\n",
       "      <td>0.000000</td>\n",
       "      <td>74.000000</td>\n",
       "      <td>0.000000e+00</td>\n",
       "      <td>0.000000</td>\n",
       "      <td>0.000000</td>\n",
       "      <td>18.000000</td>\n",
       "      <td>0.000000</td>\n",
       "      <td>3.470000e+02</td>\n",
       "      <td>...</td>\n",
       "      <td>1.000000</td>\n",
       "      <td>0.000000</td>\n",
       "      <td>0.000000</td>\n",
       "      <td>9.000000</td>\n",
       "      <td>1.540000e+02</td>\n",
       "      <td>10.000000</td>\n",
       "      <td>0.000000</td>\n",
       "      <td>0.000000</td>\n",
       "      <td>0.000000</td>\n",
       "      <td>0.000000</td>\n",
       "    </tr>\n",
       "    <tr>\n",
       "      <th>50%</th>\n",
       "      <td>9.000000</td>\n",
       "      <td>0.000000</td>\n",
       "      <td>0.000000</td>\n",
       "      <td>91.000000</td>\n",
       "      <td>0.000000e+00</td>\n",
       "      <td>0.000000</td>\n",
       "      <td>0.000000</td>\n",
       "      <td>68.000000</td>\n",
       "      <td>0.000000</td>\n",
       "      <td>1.040000e+03</td>\n",
       "      <td>...</td>\n",
       "      <td>1.000000</td>\n",
       "      <td>0.000000</td>\n",
       "      <td>0.000000</td>\n",
       "      <td>11.000000</td>\n",
       "      <td>1.294000e+03</td>\n",
       "      <td>11.000000</td>\n",
       "      <td>1.000000</td>\n",
       "      <td>0.000000</td>\n",
       "      <td>0.000000</td>\n",
       "      <td>0.000000</td>\n",
       "    </tr>\n",
       "    <tr>\n",
       "      <th>75%</th>\n",
       "      <td>9.000000</td>\n",
       "      <td>0.000000</td>\n",
       "      <td>0.000000</td>\n",
       "      <td>110.000000</td>\n",
       "      <td>0.000000e+00</td>\n",
       "      <td>0.000000</td>\n",
       "      <td>0.000000</td>\n",
       "      <td>118.000000</td>\n",
       "      <td>10.000000</td>\n",
       "      <td>3.501000e+03</td>\n",
       "      <td>...</td>\n",
       "      <td>1.000000</td>\n",
       "      <td>0.000000</td>\n",
       "      <td>0.000000</td>\n",
       "      <td>13.000000</td>\n",
       "      <td>6.733000e+03</td>\n",
       "      <td>12.000000</td>\n",
       "      <td>1.000000</td>\n",
       "      <td>1.000000</td>\n",
       "      <td>0.000000</td>\n",
       "      <td>0.000000</td>\n",
       "    </tr>\n",
       "    <tr>\n",
       "      <th>max</th>\n",
       "      <td>12.000000</td>\n",
       "      <td>9070.000000</td>\n",
       "      <td>18.000000</td>\n",
       "      <td>299.000000</td>\n",
       "      <td>1.674279e+06</td>\n",
       "      <td>1.000000</td>\n",
       "      <td>1.000000</td>\n",
       "      <td>169.000000</td>\n",
       "      <td>484248.000000</td>\n",
       "      <td>7.711729e+07</td>\n",
       "      <td>...</td>\n",
       "      <td>1.000000</td>\n",
       "      <td>1.000000</td>\n",
       "      <td>1.000000</td>\n",
       "      <td>15.000000</td>\n",
       "      <td>2.993534e+06</td>\n",
       "      <td>27.000000</td>\n",
       "      <td>1.000000</td>\n",
       "      <td>6.000000</td>\n",
       "      <td>1.000000</td>\n",
       "      <td>1.000000</td>\n",
       "    </tr>\n",
       "  </tbody>\n",
       "</table>\n",
       "<p>8 rows × 34 columns</p>\n",
       "</div>"
      ],
      "text/plain": [
       "                age       avg_fav      avg_hash       avg_len       avg_ret  \\\n",
       "count  15525.000000  15525.000000  15525.000000  15525.000000  1.552500e+04   \n",
       "mean       8.649404      1.801224      0.167407     90.833430  3.801445e+02   \n",
       "std        0.661777     79.841676      0.688922     35.368053  1.374444e+04   \n",
       "min        4.000000      0.000000      0.000000      0.000000  0.000000e+00   \n",
       "25%        8.000000      0.000000      0.000000     74.000000  0.000000e+00   \n",
       "50%        9.000000      0.000000      0.000000     91.000000  0.000000e+00   \n",
       "75%        9.000000      0.000000      0.000000    110.000000  0.000000e+00   \n",
       "max       12.000000   9070.000000     18.000000    299.000000  1.674279e+06   \n",
       "\n",
       "       bot_words_score  default_profile  description_len  favourites_count  \\\n",
       "count     15525.000000     15525.000000     15525.000000      15525.000000   \n",
       "mean          0.000773         0.246248        70.215395        686.950789   \n",
       "std           0.027792         0.430839        54.316119       6979.741820   \n",
       "min           0.000000         0.000000         0.000000          0.000000   \n",
       "25%           0.000000         0.000000        18.000000          0.000000   \n",
       "50%           0.000000         0.000000        68.000000          0.000000   \n",
       "75%           0.000000         0.000000       118.000000         10.000000   \n",
       "max           1.000000         1.000000       169.000000     484248.000000   \n",
       "\n",
       "       followers_count      ...       profile_use_background_image  \\\n",
       "count     1.552500e+04      ...                       15525.000000   \n",
       "mean      1.456906e+04      ...                           0.937391   \n",
       "std       6.268092e+05      ...                           0.242266   \n",
       "min       0.000000e+00      ...                           0.000000   \n",
       "25%       3.470000e+02      ...                           1.000000   \n",
       "50%       1.040000e+03      ...                           1.000000   \n",
       "75%       3.501000e+03      ...                           1.000000   \n",
       "max       7.711729e+07      ...                           1.000000   \n",
       "\n",
       "         quote_perc      ret_perc  screen_name_len  statuses_count  \\\n",
       "count  15525.000000  15525.000000     15525.000000    1.552500e+04   \n",
       "mean       0.000193      0.003671        11.263575    9.763393e+03   \n",
       "std        0.013900      0.060483         2.638601    4.657842e+04   \n",
       "min        0.000000      0.000000         2.000000    0.000000e+00   \n",
       "25%        0.000000      0.000000         9.000000    1.540000e+02   \n",
       "50%        0.000000      0.000000        11.000000    1.294000e+03   \n",
       "75%        0.000000      0.000000        13.000000    6.733000e+03   \n",
       "max        1.000000      1.000000        15.000000    2.993534e+06   \n",
       "\n",
       "       tweet_intradistance           url   url_entropy      url_perc  \\\n",
       "count         15525.000000  15525.000000  15525.000000  15525.000000   \n",
       "mean             10.547568      0.676779      0.599807      0.122254   \n",
       "std               3.100753      0.467721      1.029724      0.327590   \n",
       "min               0.000000      0.000000      0.000000      0.000000   \n",
       "25%              10.000000      0.000000      0.000000      0.000000   \n",
       "50%              11.000000      1.000000      0.000000      0.000000   \n",
       "75%              12.000000      1.000000      1.000000      0.000000   \n",
       "max              27.000000      1.000000      6.000000      1.000000   \n",
       "\n",
       "           verified  \n",
       "count  15525.000000  \n",
       "mean       0.015459  \n",
       "std        0.123373  \n",
       "min        0.000000  \n",
       "25%        0.000000  \n",
       "50%        0.000000  \n",
       "75%        0.000000  \n",
       "max        1.000000  \n",
       "\n",
       "[8 rows x 34 columns]"
      ]
     },
     "execution_count": 110,
     "metadata": {},
     "output_type": "execute_result"
    }
   ],
   "source": [
    "full.reindex(sorted(X.columns), axis=1).loc[full.target==1].describe()"
   ]
  },
  {
   "cell_type": "markdown",
   "metadata": {},
   "source": [
    "# Train with refill"
   ]
  },
  {
   "cell_type": "code",
   "execution_count": 7,
   "metadata": {},
   "outputs": [],
   "source": [
    "gen = pd.read_csv('data/genuine/users.csv')"
   ]
  },
  {
   "cell_type": "code",
   "execution_count": 25,
   "metadata": {},
   "outputs": [],
   "source": [
    "gen_tweets = pd.read_csv('data/genuine/users.csv', encoding='utf-8-sig')"
   ]
  },
  {
   "cell_type": "code",
   "execution_count": 23,
   "metadata": {},
   "outputs": [],
   "source": [
    "bots_1 = multiclass.loc[multiclass.target == 0].sample(n=1500)\n",
    "bots_2 = multiclass.loc[multiclass.target == 1].sample(n=1500)\n",
    "bots_3 = multiclass.loc[multiclass.target == 2].sample(n=1500)\n",
    "bots_4 = multiclass.loc[multiclass.target == 3].sample(n=1500)"
   ]
  },
  {
   "cell_type": "code",
   "execution_count": 28,
   "metadata": {},
   "outputs": [
    {
     "name": "stderr",
     "output_type": "stream",
     "text": [
      "/Users/Lorenzo/anaconda/lib/python3.6/site-packages/ipykernel_launcher.py:1: FutureWarning: Sorting because non-concatenation axis is not aligned. A future version\n",
      "of pandas will change to not sort by default.\n",
      "\n",
      "To accept the future behavior, pass 'sort=False'.\n",
      "\n",
      "To retain the current behavior and silence the warning, pass 'sort=True'.\n",
      "\n",
      "  \"\"\"Entry point for launching an IPython kernel.\n"
     ]
    }
   ],
   "source": [
    "refill = pd.concat([bots_1, bots_2, bots_3, bots_4, gen], ignore_index=True)"
   ]
  },
  {
   "cell_type": "code",
   "execution_count": 30,
   "metadata": {},
   "outputs": [
    {
     "data": {
      "text/plain": [
       "2754"
      ]
     },
     "execution_count": 30,
     "metadata": {},
     "output_type": "execute_result"
    }
   ],
   "source": [
    "len(gen)"
   ]
  },
  {
   "cell_type": "markdown",
   "metadata": {},
   "source": [
    "## Compute extrinsic features"
   ]
  },
  {
   "cell_type": "code",
   "execution_count": 2,
   "metadata": {},
   "outputs": [],
   "source": [
    "bot_words = pd.read_csv('data/bon/bots/filtered_main_words.csv', sep=',')\n",
    "gen_words = pd.read_csv('data/bon/humans/filtered_main_words.csv', sep=',')"
   ]
  },
  {
   "cell_type": "code",
   "execution_count": 3,
   "metadata": {},
   "outputs": [],
   "source": [
    "def compute_bot_not_score(tweets):\n",
    "\n",
    "    user_score = pd.DataFrame(columns=['bot_words_score', 'gen_words_score'])\n",
    "\n",
    "    for tweet in tweets:\n",
    "        # check for words in main_words and compute the scores for each tweet and for each category\n",
    "        mask = np.in1d(bot_words.word, tweet.split())\n",
    "        bot_score = bot_words.loc[mask]['score'].values.sum()\n",
    "        mask = np.in1d(gen_words.word, tweet.split())\n",
    "        gen_score = gen_words.loc[mask]['score'].values.sum()\n",
    "        \n",
    "        user_score = user_score.append(pd.DataFrame({'bot_words_score': bot_score, 'gen_words_score': gen_score}, index=[0]), ignore_index=True)\n",
    "\n",
    "    return user_score"
   ]
  },
  {
   "cell_type": "code",
   "execution_count": 4,
   "metadata": {},
   "outputs": [],
   "source": [
    "def bot_not_score(tweets_df, id):\n",
    "    \n",
    "    tweets = tweets_df[tweets_df.user_id.astype(int) == int(id)]['full_text']\n",
    "    if len(tweets) > 0:\n",
    "        # sum all the scores of each category\n",
    "        user_score = compute_bot_not_score(tweets).sum()\n",
    "        scores = np.divide(user_score,len(tweets))\n",
    "    else:\n",
    "        scores = pd.DataFrame({'bot_words_score': 0, 'gen_words_score': 0}, index=[0])\n",
    "    \n",
    "    # return the average scores of each user\n",
    "    return scores"
   ]
  },
  {
   "cell_type": "code",
   "execution_count": 5,
   "metadata": {},
   "outputs": [],
   "source": [
    "def context_bot_not_score(bot_ids):\n",
    "    \n",
    "    tweets_df = pd.read_csv('data/' + bot_type + '/tweets.csv', encoding='utf-8-sig', sep='\\t')\n",
    "        \n",
    "    score_df = pd.DataFrame(columns=['bot_words_score', 'gen_words_score', 'user_id'])\n",
    "    i = 0\n",
    "    for user_id in bot_ids:\n",
    "        i += 1\n",
    "        scores = bot_not_score(tweets_df, user_id)\n",
    "        score_df = score_df.append(scores, ignore_index=True)\n",
    "        if (i%10 == 0):\n",
    "            clear_output()\n",
    "            print(str(i) +  \" bots processed\")\n",
    "    \n",
    "    score_df['user_id'] = bot_ids.values\n",
    "    \n",
    "    score_df.reset_index(drop=True, inplace=True)\n",
    "    print(bot_type + \" done!\")\n",
    "    \n",
    "    return score_df"
   ]
  },
  {
   "cell_type": "code",
   "execution_count": null,
   "metadata": {},
   "outputs": [],
   "source": [
    "extrinsic = context_bot_not_score(gen_ids)"
   ]
  },
  {
   "cell_type": "code",
   "execution_count": 163,
   "metadata": {},
   "outputs": [],
   "source": [
    "full = full.reindex(sorted(full.columns), axis=1)"
   ]
  },
  {
   "cell_type": "code",
   "execution_count": 154,
   "metadata": {},
   "outputs": [],
   "source": [
    "val = val.reindex(sorted(val.columns), axis=1)"
   ]
  },
  {
   "cell_type": "code",
   "execution_count": 164,
   "metadata": {},
   "outputs": [
    {
     "data": {
      "text/plain": [
       "Index(['age', 'avg_fav', 'avg_hash', 'avg_len', 'avg_ret', 'bot_words_score',\n",
       "       'default_profile', 'description_len', 'favourites_count',\n",
       "       'followers_count', 'freq', 'friends_count', 'gen_words_score',\n",
       "       'listed_count', 'max_fav', 'max_hash', 'max_len', 'max_ret',\n",
       "       'media_perc', 'min_fav', 'min_hash', 'min_len', 'min_ret', 'name_len',\n",
       "       'profile_use_background_image', 'quote_perc', 'ret_perc',\n",
       "       'screen_name_len', 'statuses_count', 'target', 'tweet_intradistance',\n",
       "       'url', 'url_entropy', 'url_perc', 'verified'],\n",
       "      dtype='object')"
      ]
     },
     "execution_count": 164,
     "metadata": {},
     "output_type": "execute_result"
    }
   ],
   "source": [
    "full.columns"
   ]
  },
  {
   "cell_type": "code",
   "execution_count": 160,
   "metadata": {},
   "outputs": [
    {
     "data": {
      "text/plain": [
       "Index(['age', 'avg_fav', 'avg_hash', 'avg_len', 'avg_ret', 'bot_words_score',\n",
       "       'default_profile', 'description_len', 'favourites_count',\n",
       "       'followers_count', 'freq', 'friends_count', 'gen_words_score',\n",
       "       'listed_count', 'max_fav', 'max_hash', 'max_len', 'max_ret',\n",
       "       'media_perc', 'min_fav', 'min_hash', 'min_len', 'min_ret', 'name_len',\n",
       "       'profile_use_background_image', 'quote_perc', 'ret_perc',\n",
       "       'screen_name_len', 'statuses_count', 'target', 'tweet_intradistance',\n",
       "       'url', 'url_entropy', 'url_perc', 'verified'],\n",
       "      dtype='object')"
      ]
     },
     "execution_count": 160,
     "metadata": {},
     "output_type": "execute_result"
    }
   ],
   "source": [
    "val.columns"
   ]
  },
  {
   "cell_type": "code",
   "execution_count": 165,
   "metadata": {},
   "outputs": [],
   "source": [
    "df = full.append(val)"
   ]
  },
  {
   "cell_type": "markdown",
   "metadata": {},
   "source": [
    "## Riparti da qua se hai train+refill"
   ]
  },
  {
   "cell_type": "code",
   "execution_count": 23,
   "metadata": {},
   "outputs": [],
   "source": [
    "df = pd.read_csv('../classification/data/bon/full/train_with_refill.csv')"
   ]
  },
  {
   "cell_type": "code",
   "execution_count": 24,
   "metadata": {},
   "outputs": [],
   "source": [
    "df.drop(columns=[\"age\"], inplace=True)"
   ]
  },
  {
   "cell_type": "code",
   "execution_count": 25,
   "metadata": {},
   "outputs": [],
   "source": [
    "df = pd.concat([df[df.target==0],df[df.target==1].sample(19500)])"
   ]
  },
  {
   "cell_type": "code",
   "execution_count": 26,
   "metadata": {},
   "outputs": [
    {
     "data": {
      "text/plain": [
       "1    19500\n",
       "0    19353\n",
       "Name: target, dtype: int64"
      ]
     },
     "execution_count": 26,
     "metadata": {},
     "output_type": "execute_result"
    }
   ],
   "source": [
    "df.target.value_counts()"
   ]
  },
  {
   "cell_type": "code",
   "execution_count": 27,
   "metadata": {},
   "outputs": [],
   "source": [
    "X = df.drop(columns=[\"target\"])\n",
    "y = df[\"target\"]"
   ]
  },
  {
   "cell_type": "code",
   "execution_count": 28,
   "metadata": {},
   "outputs": [],
   "source": [
    "X = X.reindex(sorted(X.columns), axis=1)"
   ]
  },
  {
   "cell_type": "code",
   "execution_count": 29,
   "metadata": {},
   "outputs": [],
   "source": [
    "model = RandomForestClassifier(n_estimators=600, criterion='entropy', max_depth=26)"
   ]
  },
  {
   "cell_type": "code",
   "execution_count": 30,
   "metadata": {},
   "outputs": [
    {
     "data": {
      "text/plain": [
       "RandomForestClassifier(bootstrap=True, class_weight=None, criterion='entropy',\n",
       "            max_depth=26, max_features='auto', max_leaf_nodes=None,\n",
       "            min_impurity_decrease=0.0, min_impurity_split=None,\n",
       "            min_samples_leaf=1, min_samples_split=2,\n",
       "            min_weight_fraction_leaf=0.0, n_estimators=600, n_jobs=None,\n",
       "            oob_score=False, random_state=None, verbose=0,\n",
       "            warm_start=False)"
      ]
     },
     "execution_count": 30,
     "metadata": {},
     "output_type": "execute_result"
    }
   ],
   "source": [
    "model.fit(X,y)"
   ]
  },
  {
   "cell_type": "code",
   "execution_count": 31,
   "metadata": {},
   "outputs": [],
   "source": [
    "pickle.dump(model, open(\"../script2/models/bon_balanced.model\", \"wb\"))"
   ]
  },
  {
   "cell_type": "code",
   "execution_count": 69,
   "metadata": {},
   "outputs": [
    {
     "data": {
      "text/plain": [
       "[(0.1124, 'age'),\n",
       " (0.1049, 'statuses_count'),\n",
       " (0.095, 'friends_count'),\n",
       " (0.0823, 'favourites_count'),\n",
       " (0.0652, 'followers_count'),\n",
       " (0.0511, 'min_len'),\n",
       " (0.0386, 'bot_words_score'),\n",
       " (0.0356, 'nsfw_profile'),\n",
       " (0.0296, 'gen_words_score'),\n",
       " (0.0279, 'max_ret'),\n",
       " (0.027, 'listed_count'),\n",
       " (0.0248, 'avg_ret'),\n",
       " (0.0239, 'avg_len'),\n",
       " (0.0235, 'ret_perc'),\n",
       " (0.0229, 'avg_fav'),\n",
       " (0.0228, 'freq'),\n",
       " (0.0218, 'max_len'),\n",
       " (0.0209, 'tweet_intradistance'),\n",
       " (0.0175, 'description_len'),\n",
       " (0.0168, 'media_perc'),\n",
       " (0.0167, 'name_len'),\n",
       " (0.0163, 'url_perc'),\n",
       " (0.0159, 'default_profile'),\n",
       " (0.0147, 'max_fav'),\n",
       " (0.0136, 'url_entropy'),\n",
       " (0.0129, 'avg_hash'),\n",
       " (0.012, 'screen_name_len'),\n",
       " (0.0116, 'quote_perc'),\n",
       " (0.0069, 'max_hash'),\n",
       " (0.0068, 'min_hash'),\n",
       " (0.0043, 'url'),\n",
       " (0.0027, 'min_ret'),\n",
       " (0.0006, 'profile_use_background_image'),\n",
       " (0.0004, 'verified'),\n",
       " (0.0002, 'min_fav')]"
      ]
     },
     "execution_count": 69,
     "metadata": {},
     "output_type": "execute_result"
    }
   ],
   "source": [
    "sorted(zip(map(lambda x: round(x, 4), model.feature_importances_), X.columns), reverse=True)"
   ]
  },
  {
   "cell_type": "code",
   "execution_count": 67,
   "metadata": {},
   "outputs": [],
   "source": [
    "model = RandomForestClassifier(n_estimators=450, criterion='entropy', max_depth=26)"
   ]
  },
  {
   "cell_type": "code",
   "execution_count": 70,
   "metadata": {},
   "outputs": [],
   "source": [
    "baselines = cross_validate(model, X, y, cv=10, scoring='roc_auc')"
   ]
  },
  {
   "cell_type": "code",
   "execution_count": 71,
   "metadata": {},
   "outputs": [
    {
     "data": {
      "text/plain": [
       "0.9638056025308227"
      ]
     },
     "execution_count": 71,
     "metadata": {},
     "output_type": "execute_result"
    }
   ],
   "source": [
    "baselines['test_score'].mean()"
   ]
  },
  {
   "cell_type": "code",
   "execution_count": 50,
   "metadata": {},
   "outputs": [
    {
     "data": {
      "text/plain": [
       "RandomForestClassifier(bootstrap=True, class_weight=None, criterion='entropy',\n",
       "            max_depth=26, max_features='auto', max_leaf_nodes=None,\n",
       "            min_impurity_decrease=0.0, min_impurity_split=None,\n",
       "            min_samples_leaf=1, min_samples_split=2,\n",
       "            min_weight_fraction_leaf=0.0, n_estimators=450, n_jobs=None,\n",
       "            oob_score=False, random_state=None, verbose=0,\n",
       "            warm_start=False)"
      ]
     },
     "execution_count": 50,
     "metadata": {},
     "output_type": "execute_result"
    }
   ],
   "source": [
    "model.fit(X,y)"
   ]
  },
  {
   "cell_type": "code",
   "execution_count": 72,
   "metadata": {},
   "outputs": [
    {
     "name": "stdout",
     "output_type": "stream",
     "text": [
      "Feature ranking:\n",
      "1. age (0.112411)\n",
      "2. statuses_count (0.104948)\n",
      "3. friends_count (0.095031)\n",
      "4. favourites_count (0.082281)\n",
      "5. followers_count (0.065196)\n",
      "6. min_len (0.051073)\n",
      "7. bot_words_score (0.038564)\n",
      "8. nsfw_profile (0.035578)\n",
      "9. gen_words_score (0.029560)\n",
      "10. max_ret (0.027877)\n",
      "11. listed_count (0.027034)\n",
      "12. avg_ret (0.024798)\n",
      "13. avg_len (0.023902)\n",
      "14. ret_perc (0.023486)\n",
      "15. avg_fav (0.022926)\n",
      "16. freq (0.022752)\n",
      "17. max_len (0.021780)\n",
      "18. tweet_intradistance (0.020851)\n",
      "19. description_len (0.017521)\n",
      "20. media_perc (0.016840)\n",
      "21. name_len (0.016679)\n",
      "22. url_perc (0.016267)\n",
      "23. default_profile (0.015913)\n",
      "24. max_fav (0.014746)\n",
      "25. url_entropy (0.013556)\n",
      "26. avg_hash (0.012920)\n",
      "27. screen_name_len (0.011981)\n",
      "28. quote_perc (0.011596)\n",
      "29. max_hash (0.006867)\n",
      "30. min_hash (0.006847)\n",
      "31. url (0.004287)\n",
      "32. min_ret (0.002689)\n",
      "33. profile_use_background_image (0.000575)\n",
      "34. verified (0.000446)\n",
      "35. min_fav (0.000223)\n"
     ]
    },
    {
     "data": {
      "text/plain": [
       "<Figure size 432x288 with 0 Axes>"
      ]
     },
     "metadata": {},
     "output_type": "display_data"
    },
    {
     "data": {
      "image/png": "[encoded data removed]",
      "text/plain": [
       "<Figure size 1440x720 with 1 Axes>"
      ]
     },
     "metadata": {},
     "output_type": "display_data"
    }
   ],
   "source": [
    "plot_importance(model, 'bon_importances', X, 7)"
   ]
  },
  {
   "cell_type": "markdown",
   "metadata": {},
   "source": [
    "## New Grid Search"
   ]
  },
  {
   "cell_type": "code",
   "execution_count": 54,
   "metadata": {},
   "outputs": [],
   "source": [
    "params = {'n_estimators':[300,500,500, 600, 700, 800], 'max_depth':[26], 'criterion':['entropy' ,'gini']}\n",
    "model = RandomForestClassifier()\n",
    "\n",
    "rf_grid = grid_search(X, y, model, params)"
   ]
  },
  {
   "cell_type": "code",
   "execution_count": 55,
   "metadata": {},
   "outputs": [],
   "source": [
    "n_estimators = [300,500,500, 600, 700, 800]\n",
    "max_depth = ['entropy' ,'gini']"
   ]
  },
  {
   "cell_type": "code",
   "execution_count": 56,
   "metadata": {},
   "outputs": [
    {
     "name": "stderr",
     "output_type": "stream",
     "text": [
      "/Users/Lorenzo/anaconda/lib/python3.6/site-packages/sklearn/utils/deprecation.py:125: FutureWarning: You are accessing a training score ('split0_train_roc_auc'), which will not be available by default any more in 0.21. If you need training scores, please set return_train_score=True\n",
      "  warnings.warn(*warn_args, **warn_kwargs)\n",
      "/Users/Lorenzo/anaconda/lib/python3.6/site-packages/sklearn/utils/deprecation.py:125: FutureWarning: You are accessing a training score ('split1_train_roc_auc'), which will not be available by default any more in 0.21. If you need training scores, please set return_train_score=True\n",
      "  warnings.warn(*warn_args, **warn_kwargs)\n",
      "/Users/Lorenzo/anaconda/lib/python3.6/site-packages/sklearn/utils/deprecation.py:125: FutureWarning: You are accessing a training score ('split2_train_roc_auc'), which will not be available by default any more in 0.21. If you need training scores, please set return_train_score=True\n",
      "  warnings.warn(*warn_args, **warn_kwargs)\n",
      "/Users/Lorenzo/anaconda/lib/python3.6/site-packages/sklearn/utils/deprecation.py:125: FutureWarning: You are accessing a training score ('split3_train_roc_auc'), which will not be available by default any more in 0.21. If you need training scores, please set return_train_score=True\n",
      "  warnings.warn(*warn_args, **warn_kwargs)\n",
      "/Users/Lorenzo/anaconda/lib/python3.6/site-packages/sklearn/utils/deprecation.py:125: FutureWarning: You are accessing a training score ('split4_train_roc_auc'), which will not be available by default any more in 0.21. If you need training scores, please set return_train_score=True\n",
      "  warnings.warn(*warn_args, **warn_kwargs)\n",
      "/Users/Lorenzo/anaconda/lib/python3.6/site-packages/sklearn/utils/deprecation.py:125: FutureWarning: You are accessing a training score ('split5_train_roc_auc'), which will not be available by default any more in 0.21. If you need training scores, please set return_train_score=True\n",
      "  warnings.warn(*warn_args, **warn_kwargs)\n",
      "/Users/Lorenzo/anaconda/lib/python3.6/site-packages/sklearn/utils/deprecation.py:125: FutureWarning: You are accessing a training score ('split6_train_roc_auc'), which will not be available by default any more in 0.21. If you need training scores, please set return_train_score=True\n",
      "  warnings.warn(*warn_args, **warn_kwargs)\n",
      "/Users/Lorenzo/anaconda/lib/python3.6/site-packages/sklearn/utils/deprecation.py:125: FutureWarning: You are accessing a training score ('split7_train_roc_auc'), which will not be available by default any more in 0.21. If you need training scores, please set return_train_score=True\n",
      "  warnings.warn(*warn_args, **warn_kwargs)\n",
      "/Users/Lorenzo/anaconda/lib/python3.6/site-packages/sklearn/utils/deprecation.py:125: FutureWarning: You are accessing a training score ('split8_train_roc_auc'), which will not be available by default any more in 0.21. If you need training scores, please set return_train_score=True\n",
      "  warnings.warn(*warn_args, **warn_kwargs)\n",
      "/Users/Lorenzo/anaconda/lib/python3.6/site-packages/sklearn/utils/deprecation.py:125: FutureWarning: You are accessing a training score ('split9_train_roc_auc'), which will not be available by default any more in 0.21. If you need training scores, please set return_train_score=True\n",
      "  warnings.warn(*warn_args, **warn_kwargs)\n",
      "/Users/Lorenzo/anaconda/lib/python3.6/site-packages/sklearn/utils/deprecation.py:125: FutureWarning: You are accessing a training score ('mean_train_roc_auc'), which will not be available by default any more in 0.21. If you need training scores, please set return_train_score=True\n",
      "  warnings.warn(*warn_args, **warn_kwargs)\n",
      "/Users/Lorenzo/anaconda/lib/python3.6/site-packages/sklearn/utils/deprecation.py:125: FutureWarning: You are accessing a training score ('std_train_roc_auc'), which will not be available by default any more in 0.21. If you need training scores, please set return_train_score=True\n",
      "  warnings.warn(*warn_args, **warn_kwargs)\n"
     ]
    }
   ],
   "source": [
    "results = pd.DataFrame(rf_grid.cv_results_)"
   ]
  },
  {
   "cell_type": "code",
   "execution_count": 57,
   "metadata": {},
   "outputs": [
    {
     "data": {
      "text/html": [
       "<div>\n",
       "<style scoped>\n",
       "    .dataframe tbody tr th:only-of-type {\n",
       "        vertical-align: middle;\n",
       "    }\n",
       "\n",
       "    .dataframe tbody tr th {\n",
       "        vertical-align: top;\n",
       "    }\n",
       "\n",
       "    .dataframe thead th {\n",
       "        text-align: right;\n",
       "    }\n",
       "</style>\n",
       "<table border=\"1\" class=\"dataframe\">\n",
       "  <thead>\n",
       "    <tr style=\"text-align: right;\">\n",
       "      <th></th>\n",
       "      <th>param_n_estimators</th>\n",
       "      <th>param_criterion</th>\n",
       "      <th>mean_test_roc_auc</th>\n",
       "    </tr>\n",
       "  </thead>\n",
       "  <tbody>\n",
       "    <tr>\n",
       "      <th>0</th>\n",
       "      <td>300</td>\n",
       "      <td>entropy</td>\n",
       "      <td>0.949217</td>\n",
       "    </tr>\n",
       "    <tr>\n",
       "      <th>1</th>\n",
       "      <td>500</td>\n",
       "      <td>entropy</td>\n",
       "      <td>0.949628</td>\n",
       "    </tr>\n",
       "    <tr>\n",
       "      <th>2</th>\n",
       "      <td>500</td>\n",
       "      <td>entropy</td>\n",
       "      <td>0.949287</td>\n",
       "    </tr>\n",
       "    <tr>\n",
       "      <th>3</th>\n",
       "      <td>600</td>\n",
       "      <td>entropy</td>\n",
       "      <td>0.949730</td>\n",
       "    </tr>\n",
       "    <tr>\n",
       "      <th>4</th>\n",
       "      <td>700</td>\n",
       "      <td>entropy</td>\n",
       "      <td>0.949521</td>\n",
       "    </tr>\n",
       "    <tr>\n",
       "      <th>5</th>\n",
       "      <td>800</td>\n",
       "      <td>entropy</td>\n",
       "      <td>0.949571</td>\n",
       "    </tr>\n",
       "    <tr>\n",
       "      <th>6</th>\n",
       "      <td>300</td>\n",
       "      <td>gini</td>\n",
       "      <td>0.947712</td>\n",
       "    </tr>\n",
       "    <tr>\n",
       "      <th>7</th>\n",
       "      <td>500</td>\n",
       "      <td>gini</td>\n",
       "      <td>0.948260</td>\n",
       "    </tr>\n",
       "    <tr>\n",
       "      <th>8</th>\n",
       "      <td>500</td>\n",
       "      <td>gini</td>\n",
       "      <td>0.948114</td>\n",
       "    </tr>\n",
       "    <tr>\n",
       "      <th>9</th>\n",
       "      <td>600</td>\n",
       "      <td>gini</td>\n",
       "      <td>0.948142</td>\n",
       "    </tr>\n",
       "    <tr>\n",
       "      <th>10</th>\n",
       "      <td>700</td>\n",
       "      <td>gini</td>\n",
       "      <td>0.948173</td>\n",
       "    </tr>\n",
       "    <tr>\n",
       "      <th>11</th>\n",
       "      <td>800</td>\n",
       "      <td>gini</td>\n",
       "      <td>0.948305</td>\n",
       "    </tr>\n",
       "  </tbody>\n",
       "</table>\n",
       "</div>"
      ],
      "text/plain": [
       "   param_n_estimators param_criterion  mean_test_roc_auc\n",
       "0                 300         entropy           0.949217\n",
       "1                 500         entropy           0.949628\n",
       "2                 500         entropy           0.949287\n",
       "3                 600         entropy           0.949730\n",
       "4                 700         entropy           0.949521\n",
       "5                 800         entropy           0.949571\n",
       "6                 300            gini           0.947712\n",
       "7                 500            gini           0.948260\n",
       "8                 500            gini           0.948114\n",
       "9                 600            gini           0.948142\n",
       "10                700            gini           0.948173\n",
       "11                800            gini           0.948305"
      ]
     },
     "execution_count": 57,
     "metadata": {},
     "output_type": "execute_result"
    }
   ],
   "source": [
    "results.sort_values(by=['param_criterion'])[['param_n_estimators', 'param_criterion','mean_test_roc_auc']]"
   ]
  },
  {
   "cell_type": "markdown",
   "metadata": {},
   "source": [
    "## Visualize Results"
   ]
  },
  {
   "cell_type": "code",
   "execution_count": 59,
   "metadata": {},
   "outputs": [
    {
     "name": "stderr",
     "output_type": "stream",
     "text": [
      "/Users/Lorenzo/anaconda/lib/python3.6/site-packages/matplotlib/cbook/__init__.py:2448: UserWarning: Saw kwargs ['ms', 'markersize'] which are all aliases for 'markersize'.  Kept value from 'markersize'\n",
      "  seen=seen, canon=canonical, used=seen[-1]))\n",
      "/Users/Lorenzo/anaconda/lib/python3.6/site-packages/matplotlib/cbook/deprecation.py:107: MatplotlibDeprecationWarning: Passing one of 'on', 'true', 'off', 'false' as a boolean is deprecated; use an actual boolean (True/False) instead.\n",
      "  warnings.warn(message, mplDeprecation, stacklevel=1)\n"
     ]
    },
    {
     "data": {
      "image/png": "[encoded data removed]",
      "text/plain": [
       "<Figure size 1152x864 with 1 Axes>"
      ]
     },
     "metadata": {},
     "output_type": "display_data"
    }
   ],
   "source": [
    "plot_grid_search(results.sort_values(by=['param_criterion', 'param_n_estimators']), n_estimators, max_depth, 'N Estimators', 'Splitting Criterion', 'Hyperparameter tuning - Binary classifier', 'bon_refill_tuning')"
   ]
  },
  {
   "cell_type": "code",
   "execution_count": 60,
   "metadata": {},
   "outputs": [],
   "source": [
    "model = RandomForestClassifier(n_estimators=600, criterion='entropy', max_depth=26)"
   ]
  },
  {
   "cell_type": "code",
   "execution_count": 61,
   "metadata": {},
   "outputs": [
    {
     "data": {
      "text/plain": [
       "RandomForestClassifier(bootstrap=True, class_weight=None, criterion='entropy',\n",
       "            max_depth=26, max_features='auto', max_leaf_nodes=None,\n",
       "            min_impurity_decrease=0.0, min_impurity_split=None,\n",
       "            min_samples_leaf=1, min_samples_split=2,\n",
       "            min_weight_fraction_leaf=0.0, n_estimators=600, n_jobs=None,\n",
       "            oob_score=False, random_state=None, verbose=0,\n",
       "            warm_start=False)"
      ]
     },
     "execution_count": 61,
     "metadata": {},
     "output_type": "execute_result"
    }
   ],
   "source": [
    "model.fit(X,y)"
   ]
  },
  {
   "cell_type": "code",
   "execution_count": 22,
   "metadata": {},
   "outputs": [],
   "source": [
    "pickle.dump(model, open(\"../script2/models/bon_balanced.model\", \"wb\"))"
   ]
  },
  {
   "cell_type": "code",
   "execution_count": 76,
   "metadata": {},
   "outputs": [],
   "source": [
    "model = RandomForestClassifier(max_depth=26, n_estimators=600, criterion='entropy')"
   ]
  },
  {
   "cell_type": "code",
   "execution_count": 75,
   "metadata": {},
   "outputs": [
    {
     "data": {
      "text/plain": [
       "Index(['age', 'avg_fav', 'avg_hash', 'avg_len', 'avg_ret', 'bot_words_score',\n",
       "       'default_profile', 'description_len', 'favourites_count',\n",
       "       'followers_count', 'freq', 'friends_count', 'gen_words_score',\n",
       "       'listed_count', 'max_fav', 'max_hash', 'max_len', 'max_ret',\n",
       "       'media_perc', 'min_fav', 'min_hash', 'min_len', 'min_ret', 'name_len',\n",
       "       'nsfw_profile', 'profile_use_background_image', 'quote_perc',\n",
       "       'ret_perc', 'screen_name_len', 'statuses_count', 'tweet_intradistance',\n",
       "       'url', 'url_entropy', 'url_perc', 'verified'],\n",
       "      dtype='object')"
      ]
     },
     "execution_count": 75,
     "metadata": {},
     "output_type": "execute_result"
    }
   ],
   "source": [
    "X.columns"
   ]
  },
  {
   "cell_type": "code",
   "execution_count": 222,
   "metadata": {},
   "outputs": [
    {
     "data": {
      "text/plain": [
       "RandomForestClassifier(bootstrap=True, class_weight=None, criterion='entropy',\n",
       "            max_depth=26, max_features='auto', max_leaf_nodes=None,\n",
       "            min_impurity_decrease=0.0, min_impurity_split=None,\n",
       "            min_samples_leaf=1, min_samples_split=2,\n",
       "            min_weight_fraction_leaf=0.0, n_estimators=700, n_jobs=None,\n",
       "            oob_score=False, random_state=None, verbose=0,\n",
       "            warm_start=False)"
      ]
     },
     "execution_count": 222,
     "metadata": {},
     "output_type": "execute_result"
    }
   ],
   "source": [
    "model.fit(X,y)"
   ]
  },
  {
   "cell_type": "code",
   "execution_count": null,
   "metadata": {},
   "outputs": [],
   "source": []
  }
 ],
 "metadata": {
  "kernelspec": {
   "display_name": "Python 3",
   "language": "python",
   "name": "python3"
  },
  "language_info": {
   "codemirror_mode": {
    "name": "ipython",
    "version": 3
   },
   "file_extension": ".py",
   "mimetype": "text/x-python",
   "name": "python",
   "nbconvert_exporter": "python",
   "pygments_lexer": "ipython3",
   "version": "3.6.5"
  }
 },
 "nbformat": 4,
 "nbformat_minor": 2
}
