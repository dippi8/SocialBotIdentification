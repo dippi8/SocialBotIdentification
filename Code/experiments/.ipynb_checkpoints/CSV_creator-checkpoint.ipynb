{
 "cells": [
  {
   "cell_type": "code",
   "execution_count": 1,
   "metadata": {},
   "outputs": [],
   "source": [
    "import pandas as pd\n",
    "import numpy as np"
   ]
  },
  {
   "cell_type": "markdown",
   "metadata": {},
   "source": [
    "# pulizia users"
   ]
  },
  {
   "cell_type": "code",
   "execution_count": 6,
   "metadata": {},
   "outputs": [],
   "source": [
    "df = pd.read_csv('data/augmented_data.csv')"
   ]
  },
  {
   "cell_type": "code",
   "execution_count": 25,
   "metadata": {},
   "outputs": [],
   "source": [
    "tweets = pd.read_csv('data/users_tweet_features.csv')"
   ]
  },
  {
   "cell_type": "code",
   "execution_count": 7,
   "metadata": {},
   "outputs": [],
   "source": [
    "# convert strings to bool, then to int\n",
    "\n",
    "def str2bool(s):\n",
    "    if s == 'True':\n",
    "        return int(True)\n",
    "    else:\n",
    "        return int(False)"
   ]
  },
  {
   "cell_type": "code",
   "execution_count": 8,
   "metadata": {},
   "outputs": [],
   "source": [
    "# replace each name/screen name with its lenght\n",
    "df['name'] = df['name'].apply(lambda x: len(x))\n",
    "df['screen_name'] = df['screen_name'].apply(lambda x: len(x))\n",
    "\n",
    "\n",
    "# replace url with a boolean value\n",
    "df['url'] = df['url'].apply(lambda x: pd.isnull(x))#delete url and colors features\n",
    "\n",
    "df = df.drop('id', axis=1)\n",
    "df = df.drop('profile_image_url', axis=1)\n",
    "df = df.drop('profile_background_image_url_https', axis=1)\n",
    "df = df.drop('profile_text_color', axis=1)\n",
    "df = df.drop('profile_image_url_https', axis=1)\n",
    "df = df.drop('profile_sidebar_border_color', axis=1)\n",
    "df = df.drop('profile_sidebar_fill_color', axis=1)\n",
    "df = df.drop('profile_background_image_url', axis=1)\n",
    "df = df.drop('profile_background_color', axis=1)\n",
    "df = df.drop('profile_link_color', axis=1)\n",
    "df = df.drop('utc_offset', axis=1)\n",
    "\n",
    "\n",
    "# convert created_at string to int\n",
    "df['created_at'] = df['created_at'].apply(lambda x: int(x[0:4]))\n",
    "\n",
    "\n",
    "# replace boolean values with int values\n",
    "df['url'] = df['url'].apply(lambda x: int(x))\n",
    "df['default_profile'] = df['default_profile'].apply(lambda x: str2bool(x))\n",
    "df['default_profile_image'] = df['default_profile_image'].apply(lambda x: str2bool(x))\n",
    "df['geo_enabled'] = df['geo_enabled'].apply(lambda x: str2bool(x))\n",
    "df['profile_use_background_image'] = df['profile_use_background_image'].apply(lambda x: str2bool(x))\n",
    "df['profile_background_tile'] = df['profile_background_tile'].apply(lambda x: str2bool(x))\n",
    "df['is_translator'] = df['is_translator'].apply(lambda x: str2bool(x))\n",
    "df['follow_request_sent'] = df['follow_request_sent'].apply(lambda x: str2bool(x))\n",
    "df['protected'] = df['protected'].apply(lambda x: str2bool(x))\n",
    "df['verified'] = df['verified'].apply(lambda x: str2bool(x))\n",
    "df['notifications'] = df['notifications'].apply(lambda x: str2bool(x))\n",
    "df['contributors_enabled'] = df['contributors_enabled'].apply(lambda x: str2bool(x))\n",
    "df['following'] = df['following'].apply(lambda x: str2bool(x))"
   ]
  },
  {
   "cell_type": "markdown",
   "metadata": {},
   "source": [
    "# one-hot"
   ]
  },
  {
   "cell_type": "code",
   "execution_count": 12,
   "metadata": {},
   "outputs": [],
   "source": [
    "# one hot encoding\n",
    "df1 = pd.get_dummies(df.time_zone, dummy_na=True, prefix_sep='time_zone_')\n",
    "df2 = pd.get_dummies(df.lang, dummy_na=True, prefix_sep='lang_')\n",
    "df3 = pd.get_dummies(df.location, dummy_na=True, prefix_sep='loc_')\n",
    "\n",
    "# avoid NaN in columns' names\n",
    "df1.columns = df1.columns.fillna('no_timezone')\n",
    "df2.columns = df2.columns.fillna('no_language')\n",
    "df3.columns = df3.columns.fillna('no_location')\n",
    "\n",
    "# stack df and one hot encodings\n",
    "df_one_hot = pd.concat([df1,df2,df3], axis=1, ignore_index=True)"
   ]
  },
  {
   "cell_type": "code",
   "execution_count": 16,
   "metadata": {},
   "outputs": [],
   "source": [
    "df_one_hot.to_csv('data/one-hot_features.csv')"
   ]
  },
  {
   "cell_type": "markdown",
   "metadata": {},
   "source": [
    "# tf-idf"
   ]
  },
  {
   "cell_type": "code",
   "execution_count": 14,
   "metadata": {},
   "outputs": [],
   "source": [
    "# tf-idf on description\n",
    "from sklearn.feature_extraction.text import TfidfVectorizer\n",
    "v = TfidfVectorizer()\n",
    "df['description'] = df['description'].fillna('no_desc')\n",
    "tf_idf = v.fit_transform(df['description'])\n",
    "tf_idf_df = pd.DataFrame(data=tf_idf.toarray(), index=df.index)"
   ]
  },
  {
   "cell_type": "code",
   "execution_count": 15,
   "metadata": {},
   "outputs": [],
   "source": [
    "tf_idf_df.to_csv('data/tf_idf_features.csv')"
   ]
  },
  {
   "cell_type": "markdown",
   "metadata": {},
   "source": [
    "# profile features"
   ]
  },
  {
   "cell_type": "code",
   "execution_count": 17,
   "metadata": {},
   "outputs": [],
   "source": [
    "# drop one encoded columns from intial df\n",
    "df = df.drop('time_zone', axis=1)\n",
    "df = df.drop('lang', axis=1)\n",
    "df = df.drop('location', axis=1)\n",
    "df = df.drop('description', axis=1)"
   ]
  },
  {
   "cell_type": "code",
   "execution_count": 18,
   "metadata": {},
   "outputs": [],
   "source": [
    "df.to_csv('data/profile_features.csv')"
   ]
  },
  {
   "cell_type": "markdown",
   "metadata": {},
   "source": [
    "# complete"
   ]
  },
  {
   "cell_type": "code",
   "execution_count": 26,
   "metadata": {},
   "outputs": [],
   "source": [
    "complete_df = pd.concat([df, tf_idf_df, df_one_hot, tweets], ignore_index=True, axis=1)"
   ]
  },
  {
   "cell_type": "code",
   "execution_count": 28,
   "metadata": {},
   "outputs": [],
   "source": [
    "complete_df.to_csv('data/complete_features.csv')"
   ]
  }
 ],
 "metadata": {
  "kernelspec": {
   "display_name": "Python 2",
   "language": "python",
   "name": "python2"
  },
  "language_info": {
   "codemirror_mode": {
    "name": "ipython",
    "version": 2
   },
   "file_extension": ".py",
   "mimetype": "text/x-python",
   "name": "python",
   "nbconvert_exporter": "python",
   "pygments_lexer": "ipython2",
   "version": "2.7.14"
  }
 },
 "nbformat": 4,
 "nbformat_minor": 2
}
