{
 "cells": [
  {
   "cell_type": "code",
   "execution_count": 2,
   "metadata": {},
   "outputs": [],
   "source": [
    "import numpy as np\n",
    "import pandas as pd"
   ]
  },
  {
   "cell_type": "code",
   "execution_count": 3,
   "metadata": {},
   "outputs": [],
   "source": [
    "tweets = pd.read_csv('data/tweets_df.csv', delimiter='\\t', low_memory=False)\n",
    "users = pd.read_csv('data/augmented_data.csv')"
   ]
  },
  {
   "cell_type": "code",
   "execution_count": 4,
   "metadata": {},
   "outputs": [],
   "source": [
    "from datetime import date\n",
    "\n",
    "def frequency_count (user_id):\n",
    "    \n",
    "    personal_tweets = tweets[tweets.user_id == user_id]\n",
    "    n_tweets = len(personal_tweets)\n",
    "\n",
    "    if n_tweets == 0:\n",
    "        return 0\n",
    "    \n",
    "    d0 = date(personal_tweets.iloc[0].created_at_year, \n",
    "              personal_tweets.iloc[0].created_at_month, \n",
    "              personal_tweets.iloc[0].created_at_day)\n",
    "    \n",
    "    \n",
    "    d1 = date(personal_tweets.iloc[n_tweets - 1].created_at_year, \n",
    "              personal_tweets.iloc[n_tweets - 1].created_at_month, \n",
    "              personal_tweets.iloc[n_tweets - 1].created_at_day)\n",
    "    \n",
    "    delta = d0 - d1\n",
    "    \n",
    "    if delta.days == 0:\n",
    "        return 100\n",
    "    return n_tweets / delta.days"
   ]
  },
  {
   "cell_type": "code",
   "execution_count": 5,
   "metadata": {},
   "outputs": [],
   "source": [
    "#media di \"favorite\" per tweet\n",
    "\n",
    "def favorite_avg(user_id):\n",
    "    \n",
    "    personal_tweets = tweets[tweets.user_id == user_id]\n",
    "    n_tweets = len(personal_tweets)\n",
    "    \n",
    "    fav = personal_tweets.favorite_count.sum()  \n",
    "\n",
    "    if n_tweets == 0:\n",
    "        return 0\n",
    "    \n",
    "    return fav/n_tweets"
   ]
  },
  {
   "cell_type": "code",
   "execution_count": 6,
   "metadata": {},
   "outputs": [],
   "source": [
    "# percentuale di tweet che sono in realtà retweet\n",
    "\n",
    "def retweet_perc(user_id):\n",
    "    \n",
    "    personal_tweets = tweets[tweets.user_id == user_id]\n",
    "    n_tweets = len(personal_tweets)\n",
    "    \n",
    "    rt = 0\n",
    "    \n",
    "    for tweet in personal_tweets.text:\n",
    "        if 'RT ' in tweet:\n",
    "            rt += 1\n",
    "            \n",
    "    if n_tweets == 0:\n",
    "        return 0\n",
    "    \n",
    "    return int(rt / n_tweets * 100)"
   ]
  },
  {
   "cell_type": "code",
   "execution_count": 7,
   "metadata": {},
   "outputs": [],
   "source": [
    "def delta_friends(user_id):\n",
    "    \n",
    "    usr = users[users['id'] == user_id].iloc[0]\n",
    "    return usr.followers_count - usr.friends_count"
   ]
  },
  {
   "cell_type": "code",
   "execution_count": 8,
   "metadata": {},
   "outputs": [],
   "source": [
    "def quote_perc(user_id):\n",
    "    \n",
    "    personal_tweets = tweets[tweets.user_id == user_id]\n",
    "    n_tweets = len(personal_tweets)\n",
    "    \n",
    "    if n_tweets == 0:\n",
    "        return 0\n",
    "    \n",
    "    return int(sum(personal_tweets.is_quote_status) / n_tweets * 100)"
   ]
  },
  {
   "cell_type": "code",
   "execution_count": 9,
   "metadata": {},
   "outputs": [],
   "source": [
    "def retweet_avg(user_id):\n",
    "    \n",
    "    personal_tweets = tweets[tweets.user_id == user_id]\n",
    "    n_tweets = len(personal_tweets)\n",
    "    \n",
    "    ret = personal_tweets.retweet_count.sum()  \n",
    "\n",
    "    if n_tweets == 0:\n",
    "        return 0\n",
    "    \n",
    "    return ret/n_tweets"
   ]
  },
  {
   "cell_type": "code",
   "execution_count": 10,
   "metadata": {},
   "outputs": [],
   "source": [
    "def tweet_len_avg(user_id):\n",
    "    \n",
    "    personal_tweets = tweets[tweets.user_id == user_id]\n",
    "    n_tweets = len(personal_tweets)\n",
    "    \n",
    "    lenghts = []\n",
    "    \n",
    "    personal_tweets.text.apply(lambda x: lenghts.append(len(x)))\n",
    "    \n",
    "    \n",
    "    if n_tweets == 0:\n",
    "        return 0\n",
    "    \n",
    "    return sum(lenghts) / n_tweets"
   ]
  },
  {
   "cell_type": "code",
   "execution_count": 19,
   "metadata": {},
   "outputs": [],
   "source": [
    "def url_perc(user_id):\n",
    "    \n",
    "    personal_tweets = tweets[tweets.user_id == user_id]\n",
    "    n_tweets = len(personal_tweets)\n",
    "    \n",
    "    url = 0\n",
    "    \n",
    "    for tweet in personal_tweets.text:\n",
    "    \n",
    "        if 'http' in tweet or 'www' in tweet:\n",
    "            url += 1\n",
    "            \n",
    "    if n_tweets == 0:\n",
    "        return 0\n",
    "    \n",
    "    return int(url / n_tweets * 100)"
   ]
  },
  {
   "cell_type": "code",
   "execution_count": 20,
   "metadata": {},
   "outputs": [],
   "source": [
    "users['frequency'] = users['id'].apply(lambda x: frequency_count(int(x)))\n",
    "users['favorite_avg'] = users['id'].apply(lambda x: favorite_avg(int(x)))\n",
    "users['retweet_perc'] = users['id'].apply(lambda x: retweet_perc(int(x)))\n",
    "users['delta_friends'] = users['id'].apply(lambda x: delta_friends(int(x)))\n",
    "users['quote_perc'] = users['id'].apply(lambda x: quote_perc(int(x)))\n",
    "users['retweet_avg'] = users['id'].apply(lambda x: retweet_avg(int(x)))\n",
    "users['tweet_len_avg'] = users['id'].apply(lambda x: tweet_len_avg(int(x)))\n",
    "users['url_perc'] = users['id'].apply(lambda x: url_perc(int(x)))"
   ]
  },
  {
   "cell_type": "code",
   "execution_count": 26,
   "metadata": {},
   "outputs": [],
   "source": [
    "df2 = users[['frequency', 'favorite_avg', 'retweet_perc', 'delta_friends', 'quote_perc', 'retweet_avg', 'tweet_len_avg', 'url_perc']]"
   ]
  },
  {
   "cell_type": "code",
   "execution_count": 27,
   "metadata": {},
   "outputs": [],
   "source": [
    "df2.to_csv('data/users_tweet_features.csv')"
   ]
  },
  {
   "cell_type": "code",
   "execution_count": 30,
   "metadata": {},
   "outputs": [
    {
     "data": {
      "text/plain": [
       "Index(['id', 'name', 'screen_name', 'statuses_count', 'followers_count',\n",
       "       'friends_count', 'favourites_count', 'listed_count', 'url', 'lang',\n",
       "       'time_zone', 'location', 'default_profile', 'default_profile_image',\n",
       "       'geo_enabled', 'profile_image_url', 'profile_use_background_image',\n",
       "       'profile_background_image_url_https', 'profile_text_color',\n",
       "       'profile_image_url_https', 'profile_sidebar_border_color',\n",
       "       'profile_background_tile', 'profile_sidebar_fill_color',\n",
       "       'profile_background_image_url', 'profile_background_color',\n",
       "       'profile_link_color', 'utc_offset', 'is_translator',\n",
       "       'follow_request_sent', 'protected', 'verified', 'notifications',\n",
       "       'description', 'contributors_enabled', 'following', 'created_at',\n",
       "       'frequency', 'favorite_avg', 'retweet_perc', 'delta_friends',\n",
       "       'quote_perc', 'retweet_avg', 'tweet_len_avg', 'url_perc'],\n",
       "      dtype='object')"
      ]
     },
     "execution_count": 30,
     "metadata": {},
     "output_type": "execute_result"
    }
   ],
   "source": [
    "users.columns"
   ]
  },
  {
   "cell_type": "code",
   "execution_count": null,
   "metadata": {},
   "outputs": [],
   "source": []
  }
 ],
 "metadata": {
  "kernelspec": {
   "display_name": "Python 2",
   "language": "python",
   "name": "python2"
  },
  "language_info": {
   "codemirror_mode": {
    "name": "ipython",
    "version": 2
   },
   "file_extension": ".py",
   "mimetype": "text/x-python",
   "name": "python",
   "nbconvert_exporter": "python",
   "pygments_lexer": "ipython2",
   "version": "2.7.14"
  }
 },
 "nbformat": 4,
 "nbformat_minor": 2
}
