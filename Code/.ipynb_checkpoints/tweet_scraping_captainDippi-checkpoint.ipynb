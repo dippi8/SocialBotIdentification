{
 "cells": [
  {
   "cell_type": "markdown",
   "metadata": {},
   "source": [
    "# Tweet Scraping"
   ]
  },
  {
   "cell_type": "markdown",
   "metadata": {},
   "source": [
    "## CaptainDippi"
   ]
  },
  {
   "cell_type": "code",
   "execution_count": 1,
   "metadata": {},
   "outputs": [],
   "source": [
    "import time\n",
    "from selenium import webdriver\n",
    "from selenium.webdriver.common.keys import Keys\n",
    "import tweepy\n",
    "import pandas as pd"
   ]
  },
  {
   "cell_type": "code",
   "execution_count": 2,
   "metadata": {},
   "outputs": [],
   "source": [
    "# create connection with Twitter API\n",
    "\n",
    "CONSUMER_KEY = 'J3uhwWHdmSt3uD69ry8r2kc3B'\n",
    "CONSUMER_SECRET = 'LeuM7dVfFbXH0bc5fFkZIxlNiUXyjIx4Kcjh58HeWs2TrLijDx'\n",
    "ACCESS_TOKEN = '327497511-5dNjiGaTQHASljoxNr1qlMOlHrrSB21HBFBDjx2E'\n",
    "ACCESS_TOKEN_SECRET = 'tHLqwlhHYJWptW3femyq0rbMW6ZItu5yLQ3DFGJqJ8Xlg'\n",
    "\n",
    "auth = tweepy.OAuthHandler(CONSUMER_KEY, CONSUMER_SECRET)\n",
    "auth.set_access_token(ACCESS_TOKEN, ACCESS_TOKEN_SECRET)\n",
    "api = tweepy.API(auth)"
   ]
  },
  {
   "cell_type": "code",
   "execution_count": 3,
   "metadata": {},
   "outputs": [],
   "source": [
    "# get user screen name\n",
    "\n",
    "user = api.get_user(327497511)\n",
    "username = user.screen_name"
   ]
  },
  {
   "cell_type": "code",
   "execution_count": 4,
   "metadata": {},
   "outputs": [
    {
     "data": {
      "text/plain": [
       "42"
      ]
     },
     "execution_count": 4,
     "metadata": {},
     "output_type": "execute_result"
    }
   ],
   "source": [
    "user.followers_count"
   ]
  },
  {
   "cell_type": "code",
   "execution_count": 7,
   "metadata": {},
   "outputs": [],
   "source": [
    "# initialize scraper\n",
    "\n",
    "browser = webdriver.Firefox()\n",
    "base_url = 'https://twitter.com/'"
   ]
  },
  {
   "cell_type": "code",
   "execution_count": 48,
   "metadata": {},
   "outputs": [],
   "source": [
    "# scrape user tweets\n",
    "\n",
    "url = base_url + username\n",
    "browser.get(url)\n",
    "time.sleep(1)\n",
    "\n",
    "body = browser.find_element_by_tag_name('body')\n",
    "\n",
    "\n",
    "for _ in range(50):\n",
    "    body.send_keys(Keys.PAGE_DOWN)\n",
    "    time.sleep(0.2)\n",
    "    \n",
    "tweets = browser.find_elements_by_class_name('tweet-text')"
   ]
  },
  {
   "cell_type": "code",
   "execution_count": 49,
   "metadata": {},
   "outputs": [
    {
     "name": "stdout",
     "output_type": "stream",
     "text": [
      "Testing!\n",
      "I just downloaded Blanka, a new free font by @EmmeranR #freefont #blanka\n",
      "Con My chance ho provato a vincere i biglietti per #JuveRealMadrid http://mychance.juventus.com/ \n",
      "We opened the seven club tonight, good job team!! #CesateBasketball @teony7 @BelottiMoreno\n",
      "Big night #serataalette #KFC #belottisaloon @CaptainDippi #belliveri\n",
      "Shooting training tonight, ready for #Cinisello!! @the_monz94 @teony7 #CesateBasketball #StriveForGreatness\n",
      "Chef @teony7 is doing a great job!! #ChickenWings\n",
      "Thanks @luigi_banfi, We'll do our best! See you tonight #CesateBasketball\n",
      "Having fun the night before the most important game of the season! @teony7 #CesateBasketball\n",
      "Intense workout tonight, in preparation for the derby on Monday night #CesateBasketball #StriveForGreatness\n",
      "@JackB_OS @PowZerR tutto naturale e genuino!\n",
      "Lo sport al quale gioca Golden State è ancora più bello del basket. #NbaTipo\n",
      "We came back to win last night, but we have to put more effort to play better, starting from training tonight!! #CesateBasketball\n",
      "Ready for the game! #CesateBasketball #StriveForGreatness\n",
      "Only best player have training tonight  #striveforgreatness #CesateBasketball @CaptainDippi @teony7\n",
      "Long study session in l26 building tonight, we shut the place down!! @PowZerR #StudyHard\n",
      "Bad beat tonight, it's time to rise up now! Ready to play next game with another mentality, the championship is still long #CesateBasketball\n",
      "Game time!! #CesateBasketball #StriveForGreatness\n",
      "Don't worry @BelottiMoreno, let matters take their course!! #StriveForGreatness #CesateBasketball\n",
      "Last training before game vs Senago. \n",
      "We're ready!! #CesateBasketball #StriveForGreatness\n",
      "Oggi alla Casa Bianca vedremo l'uomo più importante e influente del mondo. \n",
      "E ci sarà anche Barak Obama.\n",
      "#NbaTipo\n",
      "Welcome to my Bro and developer @fabiochiusano ! Enjoy us on Twitter!  @CaptainDippi\n",
      "I voted to send @CaptainDippi from #CesateBasketball to the 2015 NBA All-Star Game.\n",
      "Welcome to my Bro and teammate @teony7 , let's tweet!! #CesateBasketball #StriveForGreatness #BigFamily\n",
      "Hard training tonight!! @the_monz94 @BelottiMoreno @3493393698 @danny095 @smorzy88 @smemini #CesateBasketball\n",
      "Ciao @luigi_banfi, tutto bene e tu? Grazie per tutti questi complimenti, spero di disputare una buona partita mercoledì! A presto! :)\n",
      "Welcome to my Bro @JackB_OS , enjoy our big family!! @PowZerR and me are proud you're one of us! #BigFamily #Brotherhood\n",
      "Milano ha reso omaggio alle prime divisioni che giocano il giovedi sera, segnando 23 punti nel secondo tempo. #EurolegaTipo\n",
      "We're ready to study tonight @PowZerR #StriveForGreatness\n",
      "#FIP leaderboard updated: We are 2nd!! #CesateBasketball #StriveForGreatness\n",
      "New world record in Pattern™ with @PowZerR !!  We scored 10500 points... Try to do better ;) #ILoveThisGame\n",
      "I'm proud to be a beta-tester of Pattern™ developed by @fabiochiusano, you must try it @the_monz94 !! #NewApp #FreeApp #EveribodyApp\n",
      "Good job guys! Work hard, play hard! #CesateBasketball #StriveForGreatness see you friday @CaptainDippi @BelottiMoreno\n",
      "It's training time #CesateBasketball #ILoveThisGame #StriveForGreatness\n",
      "Prima cerchi la felicità, poi la trovi.\n",
      "E trovi anche la felicità.\n",
      "2011-2012 Top 10 Assists http://www.nba.com/video/channels/top_plays/2012/04/27/20120427_TOP10__ASSISTS_of_Year.nba … via @nba\n",
      "I voted to send  Ricky Rubio from Minnesota to the 2012 NBA All-Star Game. http://www.nba.com/ASB \n"
     ]
    }
   ],
   "source": [
    "for tweet in tweets:\n",
    "    print(tweet.text)"
   ]
  },
  {
   "cell_type": "code",
   "execution_count": null,
   "metadata": {},
   "outputs": [],
   "source": []
  }
 ],
 "metadata": {
  "kernelspec": {
   "display_name": "Python 3",
   "language": "python",
   "name": "python3"
  },
  "language_info": {
   "codemirror_mode": {
    "name": "ipython",
    "version": 3
   },
   "file_extension": ".py",
   "mimetype": "text/x-python",
   "name": "python",
   "nbconvert_exporter": "python",
   "pygments_lexer": "ipython3",
   "version": "3.6.2"
  }
 },
 "nbformat": 4,
 "nbformat_minor": 2
}
