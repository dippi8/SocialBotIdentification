{
 "cells": [
  {
   "cell_type": "markdown",
   "metadata": {},
   "source": [
    "# BotOrNot Scraping"
   ]
  },
  {
   "cell_type": "code",
   "execution_count": 2,
   "metadata": {},
   "outputs": [],
   "source": [
    "import pandas as pd\n",
    "import tweepy\n",
    "from IPython.display import clear_output\n",
    "import time\n",
    "from pandas.compat import StringIO"
   ]
  },
  {
   "cell_type": "code",
   "execution_count": 3,
   "metadata": {},
   "outputs": [],
   "source": [
    "# create connection with Twitter API\n",
    "\n",
    "CONSUMER_KEY = 'J3uhwWHdmSt3uD69ry8r2kc3B'\n",
    "CONSUMER_SECRET = 'LeuM7dVfFbXH0bc5fFkZIxlNiUXyjIx4Kcjh58HeWs2TrLijDx'\n",
    "ACCESS_TOKEN = '327497511-5dNjiGaTQHASljoxNr1qlMOlHrrSB21HBFBDjx2E'\n",
    "ACCESS_TOKEN_SECRET = 'tHLqwlhHYJWptW3femyq0rbMW6ZItu5yLQ3DFGJqJ8Xlg'\n",
    "\n",
    "auth = tweepy.OAuthHandler(CONSUMER_KEY, CONSUMER_SECRET)\n",
    "auth.set_access_token(ACCESS_TOKEN, ACCESS_TOKEN_SECRET)\n",
    "api = tweepy.API(auth)"
   ]
  },
  {
   "cell_type": "code",
   "execution_count": 5,
   "metadata": {},
   "outputs": [],
   "source": [
    "varol = pd.read_csv('../classification/data/bot_or_not/legitimate_users.txt', sep='\\t')['614']"
   ]
  },
  {
   "cell_type": "code",
   "execution_count": 6,
   "metadata": {},
   "outputs": [
    {
     "data": {
      "text/plain": [
       "0            1038\n",
       "1            1437\n",
       "2            2615\n",
       "3            3148\n",
       "4            5593\n",
       "5            9375\n",
       "6           10336\n",
       "7           10455\n",
       "8           10698\n",
       "9           11718\n",
       "10          12527\n",
       "11          13602\n",
       "12          15313\n",
       "13          16683\n",
       "14          17363\n",
       "15          21833\n",
       "16          25723\n",
       "17          32613\n",
       "18          46183\n",
       "19          47203\n",
       "20          50263\n",
       "21          56733\n",
       "22          60663\n",
       "23          63093\n",
       "24         157763\n",
       "25         198623\n",
       "26         304713\n",
       "27         451373\n",
       "28         627303\n",
       "29         638323\n",
       "           ...   \n",
       "19245    93055692\n",
       "19246    93058189\n",
       "19247    93061925\n",
       "19248    93070321\n",
       "19249    93071458\n",
       "19250    93099375\n",
       "19251    93118174\n",
       "19252    93121803\n",
       "19253    93129749\n",
       "19254    93139606\n",
       "19255    93156080\n",
       "19256    93179406\n",
       "19257    93189641\n",
       "19258    93213066\n",
       "19259    93229688\n",
       "19260    93258789\n",
       "19261    93271119\n",
       "19262    93314424\n",
       "19263    93337503\n",
       "19264    93340898\n",
       "19265    93342019\n",
       "19266    93362225\n",
       "19267    93378157\n",
       "19268    93386957\n",
       "19269    93390803\n",
       "19270    93390990\n",
       "19271    93402679\n",
       "19272    93419256\n",
       "19273    93426370\n",
       "19274    93442002\n",
       "Name: 614, Length: 19275, dtype: int64"
      ]
     },
     "execution_count": 6,
     "metadata": {},
     "output_type": "execute_result"
    }
   ],
   "source": [
    "varol"
   ]
  },
  {
   "cell_type": "code",
   "execution_count": 7,
   "metadata": {},
   "outputs": [],
   "source": [
    "user = api.get_user(varol[0])"
   ]
  },
  {
   "cell_type": "code",
   "execution_count": 8,
   "metadata": {},
   "outputs": [
    {
     "data": {
      "text/plain": [
       "1038"
      ]
     },
     "execution_count": 8,
     "metadata": {},
     "output_type": "execute_result"
    }
   ],
   "source": [
    "user.id"
   ]
  },
  {
   "cell_type": "code",
   "execution_count": 9,
   "metadata": {},
   "outputs": [],
   "source": [
    "user = api.get_user(varol[0])\n",
    "\n",
    "varol_df = pd.DataFrame([[user.id,\n",
    "                    user.name,\n",
    "                    user.screen_name,\n",
    "                    user.statuses_count,\n",
    "                    user.followers_count,\n",
    "                    user.friends_count,\n",
    "                    user.favourites_count,\n",
    "                    user.listed_count,\n",
    "                    user.url,\n",
    "                    user.lang,\n",
    "                    user.time_zone,\n",
    "                    user.location,\n",
    "                    user.default_profile,\n",
    "                    user.default_profile_image,\n",
    "                    user.geo_enabled,\n",
    "                    user.profile_image_url,\n",
    "                    #user.profile_banner_url,\n",
    "                    user.profile_use_background_image,\n",
    "                    user.profile_background_image_url_https,\n",
    "                    user.profile_text_color,\n",
    "                    user.profile_image_url_https,\n",
    "                    user.profile_sidebar_border_color,\n",
    "                    user.profile_background_tile,\n",
    "                    user.profile_sidebar_fill_color,\n",
    "                    user.profile_background_image_url,\n",
    "                    user.profile_background_color,\n",
    "                    user.profile_link_color,\n",
    "                    user.utc_offset,\n",
    "                    user.is_translator,\n",
    "                    user.follow_request_sent,\n",
    "                    user.protected,\n",
    "                    user.verified,\n",
    "                    user.notifications,\n",
    "                    user.description,\n",
    "                    user.contributors_enabled,\n",
    "                    user.following,\n",
    "                    user.created_at]],\n",
    "                    columns=[\"id\",\"name\",\"screen_name\",\"statuses_count\",\"followers_count\",\"friends_count\",\"favourites_count\",\"listed_count\",\"url\",\"lang\",\"time_zone\",\"location\",\"default_profile\",\"default_profile_image\",\"geo_enabled\",\"profile_image_url\",\"profile_use_background_image\",\"profile_background_image_url_https\",\"profile_text_color\",\"profile_image_url_https\",\"profile_sidebar_border_color\",\"profile_background_tile\",\"profile_sidebar_fill_color\",\"profile_background_image_url\",\"profile_background_color\",\"profile_link_color\",\"utc_offset\",\"is_translator\",\"follow_request_sent\",\"protected\",\"verified\",\"notifications\",\"description\",\"contributors_enabled\",\"following\",\"created_at\"]\n",
    "                  )"
   ]
  },
  {
   "cell_type": "code",
   "execution_count": 10,
   "metadata": {},
   "outputs": [
    {
     "name": "stdout",
     "output_type": "stream",
     "text": [
      "6000 / 19275   ---   errors: 840\n",
      "sleeping...\n"
     ]
    },
    {
     "ename": "KeyboardInterrupt",
     "evalue": "",
     "output_type": "error",
     "traceback": [
      "\u001b[0;31m---------------------------------------------------------------------------\u001b[0m",
      "\u001b[0;31mKeyboardInterrupt\u001b[0m                         Traceback (most recent call last)",
      "\u001b[0;32m<ipython-input-10-4a4289942d4b>\u001b[0m in \u001b[0;36m<module>\u001b[0;34m()\u001b[0m\n\u001b[1;32m     57\u001b[0m     \u001b[0;32mif\u001b[0m \u001b[0mi\u001b[0m \u001b[0;34m%\u001b[0m \u001b[0;36m500\u001b[0m \u001b[0;34m==\u001b[0m \u001b[0;36m0\u001b[0m\u001b[0;34m:\u001b[0m\u001b[0;34m\u001b[0m\u001b[0m\n\u001b[1;32m     58\u001b[0m         \u001b[0mprint\u001b[0m \u001b[0;34m(\u001b[0m\u001b[0;34m'sleeping...'\u001b[0m\u001b[0;34m)\u001b[0m\u001b[0;34m\u001b[0m\u001b[0m\n\u001b[0;32m---> 59\u001b[0;31m         \u001b[0mtime\u001b[0m\u001b[0;34m.\u001b[0m\u001b[0msleep\u001b[0m\u001b[0;34m(\u001b[0m\u001b[0;36m900\u001b[0m\u001b[0;34m)\u001b[0m\u001b[0;34m\u001b[0m\u001b[0m\n\u001b[0m\u001b[1;32m     60\u001b[0m \u001b[0;34m\u001b[0m\u001b[0m\n",
      "\u001b[0;31mKeyboardInterrupt\u001b[0m: "
     ]
    }
   ],
   "source": [
    "i = 0\n",
    "error_ids_varol = []\n",
    "error_count = 0\n",
    "\n",
    "for id in varol:\n",
    "    i = i + 1\n",
    "    try:\n",
    "        user = api.get_user(id)\n",
    "        df2 = pd.DataFrame([[user.id,\n",
    "                            user.name,\n",
    "                            user.screen_name,\n",
    "                            user.statuses_count,\n",
    "                            user.followers_count,\n",
    "                            user.friends_count,\n",
    "                            user.favourites_count,\n",
    "                            user.listed_count,\n",
    "                            user.url,\n",
    "                            user.lang,\n",
    "                            user.time_zone,\n",
    "                            user.location,\n",
    "                            user.default_profile,\n",
    "                            user.default_profile_image,\n",
    "                            user.geo_enabled,\n",
    "                            user.profile_image_url,\n",
    "                            # user.profile_banner_url,\n",
    "                            user.profile_use_background_image,\n",
    "                            user.profile_background_image_url_https,\n",
    "                            user.profile_text_color,\n",
    "                            user.profile_image_url_https,\n",
    "                            user.profile_sidebar_border_color,\n",
    "                            user.profile_background_tile,\n",
    "                            user.profile_sidebar_fill_color,\n",
    "                            user.profile_background_image_url,\n",
    "                            user.profile_background_color,\n",
    "                            user.profile_link_color,\n",
    "                            user.utc_offset,\n",
    "                            user.is_translator,\n",
    "                            user.follow_request_sent,\n",
    "                            user.protected,\n",
    "                            user.verified,\n",
    "                            user.notifications,\n",
    "                            user.description,\n",
    "                            user.contributors_enabled,\n",
    "                            user.following,\n",
    "                            user.created_at]],\n",
    "                            columns=[\"id\",\"name\",\"screen_name\",\"statuses_count\",\"followers_count\",\"friends_count\",\"favourites_count\",\"listed_count\",\"url\",\"lang\",\"time_zone\",\"location\",\"default_profile\",\"default_profile_image\",\"geo_enabled\",\"profile_image_url\",\"profile_use_background_image\",\"profile_background_image_url_https\",\"profile_text_color\",\"profile_image_url_https\",\"profile_sidebar_border_color\",\"profile_background_tile\",\"profile_sidebar_fill_color\",\"profile_background_image_url\",\"profile_background_color\",\"profile_link_color\",\"utc_offset\",\"is_translator\",\"follow_request_sent\",\"protected\",\"verified\",\"notifications\",\"description\",\"contributors_enabled\",\"following\",\"created_at\"]\n",
    "                          )\n",
    "        varol_df = varol_df.append(df2, ignore_index=True, verify_integrity=False)\n",
    "        \n",
    "    except Exception as e:\n",
    "        error_ids_varol.append(id)\n",
    "        error_count += 1\n",
    "        \n",
    "    clear_output()\n",
    "    print(str(i) + \" / \" + str(len(varol)) + '   ---   errors: ' + str(error_count))\n",
    "    \n",
    "    if i % 500 == 0:\n",
    "        print ('sleeping...')\n",
    "        time.sleep(900)\n",
    "    "
   ]
  },
  {
   "cell_type": "code",
   "execution_count": 11,
   "metadata": {},
   "outputs": [],
   "source": [
    "varol_df['target'] = 0"
   ]
  },
  {
   "cell_type": "code",
   "execution_count": 19,
   "metadata": {},
   "outputs": [
    {
     "name": "stdout",
     "output_type": "stream",
     "text": [
      "5293 / 5293   ---   errors: 147\n"
     ]
    }
   ],
   "source": [
    "tweets = []\n",
    "cont, errors = 0, 0\n",
    "\n",
    "for index, row in varol_df.iterrows():\n",
    "    try:\n",
    "        stuff = api.user_timeline(user_id = row.id, count = 100, include_rts = True, tweet_mode=\"extended\")\n",
    "        #tweet.is_quote_status indica se nel tweet c'è il riferimento ad un altro tweet\n",
    "\n",
    "        for tweet in stuff:\n",
    "            tweet._json['user_id'] = tweet._json['user']['id']\n",
    "            if len(tweet._json['entities']['urls']) != 0:\n",
    "                tweet._json['url'] = tweet._json['entities']['urls'][0]['expanded_url']\n",
    "            else:\n",
    "                 tweet._json['url'] = None\n",
    "            del tweet._json['user'], tweet._json['entities']\n",
    "\n",
    "            tweets.append(tweet._json)\n",
    "    except:\n",
    "        errors += 1\n",
    "    cont += 1\n",
    "    clear_output()\n",
    "    print(str(cont) + ' / ' + str(len(varol_df)) + '   ---   errors: ' + str(errors))\n",
    "    \n",
    "    if cont % 500 == 0:\n",
    "        print ('sleeping...')\n",
    "        time.sleep(900)"
   ]
  },
  {
   "cell_type": "code",
   "execution_count": 20,
   "metadata": {},
   "outputs": [],
   "source": [
    "tweets_df = pd.DataFrame.from_dict(tweets)"
   ]
  },
  {
   "cell_type": "code",
   "execution_count": 21,
   "metadata": {},
   "outputs": [],
   "source": [
    "# rimuove tutte le interruzioni (spero)\n",
    "\n",
    "tweets_df['full_text'] = tweets_df['full_text'].apply(lambda x: x.replace('\\r', ' '))\n",
    "tweets_df['full_text'] = tweets_df['full_text'].apply(lambda x: x.replace('\\n', ' '))\n",
    "tweets_df['full_text'] = tweets_df['full_text'].apply(lambda x: x.replace('\\t', ' '))"
   ]
  },
  {
   "cell_type": "code",
   "execution_count": 22,
   "metadata": {},
   "outputs": [],
   "source": [
    "tweets_df.to_csv('../classification/data/bot_or_not/bot_tweets.csv', index=False, sep='\\t' , encoding='utf-8-sig')"
   ]
  },
  {
   "cell_type": "code",
   "execution_count": 12,
   "metadata": {},
   "outputs": [],
   "source": [
    "varol_df.to_csv('../classification/data/bot_or_not/gen_users.csv',index=False, encoding='utf-8-sig')"
   ]
  },
  {
   "cell_type": "code",
   "execution_count": 37,
   "metadata": {},
   "outputs": [
    {
     "data": {
      "text/plain": [
       "id                                                                           3098421349\n",
       "name                                                               Chem-DrySimcoeCounty\n",
       "screen_name                                                              cdsimcoecounty\n",
       "statuses_count                                                                     2081\n",
       "followers_count                                                                     278\n",
       "friends_count                                                                       917\n",
       "favourites_count                                                                     88\n",
       "listed_count                                                                          5\n",
       "url                                                             https://t.co/l7eYicLoIA\n",
       "lang                                                                                 en\n",
       "time_zone                                                                          None\n",
       "location                                                       25 Hart Drive Barrie, ON\n",
       "default_profile                                                                    True\n",
       "default_profile_image                                                             False\n",
       "geo_enabled                                                                       False\n",
       "profile_image_url                     http://pbs.twimg.com/profile_images/5786818042...\n",
       "profile_use_background_image                                                       True\n",
       "profile_background_image_url_https    https://abs.twimg.com/images/themes/theme1/bg.png\n",
       "profile_text_color                                                               333333\n",
       "profile_image_url_https               https://pbs.twimg.com/profile_images/578681804...\n",
       "profile_sidebar_border_color                                                     C0DEED\n",
       "profile_background_tile                                                           False\n",
       "profile_sidebar_fill_color                                                       DDEEF6\n",
       "profile_background_image_url           http://abs.twimg.com/images/themes/theme1/bg.png\n",
       "profile_background_color                                                         C0DEED\n",
       "profile_link_color                                                               1DA1F2\n",
       "utc_offset                                                                         None\n",
       "is_translator                                                                     False\n",
       "follow_request_sent                                                               False\n",
       "protected                                                                         False\n",
       "verified                                                                          False\n",
       "notifications                                                                     False\n",
       "description                                      Carpet and Upholstery Cleaning Service\n",
       "contributors_enabled                                                              False\n",
       "following                                                                         False\n",
       "created_at                                                          2015-03-19 22:14:20\n",
       "target                                                                                2\n",
       "Name: 0, dtype: object"
      ]
     },
     "execution_count": 37,
     "metadata": {},
     "output_type": "execute_result"
    }
   ],
   "source": [
    "varol_df.loc[0]"
   ]
  },
  {
   "cell_type": "code",
   "execution_count": null,
   "metadata": {},
   "outputs": [],
   "source": []
  }
 ],
 "metadata": {
  "kernelspec": {
   "display_name": "Python 3",
   "language": "python",
   "name": "python3"
  },
  "language_info": {
   "codemirror_mode": {
    "name": "ipython",
    "version": 3
   },
   "file_extension": ".py",
   "mimetype": "text/x-python",
   "name": "python",
   "nbconvert_exporter": "python",
   "pygments_lexer": "ipython3",
   "version": "3.6.6"
  }
 },
 "nbformat": 4,
 "nbformat_minor": 2
}
