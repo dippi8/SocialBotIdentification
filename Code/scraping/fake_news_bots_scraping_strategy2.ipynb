{
 "cells": [
  {
   "cell_type": "code",
   "execution_count": 1,
   "metadata": {},
   "outputs": [],
   "source": [
    "import unirest\n",
    "import tweepy\n",
    "import pandas as pd\n",
    "from IPython.display import clear_output"
   ]
  },
  {
   "cell_type": "code",
   "execution_count": 2,
   "metadata": {},
   "outputs": [],
   "source": [
    "# create connection with Twitter API\n",
    "\n",
    "CONSUMER_KEY = 'J3uhwWHdmSt3uD69ry8r2kc3B'\n",
    "CONSUMER_SECRET = 'LeuM7dVfFbXH0bc5fFkZIxlNiUXyjIx4Kcjh58HeWs2TrLijDx'\n",
    "ACCESS_TOKEN = '327497511-5dNjiGaTQHASljoxNr1qlMOlHrrSB21HBFBDjx2E'\n",
    "ACCESS_TOKEN_SECRET = 'tHLqwlhHYJWptW3femyq0rbMW6ZItu5yLQ3DFGJqJ8Xlg'\n",
    "\n",
    "auth = tweepy.OAuthHandler(CONSUMER_KEY, CONSUMER_SECRET)\n",
    "auth.set_access_token(ACCESS_TOKEN, ACCESS_TOKEN_SECRET)\n",
    "api = tweepy.API(auth)"
   ]
  },
  {
   "cell_type": "code",
   "execution_count": 3,
   "metadata": {},
   "outputs": [],
   "source": [
    "# These code snippets use an open-source library. http://unirest.io/python\n",
    "response = unirest.get(\"https://api-hoaxy.p.mashape.com/top-users?most_recent=true\",\n",
    "  headers={\n",
    "    \"X-Mashape-Key\": \"C5WC4NZTLKmshpOdGdsvAkwYOh3Mp1SZkKljsnz2NidMpX5R8k\",\n",
    "    \"Accept\": \"application/json\"\n",
    "  }\n",
    ")"
   ]
  },
  {
   "cell_type": "code",
   "execution_count": 4,
   "metadata": {},
   "outputs": [
    {
     "name": "stdout",
     "output_type": "stream",
     "text": [
      "2001-10-15   -----   822 bots trovati\n"
     ]
    }
   ],
   "source": [
    "query_base = 'https://api-hoaxy.p.mashape.com/top-users?most_recent=false&upper_day='\n",
    "bots = []\n",
    "day, month, year = 15, 5, 2018\n",
    "n_bots = 0\n",
    "\n",
    "\n",
    "for i in range(200):\n",
    "    \n",
    "    if month < 10:\n",
    "        date = str(year) + '-0' + str(month) + '-' + str(day)\n",
    "    else:\n",
    "        date = str(year) + '-' + str(month) + '-' + str(day)\n",
    "    \n",
    "    query = query_base + date\n",
    "    \n",
    "    #get top articles \n",
    "    response = unirest.get(query,\n",
    "      headers={\n",
    "        \"X-Mashape-Key\": \"EIeNS0WkHxmshBQsGao1wJqAa2itp1uphHBjsn5NHYLmVvCvqs\",\n",
    "        \"Accept\": \"application/json\"\n",
    "      }\n",
    "    )\n",
    "    try:\n",
    "        for spreader in response.body['spreaders']:\n",
    "            if spreader['bot_score'] >= 0.4:\n",
    "                bots.append(spreader['user_raw_id'])\n",
    "                n_bots += 1\n",
    "    except:\n",
    "        pass\n",
    "    \n",
    "    #change date\n",
    "    month = month - 1\n",
    "    if month == 0:\n",
    "        month = 12\n",
    "        year = year - 1\n",
    "        \n",
    "    clear_output()\n",
    "    print date + '   -----   ' + str(n_bots) + ' bots trovati'"
   ]
  },
  {
   "cell_type": "code",
   "execution_count": 29,
   "metadata": {},
   "outputs": [
    {
     "data": {
      "text/plain": [
       "247"
      ]
     },
     "execution_count": 29,
     "metadata": {},
     "output_type": "execute_result"
    }
   ],
   "source": [
    "len(set(bots))"
   ]
  },
  {
   "cell_type": "code",
   "execution_count": 15,
   "metadata": {},
   "outputs": [],
   "source": [
    "pb = pd.read_csv(\"data/propaganda_bots.csv\")"
   ]
  },
  {
   "cell_type": "code",
   "execution_count": 16,
   "metadata": {},
   "outputs": [],
   "source": [
    "pb = pb['0'].tolist()"
   ]
  },
  {
   "cell_type": "code",
   "execution_count": 24,
   "metadata": {},
   "outputs": [],
   "source": [
    "all = pb + bots"
   ]
  },
  {
   "cell_type": "code",
   "execution_count": 27,
   "metadata": {},
   "outputs": [],
   "source": [
    "all = list(set(all))"
   ]
  },
  {
   "cell_type": "code",
   "execution_count": 28,
   "metadata": {},
   "outputs": [
    {
     "data": {
      "text/plain": [
       "2666"
      ]
     },
     "execution_count": 28,
     "metadata": {},
     "output_type": "execute_result"
    }
   ],
   "source": [
    "len(all)"
   ]
  },
  {
   "cell_type": "code",
   "execution_count": 29,
   "metadata": {},
   "outputs": [],
   "source": [
    "all = pd.DataFrame(all)\n",
    "all.to_csv('data/propaganda_bots_v2.csv',index=False)"
   ]
  }
 ],
 "metadata": {
  "kernelspec": {
   "display_name": "Python 3",
   "language": "python",
   "name": "python3"
  },
  "language_info": {
   "codemirror_mode": {
    "name": "ipython",
    "version": 3
   },
   "file_extension": ".py",
   "mimetype": "text/x-python",
   "name": "python",
   "nbconvert_exporter": "python",
   "pygments_lexer": "ipython3",
   "version": "3.6.4"
  }
 },
 "nbformat": 4,
 "nbformat_minor": 2
}
