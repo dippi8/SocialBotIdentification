{
 "cells": [
  {
   "cell_type": "code",
   "execution_count": 1,
   "metadata": {},
   "outputs": [],
   "source": [
    "import pandas as pd\n",
    "import tweepy\n",
    "from IPython.display import clear_output\n",
    "import time\n",
    "import pickle"
   ]
  },
  {
   "cell_type": "code",
   "execution_count": 2,
   "metadata": {},
   "outputs": [],
   "source": [
    "# create connection with Twitter API\n",
    "\n",
    "CONSUMER_KEY = 'J3uhwWHdmSt3uD69ry8r2kc3B'\n",
    "CONSUMER_SECRET = 'LeuM7dVfFbXH0bc5fFkZIxlNiUXyjIx4Kcjh58HeWs2TrLijDx'\n",
    "ACCESS_TOKEN = '327497511-5dNjiGaTQHASljoxNr1qlMOlHrrSB21HBFBDjx2E'\n",
    "ACCESS_TOKEN_SECRET = 'tHLqwlhHYJWptW3femyq0rbMW6ZItu5yLQ3DFGJqJ8Xlg'\n",
    "\n",
    "auth = tweepy.OAuthHandler(CONSUMER_KEY, CONSUMER_SECRET)\n",
    "auth.set_access_token(ACCESS_TOKEN, ACCESS_TOKEN_SECRET)\n",
    "api = tweepy.API(auth)"
   ]
  },
  {
   "cell_type": "code",
   "execution_count": 3,
   "metadata": {},
   "outputs": [],
   "source": [
    "ids = []\n",
    "ids.append(pd.read_csv('data/ff/users.csv')['id'].tolist())\n",
    "ids = [x for l in ids for x in l]"
   ]
  },
  {
   "cell_type": "code",
   "execution_count": 4,
   "metadata": {},
   "outputs": [
    {
     "data": {
      "text/plain": [
       "8825"
      ]
     },
     "execution_count": 4,
     "metadata": {},
     "output_type": "execute_result"
    }
   ],
   "source": [
    "len(ids)"
   ]
  },
  {
   "cell_type": "code",
   "execution_count": 5,
   "metadata": {},
   "outputs": [
    {
     "name": "stdout",
     "output_type": "stream",
     "text": [
      "8825 / 8825   ---   errors: 8109\n"
     ]
    }
   ],
   "source": [
    "tweets = []\n",
    "cont, errors = 0, 0\n",
    "\n",
    "for user in ids:\n",
    "    try:\n",
    "        stuff = api.user_timeline(user_id = user, count = 100, include_rts = True, tweet_mode=\"extended\")\n",
    "        #tweet.is_quote_status indica se nel tweet c'è il riferimento ad un altro tweet\n",
    "\n",
    "        for tweet in stuff:\n",
    "            tweet._json['user_id'] = tweet._json['user']['id']\n",
    "            if len(tweet._json['entities']['urls']) != 0:\n",
    "                tweet._json['url'] = tweet._json['entities']['urls'][0]['expanded_url']\n",
    "            else:\n",
    "                 tweet._json['url'] = None\n",
    "            del tweet._json['user'], tweet._json['entities']\n",
    "\n",
    "            tweets.append(tweet._json)\n",
    "    except:\n",
    "        errors += 1\n",
    "    cont += 1\n",
    "    clear_output()\n",
    "    print(str(cont) + ' / 8825   ---   errors: ' + str(errors))\n",
    "    \n",
    "    if cont % 500 == 0:\n",
    "        path = 'porn_tweets_' + str(cont-500) + '-' + str(cont) + '.tw'\n",
    "        pickle.dump( tweets, open( path , \"wb\" ) )\n",
    "        tweets = []\n",
    "        print ('sleeping...')\n",
    "        time.sleep(900)"
   ]
  },
  {
   "cell_type": "code",
   "execution_count": 2,
   "metadata": {},
   "outputs": [],
   "source": [
    "tweets = []\n",
    "\n",
    "for i in range(17):\n",
    "    \n",
    "    path = 'porn_tweets_' + str(i*500) + '-' + str((i+1)*500) + '.tw'\n",
    "    df = pickle.load( open( path, \"rb\" ) )\n",
    "    tweets = tweets + df"
   ]
  },
  {
   "cell_type": "code",
   "execution_count": 3,
   "metadata": {},
   "outputs": [],
   "source": [
    "df = pd.DataFrame.from_dict(tweets)"
   ]
  },
  {
   "cell_type": "code",
   "execution_count": 4,
   "metadata": {},
   "outputs": [],
   "source": [
    "# rimuove tutte le interruzioni (spero)\n",
    "\n",
    "df['full_text'] = df['full_text'].apply(lambda x: x.replace('\\r', ' '))\n",
    "df['full_text'] = df['full_text'].apply(lambda x: x.replace('\\n', ' '))\n",
    "df['full_text'] = df['full_text'].apply(lambda x: x.replace('\\t', ' '))"
   ]
  },
  {
   "cell_type": "code",
   "execution_count": 5,
   "metadata": {},
   "outputs": [],
   "source": [
    "df.to_csv('tweets.csv', index=False, sep='\\t', encoding='utf-8-sig')"
   ]
  }
 ],
 "metadata": {
  "kernelspec": {
   "display_name": "Python 3",
   "language": "python",
   "name": "python3"
  },
  "language_info": {
   "codemirror_mode": {
    "name": "ipython",
    "version": 3
   },
   "file_extension": ".py",
   "mimetype": "text/x-python",
   "name": "python",
   "nbconvert_exporter": "python",
   "pygments_lexer": "ipython3",
   "version": "3.6.5"
  }
 },
 "nbformat": 4,
 "nbformat_minor": 2
}
