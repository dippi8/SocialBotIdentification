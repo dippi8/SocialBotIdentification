{
 "cells": [
  {
   "cell_type": "code",
   "execution_count": 11,
   "metadata": {},
   "outputs": [],
   "source": [
    "import time\n",
    "import tweepy\n",
    "import pandas as pd\n",
    "from IPython.display import clear_output\n",
    "import random\n",
    "import pickle"
   ]
  },
  {
   "cell_type": "code",
   "execution_count": 12,
   "metadata": {},
   "outputs": [],
   "source": [
    "# create connection with Twitter API\n",
    "\n",
    "CONSUMER_KEY = 'ouq7yTmhvHAzn6shgPntMuF4a'\n",
    "CONSUMER_SECRET = 'd7FT4GXuuJtY10VXhAahNlNHwN0sWvyKzYYZAFP5TpKrYxeHeM'\n",
    "ACCESS_TOKEN = '1058037912183414784-2FEncRbknInkTncWcAYQHyRhFTgcid'\n",
    "ACCESS_TOKEN_SECRET = 'CA4nnpvRPsrCjTfwK9STUfbIDdtpYCoC6tv03LNP5keq7'\n",
    "\n",
    "auth = tweepy.OAuthHandler(CONSUMER_KEY, CONSUMER_SECRET)\n",
    "auth.set_access_token(ACCESS_TOKEN, ACCESS_TOKEN_SECRET)\n",
    "api = tweepy.API(auth)"
   ]
  },
  {
   "cell_type": "code",
   "execution_count": 14,
   "metadata": {},
   "outputs": [],
   "source": [
    "ids = pd.read_csv('data/content_polluters.txt', sep = '\\t')['6301'].tolist()"
   ]
  },
  {
   "cell_type": "code",
   "execution_count": 15,
   "metadata": {},
   "outputs": [
    {
     "name": "stdout",
     "output_type": "stream",
     "text": [
      "22222 / 22222   ---   errors: 7102\n"
     ]
    }
   ],
   "source": [
    "tweets = []\n",
    "cont, errors = 0, 0\n",
    "\n",
    "for user in ids:\n",
    "    try:\n",
    "        stuff = api.user_timeline(user_id = user, count = 100, include_rts = True, tweet_mode=\"extended\")\n",
    "        #tweet.is_quote_status indica se nel tweet c'è il riferimento ad un altro tweet\n",
    "\n",
    "        for tweet in stuff:\n",
    "            tweet._json['user_id'] = tweet._json['user']['id']\n",
    "            if len(tweet._json['entities']['urls']) != 0:\n",
    "                tweet._json['url'] = tweet._json['entities']['urls'][0]['expanded_url']\n",
    "            else:\n",
    "                 tweet._json['url'] = None\n",
    "            del tweet._json['user'], tweet._json['entities']\n",
    "\n",
    "            tweets.append(tweet._json)\n",
    "    except:\n",
    "        errors += 1\n",
    "    cont += 1\n",
    "    clear_output()\n",
    "    print(str(cont) + ' / ' + str(len(ids)) + '   ---   errors: ' + str(errors))\n",
    "    \n",
    "    if cont % 500 == 0:\n",
    "        path = 'bots_tweets' + str(cont-500) + '-' + str(cont) + '.tw'\n",
    "        pickle.dump( tweets, open( path , \"wb\" ) )\n",
    "        tweets = []\n",
    "        print('sleeping...')\n",
    "        time.sleep(900)"
   ]
  },
  {
   "cell_type": "code",
   "execution_count": 16,
   "metadata": {},
   "outputs": [],
   "source": [
    "path = 'bots_tweets' + str(cont-500) + '-' + str(cont) + '.tw'\n",
    "pickle.dump( tweets, open( path , \"wb\" ) )"
   ]
  },
  {
   "cell_type": "code",
   "execution_count": 25,
   "metadata": {},
   "outputs": [],
   "source": [
    "path = 'bots_tweets21722-22222.tw'"
   ]
  },
  {
   "cell_type": "code",
   "execution_count": 26,
   "metadata": {},
   "outputs": [
    {
     "name": "stdout",
     "output_type": "stream",
     "text": [
      "bots_tweets-500-0.tw\n",
      "bots_tweets0-500.tw\n",
      "bots_tweets500-1000.tw\n",
      "bots_tweets1000-1500.tw\n",
      "bots_tweets1500-2000.tw\n",
      "bots_tweets2000-2500.tw\n",
      "bots_tweets2500-3000.tw\n",
      "bots_tweets3000-3500.tw\n",
      "bots_tweets3500-4000.tw\n",
      "bots_tweets4000-4500.tw\n",
      "bots_tweets4500-5000.tw\n",
      "bots_tweets5000-5500.tw\n",
      "bots_tweets5500-6000.tw\n",
      "bots_tweets6000-6500.tw\n",
      "bots_tweets6500-7000.tw\n",
      "bots_tweets7000-7500.tw\n",
      "bots_tweets7500-8000.tw\n",
      "bots_tweets8000-8500.tw\n",
      "bots_tweets8500-9000.tw\n",
      "bots_tweets9000-9500.tw\n",
      "bots_tweets9500-10000.tw\n",
      "bots_tweets10000-10500.tw\n",
      "bots_tweets10500-11000.tw\n",
      "bots_tweets11000-11500.tw\n",
      "bots_tweets11500-12000.tw\n",
      "bots_tweets12000-12500.tw\n",
      "bots_tweets12500-13000.tw\n",
      "bots_tweets13000-13500.tw\n",
      "bots_tweets13500-14000.tw\n",
      "bots_tweets14000-14500.tw\n",
      "bots_tweets14500-15000.tw\n",
      "bots_tweets15000-15500.tw\n",
      "bots_tweets15500-16000.tw\n",
      "bots_tweets16000-16500.tw\n",
      "bots_tweets16500-17000.tw\n",
      "bots_tweets17000-17500.tw\n",
      "bots_tweets17500-18000.tw\n",
      "bots_tweets18000-18500.tw\n",
      "bots_tweets18500-19000.tw\n",
      "bots_tweets19000-19500.tw\n",
      "bots_tweets19500-20000.tw\n",
      "bots_tweets20000-20500.tw\n",
      "bots_tweets20500-21000.tw\n",
      "bots_tweets21000-21500.tw\n",
      "bots_tweets21500-22000.tw\n"
     ]
    }
   ],
   "source": [
    "for i in range(45):\n",
    "    path = 'bots_tweets' + str(i*500-500) + '-' + str(i*500) + '.tw'\n",
    "    print(path)"
   ]
  },
  {
   "cell_type": "code",
   "execution_count": null,
   "metadata": {},
   "outputs": [],
   "source": []
  }
 ],
 "metadata": {
  "kernelspec": {
   "display_name": "Python 3",
   "language": "python",
   "name": "python3"
  },
  "language_info": {
   "codemirror_mode": {
    "name": "ipython",
    "version": 3
   },
   "file_extension": ".py",
   "mimetype": "text/x-python",
   "name": "python",
   "nbconvert_exporter": "python",
   "pygments_lexer": "ipython3",
   "version": "3.6.5"
  }
 },
 "nbformat": 4,
 "nbformat_minor": 2
}
