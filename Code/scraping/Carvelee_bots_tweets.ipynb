{
 "cells": [
  {
   "cell_type": "code",
   "execution_count": 1,
   "metadata": {},
   "outputs": [],
   "source": [
    "import time\n",
    "import tweepy\n",
    "import pandas as pd\n",
    "from IPython.display import clear_output\n",
    "import random\n",
    "import pickle"
   ]
  },
  {
   "cell_type": "code",
   "execution_count": 12,
   "metadata": {},
   "outputs": [],
   "source": [
    "# create connection with Twitter API\n",
    "\n",
    "CONSUMER_KEY = 'ouq7yTmhvHAzn6shgPntMuF4a'\n",
    "CONSUMER_SECRET = 'd7FT4GXuuJtY10VXhAahNlNHwN0sWvyKzYYZAFP5TpKrYxeHeM'\n",
    "ACCESS_TOKEN = '1058037912183414784-2FEncRbknInkTncWcAYQHyRhFTgcid'\n",
    "ACCESS_TOKEN_SECRET = 'CA4nnpvRPsrCjTfwK9STUfbIDdtpYCoC6tv03LNP5keq7'\n",
    "\n",
    "auth = tweepy.OAuthHandler(CONSUMER_KEY, CONSUMER_SECRET)\n",
    "auth.set_access_token(ACCESS_TOKEN, ACCESS_TOKEN_SECRET)\n",
    "api = tweepy.API(auth)"
   ]
  },
  {
   "cell_type": "code",
   "execution_count": 14,
   "metadata": {},
   "outputs": [],
   "source": [
    "ids = pd.read_csv('data/content_polluters.txt', sep = '\\t')['6301'].tolist()"
   ]
  },
  {
   "cell_type": "code",
   "execution_count": 15,
   "metadata": {},
   "outputs": [
    {
     "name": "stdout",
     "output_type": "stream",
     "text": [
      "22222 / 22222   ---   errors: 7102\n"
     ]
    }
   ],
   "source": [
    "tweets = []\n",
    "cont, errors = 0, 0\n",
    "\n",
    "for user in ids:\n",
    "    try:\n",
    "        stuff = api.user_timeline(user_id = user, count = 100, include_rts = True, tweet_mode=\"extended\")\n",
    "        #tweet.is_quote_status indica se nel tweet c'è il riferimento ad un altro tweet\n",
    "\n",
    "        for tweet in stuff:\n",
    "            tweet._json['user_id'] = tweet._json['user']['id']\n",
    "            if len(tweet._json['entities']['urls']) != 0:\n",
    "                tweet._json['url'] = tweet._json['entities']['urls'][0]['expanded_url']\n",
    "            else:\n",
    "                 tweet._json['url'] = None\n",
    "            del tweet._json['user'], tweet._json['entities']\n",
    "\n",
    "            tweets.append(tweet._json)\n",
    "    except:\n",
    "        errors += 1\n",
    "    cont += 1\n",
    "    clear_output()\n",
    "    print(str(cont) + ' / ' + str(len(ids)) + '   ---   errors: ' + str(errors))\n",
    "    \n",
    "    if cont % 500 == 0:\n",
    "        path = 'bots_tweets' + str(cont-500) + '-' + str(cont) + '.tw'\n",
    "        pickle.dump( tweets, open( path , \"wb\" ) )\n",
    "        tweets = []\n",
    "        print('sleeping...')\n",
    "        time.sleep(900)"
   ]
  },
  {
   "cell_type": "code",
   "execution_count": 16,
   "metadata": {},
   "outputs": [],
   "source": [
    "path = 'bots_tweets' + str(cont-500) + '-' + str(cont) + '.tw'\n",
    "pickle.dump( tweets, open( path , \"wb\" ) )"
   ]
  },
  {
   "cell_type": "code",
   "execution_count": 2,
   "metadata": {},
   "outputs": [],
   "source": [
    "path = 'bots_tweets21722-22222.tw'"
   ]
  },
  {
   "cell_type": "code",
   "execution_count": 3,
   "metadata": {},
   "outputs": [],
   "source": [
    "tweets = pickle.load(open(path,\"rb\"))"
   ]
  },
  {
   "cell_type": "code",
   "execution_count": 4,
   "metadata": {},
   "outputs": [
    {
     "name": "stdout",
     "output_type": "stream",
     "text": [
      "1\n",
      "2\n",
      "3\n",
      "4\n",
      "5\n",
      "6\n",
      "7\n",
      "8\n",
      "9\n",
      "10\n",
      "11\n",
      "12\n",
      "13\n",
      "14\n",
      "15\n",
      "16\n",
      "17\n",
      "18\n",
      "19\n",
      "20\n",
      "21\n",
      "22\n",
      "23\n",
      "24\n",
      "25\n",
      "26\n",
      "27\n",
      "28\n",
      "29\n",
      "30\n",
      "31\n",
      "32\n",
      "33\n",
      "34\n",
      "35\n",
      "36\n",
      "37\n",
      "38\n",
      "39\n",
      "40\n",
      "41\n",
      "42\n",
      "43\n",
      "44\n"
     ]
    }
   ],
   "source": [
    "for i in range(1,45):\n",
    "    path = 'bots_tweets' + str(i*500-500) + '-' + str(i*500) + '.tw'\n",
    "    tweets = tweets + pickle.load(open(path,\"rb\"))\n",
    "    print(i)"
   ]
  },
  {
   "cell_type": "code",
   "execution_count": 5,
   "metadata": {},
   "outputs": [],
   "source": [
    "df = pd.DataFrame.from_dict(tweets)"
   ]
  },
  {
   "cell_type": "code",
   "execution_count": 6,
   "metadata": {},
   "outputs": [],
   "source": [
    "# rimuove tutte le interruzioni (spero)\n",
    "\n",
    "df['full_text'] = df['full_text'].apply(lambda x: x.replace('\\r', ' '))\n",
    "df['full_text'] = df['full_text'].apply(lambda x: x.replace('\\n', ' '))\n",
    "df['full_text'] = df['full_text'].apply(lambda x: x.replace('\\t', ' '))"
   ]
  },
  {
   "cell_type": "code",
   "execution_count": 7,
   "metadata": {},
   "outputs": [],
   "source": [
    "df.to_csv('data/bon/bots/tweets.csv', index=False, sep='\\t', encoding='utf-8-sig')"
   ]
  },
  {
   "cell_type": "code",
   "execution_count": 8,
   "metadata": {},
   "outputs": [
    {
     "data": {
      "text/plain": [
       "1276457"
      ]
     },
     "execution_count": 8,
     "metadata": {},
     "output_type": "execute_result"
    }
   ],
   "source": [
    "len(df)"
   ]
  },
  {
   "cell_type": "code",
   "execution_count": null,
   "metadata": {},
   "outputs": [],
   "source": []
  }
 ],
 "metadata": {
  "kernelspec": {
   "display_name": "Python 3",
   "language": "python",
   "name": "python3"
  },
  "language_info": {
   "codemirror_mode": {
    "name": "ipython",
    "version": 3
   },
   "file_extension": ".py",
   "mimetype": "text/x-python",
   "name": "python",
   "nbconvert_exporter": "python",
   "pygments_lexer": "ipython3",
   "version": "3.6.5"
  }
 },
 "nbformat": 4,
 "nbformat_minor": 2
}
