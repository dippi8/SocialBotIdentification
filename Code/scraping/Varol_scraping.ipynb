{
 "cells": [
  {
   "cell_type": "markdown",
   "metadata": {},
   "source": [
    "# Varol Multilabel Scraping"
   ]
  },
  {
   "cell_type": "code",
   "execution_count": 2,
   "metadata": {},
   "outputs": [],
   "source": [
    "import pandas as pd\n",
    "import tweepy\n",
    "from IPython.display import clear_output\n",
    "import time\n",
    "from pandas.compat import StringIO"
   ]
  },
  {
   "cell_type": "code",
   "execution_count": 3,
   "metadata": {},
   "outputs": [],
   "source": [
    "# create connection with Twitter API\n",
    "\n",
    "CONSUMER_KEY = 'GeWIh6LTIiPd2mgMh4PhesKkX'\n",
    "CONSUMER_SECRET = 'BjfHQp3T6XY3esXtYWo7mEh58zUd4v7USruqT1brFTXC0qOUYF'\n",
    "ACCESS_TOKEN = '973862126216499200-tr3zhK2hOHnnhqegZMviFpoUj3T9nHa'\n",
    "ACCESS_TOKEN_SECRET = 'LuHRMgpoGT3kjR95z8XPuafllrCaWRHyu86Pdru4zdATD'\n",
    "\n",
    "auth = tweepy.OAuthHandler(CONSUMER_KEY, CONSUMER_SECRET)\n",
    "auth.set_access_token(ACCESS_TOKEN, ACCESS_TOKEN_SECRET)\n",
    "api = tweepy.API(auth)"
   ]
  },
  {
   "cell_type": "code",
   "execution_count": 4,
   "metadata": {},
   "outputs": [],
   "source": [
    "varol = pd.read_csv('../classification/data/bot_or_not/legitimate_users.txt', sep='\\t')"
   ]
  },
  {
   "cell_type": "code",
   "execution_count": 11,
   "metadata": {},
   "outputs": [],
   "source": [
    "varol = varol.rename(index=str, columns={\"614\": \"id\"})"
   ]
  },
  {
   "cell_type": "code",
   "execution_count": 13,
   "metadata": {},
   "outputs": [],
   "source": [
    "user = api.get_user(varol.id[0])\n",
    "\n",
    "varol_df = pd.DataFrame([[user.id,\n",
    "                    user.name,\n",
    "                    user.screen_name,\n",
    "                    user.statuses_count,\n",
    "                    user.followers_count,\n",
    "                    user.friends_count,\n",
    "                    user.favourites_count,\n",
    "                    user.listed_count,\n",
    "                    user.url,\n",
    "                    user.lang,\n",
    "                    user.time_zone,\n",
    "                    user.location,\n",
    "                    user.default_profile,\n",
    "                    user.default_profile_image,\n",
    "                    user.geo_enabled,\n",
    "                    user.profile_image_url,\n",
    "                    #user.profile_banner_url,\n",
    "                    user.profile_use_background_image,\n",
    "                    user.profile_background_image_url_https,\n",
    "                    user.profile_text_color,\n",
    "                    user.profile_image_url_https,\n",
    "                    user.profile_sidebar_border_color,\n",
    "                    user.profile_background_tile,\n",
    "                    user.profile_sidebar_fill_color,\n",
    "                    user.profile_background_image_url,\n",
    "                    user.profile_background_color,\n",
    "                    user.profile_link_color,\n",
    "                    user.utc_offset,\n",
    "                    user.is_translator,\n",
    "                    user.follow_request_sent,\n",
    "                    user.protected,\n",
    "                    user.verified,\n",
    "                    user.notifications,\n",
    "                    user.description,\n",
    "                    user.contributors_enabled,\n",
    "                    user.following,\n",
    "                    user.created_at,\n",
    "                    0]],\n",
    "                    columns=[\"id\",\"name\",\"screen_name\",\"statuses_count\",\"followers_count\",\"friends_count\",\"favourites_count\",\"listed_count\",\"url\",\"lang\",\"time_zone\",\"location\",\"default_profile\",\"default_profile_image\",\"geo_enabled\",\"profile_image_url\",\"profile_use_background_image\",\"profile_background_image_url_https\",\"profile_text_color\",\"profile_image_url_https\",\"profile_sidebar_border_color\",\"profile_background_tile\",\"profile_sidebar_fill_color\",\"profile_background_image_url\",\"profile_background_color\",\"profile_link_color\",\"utc_offset\",\"is_translator\",\"follow_request_sent\",\"protected\",\"verified\",\"notifications\",\"description\",\"contributors_enabled\",\"following\",\"created_at\", \"target\"]\n",
    "                  )"
   ]
  },
  {
   "cell_type": "code",
   "execution_count": null,
   "metadata": {},
   "outputs": [
    {
     "name": "stdout",
     "output_type": "stream",
     "text": [
      "2720 / 19275   ---   errors: 294\n"
     ]
    }
   ],
   "source": [
    "i = 0\n",
    "error_ids_varol = []\n",
    "error_count = 0\n",
    "\n",
    "for index,row in varol[1:].iterrows():\n",
    "    i = i + 1\n",
    "    try:\n",
    "        user = api.get_user(row.id)\n",
    "        df2 = pd.DataFrame([[user.id,\n",
    "                            user.name,\n",
    "                            user.screen_name,\n",
    "                            user.statuses_count,\n",
    "                            user.followers_count,\n",
    "                            user.friends_count,\n",
    "                            user.favourites_count,\n",
    "                            user.listed_count,\n",
    "                            user.url,\n",
    "                            user.lang,\n",
    "                            user.time_zone,\n",
    "                            user.location,\n",
    "                            user.default_profile,\n",
    "                            user.default_profile_image,\n",
    "                            user.geo_enabled,\n",
    "                            user.profile_image_url,\n",
    "                            # user.profile_banner_url,\n",
    "                            user.profile_use_background_image,\n",
    "                            user.profile_background_image_url_https,\n",
    "                            user.profile_text_color,\n",
    "                            user.profile_image_url_https,\n",
    "                            user.profile_sidebar_border_color,\n",
    "                            user.profile_background_tile,\n",
    "                            user.profile_sidebar_fill_color,\n",
    "                            user.profile_background_image_url,\n",
    "                            user.profile_background_color,\n",
    "                            user.profile_link_color,\n",
    "                            user.utc_offset,\n",
    "                            user.is_translator,\n",
    "                            user.follow_request_sent,\n",
    "                            user.protected,\n",
    "                            user.verified,\n",
    "                            user.notifications,\n",
    "                            user.description,\n",
    "                            user.contributors_enabled,\n",
    "                            user.following,\n",
    "                            user.created_at,\n",
    "                            0]],\n",
    "                            columns=[\"id\",\"name\",\"screen_name\",\"statuses_count\",\"followers_count\",\"friends_count\",\"favourites_count\",\"listed_count\",\"url\",\"lang\",\"time_zone\",\"location\",\"default_profile\",\"default_profile_image\",\"geo_enabled\",\"profile_image_url\",\"profile_use_background_image\",\"profile_background_image_url_https\",\"profile_text_color\",\"profile_image_url_https\",\"profile_sidebar_border_color\",\"profile_background_tile\",\"profile_sidebar_fill_color\",\"profile_background_image_url\",\"profile_background_color\",\"profile_link_color\",\"utc_offset\",\"is_translator\",\"follow_request_sent\",\"protected\",\"verified\",\"notifications\",\"description\",\"contributors_enabled\",\"following\",\"created_at\",\"target\"]\n",
    "                          )\n",
    "        varol_df = varol_df.append(df2, ignore_index=True, verify_integrity=False)\n",
    "        \n",
    "    except Exception as e:\n",
    "        error_ids_varol.append(row)\n",
    "        error_count += 1\n",
    "        \n",
    "    clear_output()\n",
    "    print(str(i) + \" / \" + str(len(varol.id)) + '   ---   errors: ' + str(error_count))\n",
    "    \n",
    "    if i % 500 == 0:\n",
    "        print ('sleeping...')\n",
    "        time.sleep(900)\n",
    "    "
   ]
  },
  {
   "cell_type": "code",
   "execution_count": 30,
   "metadata": {},
   "outputs": [
    {
     "name": "stdout",
     "output_type": "stream",
     "text": [
      "706 / 706   ---   errors: 16\n"
     ]
    }
   ],
   "source": [
    "tweets = []\n",
    "cont, errors = 0, 0\n",
    "\n",
    "for index, row in varol_df.iterrows():\n",
    "    try:\n",
    "        stuff = api.user_timeline(user_id = row.id, count = 100, include_rts = True, tweet_mode=\"extended\")\n",
    "        #tweet.is_quote_status indica se nel tweet c'è il riferimento ad un altro tweet\n",
    "\n",
    "        for tweet in stuff:\n",
    "            tweet._json['user_id'] = tweet._json['user']['id']\n",
    "            if len(tweet._json['entities']['urls']) != 0:\n",
    "                tweet._json['url'] = tweet._json['entities']['urls'][0]['expanded_url']\n",
    "            else:\n",
    "                 tweet._json['url'] = None\n",
    "            del tweet._json['user'], tweet._json['entities']\n",
    "\n",
    "            tweets.append(tweet._json)\n",
    "    except:\n",
    "        errors += 1\n",
    "    cont += 1\n",
    "    clear_output()\n",
    "    print(str(cont) + ' / ' + str(len(varol_df)) + '   ---   errors: ' + str(errors))\n",
    "    \n",
    "    if cont % 500 == 0:\n",
    "        print ('sleeping...')\n",
    "        time.sleep(900)"
   ]
  },
  {
   "cell_type": "code",
   "execution_count": 31,
   "metadata": {},
   "outputs": [],
   "source": [
    "tweets_df = pd.DataFrame.from_dict(tweets)"
   ]
  },
  {
   "cell_type": "code",
   "execution_count": 32,
   "metadata": {},
   "outputs": [],
   "source": [
    "# rimuove tutte le interruzioni (spero)\n",
    "\n",
    "tweets_df['full_text'] = tweets_df['full_text'].apply(lambda x: x.replace('\\r', ' '))\n",
    "tweets_df['full_text'] = tweets_df['full_text'].apply(lambda x: x.replace('\\n', ' '))\n",
    "tweets_df['full_text'] = tweets_df['full_text'].apply(lambda x: x.replace('\\t', ' '))"
   ]
  },
  {
   "cell_type": "code",
   "execution_count": 33,
   "metadata": {},
   "outputs": [],
   "source": [
    "tweets_df.to_csv('../classification/data/varol/tweets.csv', index=False, sep='\\t' , encoding='utf-8-sig')"
   ]
  },
  {
   "cell_type": "code",
   "execution_count": 34,
   "metadata": {},
   "outputs": [],
   "source": [
    "varol_df.to_csv('../classification/data/varol/users.csv',index=False, encoding='utf-8-sig')"
   ]
  },
  {
   "cell_type": "code",
   "execution_count": 37,
   "metadata": {},
   "outputs": [
    {
     "data": {
      "text/plain": [
       "id                                                                           3098421349\n",
       "name                                                               Chem-DrySimcoeCounty\n",
       "screen_name                                                              cdsimcoecounty\n",
       "statuses_count                                                                     2081\n",
       "followers_count                                                                     278\n",
       "friends_count                                                                       917\n",
       "favourites_count                                                                     88\n",
       "listed_count                                                                          5\n",
       "url                                                             https://t.co/l7eYicLoIA\n",
       "lang                                                                                 en\n",
       "time_zone                                                                          None\n",
       "location                                                       25 Hart Drive Barrie, ON\n",
       "default_profile                                                                    True\n",
       "default_profile_image                                                             False\n",
       "geo_enabled                                                                       False\n",
       "profile_image_url                     http://pbs.twimg.com/profile_images/5786818042...\n",
       "profile_use_background_image                                                       True\n",
       "profile_background_image_url_https    https://abs.twimg.com/images/themes/theme1/bg.png\n",
       "profile_text_color                                                               333333\n",
       "profile_image_url_https               https://pbs.twimg.com/profile_images/578681804...\n",
       "profile_sidebar_border_color                                                     C0DEED\n",
       "profile_background_tile                                                           False\n",
       "profile_sidebar_fill_color                                                       DDEEF6\n",
       "profile_background_image_url           http://abs.twimg.com/images/themes/theme1/bg.png\n",
       "profile_background_color                                                         C0DEED\n",
       "profile_link_color                                                               1DA1F2\n",
       "utc_offset                                                                         None\n",
       "is_translator                                                                     False\n",
       "follow_request_sent                                                               False\n",
       "protected                                                                         False\n",
       "verified                                                                          False\n",
       "notifications                                                                     False\n",
       "description                                      Carpet and Upholstery Cleaning Service\n",
       "contributors_enabled                                                              False\n",
       "following                                                                         False\n",
       "created_at                                                          2015-03-19 22:14:20\n",
       "target                                                                                2\n",
       "Name: 0, dtype: object"
      ]
     },
     "execution_count": 37,
     "metadata": {},
     "output_type": "execute_result"
    }
   ],
   "source": [
    "varol_df.loc[0]"
   ]
  },
  {
   "cell_type": "code",
   "execution_count": null,
   "metadata": {},
   "outputs": [],
   "source": []
  }
 ],
 "metadata": {
  "kernelspec": {
   "display_name": "Python 3",
   "language": "python",
   "name": "python3"
  },
  "language_info": {
   "codemirror_mode": {
    "name": "ipython",
    "version": 3
   },
   "file_extension": ".py",
   "mimetype": "text/x-python",
   "name": "python",
   "nbconvert_exporter": "python",
   "pygments_lexer": "ipython3",
   "version": "3.6.6"
  }
 },
 "nbformat": 4,
 "nbformat_minor": 2
}
