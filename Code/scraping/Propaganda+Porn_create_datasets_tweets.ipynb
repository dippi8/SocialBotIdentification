{
 "cells": [
  {
   "cell_type": "markdown",
   "metadata": {},
   "source": [
    "# Create porn tweets, propaganda tweets CSVs"
   ]
  },
  {
   "cell_type": "code",
   "execution_count": 1,
   "metadata": {},
   "outputs": [],
   "source": [
    "import pandas as pd\n",
    "from IPython.display import clear_output\n",
    "import pickle"
   ]
  },
  {
   "cell_type": "markdown",
   "metadata": {},
   "source": [
    "## Porn"
   ]
  },
  {
   "cell_type": "code",
   "execution_count": 2,
   "metadata": {},
   "outputs": [
    {
     "name": "stdout",
     "output_type": "stream",
     "text": [
      "porn_tweets_0-500.tw\n",
      "porn_tweets_500-1000.tw\n",
      "porn_tweets_1000-1500.tw\n",
      "porn_tweets_1500-2000.tw\n",
      "porn_tweets_2000-2500.tw\n",
      "porn_tweets_2500-3000.tw\n",
      "porn_tweets_3000-3500.tw\n",
      "porn_tweets_3500-4000.tw\n"
     ]
    }
   ],
   "source": [
    "tweets = pickle.load( open( \"porn_tweets_4000-4110.tw\", \"rb\" ) )\n",
    "tweets_df = pd.DataFrame.from_dict(tweets)\n",
    "\n",
    "for i in range(8):\n",
    "    \n",
    "    path = 'porn_tweets_' + str(i*500) + '-' + str((i+1)*500) + '.tw'\n",
    "    print path\n",
    "    tweets = pickle.load( open( path, \"rb\" ) )\n",
    "    df = pd.DataFrame.from_dict(tweets)\n",
    "    \n",
    "    tweets_df = tweets_df.append(df, ignore_index=True)"
   ]
  },
  {
   "cell_type": "code",
   "execution_count": 16,
   "metadata": {},
   "outputs": [],
   "source": [
    "# rimuove tutte le interruzioni (spero)\n",
    "\n",
    "tweets_df['full_text'] = tweets_df['full_text'].apply(lambda x: x.replace('\\r', ' '))\n",
    "tweets_df['full_text'] = tweets_df['full_text'].apply(lambda x: x.replace('\\n', ' '))\n",
    "tweets_df['full_text'] = tweets_df['full_text'].apply(lambda x: x.replace('\\t', ' '))"
   ]
  },
  {
   "cell_type": "code",
   "execution_count": 17,
   "metadata": {},
   "outputs": [],
   "source": [
    "tweets_df.to_csv('data/porn_tweets.csv', index=False, sep='\\t', encoding='utf-8-sig')"
   ]
  },
  {
   "cell_type": "markdown",
   "metadata": {},
   "source": [
    "## Propaganda"
   ]
  },
  {
   "cell_type": "code",
   "execution_count": 2,
   "metadata": {},
   "outputs": [
    {
     "name": "stdout",
     "output_type": "stream",
     "text": [
      "propaganda_tweets_0-500.tw\n",
      "propaganda_tweets_500-1000.tw\n"
     ]
    }
   ],
   "source": [
    "tweets = pickle.load( open( \"propaganda_tweets_3000-3312.tw\", \"rb\" ) )\n",
    "tweets_df = pd.DataFrame.from_dict(tweets)\n",
    "\n",
    "for i in range(2):\n",
    "    \n",
    "    path = 'propaganda_tweets_' + str(i*500) + '-' + str((i+1)*500) + '.tw'\n",
    "    print path\n",
    "    tweets = pickle.load( open( path, \"rb\" ) )\n",
    "    df = pd.DataFrame.from_dict(tweets)\n",
    "    \n",
    "    tweets_df = tweets_df.append(df, ignore_index=True)\n",
    "    \n",
    "# rimuove tutte le interruzioni (spero)\n",
    "\n",
    "tweets_df['full_text'] = tweets_df['full_text'].apply(lambda x: x.replace('\\r', ' '))\n",
    "tweets_df['full_text'] = tweets_df['full_text'].apply(lambda x: x.replace('\\n', ' '))\n",
    "tweets_df['full_text'] = tweets_df['full_text'].apply(lambda x: x.replace('\\t', ' '))\n",
    "\n",
    "tweets_df.to_csv('data/propaganda_tweets_pt1.csv', index=False, sep='\\t', encoding='utf-8-sig')\n",
    "\n",
    "del tweets_df, tweets, df"
   ]
  },
  {
   "cell_type": "code",
   "execution_count": 3,
   "metadata": {},
   "outputs": [
    {
     "name": "stdout",
     "output_type": "stream",
     "text": [
      "propaganda_tweets_1000-1500.tw\n",
      "propaganda_tweets_1500-2000.tw\n"
     ]
    }
   ],
   "source": [
    "i = 2\n",
    "\n",
    "path = 'propaganda_tweets_' + str(i*500) + '-' + str((i+1)*500) + '.tw'\n",
    "print path\n",
    "tweets = pickle.load( open( path, \"rb\" ) )\n",
    "tweets_df = pd.DataFrame.from_dict(tweets)\n",
    "\n",
    "\n",
    "i = 3\n",
    "\n",
    "path = 'propaganda_tweets_' + str(i*500) + '-' + str((i+1)*500) + '.tw'\n",
    "print path\n",
    "tweets = pickle.load( open( path, \"rb\" ) )\n",
    "df = pd.DataFrame.from_dict(tweets)\n",
    "tweets_df = tweets_df.append(df, ignore_index=True)\n",
    "    \n",
    "# rimuove tutte le interruzioni (spero)\n",
    "\n",
    "tweets_df['full_text'] = tweets_df['full_text'].apply(lambda x: x.replace('\\r', ' '))\n",
    "tweets_df['full_text'] = tweets_df['full_text'].apply(lambda x: x.replace('\\n', ' '))\n",
    "tweets_df['full_text'] = tweets_df['full_text'].apply(lambda x: x.replace('\\t', ' '))\n",
    "\n",
    "tweets_df.to_csv('data/propaganda_tweets_pt2.csv', index=False, sep='\\t', encoding='utf-8-sig')\n",
    "\n",
    "del tweets_df, tweets, df"
   ]
  },
  {
   "cell_type": "code",
   "execution_count": 4,
   "metadata": {},
   "outputs": [
    {
     "name": "stdout",
     "output_type": "stream",
     "text": [
      "propaganda_tweets_2000-2500.tw\n",
      "propaganda_tweets_2500-3000.tw\n"
     ]
    }
   ],
   "source": [
    "i = 4\n",
    "\n",
    "path = 'propaganda_tweets_' + str(i*500) + '-' + str((i+1)*500) + '.tw'\n",
    "print path\n",
    "tweets = pickle.load( open( path, \"rb\" ) )\n",
    "tweets_df = pd.DataFrame.from_dict(tweets)\n",
    "\n",
    "\n",
    "i = 5\n",
    "\n",
    "path = 'propaganda_tweets_' + str(i*500) + '-' + str((i+1)*500) + '.tw'\n",
    "print path\n",
    "tweets = pickle.load( open( path, \"rb\" ) )\n",
    "df = pd.DataFrame.from_dict(tweets)\n",
    "tweets_df = tweets_df.append(df, ignore_index=True)\n",
    "    \n",
    "# rimuove tutte le interruzioni (spero)\n",
    "\n",
    "tweets_df['full_text'] = tweets_df['full_text'].apply(lambda x: x.replace('\\r', ' '))\n",
    "tweets_df['full_text'] = tweets_df['full_text'].apply(lambda x: x.replace('\\n', ' '))\n",
    "tweets_df['full_text'] = tweets_df['full_text'].apply(lambda x: x.replace('\\t', ' '))\n",
    "\n",
    "tweets_df.to_csv('data/propaganda_tweets_pt3.csv', index=False, sep='\\t', encoding='utf-8-sig')"
   ]
  },
  {
   "cell_type": "markdown",
   "metadata": {},
   "source": [
    "### Join propaganda datasets "
   ]
  },
  {
   "cell_type": "code",
   "execution_count": 3,
   "metadata": {},
   "outputs": [],
   "source": [
    "tweets_df1 = pd.read_csv('data/propaganda_tweets_pt1.csv', sep='\\t', encoding='utf-8-sig')"
   ]
  },
  {
   "cell_type": "code",
   "execution_count": 6,
   "metadata": {},
   "outputs": [
    {
     "name": "stderr",
     "output_type": "stream",
     "text": [
      "/home/matteo/anaconda3/envs/py27/lib/python2.7/site-packages/IPython/core/interactiveshell.py:2718: DtypeWarning: Columns (1,8,18) have mixed types. Specify dtype option on import or set low_memory=False.\n",
      "  interactivity=interactivity, compiler=compiler, result=result)\n"
     ]
    }
   ],
   "source": [
    "tweets_df2 = pd.read_csv('data/propaganda_tweets_pt2.csv', sep='\\t', encoding='utf-8-sig')"
   ]
  },
  {
   "cell_type": "code",
   "execution_count": 12,
   "metadata": {},
   "outputs": [],
   "source": [
    "tweets_df1 = tweets_df1.append(tweets_df2, ignore_index=True)"
   ]
  },
  {
   "cell_type": "code",
   "execution_count": 14,
   "metadata": {},
   "outputs": [],
   "source": [
    "del tweets_df2"
   ]
  },
  {
   "cell_type": "code",
   "execution_count": null,
   "metadata": {},
   "outputs": [],
   "source": [
    "tweets_df3 = pd.read_csv('data/propaganda_tweets_pt3.csv', sep='\\t', encoding='utf-8-sig')"
   ]
  },
  {
   "cell_type": "code",
   "execution_count": null,
   "metadata": {},
   "outputs": [],
   "source": []
  }
 ],
 "metadata": {
  "kernelspec": {
   "display_name": "Python 2",
   "language": "python",
   "name": "python2"
  },
  "language_info": {
   "codemirror_mode": {
    "name": "ipython",
    "version": 2
   },
   "file_extension": ".py",
   "mimetype": "text/x-python",
   "name": "python",
   "nbconvert_exporter": "python",
   "pygments_lexer": "ipython2",
   "version": "2.7.14"
  }
 },
 "nbformat": 4,
 "nbformat_minor": 2
}
