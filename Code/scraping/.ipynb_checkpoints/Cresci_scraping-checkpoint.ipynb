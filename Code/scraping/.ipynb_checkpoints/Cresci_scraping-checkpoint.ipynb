{
 "cells": [
  {
   "cell_type": "markdown",
   "metadata": {},
   "source": [
    "# Cresci Scraping"
   ]
  },
  {
   "cell_type": "code",
<<<<<<< HEAD
   "execution_count": 23,
=======
   "execution_count": 4,
>>>>>>> 58a53adbdea4f8f75968f532783b5657e5c5104a
   "metadata": {},
   "outputs": [],
   "source": [
    "import pandas as pd\n",
    "import tweepy\n",
    "from IPython.display import clear_output\n",
<<<<<<< HEAD
    "import time"
=======
    "import time\n",
    "import pickle"
>>>>>>> 58a53adbdea4f8f75968f532783b5657e5c5104a
   ]
  },
  {
   "cell_type": "code",
<<<<<<< HEAD
   "execution_count": 4,
=======
   "execution_count": 5,
>>>>>>> 58a53adbdea4f8f75968f532783b5657e5c5104a
   "metadata": {},
   "outputs": [],
   "source": [
    "# create connection with Twitter API\n",
    "\n",
    "CONSUMER_KEY = 'J3uhwWHdmSt3uD69ry8r2kc3B'\n",
    "CONSUMER_SECRET = 'LeuM7dVfFbXH0bc5fFkZIxlNiUXyjIx4Kcjh58HeWs2TrLijDx'\n",
    "ACCESS_TOKEN = '327497511-5dNjiGaTQHASljoxNr1qlMOlHrrSB21HBFBDjx2E'\n",
    "ACCESS_TOKEN_SECRET = 'tHLqwlhHYJWptW3femyq0rbMW6ZItu5yLQ3DFGJqJ8Xlg'\n",
    "\n",
    "auth = tweepy.OAuthHandler(CONSUMER_KEY, CONSUMER_SECRET)\n",
    "auth.set_access_token(ACCESS_TOKEN, ACCESS_TOKEN_SECRET)\n",
    "api = tweepy.API(auth)"
   ]
  },
  {
<<<<<<< HEAD
   "cell_type": "code",
   "execution_count": 5,
=======
   "cell_type": "markdown",
   "metadata": {},
   "source": [
    "## Spam"
   ]
  },
  {
   "cell_type": "markdown",
   "metadata": {},
   "source": [
    "### Users"
   ]
  },
  {
   "cell_type": "code",
   "execution_count": 6,
>>>>>>> 58a53adbdea4f8f75968f532783b5657e5c5104a
   "metadata": {},
   "outputs": [],
   "source": [
    "ids = []\n",
    "\n",
    "# traditional1, social2, social3\n",
    "\n",
<<<<<<< HEAD
    "ids.append(pd.read_csv('data/Cresci/traditional_spambots_1_users.csv')['id'].tolist())\n",
    "ids.append(pd.read_csv('data/Cresci/social_spambots_2_users.csv')['id'].tolist())\n",
    "ids.append(pd.read_csv('data/Cresci/social_spambots_3_users.csv')['id'].tolist())"
=======
    "#ids.append(pd.read_csv('data/spam/social_spambots_2.csv/users.csv')['id'].tolist())\n",
    "#ids.append(pd.read_csv('data/spam/social_spambots_3.csv/users.csv')['id'].tolist())\n",
    "ids.append(pd.read_csv('data/spam/traditional_spambots_1.csv/users.csv')['id'].tolist())\n",
    "ids.append(pd.read_csv('data/spam/traditional_spambots_2.csv/users.csv')['id'].tolist())\n",
    "ids.append(pd.read_csv('data/spam/traditional_spambots_3.csv/users.csv')['id'].tolist())"
>>>>>>> 58a53adbdea4f8f75968f532783b5657e5c5104a
   ]
  },
  {
   "cell_type": "code",
<<<<<<< HEAD
   "execution_count": 6,
=======
   "execution_count": 7,
>>>>>>> 58a53adbdea4f8f75968f532783b5657e5c5104a
   "metadata": {},
   "outputs": [],
   "source": [
    "ids = [x for l in ids for x in l]"
   ]
  },
  {
   "cell_type": "code",
<<<<<<< HEAD
   "execution_count": null,
   "metadata": {},
   "outputs": [],
   "source": [
    "working_ids = []\n",
    "work, tot = 0, 0"
=======
   "execution_count": 8,
   "metadata": {},
   "outputs": [
    {
     "data": {
      "text/plain": [
       "1503"
      ]
     },
     "execution_count": 8,
     "metadata": {},
     "output_type": "execute_result"
    }
   ],
   "source": [
    "len(ids)"
   ]
  },
  {
   "cell_type": "code",
   "execution_count": 9,
   "metadata": {},
   "outputs": [],
   "source": [
    "user = api.get_user(ids[0])\n",
    "\n",
    "users = pd.DataFrame([[user.id,\n",
    "                    user.name,\n",
    "                    user.screen_name,\n",
    "                    user.statuses_count,\n",
    "                    user.followers_count,\n",
    "                    user.friends_count,\n",
    "                    user.favourites_count,\n",
    "                    user.listed_count,\n",
    "                    user.url,\n",
    "                    user.lang,\n",
    "                    user.time_zone,\n",
    "                    user.location,\n",
    "                    user.default_profile,\n",
    "                    user.default_profile_image,\n",
    "                    user.geo_enabled,\n",
    "                    user.profile_image_url,\n",
    "                    #user.profile_banner_url,\n",
    "                    user.profile_use_background_image,\n",
    "                    user.profile_background_image_url_https,\n",
    "                    user.profile_text_color,\n",
    "                    user.profile_image_url_https,\n",
    "                    user.profile_sidebar_border_color,\n",
    "                    user.profile_background_tile,\n",
    "                    user.profile_sidebar_fill_color,\n",
    "                    user.profile_background_image_url,\n",
    "                    user.profile_background_color,\n",
    "                    user.profile_link_color,\n",
    "                    user.utc_offset,\n",
    "                    user.is_translator,\n",
    "                    user.follow_request_sent,\n",
    "                    user.protected,\n",
    "                    user.verified,\n",
    "                    user.notifications,\n",
    "                    user.description,\n",
    "                    user.contributors_enabled,\n",
    "                    user.following,\n",
    "                    user.created_at]],\n",
    "                    columns=[\"id\",\"name\",\"screen_name\",\"statuses_count\",\"followers_count\",\"friends_count\",\"favourites_count\",\"listed_count\",\"url\",\"lang\",\"time_zone\",\"location\",\"default_profile\",\"default_profile_image\",\"geo_enabled\",\"profile_image_url\",\"profile_use_background_image\",\"profile_background_image_url_https\",\"profile_text_color\",\"profile_image_url_https\",\"profile_sidebar_border_color\",\"profile_background_tile\",\"profile_sidebar_fill_color\",\"profile_background_image_url\",\"profile_background_color\",\"profile_link_color\",\"utc_offset\",\"is_translator\",\"follow_request_sent\",\"protected\",\"verified\",\"notifications\",\"description\",\"contributors_enabled\",\"following\",\"created_at\"]\n",
    "                  )"
>>>>>>> 58a53adbdea4f8f75968f532783b5657e5c5104a
   ]
  },
  {
   "cell_type": "code",
<<<<<<< HEAD
   "execution_count": 24,
=======
   "execution_count": 10,
   "metadata": {},
   "outputs": [
    {
     "data": {
      "text/html": [
       "<div>\n",
       "<style scoped>\n",
       "    .dataframe tbody tr th:only-of-type {\n",
       "        vertical-align: middle;\n",
       "    }\n",
       "\n",
       "    .dataframe tbody tr th {\n",
       "        vertical-align: top;\n",
       "    }\n",
       "\n",
       "    .dataframe thead th {\n",
       "        text-align: right;\n",
       "    }\n",
       "</style>\n",
       "<table border=\"1\" class=\"dataframe\">\n",
       "  <thead>\n",
       "    <tr style=\"text-align: right;\">\n",
       "      <th></th>\n",
       "      <th>id</th>\n",
       "      <th>name</th>\n",
       "      <th>screen_name</th>\n",
       "      <th>statuses_count</th>\n",
       "      <th>followers_count</th>\n",
       "      <th>friends_count</th>\n",
       "      <th>favourites_count</th>\n",
       "      <th>listed_count</th>\n",
       "      <th>url</th>\n",
       "      <th>lang</th>\n",
       "      <th>...</th>\n",
       "      <th>utc_offset</th>\n",
       "      <th>is_translator</th>\n",
       "      <th>follow_request_sent</th>\n",
       "      <th>protected</th>\n",
       "      <th>verified</th>\n",
       "      <th>notifications</th>\n",
       "      <th>description</th>\n",
       "      <th>contributors_enabled</th>\n",
       "      <th>following</th>\n",
       "      <th>created_at</th>\n",
       "    </tr>\n",
       "  </thead>\n",
       "  <tbody>\n",
       "    <tr>\n",
       "      <th>0</th>\n",
       "      <td>7248952</td>\n",
       "      <td>Bhuvan Chand</td>\n",
       "      <td>tarunkjuyal</td>\n",
       "      <td>1564</td>\n",
       "      <td>700</td>\n",
       "      <td>1809</td>\n",
       "      <td>8091</td>\n",
       "      <td>7</td>\n",
       "      <td>http://t.co/q2lx24LjWE</td>\n",
       "      <td>en</td>\n",
       "      <td>...</td>\n",
       "      <td>None</td>\n",
       "      <td>False</td>\n",
       "      <td>False</td>\n",
       "      <td>False</td>\n",
       "      <td>False</td>\n",
       "      <td>False</td>\n",
       "      <td>Love Your Life</td>\n",
       "      <td>False</td>\n",
       "      <td>False</td>\n",
       "      <td>2007-07-04 12:30:03</td>\n",
       "    </tr>\n",
       "  </tbody>\n",
       "</table>\n",
       "<p>1 rows × 36 columns</p>\n",
       "</div>"
      ],
      "text/plain": [
       "        id          name  screen_name  statuses_count  followers_count  \\\n",
       "0  7248952  Bhuvan Chand  tarunkjuyal            1564              700   \n",
       "\n",
       "   friends_count  favourites_count  listed_count                     url lang  \\\n",
       "0           1809              8091             7  http://t.co/q2lx24LjWE   en   \n",
       "\n",
       "          ...         utc_offset is_translator  follow_request_sent  \\\n",
       "0         ...               None         False                False   \n",
       "\n",
       "   protected  verified notifications     description contributors_enabled  \\\n",
       "0      False     False         False  Love Your Life                False   \n",
       "\n",
       "  following          created_at  \n",
       "0     False 2007-07-04 12:30:03  \n",
       "\n",
       "[1 rows x 36 columns]"
      ]
     },
     "execution_count": 10,
     "metadata": {},
     "output_type": "execute_result"
    }
   ],
   "source": [
    "users"
   ]
  },
  {
   "cell_type": "code",
   "execution_count": 13,
>>>>>>> 58a53adbdea4f8f75968f532783b5657e5c5104a
   "metadata": {},
   "outputs": [
    {
     "name": "stdout",
     "output_type": "stream",
     "text": [
<<<<<<< HEAD
      "4921/2000   ---   2823 working\n",
      "sleeping...\n"
=======
      "1502 / 1503   ---   errors: 332\n"
     ]
    }
   ],
   "source": [
    "i = 0\n",
    "error_ids_prop = []\n",
    "error_count = 0\n",
    "\n",
    "for row in ids[1:]:\n",
    "    i = i + 1\n",
    "    try:\n",
    "        user = api.get_user(row)\n",
    "        df2 = pd.DataFrame([[user.id,\n",
    "                            user.name,\n",
    "                            user.screen_name,\n",
    "                            user.statuses_count,\n",
    "                            user.followers_count,\n",
    "                            user.friends_count,\n",
    "                            user.favourites_count,\n",
    "                            user.listed_count,\n",
    "                            user.url,\n",
    "                            user.lang,\n",
    "                            user.time_zone,\n",
    "                            user.location,\n",
    "                            user.default_profile,\n",
    "                            user.default_profile_image,\n",
    "                            user.geo_enabled,\n",
    "                            user.profile_image_url,\n",
    "                            # user.profile_banner_url,\n",
    "                            user.profile_use_background_image,\n",
    "                            user.profile_background_image_url_https,\n",
    "                            user.profile_text_color,\n",
    "                            user.profile_image_url_https,\n",
    "                            user.profile_sidebar_border_color,\n",
    "                            user.profile_background_tile,\n",
    "                            user.profile_sidebar_fill_color,\n",
    "                            user.profile_background_image_url,\n",
    "                            user.profile_background_color,\n",
    "                            user.profile_link_color,\n",
    "                            user.utc_offset,\n",
    "                            user.is_translator,\n",
    "                            user.follow_request_sent,\n",
    "                            user.protected,\n",
    "                            user.verified,\n",
    "                            user.notifications,\n",
    "                            user.description,\n",
    "                            user.contributors_enabled,\n",
    "                            user.following,\n",
    "                            user.created_at]],\n",
    "                            columns=[\"id\",\"name\",\"screen_name\",\"statuses_count\",\"followers_count\",\"friends_count\",\"favourites_count\",\"listed_count\",\"url\",\"lang\",\"time_zone\",\"location\",\"default_profile\",\"default_profile_image\",\"geo_enabled\",\"profile_image_url\",\"profile_use_background_image\",\"profile_background_image_url_https\",\"profile_text_color\",\"profile_image_url_https\",\"profile_sidebar_border_color\",\"profile_background_tile\",\"profile_sidebar_fill_color\",\"profile_background_image_url\",\"profile_background_color\",\"profile_link_color\",\"utc_offset\",\"is_translator\",\"follow_request_sent\",\"protected\",\"verified\",\"notifications\",\"description\",\"contributors_enabled\",\"following\",\"created_at\"]\n",
    "                          )\n",
    "        users = users.append(df2, ignore_index=True, verify_integrity=False)\n",
    "    except:\n",
    "        error_ids_prop.append(row)\n",
    "        error_count += 1\n",
    "        \n",
    "    clear_output()\n",
    "    print(str(i) + \" / \" + str(len(ids)) + '   ---   errors: ' + str(error_count))\n",
    "    \n",
    "    if i % 502 == 0:\n",
    "        print('sleeping...')\n",
    "        time.sleep(900)"
   ]
  },
  {
   "cell_type": "code",
   "execution_count": 14,
   "metadata": {},
   "outputs": [
    {
     "data": {
      "text/plain": [
       "1171"
      ]
     },
     "execution_count": 14,
     "metadata": {},
     "output_type": "execute_result"
    }
   ],
   "source": [
    "len(users)"
   ]
  },
  {
   "cell_type": "code",
   "execution_count": 15,
   "metadata": {},
   "outputs": [],
   "source": [
    "users.to_csv('data/spam_users2.csv', index=False, encoding='utf-8-sig')"
   ]
  },
  {
   "cell_type": "markdown",
   "metadata": {},
   "source": [
    "### Tweets"
   ]
  },
  {
   "cell_type": "code",
   "execution_count": 16,
   "metadata": {},
   "outputs": [],
   "source": [
    "ids = users['id'].tolist()"
   ]
  },
  {
   "cell_type": "code",
   "execution_count": 19,
   "metadata": {},
   "outputs": [
    {
     "name": "stdout",
     "output_type": "stream",
     "text": [
      "1171 / 1171   ---   errors: 10\n"
>>>>>>> 58a53adbdea4f8f75968f532783b5657e5c5104a
     ]
    }
   ],
   "source": [
<<<<<<< HEAD
    "tot = 2000\n",
    "work = 0\n",
    "\n",
    "for i in range(4,10):\n",
    "    start = i * 500\n",
    "    \n",
    "    if i != 9:\n",
    "        stop = (i+1) * 500\n",
    "    else:\n",
    "        stop = len(ids)        \n",
    "        \n",
    "    for id in ids[start:stop]:\n",
    "\n",
    "        tot += 1\n",
    "        try:\n",
    "            api.get_user(id)\n",
    "            working_ids.append(id)\n",
    "            work += 1\n",
    "\n",
    "        except:\n",
    "            pass\n",
    "\n",
    "        clear_output()\n",
    "        print str(tot) + '/' + str(2000) + '   ---   ' + str(work) + ' working'\n",
    "        \n",
    "    print 'sleeping...'\n",
    "    time.sleep(600)"
=======
    "tweets = []\n",
    "cont, errors = 0, 0\n",
    "\n",
    "for user in ids:\n",
    "    try:\n",
    "        stuff = api.user_timeline(user_id = user, count = 100, include_rts = True, tweet_mode=\"extended\")\n",
    "        #tweet.is_quote_status indica se nel tweet c'è il riferimento ad un altro tweet\n",
    "\n",
    "        for tweet in stuff:\n",
    "            tweet._json['user_id'] = tweet._json['user']['id']\n",
    "            if len(tweet._json['entities']['urls']) != 0:\n",
    "                tweet._json['url'] = tweet._json['entities']['urls'][0]['expanded_url']\n",
    "            else:\n",
    "                 tweet._json['url'] = None\n",
    "            del tweet._json['user'], tweet._json['entities']\n",
    "\n",
    "            tweets.append(tweet._json)\n",
    "    except:\n",
    "        errors += 1\n",
    "    cont += 1\n",
    "    clear_output()\n",
    "    print(str(cont) + ' / 1171   ---   errors: ' + str(errors))\n",
    "    \n",
    "    if cont % 500 == 0:\n",
    "        #path = 'spam_tweets_' + str(cont-500) + '-' + str(cont) + '.tw'\n",
    "        #pickle.dump( tweets, open( path , \"wb\" ) )\n",
    "        #tweets = []\n",
    "        print ('sleeping...')\n",
    "        time.sleep(900)\n",
    "        \n",
    "#path = 'spam_tweets_3500-3777.tw'\n",
    "#pickle.dump( tweets, open( path , \"wb\" ) )"
   ]
  },
  {
   "cell_type": "code",
   "execution_count": 30,
   "metadata": {},
   "outputs": [
    {
     "name": "stdout",
     "output_type": "stream",
     "text": [
      "spam_tweets_0-500.tw\n",
      "spam_tweets_500-1000.tw\n"
     ]
    },
    {
     "name": "stderr",
     "output_type": "stream",
     "text": [
      "/home/matteo/.local/lib/python2.7/site-packages/pandas/core/frame.py:6211: FutureWarning: Sorting because non-concatenation axis is not aligned. A future version\n",
      "of pandas will change to not sort by default.\n",
      "\n",
      "To accept the future behavior, pass 'sort=False'.\n",
      "\n",
      "To retain the current behavior and silence the warning, pass 'sort=True'.\n",
      "\n",
      "  sort=sort)\n"
     ]
    },
    {
     "name": "stdout",
     "output_type": "stream",
     "text": [
      "spam_tweets_1000-1500.tw\n",
      "spam_tweets_1500-2000.tw\n",
      "spam_tweets_2000-2500.tw\n",
      "spam_tweets_2500-3000.tw\n",
      "spam_tweets_3000-3500.tw\n"
     ]
    }
   ],
   "source": [
    "tweets = pickle.load( open( \"spam_tweets_3500-3777.tw\", \"rb\" ) )\n",
    "tweets_df = pd.DataFrame.from_dict(tweets)\n",
    "\n",
    "for i in range(7):\n",
    "    \n",
    "    path = 'spam_tweets_' + str(i*500) + '-' + str((i+1)*500) + '.tw'\n",
    "    print path\n",
    "    tweets = pickle.load( open( path, \"rb\" ) )\n",
    "    df = pd.DataFrame.from_dict(tweets)\n",
    "    \n",
    "    tweets_df = tweets_df.append(df, ignore_index=True)"
   ]
  },
  {
   "cell_type": "code",
   "execution_count": 20,
   "metadata": {},
   "outputs": [],
   "source": [
    "tweets_df = pd.DataFrame.from_dict(tweets)"
   ]
  },
  {
   "cell_type": "code",
   "execution_count": 22,
   "metadata": {},
   "outputs": [],
   "source": [
    "# rimuove tutte le interruzioni (spero)\n",
    "\n",
    "tweets_df['full_text'] = tweets_df['full_text'].apply(lambda x: x.replace('\\r', ' '))\n",
    "tweets_df['full_text'] = tweets_df['full_text'].apply(lambda x: x.replace('\\n', ' '))\n",
    "tweets_df['full_text'] = tweets_df['full_text'].apply(lambda x: x.replace('\\t', ' '))"
   ]
  },
  {
   "cell_type": "code",
   "execution_count": 23,
   "metadata": {},
   "outputs": [],
   "source": [
    "tweets_df.to_csv('data/spam_tweets2.csv', index=False, sep='\\t', encoding='utf-8-sig')"
   ]
  },
  {
   "cell_type": "markdown",
   "metadata": {},
   "source": [
    "## Fake followers"
   ]
  },
  {
   "cell_type": "markdown",
   "metadata": {},
   "source": [
    "### Users"
   ]
  },
  {
   "cell_type": "code",
   "execution_count": 15,
   "metadata": {},
   "outputs": [],
   "source": [
    "ids = []\n",
    "\n",
    "ids.append(pd.read_csv('data/ff/users.csv')['id'].tolist())\n",
    "ids = [x for l in ids for x in l]"
   ]
  },
  {
   "cell_type": "code",
   "execution_count": 16,
   "metadata": {},
   "outputs": [],
   "source": [
    "user = api.get_user(ids[0])\n",
    "\n",
    "users = pd.DataFrame([[user.id,\n",
    "                    user.name,\n",
    "                    user.screen_name,\n",
    "                    user.statuses_count,\n",
    "                    user.followers_count,\n",
    "                    user.friends_count,\n",
    "                    user.favourites_count,\n",
    "                    user.listed_count,\n",
    "                    user.url,\n",
    "                    user.lang,\n",
    "                    user.time_zone,\n",
    "                    user.location,\n",
    "                    user.default_profile,\n",
    "                    user.default_profile_image,\n",
    "                    user.geo_enabled,\n",
    "                    user.profile_image_url,\n",
    "                    #user.profile_banner_url,\n",
    "                    user.profile_use_background_image,\n",
    "                    user.profile_background_image_url_https,\n",
    "                    user.profile_text_color,\n",
    "                    user.profile_image_url_https,\n",
    "                    user.profile_sidebar_border_color,\n",
    "                    user.profile_background_tile,\n",
    "                    user.profile_sidebar_fill_color,\n",
    "                    user.profile_background_image_url,\n",
    "                    user.profile_background_color,\n",
    "                    user.profile_link_color,\n",
    "                    user.utc_offset,\n",
    "                    user.is_translator,\n",
    "                    user.follow_request_sent,\n",
    "                    user.protected,\n",
    "                    user.verified,\n",
    "                    user.notifications,\n",
    "                    user.description,\n",
    "                    user.contributors_enabled,\n",
    "                    user.following,\n",
    "                    user.created_at]],\n",
    "                    columns=[\"id\",\"name\",\"screen_name\",\"statuses_count\",\"followers_count\",\"friends_count\",\"favourites_count\",\"listed_count\",\"url\",\"lang\",\"time_zone\",\"location\",\"default_profile\",\"default_profile_image\",\"geo_enabled\",\"profile_image_url\",\"profile_use_background_image\",\"profile_background_image_url_https\",\"profile_text_color\",\"profile_image_url_https\",\"profile_sidebar_border_color\",\"profile_background_tile\",\"profile_sidebar_fill_color\",\"profile_background_image_url\",\"profile_background_color\",\"profile_link_color\",\"utc_offset\",\"is_translator\",\"follow_request_sent\",\"protected\",\"verified\",\"notifications\",\"description\",\"contributors_enabled\",\"following\",\"created_at\"]\n",
    "                  )"
   ]
  },
  {
   "cell_type": "code",
   "execution_count": 17,
   "metadata": {},
   "outputs": [
    {
     "name": "stdout",
     "output_type": "stream",
     "text": [
      "3350 / 3351   ---   errors: 2517\n"
     ]
    }
   ],
   "source": [
    "i = 0\n",
    "error_ids_prop = []\n",
    "error_count = 0\n",
    "\n",
    "for row in ids[1:]:\n",
    "    i = i + 1\n",
    "    try:\n",
    "        user = api.get_user(row)\n",
    "        df2 = pd.DataFrame([[user.id,\n",
    "                            user.name,\n",
    "                            user.screen_name,\n",
    "                            user.statuses_count,\n",
    "                            user.followers_count,\n",
    "                            user.friends_count,\n",
    "                            user.favourites_count,\n",
    "                            user.listed_count,\n",
    "                            user.url,\n",
    "                            user.lang,\n",
    "                            user.time_zone,\n",
    "                            user.location,\n",
    "                            user.default_profile,\n",
    "                            user.default_profile_image,\n",
    "                            user.geo_enabled,\n",
    "                            user.profile_image_url,\n",
    "                            # user.profile_banner_url,\n",
    "                            user.profile_use_background_image,\n",
    "                            user.profile_background_image_url_https,\n",
    "                            user.profile_text_color,\n",
    "                            user.profile_image_url_https,\n",
    "                            user.profile_sidebar_border_color,\n",
    "                            user.profile_background_tile,\n",
    "                            user.profile_sidebar_fill_color,\n",
    "                            user.profile_background_image_url,\n",
    "                            user.profile_background_color,\n",
    "                            user.profile_link_color,\n",
    "                            user.utc_offset,\n",
    "                            user.is_translator,\n",
    "                            user.follow_request_sent,\n",
    "                            user.protected,\n",
    "                            user.verified,\n",
    "                            user.notifications,\n",
    "                            user.description,\n",
    "                            user.contributors_enabled,\n",
    "                            user.following,\n",
    "                            user.created_at]],\n",
    "                            columns=[\"id\",\"name\",\"screen_name\",\"statuses_count\",\"followers_count\",\"friends_count\",\"favourites_count\",\"listed_count\",\"url\",\"lang\",\"time_zone\",\"location\",\"default_profile\",\"default_profile_image\",\"geo_enabled\",\"profile_image_url\",\"profile_use_background_image\",\"profile_background_image_url_https\",\"profile_text_color\",\"profile_image_url_https\",\"profile_sidebar_border_color\",\"profile_background_tile\",\"profile_sidebar_fill_color\",\"profile_background_image_url\",\"profile_background_color\",\"profile_link_color\",\"utc_offset\",\"is_translator\",\"follow_request_sent\",\"protected\",\"verified\",\"notifications\",\"description\",\"contributors_enabled\",\"following\",\"created_at\"]\n",
    "                          )\n",
    "        users = users.append(df2, ignore_index=True, verify_integrity=False)\n",
    "    except:\n",
    "        error_ids_prop.append(row)\n",
    "        error_count += 1\n",
    "        \n",
    "    clear_output()\n",
    "    print(str(i) + \" / \" + str(len(ids)) + '   ---   errors: ' + str(error_count))\n",
    "    \n",
    "    if i % 500 == 0:\n",
    "        print 'sleeping...'\n",
    "        time.sleep(900)"
>>>>>>> 58a53adbdea4f8f75968f532783b5657e5c5104a
   ]
  },
  {
   "cell_type": "code",
<<<<<<< HEAD
   "execution_count": 36,
   "metadata": {},
   "outputs": [],
   "source": [
    "working_ids = list(set(working_ids))"
=======
   "execution_count": 18,
   "metadata": {},
   "outputs": [
    {
     "data": {
      "text/plain": [
       "834"
      ]
     },
     "execution_count": 18,
     "metadata": {},
     "output_type": "execute_result"
    }
   ],
   "source": [
    "len(users)"
   ]
  },
  {
   "cell_type": "code",
   "execution_count": 19,
   "metadata": {},
   "outputs": [],
   "source": [
    "users.to_csv('data/ff_users.csv', index=False, encoding='utf-8-sig')"
   ]
  },
  {
   "cell_type": "markdown",
   "metadata": {},
   "source": [
    "### Tweets"
>>>>>>> 58a53adbdea4f8f75968f532783b5657e5c5104a
   ]
  },
  {
   "cell_type": "code",
<<<<<<< HEAD
   "execution_count": 38,
   "metadata": {},
   "outputs": [],
   "source": [
    "df = pd.DataFrame(working_ids)"
=======
   "execution_count": 20,
   "metadata": {},
   "outputs": [],
   "source": [
    "ids = users['id'].tolist()"
>>>>>>> 58a53adbdea4f8f75968f532783b5657e5c5104a
   ]
  },
  {
   "cell_type": "code",
<<<<<<< HEAD
   "execution_count": 40,
   "metadata": {},
   "outputs": [],
   "source": [
    "df.to_csv('data/cresci_spambots_ids.csv', index=False)"
=======
   "execution_count": 21,
   "metadata": {},
   "outputs": [],
   "source": [
    "del users"
   ]
  },
  {
   "cell_type": "code",
   "execution_count": 22,
   "metadata": {},
   "outputs": [
    {
     "name": "stdout",
     "output_type": "stream",
     "text": [
      "834 / 834 ---   errors: 27\n"
     ]
    }
   ],
   "source": [
    "tweets = []\n",
    "cont, errors = 0, 0\n",
    "\n",
    "for user in ids:\n",
    "    try:\n",
    "        stuff = api.user_timeline(user_id = user, count = 100, include_rts = True, tweet_mode=\"extended\")\n",
    "        #tweet.is_quote_status indica se nel tweet c'è il riferimento ad un altro tweet\n",
    "\n",
    "        for tweet in stuff:\n",
    "            tweet._json['user_id'] = tweet._json['user']['id']\n",
    "            if len(tweet._json['entities']['urls']) != 0:\n",
    "                tweet._json['url'] = tweet._json['entities']['urls'][0]['expanded_url']\n",
    "            else:\n",
    "                 tweet._json['url'] = None\n",
    "            del tweet._json['user'], tweet._json['entities']\n",
    "\n",
    "            tweets.append(tweet._json)\n",
    "    except:\n",
    "        errors += 1\n",
    "    cont += 1\n",
    "    clear_output()\n",
    "    print(str(cont) + ' / ' + str(len(ids)) + ' ---   errors: ' + str(errors))\n",
    "    \n",
    "    if cont % 500 == 0:\n",
    "        path = 'ff_tweets_' + str(cont-500) + '-' + str(cont) + '.tw'\n",
    "        pickle.dump( tweets, open( path , \"wb\" ) )\n",
    "        tweets = []\n",
    "        print 'sleeping...'\n",
    "        time.sleep(900)\n",
    "        \n",
    "path = 'ff_tweets_3000-' + str(len(ids)) + '.tw'\n",
    "pickle.dump( tweets, open( path , \"wb\" ) )"
   ]
  },
  {
   "cell_type": "code",
   "execution_count": 23,
   "metadata": {},
   "outputs": [
    {
     "name": "stdout",
     "output_type": "stream",
     "text": [
      "ff_tweets_0-500.tw\n",
      "ff_tweets_500-1000.tw\n"
     ]
    },
    {
     "ename": "IOError",
     "evalue": "[Errno 2] No such file or directory: 'ff_tweets_500-1000.tw'",
     "output_type": "error",
     "traceback": [
      "\u001b[0;31m---------------------------------------------------------------------------\u001b[0m",
      "\u001b[0;31mIOError\u001b[0m                                   Traceback (most recent call last)",
      "\u001b[0;32m<ipython-input-23-72de003c1689>\u001b[0m in \u001b[0;36m<module>\u001b[0;34m()\u001b[0m\n\u001b[1;32m      6\u001b[0m     \u001b[0mpath\u001b[0m \u001b[0;34m=\u001b[0m \u001b[0;34m'ff_tweets_'\u001b[0m \u001b[0;34m+\u001b[0m \u001b[0mstr\u001b[0m\u001b[0;34m(\u001b[0m\u001b[0mi\u001b[0m\u001b[0;34m*\u001b[0m\u001b[0;36m500\u001b[0m\u001b[0;34m)\u001b[0m \u001b[0;34m+\u001b[0m \u001b[0;34m'-'\u001b[0m \u001b[0;34m+\u001b[0m \u001b[0mstr\u001b[0m\u001b[0;34m(\u001b[0m\u001b[0;34m(\u001b[0m\u001b[0mi\u001b[0m\u001b[0;34m+\u001b[0m\u001b[0;36m1\u001b[0m\u001b[0;34m)\u001b[0m\u001b[0;34m*\u001b[0m\u001b[0;36m500\u001b[0m\u001b[0;34m)\u001b[0m \u001b[0;34m+\u001b[0m \u001b[0;34m'.tw'\u001b[0m\u001b[0;34m\u001b[0m\u001b[0m\n\u001b[1;32m      7\u001b[0m     \u001b[0;32mprint\u001b[0m \u001b[0mpath\u001b[0m\u001b[0;34m\u001b[0m\u001b[0m\n\u001b[0;32m----> 8\u001b[0;31m     \u001b[0mtweets\u001b[0m \u001b[0;34m=\u001b[0m \u001b[0mpickle\u001b[0m\u001b[0;34m.\u001b[0m\u001b[0mload\u001b[0m\u001b[0;34m(\u001b[0m \u001b[0mopen\u001b[0m\u001b[0;34m(\u001b[0m \u001b[0mpath\u001b[0m\u001b[0;34m,\u001b[0m \u001b[0;34m\"rb\"\u001b[0m \u001b[0;34m)\u001b[0m \u001b[0;34m)\u001b[0m\u001b[0;34m\u001b[0m\u001b[0m\n\u001b[0m\u001b[1;32m      9\u001b[0m     \u001b[0mdf\u001b[0m \u001b[0;34m=\u001b[0m \u001b[0mpd\u001b[0m\u001b[0;34m.\u001b[0m\u001b[0mDataFrame\u001b[0m\u001b[0;34m.\u001b[0m\u001b[0mfrom_dict\u001b[0m\u001b[0;34m(\u001b[0m\u001b[0mtweets\u001b[0m\u001b[0;34m)\u001b[0m\u001b[0;34m\u001b[0m\u001b[0m\n\u001b[1;32m     10\u001b[0m \u001b[0;34m\u001b[0m\u001b[0m\n",
      "\u001b[0;31mIOError\u001b[0m: [Errno 2] No such file or directory: 'ff_tweets_500-1000.tw'"
     ]
    }
   ],
   "source": [
    "tweets = pickle.load( open( 'ff_tweets_3000-' + str(len(ids)) + '.tw', \"rb\" ) )\n",
    "tweets_df = pd.DataFrame.from_dict(tweets)\n",
    "\n",
    "for i in range(6):\n",
    "    \n",
    "    path = 'ff_tweets_' + str(i*500) + '-' + str((i+1)*500) + '.tw'\n",
    "    print path\n",
    "    tweets = pickle.load( open( path, \"rb\" ) )\n",
    "    df = pd.DataFrame.from_dict(tweets)\n",
    "    \n",
    "    tweets_df = tweets_df.append(df, ignore_index=True)"
   ]
  },
  {
   "cell_type": "code",
   "execution_count": null,
   "metadata": {},
   "outputs": [],
   "source": [
    "# rimuove tutte le interruzioni (spero)\n",
    "\n",
    "tweets_df['full_text'] = tweets_df['full_text'].apply(lambda x: x.replace('\\r', ' '))\n",
    "tweets_df['full_text'] = tweets_df['full_text'].apply(lambda x: x.replace('\\n', ' '))\n",
    "tweets_df['full_text'] = tweets_df['full_text'].apply(lambda x: x.replace('\\t', ' '))"
   ]
  },
  {
   "cell_type": "code",
   "execution_count": null,
   "metadata": {},
   "outputs": [],
   "source": [
    "tweets_df.to_csv('data/ff_tweets.csv', index=False, sep='\\t', encoding='utf-8-sig')"
   ]
  },
  {
   "cell_type": "markdown",
   "metadata": {},
   "source": [
    "## Genuine"
   ]
  },
  {
   "cell_type": "markdown",
   "metadata": {},
   "source": [
    "### Users"
   ]
  },
  {
   "cell_type": "code",
   "execution_count": 6,
   "metadata": {},
   "outputs": [],
   "source": [
    "ids = []\n",
    "\n",
    "ids.append(pd.read_csv('data/genuine/users.csv')['id'].tolist())\n",
    "ids = [x for l in ids for x in l]"
   ]
  },
  {
   "cell_type": "code",
   "execution_count": 7,
   "metadata": {},
   "outputs": [],
   "source": [
    "user = api.get_user(ids[0])\n",
    "\n",
    "users = pd.DataFrame([[user.id,\n",
    "                    user.name,\n",
    "                    user.screen_name,\n",
    "                    user.statuses_count,\n",
    "                    user.followers_count,\n",
    "                    user.friends_count,\n",
    "                    user.favourites_count,\n",
    "                    user.listed_count,\n",
    "                    user.url,\n",
    "                    user.lang,\n",
    "                    user.time_zone,\n",
    "                    user.location,\n",
    "                    user.default_profile,\n",
    "                    user.default_profile_image,\n",
    "                    user.geo_enabled,\n",
    "                    user.profile_image_url,\n",
    "                    #user.profile_banner_url,\n",
    "                    user.profile_use_background_image,\n",
    "                    user.profile_background_image_url_https,\n",
    "                    user.profile_text_color,\n",
    "                    user.profile_image_url_https,\n",
    "                    user.profile_sidebar_border_color,\n",
    "                    user.profile_background_tile,\n",
    "                    user.profile_sidebar_fill_color,\n",
    "                    user.profile_background_image_url,\n",
    "                    user.profile_background_color,\n",
    "                    user.profile_link_color,\n",
    "                    user.utc_offset,\n",
    "                    user.is_translator,\n",
    "                    user.follow_request_sent,\n",
    "                    user.protected,\n",
    "                    user.verified,\n",
    "                    user.notifications,\n",
    "                    user.description,\n",
    "                    user.contributors_enabled,\n",
    "                    user.following,\n",
    "                    user.created_at]],\n",
    "                    columns=[\"id\",\"name\",\"screen_name\",\"statuses_count\",\"followers_count\",\"friends_count\",\"favourites_count\",\"listed_count\",\"url\",\"lang\",\"time_zone\",\"location\",\"default_profile\",\"default_profile_image\",\"geo_enabled\",\"profile_image_url\",\"profile_use_background_image\",\"profile_background_image_url_https\",\"profile_text_color\",\"profile_image_url_https\",\"profile_sidebar_border_color\",\"profile_background_tile\",\"profile_sidebar_fill_color\",\"profile_background_image_url\",\"profile_background_color\",\"profile_link_color\",\"utc_offset\",\"is_translator\",\"follow_request_sent\",\"protected\",\"verified\",\"notifications\",\"description\",\"contributors_enabled\",\"following\",\"created_at\"]\n",
    "                  )"
   ]
  },
  {
   "cell_type": "code",
   "execution_count": 8,
   "metadata": {},
   "outputs": [
    {
     "data": {
      "text/html": [
       "<div>\n",
       "<style scoped>\n",
       "    .dataframe tbody tr th:only-of-type {\n",
       "        vertical-align: middle;\n",
       "    }\n",
       "\n",
       "    .dataframe tbody tr th {\n",
       "        vertical-align: top;\n",
       "    }\n",
       "\n",
       "    .dataframe thead th {\n",
       "        text-align: right;\n",
       "    }\n",
       "</style>\n",
       "<table border=\"1\" class=\"dataframe\">\n",
       "  <thead>\n",
       "    <tr style=\"text-align: right;\">\n",
       "      <th></th>\n",
       "      <th>id</th>\n",
       "      <th>name</th>\n",
       "      <th>screen_name</th>\n",
       "      <th>statuses_count</th>\n",
       "      <th>followers_count</th>\n",
       "      <th>friends_count</th>\n",
       "      <th>favourites_count</th>\n",
       "      <th>listed_count</th>\n",
       "      <th>url</th>\n",
       "      <th>lang</th>\n",
       "      <th>...</th>\n",
       "      <th>utc_offset</th>\n",
       "      <th>is_translator</th>\n",
       "      <th>follow_request_sent</th>\n",
       "      <th>protected</th>\n",
       "      <th>verified</th>\n",
       "      <th>notifications</th>\n",
       "      <th>description</th>\n",
       "      <th>contributors_enabled</th>\n",
       "      <th>following</th>\n",
       "      <th>created_at</th>\n",
       "    </tr>\n",
       "  </thead>\n",
       "  <tbody>\n",
       "    <tr>\n",
       "      <th>0</th>\n",
       "      <td>1502026416</td>\n",
       "      <td>早川援</td>\n",
       "      <td>0918Bask</td>\n",
       "      <td>3751</td>\n",
       "      <td>276</td>\n",
       "      <td>343</td>\n",
       "      <td>641</td>\n",
       "      <td>0</td>\n",
       "      <td>None</td>\n",
       "      <td>ja</td>\n",
       "      <td>...</td>\n",
       "      <td>None</td>\n",
       "      <td>False</td>\n",
       "      <td>False</td>\n",
       "      <td>False</td>\n",
       "      <td>False</td>\n",
       "      <td>False</td>\n",
       "      <td></td>\n",
       "      <td>False</td>\n",
       "      <td>False</td>\n",
       "      <td>2013-06-11 11:20:35</td>\n",
       "    </tr>\n",
       "  </tbody>\n",
       "</table>\n",
       "<p>1 rows × 36 columns</p>\n",
       "</div>"
      ],
      "text/plain": [
       "           id name screen_name  statuses_count  followers_count  \\\n",
       "0  1502026416  早川援    0918Bask            3751              276   \n",
       "\n",
       "   friends_count  favourites_count  listed_count   url lang  \\\n",
       "0            343               641             0  None   ja   \n",
       "\n",
       "          ...         utc_offset is_translator  follow_request_sent  \\\n",
       "0         ...               None         False                False   \n",
       "\n",
       "   protected  verified notifications  description contributors_enabled  \\\n",
       "0      False     False         False                             False   \n",
       "\n",
       "  following          created_at  \n",
       "0     False 2013-06-11 11:20:35  \n",
       "\n",
       "[1 rows x 36 columns]"
      ]
     },
     "execution_count": 8,
     "metadata": {},
     "output_type": "execute_result"
    }
   ],
   "source": [
    "users"
   ]
  },
  {
   "cell_type": "code",
   "execution_count": 9,
   "metadata": {},
   "outputs": [
    {
     "name": "stdout",
     "output_type": "stream",
     "text": [
      "3473 / 3474   ---   errors: 359\n"
     ]
    }
   ],
   "source": [
    "i = 0\n",
    "error_ids_prop = []\n",
    "error_count = 0\n",
    "\n",
    "for row in ids[1:]:\n",
    "    i = i + 1\n",
    "    try:\n",
    "        user = api.get_user(row)\n",
    "        df2 = pd.DataFrame([[user.id,\n",
    "                            user.name,\n",
    "                            user.screen_name,\n",
    "                            user.statuses_count,\n",
    "                            user.followers_count,\n",
    "                            user.friends_count,\n",
    "                            user.favourites_count,\n",
    "                            user.listed_count,\n",
    "                            user.url,\n",
    "                            user.lang,\n",
    "                            user.time_zone,\n",
    "                            user.location,\n",
    "                            user.default_profile,\n",
    "                            user.default_profile_image,\n",
    "                            user.geo_enabled,\n",
    "                            user.profile_image_url,\n",
    "                            # user.profile_banner_url,\n",
    "                            user.profile_use_background_image,\n",
    "                            user.profile_background_image_url_https,\n",
    "                            user.profile_text_color,\n",
    "                            user.profile_image_url_https,\n",
    "                            user.profile_sidebar_border_color,\n",
    "                            user.profile_background_tile,\n",
    "                            user.profile_sidebar_fill_color,\n",
    "                            user.profile_background_image_url,\n",
    "                            user.profile_background_color,\n",
    "                            user.profile_link_color,\n",
    "                            user.utc_offset,\n",
    "                            user.is_translator,\n",
    "                            user.follow_request_sent,\n",
    "                            user.protected,\n",
    "                            user.verified,\n",
    "                            user.notifications,\n",
    "                            user.description,\n",
    "                            user.contributors_enabled,\n",
    "                            user.following,\n",
    "                            user.created_at]],\n",
    "                            columns=[\"id\",\"name\",\"screen_name\",\"statuses_count\",\"followers_count\",\"friends_count\",\"favourites_count\",\"listed_count\",\"url\",\"lang\",\"time_zone\",\"location\",\"default_profile\",\"default_profile_image\",\"geo_enabled\",\"profile_image_url\",\"profile_use_background_image\",\"profile_background_image_url_https\",\"profile_text_color\",\"profile_image_url_https\",\"profile_sidebar_border_color\",\"profile_background_tile\",\"profile_sidebar_fill_color\",\"profile_background_image_url\",\"profile_background_color\",\"profile_link_color\",\"utc_offset\",\"is_translator\",\"follow_request_sent\",\"protected\",\"verified\",\"notifications\",\"description\",\"contributors_enabled\",\"following\",\"created_at\"]\n",
    "                          )\n",
    "        users = users.append(df2, ignore_index=True, verify_integrity=False)\n",
    "    except:\n",
    "        error_ids_prop.append(row)\n",
    "        error_count += 1\n",
    "        \n",
    "    clear_output()\n",
    "    print(str(i) + \" / \" + str(len(ids)) + '   ---   errors: ' + str(error_count))\n",
    "    \n",
    "    if i % 500 == 0:\n",
    "        print 'sleeping...'\n",
    "        time.sleep(900)"
   ]
  },
  {
   "cell_type": "code",
   "execution_count": 15,
   "metadata": {},
   "outputs": [
    {
     "data": {
      "text/plain": [
       "3115"
      ]
     },
     "execution_count": 15,
     "metadata": {},
     "output_type": "execute_result"
    }
   ],
   "source": [
    "len(users)"
   ]
  },
  {
   "cell_type": "code",
   "execution_count": 11,
   "metadata": {},
   "outputs": [],
   "source": [
    "users.to_csv('data/genuine_users.csv', index=False, encoding='utf-8-sig')"
   ]
  },
  {
   "cell_type": "markdown",
   "metadata": {},
   "source": [
    "### Tweets"
   ]
  },
  {
   "cell_type": "code",
   "execution_count": 16,
   "metadata": {},
   "outputs": [],
   "source": [
    "ids = users['id'].tolist()"
   ]
  },
  {
   "cell_type": "code",
   "execution_count": 17,
   "metadata": {},
   "outputs": [],
   "source": [
    "del users"
   ]
  },
  {
   "cell_type": "code",
   "execution_count": null,
   "metadata": {},
   "outputs": [
    {
     "name": "stdout",
     "output_type": "stream",
     "text": [
      "1500 / 3115 ---   errors: 169\n",
      "sleeping...\n"
     ]
    }
   ],
   "source": [
    "tweets = []\n",
    "cont, errors = 0, 0\n",
    "\n",
    "for user in ids:\n",
    "    try:\n",
    "        stuff = api.user_timeline(user_id = user, count = 100, include_rts = True, tweet_mode=\"extended\")\n",
    "        #tweet.is_quote_status indica se nel tweet c'è il riferimento ad un altro tweet\n",
    "\n",
    "        for tweet in stuff:\n",
    "            tweet._json['user_id'] = tweet._json['user']['id']\n",
    "            if len(tweet._json['entities']['urls']) != 0:\n",
    "                tweet._json['url'] = tweet._json['entities']['urls'][0]['expanded_url']\n",
    "            else:\n",
    "                 tweet._json['url'] = None\n",
    "            del tweet._json['user'], tweet._json['entities']\n",
    "\n",
    "            tweets.append(tweet._json)\n",
    "    except:\n",
    "        errors += 1\n",
    "    cont += 1\n",
    "    clear_output()\n",
    "    print(str(cont) + ' / ' + str(len(ids)) + ' ---   errors: ' + str(errors))\n",
    "    \n",
    "    if cont % 500 == 0:\n",
    "        path = 'genuine_tweets_' + str(cont-500) + '-' + str(cont) + '.tw'\n",
    "        pickle.dump( tweets, open( path , \"wb\" ) )\n",
    "        tweets = []\n",
    "        print 'sleeping...'\n",
    "        time.sleep(900)\n",
    "        \n",
    "path = 'genuine_tweets_3000-' + str(len(ids)) + '.tw'\n",
    "pickle.dump( tweets, open( path , \"wb\" ) )"
   ]
  },
  {
   "cell_type": "code",
   "execution_count": null,
   "metadata": {},
   "outputs": [],
   "source": [
    "tweets = pickle.load( open( 'genuine_tweets_3000-' + str(len(ids)) + '.tw', \"rb\" ) )\n",
    "tweets_df = pd.DataFrame.from_dict(tweets)\n",
    "\n",
    "for i in range(6):\n",
    "    \n",
    "    path = 'genuine_tweets_' + str(i*500) + '-' + str((i+1)*500) + '.tw'\n",
    "    print path\n",
    "    tweets = pickle.load( open( path, \"rb\" ) )\n",
    "    df = pd.DataFrame.from_dict(tweets)\n",
    "    \n",
    "    tweets_df = tweets_df.append(df, ignore_index=True)"
   ]
  },
  {
   "cell_type": "code",
   "execution_count": null,
   "metadata": {},
   "outputs": [],
   "source": [
    "# rimuove tutte le interruzioni (spero)\n",
    "\n",
    "tweets_df['full_text'] = tweets_df['full_text'].apply(lambda x: x.replace('\\r', ' '))\n",
    "tweets_df['full_text'] = tweets_df['full_text'].apply(lambda x: x.replace('\\n', ' '))\n",
    "tweets_df['full_text'] = tweets_df['full_text'].apply(lambda x: x.replace('\\t', ' '))"
   ]
  },
  {
   "cell_type": "code",
   "execution_count": null,
   "metadata": {},
   "outputs": [],
   "source": [
    "tweets_df.to_csv('data/genuine_tweets.csv', index=False, sep='\\t', encoding='utf-8-sig')"
>>>>>>> 58a53adbdea4f8f75968f532783b5657e5c5104a
   ]
  }
 ],
 "metadata": {
  "kernelspec": {
<<<<<<< HEAD
   "display_name": "Python 2",
   "language": "python",
   "name": "python2"
=======
   "display_name": "Python 3",
   "language": "python",
   "name": "python3"
>>>>>>> 58a53adbdea4f8f75968f532783b5657e5c5104a
  },
  "language_info": {
   "codemirror_mode": {
    "name": "ipython",
    "version": 2
   },
   "file_extension": ".py",
   "mimetype": "text/x-python",
   "name": "python",
   "nbconvert_exporter": "python",
   "pygments_lexer": "ipython2",
   "version": "2.7.14"
  }
 },
 "nbformat": 4,
 "nbformat_minor": 2
}
