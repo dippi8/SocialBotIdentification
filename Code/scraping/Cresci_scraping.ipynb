{
 "cells": [
  {
   "cell_type": "markdown",
   "metadata": {},
   "source": [
    "# Cresci Scraping"
   ]
  },
  {
   "cell_type": "code",
   "execution_count": 23,
   "metadata": {},
   "outputs": [],
   "source": [
    "import pandas as pd\n",
    "import tweepy\n",
    "from IPython.display import clear_output\n",
    "import time"
   ]
  },
  {
   "cell_type": "code",
   "execution_count": 4,
   "metadata": {},
   "outputs": [],
   "source": [
    "# create connection with Twitter API\n",
    "\n",
    "CONSUMER_KEY = 'J3uhwWHdmSt3uD69ry8r2kc3B'\n",
    "CONSUMER_SECRET = 'LeuM7dVfFbXH0bc5fFkZIxlNiUXyjIx4Kcjh58HeWs2TrLijDx'\n",
    "ACCESS_TOKEN = '327497511-5dNjiGaTQHASljoxNr1qlMOlHrrSB21HBFBDjx2E'\n",
    "ACCESS_TOKEN_SECRET = 'tHLqwlhHYJWptW3femyq0rbMW6ZItu5yLQ3DFGJqJ8Xlg'\n",
    "\n",
    "auth = tweepy.OAuthHandler(CONSUMER_KEY, CONSUMER_SECRET)\n",
    "auth.set_access_token(ACCESS_TOKEN, ACCESS_TOKEN_SECRET)\n",
    "api = tweepy.API(auth)"
   ]
  },
  {
   "cell_type": "code",
   "execution_count": 5,
   "metadata": {},
   "outputs": [],
   "source": [
    "ids = []\n",
    "\n",
    "# traditional1, social2, social3\n",
    "\n",
    "ids.append(pd.read_csv('data/Cresci/traditional_spambots_1_users.csv')['id'].tolist())\n",
    "ids.append(pd.read_csv('data/Cresci/social_spambots_2_users.csv')['id'].tolist())\n",
    "ids.append(pd.read_csv('data/Cresci/social_spambots_3_users.csv')['id'].tolist())"
   ]
  },
  {
   "cell_type": "code",
   "execution_count": 6,
   "metadata": {},
   "outputs": [],
   "source": [
    "ids = [x for l in ids for x in l]"
   ]
  },
  {
   "cell_type": "code",
   "execution_count": null,
   "metadata": {},
   "outputs": [],
   "source": [
    "working_ids = []\n",
    "work, tot = 0, 0"
   ]
  },
  {
   "cell_type": "code",
   "execution_count": 24,
   "metadata": {},
   "outputs": [
    {
     "name": "stdout",
     "output_type": "stream",
     "text": [
      "4921/2000   ---   2823 working\n",
      "sleeping...\n"
     ]
    }
   ],
   "source": [
    "tot = 2000\n",
    "work = 0\n",
    "\n",
    "for i in range(4,10):\n",
    "    start = i * 500\n",
    "    \n",
    "    if i != 9:\n",
    "        stop = (i+1) * 500\n",
    "    else:\n",
    "        stop = len(ids)        \n",
    "        \n",
    "    for id in ids[start:stop]:\n",
    "\n",
    "        tot += 1\n",
    "        try:\n",
    "            api.get_user(id)\n",
    "            working_ids.append(id)\n",
    "            work += 1\n",
    "\n",
    "        except:\n",
    "            pass\n",
    "\n",
    "        clear_output()\n",
    "        print str(tot) + '/' + str(2000) + '   ---   ' + str(work) + ' working'\n",
    "        \n",
    "    print 'sleeping...'\n",
    "    time.sleep(600)"
   ]
  },
  {
   "cell_type": "code",
   "execution_count": 36,
   "metadata": {},
   "outputs": [],
   "source": [
    "working_ids = list(set(working_ids))"
   ]
  },
  {
   "cell_type": "code",
   "execution_count": 38,
   "metadata": {},
   "outputs": [],
   "source": [
    "df = pd.DataFrame(working_ids)"
   ]
  },
  {
   "cell_type": "code",
   "execution_count": 40,
   "metadata": {},
   "outputs": [],
   "source": [
    "df.to_csv('data/cresci_spambots_ids.csv', index=False)"
   ]
  }
 ],
 "metadata": {
  "kernelspec": {
   "display_name": "Python 3",
   "language": "python",
   "name": "python3"
  },
  "language_info": {
   "codemirror_mode": {
    "name": "ipython",
    "version": 3
   },
   "file_extension": ".py",
   "mimetype": "text/x-python",
   "name": "python",
   "nbconvert_exporter": "python",
   "pygments_lexer": "ipython3",
   "version": "3.6.5"
  }
 },
 "nbformat": 4,
 "nbformat_minor": 2
}
