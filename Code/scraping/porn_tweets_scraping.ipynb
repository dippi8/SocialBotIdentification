{
 "cells": [
  {
   "cell_type": "markdown",
   "metadata": {},
   "source": [
    "# Porn tweets scraping"
   ]
  },
  {
   "cell_type": "code",
   "execution_count": 2,
   "metadata": {},
   "outputs": [],
   "source": [
    "import time\n",
    "import tweepy\n",
    "import pandas as pd\n",
    "from IPython.display import clear_output\n",
    "import pickle"
   ]
  },
  {
   "cell_type": "code",
   "execution_count": 2,
   "metadata": {},
   "outputs": [],
   "source": [
    "# create connection with Twitter API\n",
    "\n",
    "CONSUMER_KEY = 'GeWIh6LTIiPd2mgMh4PhesKkX'\n",
    "CONSUMER_SECRET = 'BjfHQp3T6XY3esXtYWo7mEh58zUd4v7USruqT1brFTXC0qOUYF'\n",
    "ACCESS_TOKEN = '973862126216499200-tr3zhK2hOHnnhqegZMviFpoUj3T9nHa'\n",
    "ACCESS_TOKEN_SECRET = 'LuHRMgpoGT3kjR95z8XPuafllrCaWRHyu86Pdru4zdATD'\n",
    "\n",
    "auth = tweepy.OAuthHandler(CONSUMER_KEY, CONSUMER_SECRET)\n",
    "auth.set_access_token(ACCESS_TOKEN, ACCESS_TOKEN_SECRET)\n",
    "api = tweepy.API(auth)"
   ]
  },
  {
   "cell_type": "code",
   "execution_count": 3,
   "metadata": {},
   "outputs": [],
   "source": [
<<<<<<< HEAD
    "porn_bots = pd.read_csv('../classification/data/porn/users.csv')['id'].tolist()"
=======
    "porn_bots = pd.read_csv('porn_user2.csv')['id'].tolist()"
>>>>>>> 58a53adbdea4f8f75968f532783b5657e5c5104a
   ]
  },
  {
   "cell_type": "code",
   "execution_count": 4,
   "metadata": {},
   "outputs": [],
   "source": [
    "porn_bots = [int(x) for x in porn_bots]"
   ]
  },
  {
   "cell_type": "code",
   "execution_count": 5,
   "metadata": {},
   "outputs": [
    {
     "data": {
      "text/plain": [
       "3121"
      ]
     },
     "execution_count": 5,
     "metadata": {},
     "output_type": "execute_result"
    }
   ],
   "source": [
    "len(porn_bots)"
   ]
  },
  {
   "cell_type": "code",
   "execution_count": 7,
   "metadata": {},
   "outputs": [
    {
     "name": "stdout",
     "output_type": "stream",
     "text": [
<<<<<<< HEAD
      "6919 / 6919   ---   errors: 394\n"
=======
      "3121 / 3121   ---   errors: 251\n"
>>>>>>> 58a53adbdea4f8f75968f532783b5657e5c5104a
     ]
    }
   ],
   "source": [
    "tweets = []\n",
    "window = 300\n",
    "cont, errors = 0, 0\n",
    "\n",
    "for user in porn_bots:\n",
    "    try:\n",
    "        stuff = api.user_timeline(user_id = user, count = 100, include_rts = True, tweet_mode=\"extended\")\n",
    "        #tweet.is_quote_status indica se nel tweet c'è il riferimento ad un altro tweet\n",
    "\n",
    "        for tweet in stuff:\n",
    "            tweet._json['user_id'] = tweet._json['user']['id']\n",
    "            if len(tweet._json['entities']['urls']) != 0:\n",
    "                tweet._json['url'] = tweet._json['entities']['urls'][0]['expanded_url']\n",
    "            else:\n",
    "                 tweet._json['url'] = None\n",
    "            del tweet._json['user'], tweet._json['entities']\n",
    "\n",
    "            tweets.append(tweet._json)\n",
    "    except:\n",
    "        errors += 1\n",
    "    cont += 1\n",
    "    clear_output()\n",
<<<<<<< HEAD
    "    print(str(cont) + ' / ' + str(len(porn_bots)) + '   ---   errors: ' + str(errors))\n",
=======
    "    print(str(cont) + ' / 3121   ---   errors: ' + str(errors))\n",
>>>>>>> 58a53adbdea4f8f75968f532783b5657e5c5104a
    "    \n",
    "    if cont % window == 0:\n",
    "        path = 'porn_tweets_' + str(cont-window) + '-' + str(cont) + '.tw'\n",
    "        pickle.dump( tweets, open( path , \"wb\" ) )\n",
    "        tweets = []\n",
    "        print ('sleeping...')\n",
    "        time.sleep(900)"
   ]
  },
  {
   "cell_type": "code",
<<<<<<< HEAD
   "execution_count": 10,
   "metadata": {},
   "outputs": [],
   "source": [
    "path = '../classification/data/porn/porn_tweets_6919.tw'\n",
=======
   "execution_count": 8,
   "metadata": {},
   "outputs": [],
   "source": [
    "path = 'porn_tweets_3000-3121.tw'\n",
>>>>>>> 58a53adbdea4f8f75968f532783b5657e5c5104a
    "pickle.dump( tweets, open( path , \"wb\" ) )"
   ]
  },
  {
   "cell_type": "code",
<<<<<<< HEAD
   "execution_count": 6,
=======
   "execution_count": 9,
>>>>>>> 58a53adbdea4f8f75968f532783b5657e5c5104a
   "metadata": {},
   "outputs": [],
   "source": [
    "tweets_df = pd.DataFrame.from_dict(tweets)"
   ]
  },
  {
   "cell_type": "code",
<<<<<<< HEAD
   "execution_count": 7,
=======
   "execution_count": 10,
>>>>>>> 58a53adbdea4f8f75968f532783b5657e5c5104a
   "metadata": {},
   "outputs": [],
   "source": [
    "# rimuove tutte le interruzioni (spero)\n",
    "\n",
    "tweets_df['full_text'] = tweets_df['full_text'].apply(lambda x: x.replace('\\r', ' '))\n",
    "tweets_df['full_text'] = tweets_df['full_text'].apply(lambda x: x.replace('\\n', ' '))\n",
    "tweets_df['full_text'] = tweets_df['full_text'].apply(lambda x: x.replace('\\t', ' '))"
   ]
  },
  {
   "cell_type": "code",
<<<<<<< HEAD
   "execution_count": 9,
   "metadata": {},
   "outputs": [],
   "source": [
    "tweets_df.to_csv('../classification/data/porn/tweets.csv', index=False, sep='\\t', encoding='utf-8-sig')"
   ]
  },
  {
   "cell_type": "code",
   "execution_count": 4,
   "metadata": {},
   "outputs": [],
   "source": [
    "tweets_df = pd.read_csv('../classification/data/porn/tweets.csv', sep='\\t', encoding='utf-8-sig')"
   ]
  },
  {
   "cell_type": "code",
   "execution_count": 64,
   "metadata": {},
   "outputs": [
    {
     "data": {
      "text/plain": [
       "'2010'"
      ]
     },
     "execution_count": 64,
     "metadata": {},
     "output_type": "execute_result"
    }
   ],
   "source": [
    "tweets_df.loc[926].created_at[-4:]"
   ]
  },
  {
   "cell_type": "code",
   "execution_count": 21,
   "metadata": {},
   "outputs": [],
   "source": [
    "from datetime import datetime"
   ]
  },
  {
   "cell_type": "code",
   "execution_count": 25,
   "metadata": {},
   "outputs": [
    {
     "ename": "ValueError",
     "evalue": "time data 'Fri Jul 05' does not match format '%d %m %Y'",
     "output_type": "error",
     "traceback": [
      "\u001b[0;31m---------------------------------------------------------------------------\u001b[0m",
      "\u001b[0;31mValueError\u001b[0m                                Traceback (most recent call last)",
      "\u001b[0;32m<ipython-input-25-b631763abf02>\u001b[0m in \u001b[0;36m<module>\u001b[0;34m()\u001b[0m\n\u001b[0;32m----> 1\u001b[0;31m \u001b[0mdatetime_object\u001b[0m \u001b[0;34m=\u001b[0m \u001b[0mdatetime\u001b[0m\u001b[0;34m.\u001b[0m\u001b[0mstrptime\u001b[0m\u001b[0;34m(\u001b[0m\u001b[0mtweets_df\u001b[0m\u001b[0;34m.\u001b[0m\u001b[0mloc\u001b[0m\u001b[0;34m[\u001b[0m\u001b[0;36m4\u001b[0m\u001b[0;34m]\u001b[0m\u001b[0;34m.\u001b[0m\u001b[0mcreated_at\u001b[0m\u001b[0;34m[\u001b[0m\u001b[0;34m:\u001b[0m\u001b[0;36m10\u001b[0m\u001b[0;34m]\u001b[0m\u001b[0;34m,\u001b[0m \u001b[0;34m'%d %m %Y'\u001b[0m\u001b[0;34m)\u001b[0m\u001b[0;34m\u001b[0m\u001b[0m\n\u001b[0m",
      "\u001b[0;32m~/anaconda/lib/python3.6/_strptime.py\u001b[0m in \u001b[0;36m_strptime_datetime\u001b[0;34m(cls, data_string, format)\u001b[0m\n\u001b[1;32m    563\u001b[0m     \"\"\"Return a class cls instance based on the input string and the\n\u001b[1;32m    564\u001b[0m     format string.\"\"\"\n\u001b[0;32m--> 565\u001b[0;31m     \u001b[0mtt\u001b[0m\u001b[0;34m,\u001b[0m \u001b[0mfraction\u001b[0m \u001b[0;34m=\u001b[0m \u001b[0m_strptime\u001b[0m\u001b[0;34m(\u001b[0m\u001b[0mdata_string\u001b[0m\u001b[0;34m,\u001b[0m \u001b[0mformat\u001b[0m\u001b[0;34m)\u001b[0m\u001b[0;34m\u001b[0m\u001b[0m\n\u001b[0m\u001b[1;32m    566\u001b[0m     \u001b[0mtzname\u001b[0m\u001b[0;34m,\u001b[0m \u001b[0mgmtoff\u001b[0m \u001b[0;34m=\u001b[0m \u001b[0mtt\u001b[0m\u001b[0;34m[\u001b[0m\u001b[0;34m-\u001b[0m\u001b[0;36m2\u001b[0m\u001b[0;34m:\u001b[0m\u001b[0;34m]\u001b[0m\u001b[0;34m\u001b[0m\u001b[0m\n\u001b[1;32m    567\u001b[0m     \u001b[0margs\u001b[0m \u001b[0;34m=\u001b[0m \u001b[0mtt\u001b[0m\u001b[0;34m[\u001b[0m\u001b[0;34m:\u001b[0m\u001b[0;36m6\u001b[0m\u001b[0;34m]\u001b[0m \u001b[0;34m+\u001b[0m \u001b[0;34m(\u001b[0m\u001b[0mfraction\u001b[0m\u001b[0;34m,\u001b[0m\u001b[0;34m)\u001b[0m\u001b[0;34m\u001b[0m\u001b[0m\n",
      "\u001b[0;32m~/anaconda/lib/python3.6/_strptime.py\u001b[0m in \u001b[0;36m_strptime\u001b[0;34m(data_string, format)\u001b[0m\n\u001b[1;32m    360\u001b[0m     \u001b[0;32mif\u001b[0m \u001b[0;32mnot\u001b[0m \u001b[0mfound\u001b[0m\u001b[0;34m:\u001b[0m\u001b[0;34m\u001b[0m\u001b[0m\n\u001b[1;32m    361\u001b[0m         raise ValueError(\"time data %r does not match format %r\" %\n\u001b[0;32m--> 362\u001b[0;31m                          (data_string, format))\n\u001b[0m\u001b[1;32m    363\u001b[0m     \u001b[0;32mif\u001b[0m \u001b[0mlen\u001b[0m\u001b[0;34m(\u001b[0m\u001b[0mdata_string\u001b[0m\u001b[0;34m)\u001b[0m \u001b[0;34m!=\u001b[0m \u001b[0mfound\u001b[0m\u001b[0;34m.\u001b[0m\u001b[0mend\u001b[0m\u001b[0;34m(\u001b[0m\u001b[0;34m)\u001b[0m\u001b[0;34m:\u001b[0m\u001b[0;34m\u001b[0m\u001b[0m\n\u001b[1;32m    364\u001b[0m         raise ValueError(\"unconverted data remains: %s\" %\n",
      "\u001b[0;31mValueError\u001b[0m: time data 'Fri Jul 05' does not match format '%d %m %Y'"
     ]
    }
   ],
   "source": [
    "datetime_object = datetime.strptime(tweets_df.loc[4].created_at[:10], '%d %m %Y')"
   ]
  },
  {
   "cell_type": "code",
   "execution_count": 115,
   "metadata": {},
   "outputs": [
    {
     "data": {
      "text/plain": [
       "contributors                                                               NaN\n",
       "coordinates                                                                NaN\n",
       "created_at                                      Wed Jan 10 23:04:22 +0000 2018\n",
       "display_text_range                                                    [0, 133]\n",
       "extended_entities                                                          NaN\n",
       "favorite_count                                                               0\n",
       "favorited                                                                False\n",
       "full_text                    RT @TheoSBua: les soirées en petit comité avec...\n",
       "geo                                                                        NaN\n",
       "id                                                          951228251631964160\n",
       "id_str                                                      951228251631964160\n",
       "in_reply_to_screen_name                                                    NaN\n",
       "in_reply_to_status_id                                                      NaN\n",
       "in_reply_to_status_id_str                                                  NaN\n",
       "in_reply_to_user_id                                                        NaN\n",
       "in_reply_to_user_id_str                                                    NaN\n",
       "is_quote_status                                                          False\n",
       "lang                                                                        fr\n",
       "place                                                                      NaN\n",
       "possibly_sensitive                                                         NaN\n",
       "quoted_status_id                                                           NaN\n",
       "quoted_status_id_str                                                       NaN\n",
       "quoted_status_permalink                                                    NaN\n",
       "retweet_count                                                             3187\n",
       "retweeted                                                                False\n",
       "retweeted_status             {'created_at': 'Tue Jan 09 15:25:14 +0000 2018...\n",
       "source                       <a href=\"http://twitter.com\" rel=\"nofollow\">Tw...\n",
       "truncated                                                                False\n",
       "url                                                                        NaN\n",
       "user_id                                                             1679090282\n",
       "Name: 983, dtype: object"
      ]
     },
     "execution_count": 115,
     "metadata": {},
     "output_type": "execute_result"
    }
   ],
   "source": [
    "tweets_df.loc[983]"
   ]
  },
  {
   "cell_type": "code",
   "execution_count": null,
   "metadata": {},
   "outputs": [],
   "source": [
    "1317449930"
   ]
  },
  {
   "cell_type": "code",
   "execution_count": 117,
   "metadata": {},
   "outputs": [
    {
     "data": {
      "text/plain": [
       "260"
      ]
     },
     "execution_count": 117,
     "metadata": {},
     "output_type": "execute_result"
    }
   ],
   "source": [
    "np.invert(tweets_df.url.isnull()).sum()"
=======
   "execution_count": 11,
   "metadata": {},
   "outputs": [],
   "source": [
    "tweets_df.to_csv('porn_tweets2.csv', index=False, sep='\\t', encoding='utf-8-sig')"
>>>>>>> 58a53adbdea4f8f75968f532783b5657e5c5104a
   ]
  },
  {
   "cell_type": "code",
   "execution_count": null,
   "metadata": {},
   "outputs": [],
   "source": []
  }
 ],
 "metadata": {
  "kernelspec": {
   "display_name": "Python 3",
   "language": "python",
   "name": "python3"
  },
  "language_info": {
   "codemirror_mode": {
    "name": "ipython",
    "version": 3
   },
   "file_extension": ".py",
   "mimetype": "text/x-python",
   "name": "python",
   "nbconvert_exporter": "python",
   "pygments_lexer": "ipython3",
<<<<<<< HEAD
   "version": "3.6.4"
=======
   "version": "3.6.5"
>>>>>>> 58a53adbdea4f8f75968f532783b5657e5c5104a
  }
 },
 "nbformat": 4,
 "nbformat_minor": 2
}
